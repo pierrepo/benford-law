{
 "cells": [
  {
   "cell_type": "markdown",
   "id": "fluid-august",
   "metadata": {},
   "source": [
    "# NoteBook contenant les fonctions du module benford"
   ]
  },
  {
   "cell_type": "code",
   "execution_count": 69,
   "id": "graphic-wireless",
   "metadata": {},
   "outputs": [],
   "source": [
    "import numpy as np\n",
    "import math\n",
    "import matplotlib.pyplot as plt\n",
    "from scipy.stats import distributions, power_divergence"
   ]
  },
  {
   "cell_type": "markdown",
   "id": "environmental-scanner",
   "metadata": {},
   "source": [
    "## Fonction pour avoir les fréquence théorique de la loi de Benford\n",
    "\n",
    "Permet de retourner un array contenant la fréquence des first digits en fonction du nombre de chiffres significatifs désiré."
   ]
  },
  {
   "cell_type": "code",
   "execution_count": 67,
   "id": "atomic-connection",
   "metadata": {},
   "outputs": [],
   "source": [
    "def freq_benford(nb_digit = 1):\n",
    "    \"\"\" Proportion of Benford's law.\n",
    "    \n",
    "    Function to return the theoretical proportion of the first\n",
    "    significant digits.\n",
    "    \n",
    "    Parameters\n",
    "    ¯¯¯¯¯¯¯¯¯¯\n",
    "    nb_digit : int\n",
    "        Number of first significant digits.\n",
    "    \n",
    "    Returns\n",
    "    ¯¯¯¯¯¯¯\n",
    "    p_benford : array\n",
    "        Theoretical proportion of the first significant digits.\n",
    "        \n",
    "    \"\"\"\n",
    "    digit = pow(10, nb_digit) - pow(10, nb_digit - 1)\n",
    "    p_benford = np.zeros(digit, dtype=float)\n",
    "    for i in range(digit):\n",
    "        p_benford[i] = (math.log((1 + (1 / (i + pow(10, nb_digit - 1) \\\n",
    "                                              ))), 10))\n",
    "    return p_benford"
   ]
  },
  {
   "cell_type": "markdown",
   "id": "green-skill",
   "metadata": {},
   "source": [
    "## Fonction de récupération des first digits observés\n",
    "\n"
   ]
  },
  {
   "cell_type": "code",
   "execution_count": 68,
   "id": "institutional-berry",
   "metadata": {},
   "outputs": [],
   "source": [
    "def first_digit(data, nb_digit = 1):\n",
    "    \"\"\" Distribution of the first significant digits of observed data.\n",
    "    \n",
    "    Function to return the observed distribution of the first digits of\n",
    "    an observed data set.\n",
    "    \n",
    "    Parameters\n",
    "    ¯¯¯¯¯¯¯¯¯¯\n",
    "    data : array of int\n",
    "        Integer array.\n",
    "    nb_digit : int\n",
    "        Number of first significant digits.\n",
    "        \n",
    "    Returns\n",
    "    ¯¯¯¯¯¯¯\n",
    "    digit_distrib : array\n",
    "        Distribution of the first significant digits.\n",
    "        \n",
    "    \"\"\"\n",
    "    if type(data[0])== np.float64:\n",
    "        return print(\"Erreur, data is not integer array\")\n",
    "    digit = pow(10, nb_digit) - pow(10, nb_digit-1)\n",
    "    digit_distrib = np.zeros(digit, dtype=int)\n",
    "    for x in data:\n",
    "        if len(str(x))==1 and nb_digit!=1:\n",
    "            continue\n",
    "        first = int(str(x)[0:nb_digit])\n",
    "        digit_distrib[first-pow(10, nb_digit-1)] += 1\n",
    "    return digit_distrib"
   ]
  },
  {
   "cell_type": "markdown",
   "id": "regular-weight",
   "metadata": {},
   "source": [
    "## Fonction de normalisation de la distribution observée"
   ]
  },
  {
   "cell_type": "code",
   "execution_count": 59,
   "id": "little-framing",
   "metadata": {},
   "outputs": [],
   "source": [
    "def first_digit_norm(array):\n",
    "    \"\"\" Observed data normalization\n",
    "    \n",
    "    Function normalizing an array by the sum of the array values.\n",
    "    \n",
    "    Parameters\n",
    "    ¯¯¯¯¯¯¯¯¯¯\n",
    "    array: array of int\n",
    "        Array of observed data.\n",
    "        \n",
    "    Returns\n",
    "    ¯¯¯¯¯¯¯\n",
    "    array: array of float\n",
    "        Array of observed data normalized.\n",
    "        \n",
    "    \"\"\"\n",
    "    array = array/sum(array)\n",
    "    return array"
   ]
  },
  {
   "cell_type": "markdown",
   "id": "verified-retention",
   "metadata": {},
   "source": [
    "## Fonction de plot des fréquences observés et théoriques."
   ]
  },
  {
   "cell_type": "code",
   "execution_count": 76,
   "id": "ongoing-mobile",
   "metadata": {},
   "outputs": [],
   "source": [
    "def hist_freq_ben(freq_obs, freq_theo, nb_digit, title = \"\",\n",
    "                  xlab = \"First digit\", ylab = \"Proportion\",\n",
    "                  legend = \"\", name_save = \"\", size=(6,4)):\n",
    "    \"\"\" Histogram of observed proportion and theoretical proportion.\n",
    "    \n",
    "    Function realizing the histogram of observed proportions and adding\n",
    "    the theoretical proportion of Benford.\n",
    "    \n",
    "    Parameters\n",
    "    ¯¯¯¯¯¯¯¯¯¯\n",
    "    freq_obs : array\n",
    "        Array of observed frequency.\n",
    "    freq_theo : array\n",
    "        Array of theoritical frequency.\n",
    "    nb_digit : int\n",
    "        Number of first significant digits.  \n",
    "    title : string, optinal\n",
    "        Title of histogram.\n",
    "    xlab: string, optinal\n",
    "        Label of x-axis. Default is `\"First digit\"`.\n",
    "    ylab: string, optional\n",
    "        Label of y-axis. Default is `\"Proportion\"`.\n",
    "    legend: string, optional\n",
    "        Label of the legend for the theoretical frequency.  \n",
    "    name_save: string, optional\n",
    "        Name of the image to save in .png format, if you want to save it. \n",
    "    size: tuple of 2 int, optional\n",
    "        Plot size. Default is `(6,4)`.\n",
    "        \n",
    "    Returns\n",
    "    ¯¯¯¯¯¯¯\n",
    "    Histogram.\n",
    "    \n",
    "    \"\"\"\n",
    "    plt.figure(figsize=size)\n",
    "    plt.plot(range(1,len(freq_theo)+1), freq_theo, marker=\"o\", \n",
    "             color=\"red\")\n",
    "    plt.bar(range(1,len(freq_obs)+1), freq_obs)\n",
    "    \n",
    "    lab=list(range(pow(10, nb_digit-1),pow(10, nb_digit)))\n",
    "    for i in range(len(lab)):\n",
    "        lab[i]=str(lab[i])\n",
    "    \n",
    "    plt.xticks(ticks=range(1,len(freq_theo)+1), labels=lab)\n",
    "    plt.title(label=title)\n",
    "    plt.xlabel(xlab)\n",
    "    plt.ylabel(ylab)\n",
    "    plt.legend(labels = (\"Benford's law\", legend));\n",
    "    if name_save != \"\":\n",
    "        plt.savefig(f\"{name_save}.png\", transparent=True) "
   ]
  },
  {
   "cell_type": "markdown",
   "id": "sonic-ancient",
   "metadata": {},
   "source": [
    "## Fonction de la procédure \"bootstrap\" (test statistique de $\\chi^2$ pour grand échantillon)"
   ]
  },
  {
   "cell_type": "code",
   "execution_count": 1,
   "id": "successful-genesis",
   "metadata": {},
   "outputs": [],
   "source": [
    "def bootstrap_chi2(data_obs, f_theo, nb_digit, nb_val=1000, \n",
    "                   nb_loop=1000, type_test=1):\n",
    "    \"\"\" Average of calculated chi2.\n",
    "    \n",
    "    Function to calculate average chi2 in the function bootstrap_chi2.\n",
    "    \n",
    "    parameters\n",
    "    ¯¯¯¯¯¯¯¯¯¯\n",
    "    data_obs : array of int\n",
    "        Integer array of observed dataset.\n",
    "    f_theo : array of float\n",
    "        Float array of theoretical frequency.\n",
    "    nb_digit: int\n",
    "        Number of first significant digits. Default is `1`.\n",
    "    nb_val : int, optinal\n",
    "        Sample size. Default is `1000`.\n",
    "    nb_loop : int, optional\n",
    "        number of \"bootstrap\" procedure is performed. Default is `1000`.\n",
    "    type_test: string or int, optional\n",
    "        statistical test type performed. Default is `1`.\n",
    "            String            Value   test type\n",
    "            \"pearson\"           1     Chisquare-test.\n",
    "            \"log-likelihood\"    0     G-test.\n",
    "\n",
    "    Returns\n",
    "    ¯¯¯¯¯¯¯\n",
    "    mean_chi2: float\n",
    "        Chi2 average of \"bootstrap\".\n",
    "    p_val\n",
    "        p-value of mean_chi2.\n",
    "    nb_signif: int\n",
    "        number of significant statistical tests in the \"bootstrap\"\n",
    "        \n",
    "    \"\"\"\n",
    "    sumChi2 = np.zeros(nb_loop, dtype=float)\n",
    "    d_theo = np.array(f_theo * nb_val)\n",
    "    nb_signif = 0\n",
    "    for i in range(nb_loop):\n",
    "        ech = np.random.choice(data_obs, size=nb_val, replace=False)\n",
    "        d_obs = first_digit(ech, nb_digit)\n",
    "        sumChi2[i], p = power_divergence(f_obs=d_obs, f_exp=d_theo,\n",
    "                                         lambda_=type_test)\n",
    "        if p < 0.05:\n",
    "            nb_signif += 1\n",
    "    mean_chi2 = sum(sumChi2) / nb_loop\n",
    "    k = len(f_theo+1)\n",
    "    p_val = distributions.chi2.sf(mean_chi2, k - 1)\n",
    "    print(f\"statistics : {mean_chi2} ; p-value : {p_val} ; \"\n",
    "          f\"number of significant tests : {nb_signif}\")\n",
    "    return mean_chi2, p_val, nb_signif"
   ]
  }
 ],
 "metadata": {
  "kernelspec": {
   "display_name": "Python 3",
   "language": "python",
   "name": "python3"
  },
  "language_info": {
   "codemirror_mode": {
    "name": "ipython",
    "version": 3
   },
   "file_extension": ".py",
   "mimetype": "text/x-python",
   "name": "python",
   "nbconvert_exporter": "python",
   "pygments_lexer": "ipython3",
   "version": "3.7.9"
  }
 },
 "nbformat": 4,
 "nbformat_minor": 5
}
