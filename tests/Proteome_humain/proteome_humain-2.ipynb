{
 "cells": [
  {
   "cell_type": "markdown",
   "id": "secret-grounds",
   "metadata": {},
   "source": [
    "# Loi de Benford et Protéome humain\n",
    "Ce script à pour but de vérifier si le protéome humain suit la loi de Benford.\n",
    "## Récupération des données"
   ]
  },
  {
   "cell_type": "code",
   "execution_count": 1,
   "id": "reliable-blond",
   "metadata": {},
   "outputs": [],
   "source": [
    "import pandas as pd\n",
    "import matplotlib.pyplot as plt\n",
    "import pybenford as benford"
   ]
  },
  {
   "cell_type": "code",
   "execution_count": null,
   "id": "supposed-personal",
   "metadata": {},
   "outputs": [],
   "source": [
    "data = pd.read_csv(\"uniprot-proteome_UP000005640_reviewed_yes.tab\", sep = \"\\t\", index_col=0)\n",
    "data.head()"
   ]
  },
  {
   "cell_type": "code",
   "execution_count": null,
   "id": "retired-outline",
   "metadata": {},
   "outputs": [],
   "source": [
    "data.describe()"
   ]
  },
  {
   "cell_type": "markdown",
   "id": "ready-twins",
   "metadata": {},
   "source": [
    "## Distribution de la longeur des protéines du protéome humain :"
   ]
  },
  {
   "cell_type": "code",
   "execution_count": null,
   "id": "occupied-architect",
   "metadata": {},
   "outputs": [],
   "source": [
    "plt.hist(data[\"Length\"], bins=range(0,5000,100));"
   ]
  },
  {
   "cell_type": "code",
   "execution_count": null,
   "id": "relevant-spelling",
   "metadata": {},
   "outputs": [],
   "source": [
    "data[data[\"Length\"] > 5000].shape"
   ]
  },
  {
   "cell_type": "markdown",
   "id": "korean-thunder",
   "metadata": {},
   "source": [
    "## Analyse des $1^{er}$ digit de la longeur des protéines du protéome humain"
   ]
  },
  {
   "cell_type": "code",
   "execution_count": null,
   "id": "small-demonstration",
   "metadata": {},
   "outputs": [],
   "source": [
    "f_benford = benford.get_theoretical_freq_benford()\n",
    "d_obs = benford.count_first_digit(data[\"Length\"])"
   ]
  },
  {
   "cell_type": "markdown",
   "id": "aquatic-inside",
   "metadata": {},
   "source": [
    "### Histogramme de la fréquence des first digit de la loi de Benford et de la taille de l'ensemble des protéines du protéome humain"
   ]
  },
  {
   "cell_type": "code",
   "execution_count": null,
   "id": "psychological-nigeria",
   "metadata": {},
   "outputs": [],
   "source": [
    "benford.build_hist_freq_ben(benford.normalize_first_digit(d_obs), f_benford, nb_digit=1,\n",
    "                            title=(f\"First digit distribution of the {data.shape[0]} \"\n",
    "                            \"proteins of human proteome\"))"
   ]
  },
  {
   "cell_type": "markdown",
   "id": "exciting-builder",
   "metadata": {},
   "source": [
    "### Test statistique par la procédure \"bootstrap\""
   ]
  },
  {
   "cell_type": "code",
   "execution_count": null,
   "id": "guided-discount",
   "metadata": {},
   "outputs": [],
   "source": [
    " statistics, P_val = benford.calculate_bootstrap_chi2(data[\"Length\"], f_benford, nb_digit=1)"
   ]
  },
  {
   "cell_type": "markdown",
   "id": "living-intro",
   "metadata": {},
   "source": [
    "Le résultat du test montre que le premier chiffre significatif de la taille des protéines du protéome humain ne suit pas la loi de Benford pour un risque $\\alpha = 5\\%$."
   ]
  },
  {
   "cell_type": "markdown",
   "id": "constant-roads",
   "metadata": {},
   "source": [
    "## Analyse des deux $1^{er}$ digit de la longeur des protéines du protéome humain"
   ]
  },
  {
   "cell_type": "code",
   "execution_count": null,
   "id": "reverse-excuse",
   "metadata": {},
   "outputs": [],
   "source": [
    "f_benford = benford.get_theoretical_freq_benford(2)\n",
    "d_obs = benford.count_first_digit(data[\"Length\"],2)"
   ]
  },
  {
   "cell_type": "markdown",
   "id": "descending-second",
   "metadata": {},
   "source": [
    "### Histogramme de la fréquence des first digit de la loi de Benford et de la taille de l'ensemble des protéines du protéome humain"
   ]
  },
  {
   "cell_type": "code",
   "execution_count": null,
   "id": "perfect-agriculture",
   "metadata": {},
   "outputs": [],
   "source": [
    "benford.build_hist_freq_ben(benford.normalize_first_digit(d_obs), f_benford, nb_digit=2,\n",
    "                            title=(f\"First digit distribution of the {data.shape[0]} \"\n",
    "                            \"proteins of human proteome\"), legend=\"UniProt\", \n",
    "                            size=(40, 15))"
   ]
  },
  {
   "cell_type": "markdown",
   "id": "large-layer",
   "metadata": {},
   "source": [
    "### Test statistique par la procédure \"bootstrap\""
   ]
  },
  {
   "cell_type": "code",
   "execution_count": null,
   "id": "blessed-overview",
   "metadata": {},
   "outputs": [],
   "source": [
    " statistics, P_val = benford.calculate_bootstrap_chi2(data[\"Length\"], f_benford, nb_digit=2)"
   ]
  },
  {
   "cell_type": "markdown",
   "id": "higher-water",
   "metadata": {},
   "source": [
    "Le résultat du test montre que les deux premiers chiffres significatifs de la taille des protéines du protéome humain ne suit pas la loi de Benford pour un risque $\\alpha = 5\\%$."
   ]
  },
  {
   "cell_type": "code",
   "execution_count": null,
   "id": "accessory-mentor",
   "metadata": {},
   "outputs": [],
   "source": []
  }
 ],
 "metadata": {
  "kernelspec": {
   "display_name": "Python 3",
   "language": "python",
   "name": "python3"
  },
  "language_info": {
   "codemirror_mode": {
    "name": "ipython",
    "version": 3
   },
   "file_extension": ".py",
   "mimetype": "text/x-python",
   "name": "python",
   "nbconvert_exporter": "python",
   "pygments_lexer": "ipython3",
   "version": "3.7.9"
  }
 },
 "nbformat": 4,
 "nbformat_minor": 5
}
