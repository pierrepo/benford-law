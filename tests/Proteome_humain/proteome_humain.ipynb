{
 "cells": [
  {
   "cell_type": "markdown",
   "id": "direct-leeds",
   "metadata": {},
   "source": [
    "# Loi de Benford et Protéome humain\n",
    "Ce script à pour but de vérifier si le protéome humain suit la loi de Benford.\n",
    "## Récupération des données"
   ]
  },
  {
   "cell_type": "code",
   "execution_count": 45,
   "id": "olive-works",
   "metadata": {},
   "outputs": [],
   "source": [
    "import pandas as pd\n",
    "import math\n",
    "import numpy as np\n",
    "import matplotlib.pyplot as plt\n",
    "from scipy.stats import chisquare, ks_2samp, chi2_contingency, distributions\n",
    "import random"
   ]
  },
  {
   "cell_type": "code",
   "execution_count": 27,
   "id": "widespread-africa",
   "metadata": {},
   "outputs": [
    {
     "data": {
      "text/html": [
       "<div>\n",
       "<style scoped>\n",
       "    .dataframe tbody tr th:only-of-type {\n",
       "        vertical-align: middle;\n",
       "    }\n",
       "\n",
       "    .dataframe tbody tr th {\n",
       "        vertical-align: top;\n",
       "    }\n",
       "\n",
       "    .dataframe thead th {\n",
       "        text-align: right;\n",
       "    }\n",
       "</style>\n",
       "<table border=\"1\" class=\"dataframe\">\n",
       "  <thead>\n",
       "    <tr style=\"text-align: right;\">\n",
       "      <th></th>\n",
       "      <th>Entry name</th>\n",
       "      <th>Status</th>\n",
       "      <th>Protein names</th>\n",
       "      <th>Gene names</th>\n",
       "      <th>Organism</th>\n",
       "      <th>Length</th>\n",
       "    </tr>\n",
       "    <tr>\n",
       "      <th>Entry</th>\n",
       "      <th></th>\n",
       "      <th></th>\n",
       "      <th></th>\n",
       "      <th></th>\n",
       "      <th></th>\n",
       "      <th></th>\n",
       "    </tr>\n",
       "  </thead>\n",
       "  <tbody>\n",
       "    <tr>\n",
       "      <th>O95825</th>\n",
       "      <td>QORL1_HUMAN</td>\n",
       "      <td>reviewed</td>\n",
       "      <td>Quinone oxidoreductase-like protein 1 (EC 1.-....</td>\n",
       "      <td>CRYZL1 4P11</td>\n",
       "      <td>Homo sapiens (Human)</td>\n",
       "      <td>349</td>\n",
       "    </tr>\n",
       "    <tr>\n",
       "      <th>Q9Y2J0</th>\n",
       "      <td>RP3A_HUMAN</td>\n",
       "      <td>reviewed</td>\n",
       "      <td>Rabphilin-3A (Exophilin-1)</td>\n",
       "      <td>RPH3A KIAA0985</td>\n",
       "      <td>Homo sapiens (Human)</td>\n",
       "      <td>694</td>\n",
       "    </tr>\n",
       "    <tr>\n",
       "      <th>Q13905</th>\n",
       "      <td>RPGF1_HUMAN</td>\n",
       "      <td>reviewed</td>\n",
       "      <td>Rap guanine nucleotide exchange factor 1 (CRK ...</td>\n",
       "      <td>RAPGEF1 GRF2</td>\n",
       "      <td>Homo sapiens (Human)</td>\n",
       "      <td>1077</td>\n",
       "    </tr>\n",
       "    <tr>\n",
       "      <th>Q5TD94</th>\n",
       "      <td>RSH4A_HUMAN</td>\n",
       "      <td>reviewed</td>\n",
       "      <td>Radial spoke head protein 4 homolog A (Radial ...</td>\n",
       "      <td>RSPH4A RSHL3</td>\n",
       "      <td>Homo sapiens (Human)</td>\n",
       "      <td>716</td>\n",
       "    </tr>\n",
       "    <tr>\n",
       "      <th>Q9HA92</th>\n",
       "      <td>RSAD1_HUMAN</td>\n",
       "      <td>reviewed</td>\n",
       "      <td>Radical S-adenosyl methionine domain-containin...</td>\n",
       "      <td>RSAD1</td>\n",
       "      <td>Homo sapiens (Human)</td>\n",
       "      <td>442</td>\n",
       "    </tr>\n",
       "  </tbody>\n",
       "</table>\n",
       "</div>"
      ],
      "text/plain": [
       "         Entry name    Status  \\\n",
       "Entry                           \n",
       "O95825  QORL1_HUMAN  reviewed   \n",
       "Q9Y2J0   RP3A_HUMAN  reviewed   \n",
       "Q13905  RPGF1_HUMAN  reviewed   \n",
       "Q5TD94  RSH4A_HUMAN  reviewed   \n",
       "Q9HA92  RSAD1_HUMAN  reviewed   \n",
       "\n",
       "                                            Protein names      Gene names  \\\n",
       "Entry                                                                       \n",
       "O95825  Quinone oxidoreductase-like protein 1 (EC 1.-....     CRYZL1 4P11   \n",
       "Q9Y2J0                         Rabphilin-3A (Exophilin-1)  RPH3A KIAA0985   \n",
       "Q13905  Rap guanine nucleotide exchange factor 1 (CRK ...    RAPGEF1 GRF2   \n",
       "Q5TD94  Radial spoke head protein 4 homolog A (Radial ...    RSPH4A RSHL3   \n",
       "Q9HA92  Radical S-adenosyl methionine domain-containin...           RSAD1   \n",
       "\n",
       "                    Organism  Length  \n",
       "Entry                                 \n",
       "O95825  Homo sapiens (Human)     349  \n",
       "Q9Y2J0  Homo sapiens (Human)     694  \n",
       "Q13905  Homo sapiens (Human)    1077  \n",
       "Q5TD94  Homo sapiens (Human)     716  \n",
       "Q9HA92  Homo sapiens (Human)     442  "
      ]
     },
     "execution_count": 27,
     "metadata": {},
     "output_type": "execute_result"
    }
   ],
   "source": [
    "data = pd.read_csv(\"uniprot-proteome_UP000005640_reviewed_yes.tab\", sep = \"\\t\", index_col=0)\n",
    "data.head()"
   ]
  },
  {
   "cell_type": "code",
   "execution_count": 28,
   "id": "transsexual-prisoner",
   "metadata": {},
   "outputs": [
    {
     "data": {
      "text/html": [
       "<div>\n",
       "<style scoped>\n",
       "    .dataframe tbody tr th:only-of-type {\n",
       "        vertical-align: middle;\n",
       "    }\n",
       "\n",
       "    .dataframe tbody tr th {\n",
       "        vertical-align: top;\n",
       "    }\n",
       "\n",
       "    .dataframe thead th {\n",
       "        text-align: right;\n",
       "    }\n",
       "</style>\n",
       "<table border=\"1\" class=\"dataframe\">\n",
       "  <thead>\n",
       "    <tr style=\"text-align: right;\">\n",
       "      <th></th>\n",
       "      <th>Length</th>\n",
       "    </tr>\n",
       "  </thead>\n",
       "  <tbody>\n",
       "    <tr>\n",
       "      <th>count</th>\n",
       "      <td>20379.000000</td>\n",
       "    </tr>\n",
       "    <tr>\n",
       "      <th>mean</th>\n",
       "      <td>557.467049</td>\n",
       "    </tr>\n",
       "    <tr>\n",
       "      <th>std</th>\n",
       "      <td>596.808822</td>\n",
       "    </tr>\n",
       "    <tr>\n",
       "      <th>min</th>\n",
       "      <td>2.000000</td>\n",
       "    </tr>\n",
       "    <tr>\n",
       "      <th>25%</th>\n",
       "      <td>249.500000</td>\n",
       "    </tr>\n",
       "    <tr>\n",
       "      <th>50%</th>\n",
       "      <td>415.000000</td>\n",
       "    </tr>\n",
       "    <tr>\n",
       "      <th>75%</th>\n",
       "      <td>670.000000</td>\n",
       "    </tr>\n",
       "    <tr>\n",
       "      <th>max</th>\n",
       "      <td>34350.000000</td>\n",
       "    </tr>\n",
       "  </tbody>\n",
       "</table>\n",
       "</div>"
      ],
      "text/plain": [
       "             Length\n",
       "count  20379.000000\n",
       "mean     557.467049\n",
       "std      596.808822\n",
       "min        2.000000\n",
       "25%      249.500000\n",
       "50%      415.000000\n",
       "75%      670.000000\n",
       "max    34350.000000"
      ]
     },
     "execution_count": 28,
     "metadata": {},
     "output_type": "execute_result"
    }
   ],
   "source": [
    "data.describe()"
   ]
  },
  {
   "cell_type": "markdown",
   "id": "injured-swedish",
   "metadata": {},
   "source": [
    "## Distribution de la longeur des protéines du protéome humain :"
   ]
  },
  {
   "cell_type": "code",
   "execution_count": 29,
   "id": "historical-costume",
   "metadata": {},
   "outputs": [
    {
     "data": {
      "image/png": "[encoded data removed]",
      "text/plain": [
       "<Figure size 432x288 with 1 Axes>"
      ]
     },
     "metadata": {
      "needs_background": "light"
     },
     "output_type": "display_data"
    }
   ],
   "source": [
    "plt.hist(data[\"Length\"], bins=range(0,5000,100));"
   ]
  },
  {
   "cell_type": "code",
   "execution_count": 30,
   "id": "british-district",
   "metadata": {},
   "outputs": [
    {
     "data": {
      "text/plain": [
       "(33, 6)"
      ]
     },
     "execution_count": 30,
     "metadata": {},
     "output_type": "execute_result"
    }
   ],
   "source": [
    "data[data[\"Length\"] > 5000].shape"
   ]
  },
  {
   "cell_type": "markdown",
   "id": "hungry-spotlight",
   "metadata": {},
   "source": [
    "### First digit des protéines :"
   ]
  },
  {
   "cell_type": "code",
   "execution_count": 31,
   "id": "strategic-moment",
   "metadata": {},
   "outputs": [
    {
     "name": "stdout",
     "output_type": "stream",
     "text": [
      "[4878 3145 3432 2588 2088 1407 1174  849  818]\n",
      "20379\n"
     ]
    }
   ],
   "source": [
    "first_digit = np.zeros(9, dtype=int)\n",
    "for x in data[\"Length\"]:\n",
    "    first = int(str(x)[0])\n",
    "    if first == 0:\n",
    "        continue\n",
    "    first_digit[first-1] += 1\n",
    "        \n",
    "print(first_digit)\n",
    "print(sum(first_digit))"
   ]
  },
  {
   "cell_type": "markdown",
   "id": "bacterial-colorado",
   "metadata": {},
   "source": [
    "### Normalisation :"
   ]
  },
  {
   "cell_type": "code",
   "execution_count": 32,
   "id": "norman-scanning",
   "metadata": {},
   "outputs": [
    {
     "name": "stdout",
     "output_type": "stream",
     "text": [
      "[0.23936405 0.15432553 0.16840866 0.12699347 0.10245841 0.06904166\n",
      " 0.05760832 0.04166053 0.04013936]\n",
      "1.0\n",
      "[4878 3145 3432 2588 2088 1407 1174  849  818]\n"
     ]
    }
   ],
   "source": [
    "first_digit_norm = np.array(first_digit / sum(first_digit))\n",
    "\n",
    "print(first_digit_norm)\n",
    "print(sum(first_digit_norm))\n",
    "print(first_digit)"
   ]
  },
  {
   "cell_type": "markdown",
   "id": "musical-fireplace",
   "metadata": {},
   "source": [
    "## Loi de Benford : "
   ]
  },
  {
   "cell_type": "code",
   "execution_count": 33,
   "id": "undefined-filename",
   "metadata": {},
   "outputs": [
    {
     "name": "stdout",
     "output_type": "stream",
     "text": [
      "[0.30103    0.17609126 0.12493874 0.09691001 0.07918125 0.06694679\n",
      " 0.05799195 0.05115252 0.04575749]\n"
     ]
    },
    {
     "data": {
      "text/plain": [
       "0.9999999999999999"
      ]
     },
     "execution_count": 33,
     "metadata": {},
     "output_type": "execute_result"
    }
   ],
   "source": [
    "freq_benford = np.zeros(9, dtype=float)\n",
    "for i in range(9):\n",
    "    freq_benford[i] = (math.log((1+(1/(i+1))), 10))\n",
    "print(freq_benford)\n",
    "sum(freq_benford)"
   ]
  },
  {
   "cell_type": "markdown",
   "id": "rational-daniel",
   "metadata": {},
   "source": [
    "### Distribution de la loi de Benford :"
   ]
  },
  {
   "cell_type": "code",
   "execution_count": 34,
   "id": "approved-cream",
   "metadata": {},
   "outputs": [
    {
     "data": {
      "image/png": "[encoded data removed]",
      "text/plain": [
       "<Figure size 432x288 with 1 Axes>"
      ]
     },
     "metadata": {
      "needs_background": "light"
     },
     "output_type": "display_data"
    }
   ],
   "source": [
    "plt.bar(range(1,10), freq_benford)\n",
    "plt.xlabel(\"First digit\")\n",
    "plt.ylabel(\"Proportion\")\n",
    "plt.title(\"Theoretical Benford law\")\n",
    "plt.xticks(range(1, 10));"
   ]
  },
  {
   "cell_type": "markdown",
   "id": "tough-success",
   "metadata": {},
   "source": [
    "## Distribution du  first digit de chaque protéines du protéome humain :"
   ]
  },
  {
   "cell_type": "code",
   "execution_count": 35,
   "id": "distinguished-camera",
   "metadata": {},
   "outputs": [
    {
     "data": {
      "image/png": "[encoded data removed]",
      "text/plain": [
       "<Figure size 432x288 with 1 Axes>"
      ]
     },
     "metadata": {
      "needs_background": "light"
     },
     "output_type": "display_data"
    }
   ],
   "source": [
    "plt.bar(range(1, 10), first_digit_norm)\n",
    "plt.xlabel(\"First digit\")\n",
    "plt.ylabel(\"Proportion\")\n",
    "plt.title(f\"First digit distribution of the {data.shape[0]} proteins of human proteome\")\n",
    "plt.xticks(range(1, 10));"
   ]
  },
  {
   "cell_type": "markdown",
   "id": "supposed-amplifier",
   "metadata": {},
   "source": [
    "### Superposition des deux distribution :"
   ]
  },
  {
   "cell_type": "code",
   "execution_count": 36,
   "id": "limited-mobility",
   "metadata": {},
   "outputs": [
    {
     "data": {
      "image/png": "[encoded data removed]",
      "text/plain": [
       "<Figure size 432x288 with 1 Axes>"
      ]
     },
     "metadata": {
      "needs_background": "light"
     },
     "output_type": "display_data"
    }
   ],
   "source": [
    "plt.plot(range(1,10), freq_benford, marker=\"o\", color=\"red\")\n",
    "plt.bar(range(1,10), first_digit_norm)\n",
    "plt.xlabel(\"First digit\")\n",
    "plt.ylabel(\"proportion\")\n",
    "plt.title(f\"Theoretical Benford law and First digit distribution of the {data.shape[0]} proteins of human proteome\")\n",
    "plt.xticks(range(1, 10))\n",
    "plt.legend(labels = (\"Benford law\", \"Human proteome\"));"
   ]
  },
  {
   "cell_type": "markdown",
   "id": "mobile-celebrity",
   "metadata": {},
   "source": [
    "## Test de conformité à une loi théorique:\n",
    "V.A. : nombre de first digit  \n",
    "\n",
    "Hopothèse :  \n",
    "    - H0 : La distribution des $1^{er}$ digits de la taille des protéines du protéome Humain suit la loi de Benford.  \n",
    "    - H1 : La distribution des $1^{er}$ digits de la taille des protéines du protéome Humain ne suit pas la loi de Benford.  \n",
    "    \n",
    "Conditionde validité : les effectifs calculés > 5  \n",
    "\n",
    "Règle de décision (test $\\chi²$):  \n",
    "    -Si, $\\chi²_{cal} > \\chi²_{\\alpha, (k-1)ddl}$, le test est significatif à $\\alpha$% et on rejette H0.  \n",
    " \n",
    "## détermination de $F_{theo}$ et $F_{obs}$# Test de conformité à une loi théorique:\n",
    "V.A. : nombre de first digit  \n",
    "\n",
    "Hopothèse :  \n",
    "    - H0 : La distribution des $1^{er}$ digits de la taille des protéines du protéome Humain suit la loi de Benford.  \n",
    "    - H1 : La distribution des $1^{er}$ digits de la taille des protéines du protéome Humain ne suit pas la loi de Benford.  \n",
    "    \n",
    "Conditionde validité : les effectifs calculés > 5  \n",
    "\n",
    "Règle de décision (test $\\chi²$):  \n",
    "    -Si, $\\chi²_{cal} > \\chi²_{\\alpha, (k-1)ddl}$, le test est significatif à $\\alpha$% et on rejette H0.  \n",
    " \n",
    "## détermination de $F_{theo}$ et $F_{obs}$"
   ]
  },
  {
   "cell_type": "code",
   "execution_count": 37,
   "id": "universal-beverage",
   "metadata": {},
   "outputs": [
    {
     "name": "stdout",
     "output_type": "stream",
     "text": [
      "La distribution théorique des first digits est : [6134.69028164 3588.5637683  2546.12651334 1974.92915509 1613.6346132\n",
      " 1364.30862588 1181.81788746 1042.43725496  932.49190014]\n",
      "\n",
      "La distribution observé des first digits est : [4878 3145 3432 2588 2088 1407 1174  849  818]\n",
      "\n"
     ]
    }
   ],
   "source": [
    "first_digit_theo = np.array(freq_benford * data.shape[0])\n",
    "print(f\"La distribution théorique des first digits est : {first_digit_theo}\\n\")\n",
    "print(f\"La distribution observé des first digits est : {first_digit}\\n\")"
   ]
  },
  {
   "cell_type": "code",
   "execution_count": 38,
   "id": "empty-kansas",
   "metadata": {},
   "outputs": [],
   "source": [
    "# Version avec dictionnaire\n",
    "# dictionnaire de la distribution théorique\n",
    "\"\"\"\n",
    "first_digit_theo = {}\n",
    "for key in first_digit:\n",
    "    first_digit_theo[key] = freq_benford[key] * data.shape[0]\n",
    "\n",
    "F_theo = [(freq_benford[key]*data.shape[0])/100 for key in sorted(freq_benford)]\n",
    "print(f\"Le dictionnaire de la distribution théorique des first digits est : {first_digit_theo}\\n\")\n",
    "print(f\"La liste triées par ordre croissant des first digits des valeurs théoriques est : {F_theo}\\n\")\n",
    "\n",
    "F_obs = [ first_digit[key] for key in sorted(first_digit) ]\n",
    "print(f\"Le dictionnaire de la distribution observé des first digits est : {first_digit}\\n\")\n",
    "print(f\"La liste triées par ordre croissant des first digits des valeurs observés est : {F_obs}\\n\")\n",
    "\"\"\";"
   ]
  },
  {
   "cell_type": "markdown",
   "id": "charged-internet",
   "metadata": {},
   "source": [
    "## Test statistique de comparaison d'une distribution par rapport une une distribution de référence\n",
    "Le test à réaliser est un test du $\\chi^2$\n",
    "### test du test du $\\chi^2$ sur les fréquence"
   ]
  },
  {
   "cell_type": "code",
   "execution_count": null,
   "id": "special-salmon",
   "metadata": {},
   "outputs": [],
   "source": [
    "donnéeschi2 = chisquare([ first_digit_norm[key] for key in sorted(first_digit_norm) ], [ freq_benford[key] for key in sorted(freq_benford) ])\n",
    "print(chi2)\n",
    "print(f\"\\nLa p-value est de  : {chi2[1]}\\n\")"
   ]
  },
  {
   "cell_type": "markdown",
   "id": "mineral-frank",
   "metadata": {},
   "source": [
    "Le test du $\\chi^2$ sur les fréquence donne une p-value > 0.05, on ne rejette donc pas l'hypothèse $H_0$. Néanmoins, ce les condition de validité du test ne sont pas validé. En effet le test du $\\chi^2$ ce réalise sur des distribution et non sur des fréquence. Ici, on obtient des valeurs théorique < 5, donc le test ne peut être réalisé. Il faut donc réaliser le test sur la distribution des $1^{er}$ digits.\n",
    "\n",
    "### test du $\\chi^2$ sur les distribution observé et théorique"
   ]
  },
  {
   "cell_type": "code",
   "execution_count": 21,
   "id": "reduced-military",
   "metadata": {},
   "outputs": [
    {
     "name": "stdout",
     "output_type": "stream",
     "text": [
      "[4878 3145 3432 2588 2088 1407 1174  849  818] [6134.69028164 3588.5637683  2546.12651334 1974.92915509 1613.6346132\n",
      " 1364.30862588 1181.81788746 1042.43725496  932.49190014]\n"
     ]
    }
   ],
   "source": [
    "F_theo = np.array(first_digit_theo)\n",
    "F_obs = np.array(first_digit)\n",
    "print(F_obs, F_theo)"
   ]
  },
  {
   "cell_type": "code",
   "execution_count": 22,
   "id": "controversial-testimony",
   "metadata": {},
   "outputs": [
    {
     "name": "stdout",
     "output_type": "stream",
     "text": [
      "Power_divergenceResult(statistic=1001.5852644935921, pvalue=6.791254553772907e-211)\n",
      "\n",
      "La p-value est de  : 6.791254553772907e-211\n",
      "\n"
     ]
    }
   ],
   "source": [
    "chi2 = chisquare(F_obs, f_exp = F_theo)\n",
    "print(chi2)\n",
    "print(f\"\\nLa p-value est de  : {chi2[1]}\\n\")"
   ]
  },
  {
   "cell_type": "markdown",
   "id": "conservative-toddler",
   "metadata": {},
   "source": [
    "## Test exact de fisher"
   ]
  },
  {
   "cell_type": "code",
   "execution_count": 23,
   "id": "sorted-median",
   "metadata": {},
   "outputs": [
    {
     "name": "stdout",
     "output_type": "stream",
     "text": [
      "[[[4878.         3145.         3432.         2588.         2088.\n",
      "   1407.         1174.          849.          818.        ]]\n",
      "\n",
      " [[6134.69028164 3588.5637683  2546.12651334 1974.92915509 1613.6346132\n",
      "   1364.30862588 1181.81788746 1042.43725496  932.49190014]]]\n"
     ]
    }
   ],
   "source": [
    "fish = np.array([[F_obs], [F_theo]])\n",
    "print(fish)"
   ]
  },
  {
   "cell_type": "code",
   "execution_count": 24,
   "id": "fallen-marble",
   "metadata": {},
   "outputs": [
    {
     "data": {
      "text/plain": [
       "(475.01408436665764,\n",
       " 1.6083386662045773e-97,\n",
       " 8,\n",
       " array([[[5506.34514082, 3366.78188415, 2989.06325667, 2281.46457755,\n",
       "          1850.8173066 , 1385.65431294, 1177.90894373,  945.71862748,\n",
       "           875.24595007]],\n",
       " \n",
       "        [[5506.34514082, 3366.78188415, 2989.06325667, 2281.46457755,\n",
       "          1850.8173066 , 1385.65431294, 1177.90894373,  945.71862748,\n",
       "           875.24595007]]]))"
      ]
     },
     "execution_count": 24,
     "metadata": {},
     "output_type": "execute_result"
    }
   ],
   "source": [
    "chi2_contingency(fish)"
   ]
  },
  {
   "cell_type": "markdown",
   "id": "analyzed-communist",
   "metadata": {},
   "source": [
    "### Résultasts\n",
    "On obtient une p-value < 0.05, le test est donc significatif, on rejette l'hypothèse $H_0$ au rique $\\alpha$ de 5%. La distribition des $1^{er}$ digits de la taille des protéines du protéome Humain ne suit pas la loi de Benford, Pour un rique $\\alpha$ de 5%.\n",
    "\n",
    "# Test de Kolmogorov-Smirnof\n",
    "### préparation pour le test KS"
   ]
  },
  {
   "cell_type": "code",
   "execution_count": null,
   "id": "considerable-offset",
   "metadata": {},
   "outputs": [],
   "source": [
    "KS_obs = []\n",
    "for i in range(1, 10):\n",
    "    KS_obs += [i]*int(first_digit_norm[i]*100)\n",
    "    \n",
    "KS_theo = []\n",
    "for i in range(1, 10):\n",
    "    KS_theo += [i]*int(freq_benford[i]*100)\n",
    "print(KS_obs)\n",
    "print(KS_theo)"
   ]
  },
  {
   "cell_type": "code",
   "execution_count": null,
   "id": "ultimate-breath",
   "metadata": {},
   "outputs": [],
   "source": [
    "random.shuffle(KS_obs)\n",
    "random.shuffle(KS_theo)\n",
    "print(KS_obs)\n",
    "print(KS_theo)"
   ]
  },
  {
   "cell_type": "code",
   "execution_count": null,
   "id": "amber-ballot",
   "metadata": {},
   "outputs": [],
   "source": [
    "ks_2samp(KS_obs, KS_theo)"
   ]
  },
  {
   "cell_type": "markdown",
   "id": "healthy-appointment",
   "metadata": {},
   "source": [
    "## Test KS sur la distribution"
   ]
  },
  {
   "cell_type": "code",
   "execution_count": null,
   "id": "coupled-disaster",
   "metadata": {},
   "outputs": [],
   "source": [
    "KS_obs = []\n",
    "for i in range(1, 10):\n",
    "    KS_obs += [i]*int(first_digit[i])\n",
    "KS_theo = []\n",
    "for i in range(1, 10):\n",
    "    KS_theo += [i]*int(freq_benford[i]*data.shape[0])\n",
    "print(len(KS_obs))\n",
    "print(len(KS_theo))"
   ]
  },
  {
   "cell_type": "code",
   "execution_count": null,
   "id": "twelve-southwest",
   "metadata": {},
   "outputs": [],
   "source": [
    "random.shuffle(KS_obs)\n",
    "random.shuffle(KS_theo)\n",
    "ks_2samp(KS_obs, KS_theo)"
   ]
  },
  {
   "cell_type": "markdown",
   "id": "referenced-annual",
   "metadata": {},
   "source": [
    "# discussion des résultats obtenus précédement\n",
    "\n",
    "Les différent tests statistique testés plus jusqu'ici ne fonctionne pas dans le cas des grand échantillons (environ > 1000) ou ne sont pas applicables dans notre situation. c'est pour cette raison que l'on développe une procédure ressemblant à un bootstrap récupérant le $\\chi^2$ calculés et renvoyant la moyennes des $\\chi^2$ calculé durant la procédure. La p-value de ce $\\chi^2$ est calculé par la suite."
   ]
  },
  {
   "cell_type": "markdown",
   "id": "intellectual-threshold",
   "metadata": {},
   "source": [
    "# procédure \"bootstrap\"\n",
    "## Fonction First digit"
   ]
  },
  {
   "cell_type": "code",
   "execution_count": 41,
   "id": "sustainable-identifier",
   "metadata": {},
   "outputs": [],
   "source": [
    "def First_digit(np_array):\n",
    "    fd = np.zeros(9, dtype=int)\n",
    "    for x in range(len(np_array)):\n",
    "        first = int(str(np_array[x])[0])\n",
    "        fd[first-1] += 1\n",
    "    return fd"
   ]
  },
  {
   "cell_type": "markdown",
   "id": "accredited-characteristic",
   "metadata": {},
   "source": [
    "## Fonction de moyenne des $\\chi^2$"
   ]
  },
  {
   "cell_type": "code",
   "execution_count": 42,
   "id": "single-recipient",
   "metadata": {},
   "outputs": [],
   "source": [
    "def meanChi2(data, nb_val, nb_loop):\n",
    "    sumChi2 = np.zeros(nb_loop, dtype=float)\n",
    "    f_theo = np.array(freq_benford * nb_val)\n",
    "    for i in range(nb_loop):\n",
    "        ech = np.random.choice(data, size=nb_val, replace=False)\n",
    "        f_obs = First_digit(ech)\n",
    "        sumChi2[i] = chisquare(f_obs, f_theo)[0]\n",
    "    return (sum(sumChi2) / nb_loop)"
   ]
  },
  {
   "cell_type": "markdown",
   "id": "external-murder",
   "metadata": {},
   "source": [
    "## Fonction principale de la procédure \"bootstrap\""
   ]
  },
  {
   "cell_type": "code",
   "execution_count": 43,
   "id": "refined-satellite",
   "metadata": {},
   "outputs": [],
   "source": [
    "def bootstrap_Benford(data, nb_val, nb_loop):\n",
    "    k = len(freq_benford+1)\n",
    "    mean_chi2 = meanChi2(data, nb_val, nb_loop)\n",
    "    p_val = distributions.chi2.sf(mean_chi2, k - 1)\n",
    "    return p_val"
   ]
  },
  {
   "cell_type": "code",
   "execution_count": 48,
   "id": "latter-falls",
   "metadata": {},
   "outputs": [
    {
     "data": {
      "text/plain": [
       "1.6785648085844228e-09"
      ]
     },
     "execution_count": 48,
     "metadata": {},
     "output_type": "execute_result"
    }
   ],
   "source": [
    "bootstrap_Benford(data[\"Length\"], 1000, 1000)"
   ]
  },
  {
   "cell_type": "code",
   "execution_count": 49,
   "id": "broadband-perth",
   "metadata": {},
   "outputs": [
    {
     "data": {
      "text/plain": [
       "2.0554857629102295e-09"
      ]
     },
     "execution_count": 49,
     "metadata": {},
     "output_type": "execute_result"
    }
   ],
   "source": [
    "bootstrap_Benford(data[\"Length\"], 1000, 1000)"
   ]
  },
  {
   "cell_type": "markdown",
   "id": "neural-pitch",
   "metadata": {},
   "source": [
    "## conclusion\n",
    "\n",
    "La procédure mise en place (\"bootstrap\") permet de montrer, por un rique alpha de 5%, que les données expérimentale d'abondances de protéines ne suivent pas ici la loi de Benford. Puisque la p-value obtenu est inférieur à 5%, on rejette l'hypothése $H_0$, donc la distribution théorique ne suit pas la loi Beford."
   ]
  },
  {
   "cell_type": "code",
   "execution_count": null,
   "id": "extensive-london",
   "metadata": {},
   "outputs": [],
   "source": []
  }
 ],
 "metadata": {
  "kernelspec": {
   "display_name": "Python 3",
   "language": "python",
   "name": "python3"
  },
  "language_info": {
   "codemirror_mode": {
    "name": "ipython",
    "version": 3
   },
   "file_extension": ".py",
   "mimetype": "text/x-python",
   "name": "python",
   "nbconvert_exporter": "python",
   "pygments_lexer": "ipython3",
   "version": "3.7.9"
  }
 },
 "nbformat": 4,
 "nbformat_minor": 5
}
