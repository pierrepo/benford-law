{
 "cells": [
  {
   "cell_type": "markdown",
   "id": "modern-friend",
   "metadata": {},
   "source": [
    "# Loi de Benford et données d'abondance de protéines\n",
    "Ce script a pour but de vérifier si l'abondance de protéines, issue de données expérimentale mesurées par spectrométrie de masse, suit la loi de benford. Le fichier contient 12 expérince en colonne de l'abondance des protéines"
   ]
  },
  {
   "cell_type": "code",
   "execution_count": 1,
   "id": "commercial-spokesman",
   "metadata": {},
   "outputs": [],
   "source": [
    "import pandas as pd\n",
    "import numpy as np\n",
    "import matplotlib.pyplot as plt\n",
    "import benford\n",
    "\n",
    "%load_ext autoreload\n",
    "%autoreload 2"
   ]
  },
  {
   "cell_type": "code",
   "execution_count": 2,
   "id": "printable-frank",
   "metadata": {},
   "outputs": [
    {
     "name": "stdout",
     "output_type": "stream",
     "text": [
      "(2356, 12)\n"
     ]
    },
    {
     "data": {
      "text/html": [
       "<div>\n",
       "<style scoped>\n",
       "    .dataframe tbody tr th:only-of-type {\n",
       "        vertical-align: middle;\n",
       "    }\n",
       "\n",
       "    .dataframe tbody tr th {\n",
       "        vertical-align: top;\n",
       "    }\n",
       "\n",
       "    .dataframe thead th {\n",
       "        text-align: right;\n",
       "    }\n",
       "</style>\n",
       "<table border=\"1\" class=\"dataframe\">\n",
       "  <thead>\n",
       "    <tr style=\"text-align: right;\">\n",
       "      <th></th>\n",
       "      <th>0</th>\n",
       "      <th>1</th>\n",
       "      <th>2</th>\n",
       "      <th>3</th>\n",
       "      <th>4</th>\n",
       "      <th>5</th>\n",
       "      <th>6</th>\n",
       "      <th>7</th>\n",
       "      <th>8</th>\n",
       "      <th>9</th>\n",
       "      <th>10</th>\n",
       "      <th>11</th>\n",
       "    </tr>\n",
       "  </thead>\n",
       "  <tbody>\n",
       "    <tr>\n",
       "      <th>0</th>\n",
       "      <td>9.325899e+04</td>\n",
       "      <td>2.765206e+04</td>\n",
       "      <td>6.973654e+04</td>\n",
       "      <td>6.309967e+04</td>\n",
       "      <td>2.252522e+04</td>\n",
       "      <td>5.307728e+04</td>\n",
       "      <td>9.088306e+04</td>\n",
       "      <td>2.035561e+04</td>\n",
       "      <td>0.000000e+00</td>\n",
       "      <td>0.000000e+00</td>\n",
       "      <td>1.021926e+05</td>\n",
       "      <td>1.794098e+05</td>\n",
       "    </tr>\n",
       "    <tr>\n",
       "      <th>1</th>\n",
       "      <td>5.042612e+07</td>\n",
       "      <td>1.592204e+07</td>\n",
       "      <td>4.388571e+07</td>\n",
       "      <td>1.824970e+07</td>\n",
       "      <td>1.596605e+07</td>\n",
       "      <td>1.566419e+07</td>\n",
       "      <td>2.563818e+07</td>\n",
       "      <td>2.666071e+07</td>\n",
       "      <td>1.431299e+07</td>\n",
       "      <td>2.617207e+07</td>\n",
       "      <td>2.847710e+07</td>\n",
       "      <td>4.051467e+07</td>\n",
       "    </tr>\n",
       "    <tr>\n",
       "      <th>2</th>\n",
       "      <td>0.000000e+00</td>\n",
       "      <td>0.000000e+00</td>\n",
       "      <td>6.015709e+03</td>\n",
       "      <td>2.413695e+03</td>\n",
       "      <td>0.000000e+00</td>\n",
       "      <td>0.000000e+00</td>\n",
       "      <td>0.000000e+00</td>\n",
       "      <td>0.000000e+00</td>\n",
       "      <td>2.132027e+03</td>\n",
       "      <td>4.891291e+04</td>\n",
       "      <td>2.974154e+04</td>\n",
       "      <td>4.261914e+04</td>\n",
       "    </tr>\n",
       "    <tr>\n",
       "      <th>3</th>\n",
       "      <td>1.560630e+07</td>\n",
       "      <td>7.262593e+06</td>\n",
       "      <td>4.718013e+06</td>\n",
       "      <td>2.570901e+06</td>\n",
       "      <td>1.629196e+06</td>\n",
       "      <td>2.344451e+06</td>\n",
       "      <td>2.178284e+07</td>\n",
       "      <td>2.715498e+07</td>\n",
       "      <td>1.042588e+06</td>\n",
       "      <td>2.429717e+06</td>\n",
       "      <td>1.749820e+06</td>\n",
       "      <td>2.306792e+06</td>\n",
       "    </tr>\n",
       "    <tr>\n",
       "      <th>4</th>\n",
       "      <td>0.000000e+00</td>\n",
       "      <td>0.000000e+00</td>\n",
       "      <td>0.000000e+00</td>\n",
       "      <td>0.000000e+00</td>\n",
       "      <td>0.000000e+00</td>\n",
       "      <td>0.000000e+00</td>\n",
       "      <td>0.000000e+00</td>\n",
       "      <td>0.000000e+00</td>\n",
       "      <td>0.000000e+00</td>\n",
       "      <td>0.000000e+00</td>\n",
       "      <td>2.729096e+03</td>\n",
       "      <td>3.448312e+04</td>\n",
       "    </tr>\n",
       "  </tbody>\n",
       "</table>\n",
       "</div>"
      ],
      "text/plain": [
       "             0             1             2             3             4   \\\n",
       "0  9.325899e+04  2.765206e+04  6.973654e+04  6.309967e+04  2.252522e+04   \n",
       "1  5.042612e+07  1.592204e+07  4.388571e+07  1.824970e+07  1.596605e+07   \n",
       "2  0.000000e+00  0.000000e+00  6.015709e+03  2.413695e+03  0.000000e+00   \n",
       "3  1.560630e+07  7.262593e+06  4.718013e+06  2.570901e+06  1.629196e+06   \n",
       "4  0.000000e+00  0.000000e+00  0.000000e+00  0.000000e+00  0.000000e+00   \n",
       "\n",
       "             5             6             7             8             9   \\\n",
       "0  5.307728e+04  9.088306e+04  2.035561e+04  0.000000e+00  0.000000e+00   \n",
       "1  1.566419e+07  2.563818e+07  2.666071e+07  1.431299e+07  2.617207e+07   \n",
       "2  0.000000e+00  0.000000e+00  0.000000e+00  2.132027e+03  4.891291e+04   \n",
       "3  2.344451e+06  2.178284e+07  2.715498e+07  1.042588e+06  2.429717e+06   \n",
       "4  0.000000e+00  0.000000e+00  0.000000e+00  0.000000e+00  0.000000e+00   \n",
       "\n",
       "             10            11  \n",
       "0  1.021926e+05  1.794098e+05  \n",
       "1  2.847710e+07  4.051467e+07  \n",
       "2  2.974154e+04  4.261914e+04  \n",
       "3  1.749820e+06  2.306792e+06  \n",
       "4  2.729096e+03  3.448312e+04  "
      ]
     },
     "execution_count": 2,
     "metadata": {},
     "output_type": "execute_result"
    }
   ],
   "source": [
    "data = pd.read_csv(\"1512006-Calbicans-QUANTI_raw_abundance.csv\", sep=\",\", header=None)\n",
    "print(data.shape)\n",
    "data.head()"
   ]
  },
  {
   "cell_type": "code",
   "execution_count": 3,
   "id": "blank-badge",
   "metadata": {},
   "outputs": [
    {
     "data": {
      "text/html": [
       "<div>\n",
       "<style scoped>\n",
       "    .dataframe tbody tr th:only-of-type {\n",
       "        vertical-align: middle;\n",
       "    }\n",
       "\n",
       "    .dataframe tbody tr th {\n",
       "        vertical-align: top;\n",
       "    }\n",
       "\n",
       "    .dataframe thead th {\n",
       "        text-align: right;\n",
       "    }\n",
       "</style>\n",
       "<table border=\"1\" class=\"dataframe\">\n",
       "  <thead>\n",
       "    <tr style=\"text-align: right;\">\n",
       "      <th></th>\n",
       "      <th>0</th>\n",
       "      <th>1</th>\n",
       "      <th>2</th>\n",
       "      <th>3</th>\n",
       "      <th>4</th>\n",
       "      <th>5</th>\n",
       "      <th>6</th>\n",
       "      <th>7</th>\n",
       "      <th>8</th>\n",
       "      <th>9</th>\n",
       "      <th>10</th>\n",
       "      <th>11</th>\n",
       "    </tr>\n",
       "  </thead>\n",
       "  <tbody>\n",
       "    <tr>\n",
       "      <th>count</th>\n",
       "      <td>2.356000e+03</td>\n",
       "      <td>2.356000e+03</td>\n",
       "      <td>2.356000e+03</td>\n",
       "      <td>2.356000e+03</td>\n",
       "      <td>2.356000e+03</td>\n",
       "      <td>2.356000e+03</td>\n",
       "      <td>2.356000e+03</td>\n",
       "      <td>2.356000e+03</td>\n",
       "      <td>2.356000e+03</td>\n",
       "      <td>2.356000e+03</td>\n",
       "      <td>2.356000e+03</td>\n",
       "      <td>2.356000e+03</td>\n",
       "    </tr>\n",
       "    <tr>\n",
       "      <th>mean</th>\n",
       "      <td>9.581614e+06</td>\n",
       "      <td>4.052261e+06</td>\n",
       "      <td>1.076837e+07</td>\n",
       "      <td>3.978163e+06</td>\n",
       "      <td>4.193656e+06</td>\n",
       "      <td>4.893936e+06</td>\n",
       "      <td>5.159211e+06</td>\n",
       "      <td>4.210483e+06</td>\n",
       "      <td>3.024618e+06</td>\n",
       "      <td>7.153360e+06</td>\n",
       "      <td>5.233013e+06</td>\n",
       "      <td>8.720928e+06</td>\n",
       "    </tr>\n",
       "    <tr>\n",
       "      <th>std</th>\n",
       "      <td>4.125241e+07</td>\n",
       "      <td>1.657254e+07</td>\n",
       "      <td>4.375361e+07</td>\n",
       "      <td>1.619806e+07</td>\n",
       "      <td>1.691781e+07</td>\n",
       "      <td>1.932079e+07</td>\n",
       "      <td>2.153755e+07</td>\n",
       "      <td>1.789246e+07</td>\n",
       "      <td>1.163298e+07</td>\n",
       "      <td>2.881443e+07</td>\n",
       "      <td>2.162810e+07</td>\n",
       "      <td>3.816761e+07</td>\n",
       "    </tr>\n",
       "    <tr>\n",
       "      <th>min</th>\n",
       "      <td>0.000000e+00</td>\n",
       "      <td>0.000000e+00</td>\n",
       "      <td>0.000000e+00</td>\n",
       "      <td>0.000000e+00</td>\n",
       "      <td>0.000000e+00</td>\n",
       "      <td>0.000000e+00</td>\n",
       "      <td>0.000000e+00</td>\n",
       "      <td>0.000000e+00</td>\n",
       "      <td>0.000000e+00</td>\n",
       "      <td>0.000000e+00</td>\n",
       "      <td>0.000000e+00</td>\n",
       "      <td>0.000000e+00</td>\n",
       "    </tr>\n",
       "    <tr>\n",
       "      <th>25%</th>\n",
       "      <td>8.296491e+04</td>\n",
       "      <td>3.506632e+04</td>\n",
       "      <td>1.029519e+05</td>\n",
       "      <td>4.253416e+04</td>\n",
       "      <td>3.999578e+04</td>\n",
       "      <td>4.841961e+04</td>\n",
       "      <td>3.683583e+04</td>\n",
       "      <td>1.386838e+04</td>\n",
       "      <td>3.081028e+04</td>\n",
       "      <td>6.278149e+04</td>\n",
       "      <td>4.784145e+04</td>\n",
       "      <td>6.436681e+04</td>\n",
       "    </tr>\n",
       "    <tr>\n",
       "      <th>50%</th>\n",
       "      <td>5.528054e+05</td>\n",
       "      <td>2.330474e+05</td>\n",
       "      <td>6.421764e+05</td>\n",
       "      <td>2.474077e+05</td>\n",
       "      <td>2.635641e+05</td>\n",
       "      <td>3.213512e+05</td>\n",
       "      <td>2.800026e+05</td>\n",
       "      <td>1.677515e+05</td>\n",
       "      <td>2.009571e+05</td>\n",
       "      <td>4.372223e+05</td>\n",
       "      <td>2.972878e+05</td>\n",
       "      <td>4.575889e+05</td>\n",
       "    </tr>\n",
       "    <tr>\n",
       "      <th>75%</th>\n",
       "      <td>2.548738e+06</td>\n",
       "      <td>1.242274e+06</td>\n",
       "      <td>3.258557e+06</td>\n",
       "      <td>1.268807e+06</td>\n",
       "      <td>1.331303e+06</td>\n",
       "      <td>1.555117e+06</td>\n",
       "      <td>1.468795e+06</td>\n",
       "      <td>1.066523e+06</td>\n",
       "      <td>1.041927e+06</td>\n",
       "      <td>2.255124e+06</td>\n",
       "      <td>1.609874e+06</td>\n",
       "      <td>2.565324e+06</td>\n",
       "    </tr>\n",
       "    <tr>\n",
       "      <th>max</th>\n",
       "      <td>8.084879e+08</td>\n",
       "      <td>3.745571e+08</td>\n",
       "      <td>8.851789e+08</td>\n",
       "      <td>3.320042e+08</td>\n",
       "      <td>3.169179e+08</td>\n",
       "      <td>3.253303e+08</td>\n",
       "      <td>5.001720e+08</td>\n",
       "      <td>3.281611e+08</td>\n",
       "      <td>1.973859e+08</td>\n",
       "      <td>5.360345e+08</td>\n",
       "      <td>3.759082e+08</td>\n",
       "      <td>7.139125e+08</td>\n",
       "    </tr>\n",
       "  </tbody>\n",
       "</table>\n",
       "</div>"
      ],
      "text/plain": [
       "                 0             1             2             3             4   \\\n",
       "count  2.356000e+03  2.356000e+03  2.356000e+03  2.356000e+03  2.356000e+03   \n",
       "mean   9.581614e+06  4.052261e+06  1.076837e+07  3.978163e+06  4.193656e+06   \n",
       "std    4.125241e+07  1.657254e+07  4.375361e+07  1.619806e+07  1.691781e+07   \n",
       "min    0.000000e+00  0.000000e+00  0.000000e+00  0.000000e+00  0.000000e+00   \n",
       "25%    8.296491e+04  3.506632e+04  1.029519e+05  4.253416e+04  3.999578e+04   \n",
       "50%    5.528054e+05  2.330474e+05  6.421764e+05  2.474077e+05  2.635641e+05   \n",
       "75%    2.548738e+06  1.242274e+06  3.258557e+06  1.268807e+06  1.331303e+06   \n",
       "max    8.084879e+08  3.745571e+08  8.851789e+08  3.320042e+08  3.169179e+08   \n",
       "\n",
       "                 5             6             7             8             9   \\\n",
       "count  2.356000e+03  2.356000e+03  2.356000e+03  2.356000e+03  2.356000e+03   \n",
       "mean   4.893936e+06  5.159211e+06  4.210483e+06  3.024618e+06  7.153360e+06   \n",
       "std    1.932079e+07  2.153755e+07  1.789246e+07  1.163298e+07  2.881443e+07   \n",
       "min    0.000000e+00  0.000000e+00  0.000000e+00  0.000000e+00  0.000000e+00   \n",
       "25%    4.841961e+04  3.683583e+04  1.386838e+04  3.081028e+04  6.278149e+04   \n",
       "50%    3.213512e+05  2.800026e+05  1.677515e+05  2.009571e+05  4.372223e+05   \n",
       "75%    1.555117e+06  1.468795e+06  1.066523e+06  1.041927e+06  2.255124e+06   \n",
       "max    3.253303e+08  5.001720e+08  3.281611e+08  1.973859e+08  5.360345e+08   \n",
       "\n",
       "                 10            11  \n",
       "count  2.356000e+03  2.356000e+03  \n",
       "mean   5.233013e+06  8.720928e+06  \n",
       "std    2.162810e+07  3.816761e+07  \n",
       "min    0.000000e+00  0.000000e+00  \n",
       "25%    4.784145e+04  6.436681e+04  \n",
       "50%    2.972878e+05  4.575889e+05  \n",
       "75%    1.609874e+06  2.565324e+06  \n",
       "max    3.759082e+08  7.139125e+08  "
      ]
     },
     "execution_count": 3,
     "metadata": {},
     "output_type": "execute_result"
    }
   ],
   "source": [
    "data.describe()"
   ]
  },
  {
   "cell_type": "markdown",
   "id": "freelance-allocation",
   "metadata": {},
   "source": [
    "<font color='red'> ici on transforme les valeur en int à refaire en prenant des float's</font>"
   ]
  },
  {
   "cell_type": "code",
   "execution_count": 4,
   "id": "guided-valuable",
   "metadata": {},
   "outputs": [
    {
     "name": "stdout",
     "output_type": "stream",
     "text": [
      "(28272,)\n"
     ]
    }
   ],
   "source": [
    "# données dans un array d'une dimmenssion\n",
    "exp_numbers = data.values.reshape(data.shape[0]*data.shape[1])\n",
    "print(exp_numbers.shape)\n",
    "exp_numbers = np.array(exp_numbers, dtype=int)"
   ]
  },
  {
   "cell_type": "code",
   "execution_count": 5,
   "id": "separated-carry",
   "metadata": {},
   "outputs": [
    {
     "data": {
      "text/plain": [
       "(26919,)"
      ]
     },
     "execution_count": 5,
     "metadata": {},
     "output_type": "execute_result"
    }
   ],
   "source": [
    "# Remove 0\n",
    "exp_numbers = exp_numbers[ exp_numbers > 0 ]\n",
    "exp_numbers.shape"
   ]
  },
  {
   "cell_type": "code",
   "execution_count": 6,
   "id": "grand-syracuse",
   "metadata": {},
   "outputs": [
    {
     "data": {
      "image/png": "[encoded data removed]",
      "text/plain": [
       "<Figure size 1080x720 with 1 Axes>"
      ]
     },
     "metadata": {
      "needs_background": "light"
     },
     "output_type": "display_data"
    }
   ],
   "source": [
    "x_lab = [0, 0.2, 0.4, 0.6, 0.8, 1.0, 1.2, 1.4]\n",
    "x_lab = np.array(x_lab)\n",
    "plt.figure(figsize=(15,10))\n",
    "plt.rc('font', size=20)\n",
    "plt.hist(exp_numbers, bins=range(0, 1_500_000, 10_000))\n",
    "plt.xticks(ticks=x_lab*(10**6),labels=range(0, 16, 2))\n",
    "plt.xlabel(\"Abundance (1e5)\")\n",
    "#plt.hist(exp_numbers, bins=range(0, 2500, 10))\n",
    "#plt.xticks(range(0, 2500, 200))\n",
    "#plt.xlabel(\"Abundance\")\n",
    "plt.title(f\"Distribution of the {exp_numbers.shape[0]} protein abundances\")\n",
    "plt.ylabel(\"Number of proteins\");\n",
    "#plt.savefig(\"distrubution_protein_abundances.png\", transparent=True);"
   ]
  },
  {
   "cell_type": "markdown",
   "id": "cheap-producer",
   "metadata": {},
   "source": [
    "## Analyse des $1^{er}$ digit"
   ]
  },
  {
   "cell_type": "code",
   "execution_count": 7,
   "id": "promising-psychiatry",
   "metadata": {},
   "outputs": [],
   "source": [
    "f_benford = benford.get_theoretical_freq_benford()\n",
    "d_obs = benford.count_first_digit(exp_numbers)"
   ]
  },
  {
   "cell_type": "markdown",
   "id": "optical-african",
   "metadata": {},
   "source": [
    "### Histogramme de la fréquence des first digit de la loi de Benford et de l'abondance des protéines"
   ]
  },
  {
   "cell_type": "code",
   "execution_count": 8,
   "id": "modified-middle",
   "metadata": {},
   "outputs": [
    {
     "data": {
      "image/png": "[encoded data removed]",
      "text/plain": [
       "<Figure size 576x432 with 1 Axes>"
      ]
     },
     "metadata": {
      "needs_background": "light"
     },
     "output_type": "display_data"
    }
   ],
   "source": [
    "plt.rc('font', size=15)\n",
    "benford.build_hist_freq_ben(benford.normalize_first_digit(d_obs), f_benford, nb_digit=1,\n",
    "                            title=(f\"First digit distribution for {len(exp_numbers)} protein abundances\"),\n",
    "                            legend=\"protein abundance\",  size=(8, 6))\n",
    "plt.savefig(\"benford_distrib_abundance.png\")"
   ]
  },
  {
   "cell_type": "markdown",
   "id": "associate-blanket",
   "metadata": {},
   "source": [
    "### Test statistique par la procédure \"bootstrap\""
   ]
  },
  {
   "cell_type": "code",
   "execution_count": 9,
   "id": "charming-supply",
   "metadata": {},
   "outputs": [
    {
     "name": "stdout",
     "output_type": "stream",
     "text": [
      "statistics : 8.493025996283798 ; p-value : 0.38684826808810546 ; number of significant tests : 71\n",
      "CPU times: user 4.81 s, sys: 4.28 ms, total: 4.81 s\n",
      "Wall time: 4.82 s\n"
     ]
    }
   ],
   "source": [
    "%%time\n",
    "statistics, P_val, nb_signif = benford.calculate_bootstrap_chi2(exp_numbers, f_benford, nb_digit=1)"
   ]
  },
  {
   "cell_type": "markdown",
   "id": "selected-cambridge",
   "metadata": {},
   "source": [
    "Le résultat du test montre que le premier chiffre significatif de l'abondance de protéine suit la loi de Benford pour un risque $\\alpha = 5\\%$."
   ]
  },
  {
   "cell_type": "markdown",
   "id": "stopped-istanbul",
   "metadata": {},
   "source": [
    "## Analyse des deux $1^{er}$ digit"
   ]
  },
  {
   "cell_type": "code",
   "execution_count": 10,
   "id": "capable-hearts",
   "metadata": {},
   "outputs": [
    {
     "ename": "IndexError",
     "evalue": "string index out of range",
     "output_type": "error",
     "traceback": [
      "\u001b[0;31m---------------------------------------------------------------------------\u001b[0m",
      "\u001b[0;31mIndexError\u001b[0m                                Traceback (most recent call last)",
      "\u001b[0;32m<ipython-input-10-fefd9cabbfd9>\u001b[0m in \u001b[0;36m<module>\u001b[0;34m\u001b[0m\n\u001b[1;32m      1\u001b[0m \u001b[0mf_benford\u001b[0m \u001b[0;34m=\u001b[0m \u001b[0mbenford\u001b[0m\u001b[0;34m.\u001b[0m\u001b[0mget_theoretical_freq_benford\u001b[0m\u001b[0;34m(\u001b[0m\u001b[0;36m2\u001b[0m\u001b[0;34m)\u001b[0m\u001b[0;34m\u001b[0m\u001b[0;34m\u001b[0m\u001b[0m\n\u001b[0;32m----> 2\u001b[0;31m \u001b[0md_obs\u001b[0m \u001b[0;34m=\u001b[0m \u001b[0mbenford\u001b[0m\u001b[0;34m.\u001b[0m\u001b[0mcount_first_digit\u001b[0m\u001b[0;34m(\u001b[0m\u001b[0mexp_numbers\u001b[0m\u001b[0;34m,\u001b[0m \u001b[0;36m2\u001b[0m\u001b[0;34m)\u001b[0m\u001b[0;34m\u001b[0m\u001b[0;34m\u001b[0m\u001b[0m\n\u001b[0m",
      "\u001b[0;32m~/benford-law/tests/Data_exp/benford.py\u001b[0m in \u001b[0;36mcount_first_digit\u001b[0;34m(numbers, nb_digit)\u001b[0m\n\u001b[1;32m     58\u001b[0m     \u001b[0;32mfor\u001b[0m \u001b[0mnumber\u001b[0m \u001b[0;32min\u001b[0m \u001b[0mnumbers\u001b[0m\u001b[0;34m:\u001b[0m\u001b[0;34m\u001b[0m\u001b[0;34m\u001b[0m\u001b[0m\n\u001b[1;32m     59\u001b[0m         \u001b[0;32mif\u001b[0m \u001b[0mlen\u001b[0m\u001b[0;34m(\u001b[0m\u001b[0mstr\u001b[0m\u001b[0;34m(\u001b[0m\u001b[0mnumber\u001b[0m\u001b[0;34m)\u001b[0m\u001b[0;34m)\u001b[0m \u001b[0;34m!=\u001b[0m \u001b[0mnb_digit\u001b[0m\u001b[0;34m:\u001b[0m\u001b[0;34m\u001b[0m\u001b[0;34m\u001b[0m\u001b[0m\n\u001b[0;32m---> 60\u001b[0;31m             \u001b[0;32mwhile\u001b[0m \u001b[0mstr\u001b[0m\u001b[0;34m(\u001b[0m\u001b[0mnumber\u001b[0m\u001b[0;34m)\u001b[0m\u001b[0;34m[\u001b[0m\u001b[0;36m1\u001b[0m\u001b[0;34m]\u001b[0m \u001b[0;34m==\u001b[0m \u001b[0;34m\".\"\u001b[0m\u001b[0;34m:\u001b[0m\u001b[0;34m\u001b[0m\u001b[0;34m\u001b[0m\u001b[0m\n\u001b[0m\u001b[1;32m     61\u001b[0m                 \u001b[0mnumber\u001b[0m \u001b[0;34m*=\u001b[0m \u001b[0;36m10\u001b[0m \u001b[0;34m**\u001b[0m \u001b[0mnb_digit\u001b[0m\u001b[0;34m\u001b[0m\u001b[0;34m\u001b[0m\u001b[0m\n\u001b[1;32m     62\u001b[0m         \u001b[0mfirst\u001b[0m \u001b[0;34m=\u001b[0m \u001b[0mint\u001b[0m\u001b[0;34m(\u001b[0m\u001b[0mstr\u001b[0m\u001b[0;34m(\u001b[0m\u001b[0mnumber\u001b[0m\u001b[0;34m)\u001b[0m\u001b[0;34m[\u001b[0m\u001b[0;36m0\u001b[0m\u001b[0;34m:\u001b[0m\u001b[0mnb_digit\u001b[0m\u001b[0;34m]\u001b[0m\u001b[0;34m)\u001b[0m\u001b[0;34m\u001b[0m\u001b[0;34m\u001b[0m\u001b[0m\n",
      "\u001b[0;31mIndexError\u001b[0m: string index out of range"
     ]
    }
   ],
   "source": [
    "f_benford = benford.get_theoretical_freq_benford(2)\n",
    "d_obs = benford.count_first_digit(exp_numbers, 2)"
   ]
  },
  {
   "cell_type": "markdown",
   "id": "harmful-reaction",
   "metadata": {},
   "source": [
    "### Histogramme de la fréquence des first digit de la loi de Benford et de l'abondance des protéines"
   ]
  },
  {
   "cell_type": "code",
   "execution_count": null,
   "id": "quality-association",
   "metadata": {},
   "outputs": [],
   "source": [
    "benford.build_hist_freq_ben(benford.normalize_first_digit(d_obs), f_benford, nb_digit=2,\n",
    "                            title=(\"Theoretical Benford law and First digit distribution \\n \"\n",
    "                            f\"of the {sum(d_obs)} protein  abundances\"),\n",
    "                            legend=\"protein Abundances\", size=(40, 15))"
   ]
  },
  {
   "cell_type": "markdown",
   "id": "associate-transition",
   "metadata": {},
   "source": [
    "### Test statistique par la procédure \"bootstrap\""
   ]
  },
  {
   "cell_type": "code",
   "execution_count": null,
   "id": "educational-massage",
   "metadata": {},
   "outputs": [],
   "source": [
    "%%time\n",
    "statistics, P_val, nb_signif = benford.calculate_bootstrap_chi2(exp_numbers, f_benford, nb_digit=2)"
   ]
  },
  {
   "cell_type": "markdown",
   "id": "useful-revelation",
   "metadata": {},
   "source": [
    "Le résultat du test montre que les deux premiers chiffres significatifs de l'abondance de protéine suit, aussi, la loi de Benford pour un risque $\\alpha = 5\\%$."
   ]
  }
 ],
 "metadata": {
  "kernelspec": {
   "display_name": "Python 3",
   "language": "python",
   "name": "python3"
  },
  "language_info": {
   "codemirror_mode": {
    "name": "ipython",
    "version": 3
   },
   "file_extension": ".py",
   "mimetype": "text/x-python",
   "name": "python",
   "nbconvert_exporter": "python",
   "pygments_lexer": "ipython3",
   "version": "3.7.9"
  }
 },
 "nbformat": 4,
 "nbformat_minor": 5
}
