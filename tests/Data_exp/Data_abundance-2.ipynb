{
 "cells": [
  {
   "cell_type": "markdown",
   "id": "joint-latin",
   "metadata": {},
   "source": [
    "# Loi de Benford et données d'abondance de protéines\n",
    "Ce script a pour but de vérifier si l'abondance de protéines, issue de données expérimentale mesurées par spectrométrie de masse, suit la loi de benford. Le fichier contient 12 expérince en colonne de l'abondance des protéines"
   ]
  },
  {
   "cell_type": "code",
   "execution_count": 1,
   "id": "million-focus",
   "metadata": {},
   "outputs": [],
   "source": [
    "import pandas as pd\n",
    "import numpy as np\n",
    "import matplotlib.pyplot as plt\n",
    "import benford\n",
    "\n",
    "%load_ext autoreload\n",
    "%autoreload 2"
   ]
  },
  {
   "cell_type": "code",
   "execution_count": 2,
   "id": "illegal-constraint",
   "metadata": {},
   "outputs": [
    {
     "name": "stdout",
     "output_type": "stream",
     "text": [
      "(2356, 12)\n"
     ]
    },
    {
     "data": {
      "text/html": [
       "<div>\n",
       "<style scoped>\n",
       "    .dataframe tbody tr th:only-of-type {\n",
       "        vertical-align: middle;\n",
       "    }\n",
       "\n",
       "    .dataframe tbody tr th {\n",
       "        vertical-align: top;\n",
       "    }\n",
       "\n",
       "    .dataframe thead th {\n",
       "        text-align: right;\n",
       "    }\n",
       "</style>\n",
       "<table border=\"1\" class=\"dataframe\">\n",
       "  <thead>\n",
       "    <tr style=\"text-align: right;\">\n",
       "      <th></th>\n",
       "      <th>0</th>\n",
       "      <th>1</th>\n",
       "      <th>2</th>\n",
       "      <th>3</th>\n",
       "      <th>4</th>\n",
       "      <th>5</th>\n",
       "      <th>6</th>\n",
       "      <th>7</th>\n",
       "      <th>8</th>\n",
       "      <th>9</th>\n",
       "      <th>10</th>\n",
       "      <th>11</th>\n",
       "    </tr>\n",
       "  </thead>\n",
       "  <tbody>\n",
       "    <tr>\n",
       "      <th>0</th>\n",
       "      <td>9.325899e+04</td>\n",
       "      <td>2.765206e+04</td>\n",
       "      <td>6.973654e+04</td>\n",
       "      <td>6.309967e+04</td>\n",
       "      <td>2.252522e+04</td>\n",
       "      <td>5.307728e+04</td>\n",
       "      <td>9.088306e+04</td>\n",
       "      <td>2.035561e+04</td>\n",
       "      <td>0.000000e+00</td>\n",
       "      <td>0.000000e+00</td>\n",
       "      <td>1.021926e+05</td>\n",
       "      <td>1.794098e+05</td>\n",
       "    </tr>\n",
       "    <tr>\n",
       "      <th>1</th>\n",
       "      <td>5.042612e+07</td>\n",
       "      <td>1.592204e+07</td>\n",
       "      <td>4.388571e+07</td>\n",
       "      <td>1.824970e+07</td>\n",
       "      <td>1.596605e+07</td>\n",
       "      <td>1.566419e+07</td>\n",
       "      <td>2.563818e+07</td>\n",
       "      <td>2.666071e+07</td>\n",
       "      <td>1.431299e+07</td>\n",
       "      <td>2.617207e+07</td>\n",
       "      <td>2.847710e+07</td>\n",
       "      <td>4.051467e+07</td>\n",
       "    </tr>\n",
       "    <tr>\n",
       "      <th>2</th>\n",
       "      <td>0.000000e+00</td>\n",
       "      <td>0.000000e+00</td>\n",
       "      <td>6.015709e+03</td>\n",
       "      <td>2.413695e+03</td>\n",
       "      <td>0.000000e+00</td>\n",
       "      <td>0.000000e+00</td>\n",
       "      <td>0.000000e+00</td>\n",
       "      <td>0.000000e+00</td>\n",
       "      <td>2.132027e+03</td>\n",
       "      <td>4.891291e+04</td>\n",
       "      <td>2.974154e+04</td>\n",
       "      <td>4.261914e+04</td>\n",
       "    </tr>\n",
       "    <tr>\n",
       "      <th>3</th>\n",
       "      <td>1.560630e+07</td>\n",
       "      <td>7.262593e+06</td>\n",
       "      <td>4.718013e+06</td>\n",
       "      <td>2.570901e+06</td>\n",
       "      <td>1.629196e+06</td>\n",
       "      <td>2.344451e+06</td>\n",
       "      <td>2.178284e+07</td>\n",
       "      <td>2.715498e+07</td>\n",
       "      <td>1.042588e+06</td>\n",
       "      <td>2.429717e+06</td>\n",
       "      <td>1.749820e+06</td>\n",
       "      <td>2.306792e+06</td>\n",
       "    </tr>\n",
       "    <tr>\n",
       "      <th>4</th>\n",
       "      <td>0.000000e+00</td>\n",
       "      <td>0.000000e+00</td>\n",
       "      <td>0.000000e+00</td>\n",
       "      <td>0.000000e+00</td>\n",
       "      <td>0.000000e+00</td>\n",
       "      <td>0.000000e+00</td>\n",
       "      <td>0.000000e+00</td>\n",
       "      <td>0.000000e+00</td>\n",
       "      <td>0.000000e+00</td>\n",
       "      <td>0.000000e+00</td>\n",
       "      <td>2.729096e+03</td>\n",
       "      <td>3.448312e+04</td>\n",
       "    </tr>\n",
       "  </tbody>\n",
       "</table>\n",
       "</div>"
      ],
      "text/plain": [
       "             0             1             2             3             4   \\\n",
       "0  9.325899e+04  2.765206e+04  6.973654e+04  6.309967e+04  2.252522e+04   \n",
       "1  5.042612e+07  1.592204e+07  4.388571e+07  1.824970e+07  1.596605e+07   \n",
       "2  0.000000e+00  0.000000e+00  6.015709e+03  2.413695e+03  0.000000e+00   \n",
       "3  1.560630e+07  7.262593e+06  4.718013e+06  2.570901e+06  1.629196e+06   \n",
       "4  0.000000e+00  0.000000e+00  0.000000e+00  0.000000e+00  0.000000e+00   \n",
       "\n",
       "             5             6             7             8             9   \\\n",
       "0  5.307728e+04  9.088306e+04  2.035561e+04  0.000000e+00  0.000000e+00   \n",
       "1  1.566419e+07  2.563818e+07  2.666071e+07  1.431299e+07  2.617207e+07   \n",
       "2  0.000000e+00  0.000000e+00  0.000000e+00  2.132027e+03  4.891291e+04   \n",
       "3  2.344451e+06  2.178284e+07  2.715498e+07  1.042588e+06  2.429717e+06   \n",
       "4  0.000000e+00  0.000000e+00  0.000000e+00  0.000000e+00  0.000000e+00   \n",
       "\n",
       "             10            11  \n",
       "0  1.021926e+05  1.794098e+05  \n",
       "1  2.847710e+07  4.051467e+07  \n",
       "2  2.974154e+04  4.261914e+04  \n",
       "3  1.749820e+06  2.306792e+06  \n",
       "4  2.729096e+03  3.448312e+04  "
      ]
     },
     "execution_count": 2,
     "metadata": {},
     "output_type": "execute_result"
    }
   ],
   "source": [
    "data = pd.read_csv(\"1512006-Calbicans-QUANTI_raw_abundance.csv\", sep=\",\", header=None)\n",
    "print(data.shape)\n",
    "data.head()"
   ]
  },
  {
   "cell_type": "code",
   "execution_count": 3,
   "id": "happy-representation",
   "metadata": {},
   "outputs": [
    {
     "data": {
      "text/html": [
       "<div>\n",
       "<style scoped>\n",
       "    .dataframe tbody tr th:only-of-type {\n",
       "        vertical-align: middle;\n",
       "    }\n",
       "\n",
       "    .dataframe tbody tr th {\n",
       "        vertical-align: top;\n",
       "    }\n",
       "\n",
       "    .dataframe thead th {\n",
       "        text-align: right;\n",
       "    }\n",
       "</style>\n",
       "<table border=\"1\" class=\"dataframe\">\n",
       "  <thead>\n",
       "    <tr style=\"text-align: right;\">\n",
       "      <th></th>\n",
       "      <th>0</th>\n",
       "      <th>1</th>\n",
       "      <th>2</th>\n",
       "      <th>3</th>\n",
       "      <th>4</th>\n",
       "      <th>5</th>\n",
       "      <th>6</th>\n",
       "      <th>7</th>\n",
       "      <th>8</th>\n",
       "      <th>9</th>\n",
       "      <th>10</th>\n",
       "      <th>11</th>\n",
       "    </tr>\n",
       "  </thead>\n",
       "  <tbody>\n",
       "    <tr>\n",
       "      <th>count</th>\n",
       "      <td>2.356000e+03</td>\n",
       "      <td>2.356000e+03</td>\n",
       "      <td>2.356000e+03</td>\n",
       "      <td>2.356000e+03</td>\n",
       "      <td>2.356000e+03</td>\n",
       "      <td>2.356000e+03</td>\n",
       "      <td>2.356000e+03</td>\n",
       "      <td>2.356000e+03</td>\n",
       "      <td>2.356000e+03</td>\n",
       "      <td>2.356000e+03</td>\n",
       "      <td>2.356000e+03</td>\n",
       "      <td>2.356000e+03</td>\n",
       "    </tr>\n",
       "    <tr>\n",
       "      <th>mean</th>\n",
       "      <td>9.581614e+06</td>\n",
       "      <td>4.052261e+06</td>\n",
       "      <td>1.076837e+07</td>\n",
       "      <td>3.978163e+06</td>\n",
       "      <td>4.193656e+06</td>\n",
       "      <td>4.893936e+06</td>\n",
       "      <td>5.159211e+06</td>\n",
       "      <td>4.210483e+06</td>\n",
       "      <td>3.024618e+06</td>\n",
       "      <td>7.153360e+06</td>\n",
       "      <td>5.233013e+06</td>\n",
       "      <td>8.720928e+06</td>\n",
       "    </tr>\n",
       "    <tr>\n",
       "      <th>std</th>\n",
       "      <td>4.125241e+07</td>\n",
       "      <td>1.657254e+07</td>\n",
       "      <td>4.375361e+07</td>\n",
       "      <td>1.619806e+07</td>\n",
       "      <td>1.691781e+07</td>\n",
       "      <td>1.932079e+07</td>\n",
       "      <td>2.153755e+07</td>\n",
       "      <td>1.789246e+07</td>\n",
       "      <td>1.163298e+07</td>\n",
       "      <td>2.881443e+07</td>\n",
       "      <td>2.162810e+07</td>\n",
       "      <td>3.816761e+07</td>\n",
       "    </tr>\n",
       "    <tr>\n",
       "      <th>min</th>\n",
       "      <td>0.000000e+00</td>\n",
       "      <td>0.000000e+00</td>\n",
       "      <td>0.000000e+00</td>\n",
       "      <td>0.000000e+00</td>\n",
       "      <td>0.000000e+00</td>\n",
       "      <td>0.000000e+00</td>\n",
       "      <td>0.000000e+00</td>\n",
       "      <td>0.000000e+00</td>\n",
       "      <td>0.000000e+00</td>\n",
       "      <td>0.000000e+00</td>\n",
       "      <td>0.000000e+00</td>\n",
       "      <td>0.000000e+00</td>\n",
       "    </tr>\n",
       "    <tr>\n",
       "      <th>25%</th>\n",
       "      <td>8.296491e+04</td>\n",
       "      <td>3.506632e+04</td>\n",
       "      <td>1.029519e+05</td>\n",
       "      <td>4.253416e+04</td>\n",
       "      <td>3.999578e+04</td>\n",
       "      <td>4.841961e+04</td>\n",
       "      <td>3.683583e+04</td>\n",
       "      <td>1.386838e+04</td>\n",
       "      <td>3.081028e+04</td>\n",
       "      <td>6.278149e+04</td>\n",
       "      <td>4.784145e+04</td>\n",
       "      <td>6.436681e+04</td>\n",
       "    </tr>\n",
       "    <tr>\n",
       "      <th>50%</th>\n",
       "      <td>5.528054e+05</td>\n",
       "      <td>2.330474e+05</td>\n",
       "      <td>6.421764e+05</td>\n",
       "      <td>2.474077e+05</td>\n",
       "      <td>2.635641e+05</td>\n",
       "      <td>3.213512e+05</td>\n",
       "      <td>2.800026e+05</td>\n",
       "      <td>1.677515e+05</td>\n",
       "      <td>2.009571e+05</td>\n",
       "      <td>4.372223e+05</td>\n",
       "      <td>2.972878e+05</td>\n",
       "      <td>4.575889e+05</td>\n",
       "    </tr>\n",
       "    <tr>\n",
       "      <th>75%</th>\n",
       "      <td>2.548738e+06</td>\n",
       "      <td>1.242274e+06</td>\n",
       "      <td>3.258557e+06</td>\n",
       "      <td>1.268807e+06</td>\n",
       "      <td>1.331303e+06</td>\n",
       "      <td>1.555117e+06</td>\n",
       "      <td>1.468795e+06</td>\n",
       "      <td>1.066523e+06</td>\n",
       "      <td>1.041927e+06</td>\n",
       "      <td>2.255124e+06</td>\n",
       "      <td>1.609874e+06</td>\n",
       "      <td>2.565324e+06</td>\n",
       "    </tr>\n",
       "    <tr>\n",
       "      <th>max</th>\n",
       "      <td>8.084879e+08</td>\n",
       "      <td>3.745571e+08</td>\n",
       "      <td>8.851789e+08</td>\n",
       "      <td>3.320042e+08</td>\n",
       "      <td>3.169179e+08</td>\n",
       "      <td>3.253303e+08</td>\n",
       "      <td>5.001720e+08</td>\n",
       "      <td>3.281611e+08</td>\n",
       "      <td>1.973859e+08</td>\n",
       "      <td>5.360345e+08</td>\n",
       "      <td>3.759082e+08</td>\n",
       "      <td>7.139125e+08</td>\n",
       "    </tr>\n",
       "  </tbody>\n",
       "</table>\n",
       "</div>"
      ],
      "text/plain": [
       "                 0             1             2             3             4   \\\n",
       "count  2.356000e+03  2.356000e+03  2.356000e+03  2.356000e+03  2.356000e+03   \n",
       "mean   9.581614e+06  4.052261e+06  1.076837e+07  3.978163e+06  4.193656e+06   \n",
       "std    4.125241e+07  1.657254e+07  4.375361e+07  1.619806e+07  1.691781e+07   \n",
       "min    0.000000e+00  0.000000e+00  0.000000e+00  0.000000e+00  0.000000e+00   \n",
       "25%    8.296491e+04  3.506632e+04  1.029519e+05  4.253416e+04  3.999578e+04   \n",
       "50%    5.528054e+05  2.330474e+05  6.421764e+05  2.474077e+05  2.635641e+05   \n",
       "75%    2.548738e+06  1.242274e+06  3.258557e+06  1.268807e+06  1.331303e+06   \n",
       "max    8.084879e+08  3.745571e+08  8.851789e+08  3.320042e+08  3.169179e+08   \n",
       "\n",
       "                 5             6             7             8             9   \\\n",
       "count  2.356000e+03  2.356000e+03  2.356000e+03  2.356000e+03  2.356000e+03   \n",
       "mean   4.893936e+06  5.159211e+06  4.210483e+06  3.024618e+06  7.153360e+06   \n",
       "std    1.932079e+07  2.153755e+07  1.789246e+07  1.163298e+07  2.881443e+07   \n",
       "min    0.000000e+00  0.000000e+00  0.000000e+00  0.000000e+00  0.000000e+00   \n",
       "25%    4.841961e+04  3.683583e+04  1.386838e+04  3.081028e+04  6.278149e+04   \n",
       "50%    3.213512e+05  2.800026e+05  1.677515e+05  2.009571e+05  4.372223e+05   \n",
       "75%    1.555117e+06  1.468795e+06  1.066523e+06  1.041927e+06  2.255124e+06   \n",
       "max    3.253303e+08  5.001720e+08  3.281611e+08  1.973859e+08  5.360345e+08   \n",
       "\n",
       "                 10            11  \n",
       "count  2.356000e+03  2.356000e+03  \n",
       "mean   5.233013e+06  8.720928e+06  \n",
       "std    2.162810e+07  3.816761e+07  \n",
       "min    0.000000e+00  0.000000e+00  \n",
       "25%    4.784145e+04  6.436681e+04  \n",
       "50%    2.972878e+05  4.575889e+05  \n",
       "75%    1.609874e+06  2.565324e+06  \n",
       "max    3.759082e+08  7.139125e+08  "
      ]
     },
     "execution_count": 3,
     "metadata": {},
     "output_type": "execute_result"
    }
   ],
   "source": [
    "data.describe()"
   ]
  },
  {
   "cell_type": "markdown",
   "id": "roman-working",
   "metadata": {},
   "source": [
    "<font color='red'> ici on transforme les valeur en int à refaire en prenant des float's</font>"
   ]
  },
  {
   "cell_type": "code",
   "execution_count": 4,
   "id": "invisible-photography",
   "metadata": {},
   "outputs": [
    {
     "name": "stdout",
     "output_type": "stream",
     "text": [
      "(28272,)\n"
     ]
    }
   ],
   "source": [
    "# données dans un array d'une dimmenssion\n",
    "exp_numbers = data.values.reshape(data.shape[0]*data.shape[1])\n",
    "print(exp_numbers.shape)\n",
    "exp_numbers = np.array(exp_numbers, dtype=int)"
   ]
  },
  {
   "cell_type": "code",
   "execution_count": 5,
   "id": "constitutional-dancing",
   "metadata": {},
   "outputs": [
    {
     "data": {
      "text/plain": [
       "(26919,)"
      ]
     },
     "execution_count": 5,
     "metadata": {},
     "output_type": "execute_result"
    }
   ],
   "source": [
    "# Remove 0\n",
    "exp_numbers = exp_numbers[ exp_numbers > 0 ]\n",
    "exp_numbers.shape"
   ]
  },
  {
   "cell_type": "code",
   "execution_count": 6,
   "id": "emotional-marijuana",
   "metadata": {},
   "outputs": [
    {
     "data": {
      "image/png": "[encoded data removed]",
      "text/plain": [
       "<Figure size 432x288 with 1 Axes>"
      ]
     },
     "metadata": {
      "needs_background": "light"
     },
     "output_type": "display_data"
    }
   ],
   "source": [
    "plt.hist(exp_numbers, bins=range(0, 20_000_000, 150_000));"
   ]
  },
  {
   "cell_type": "markdown",
   "id": "immediate-caution",
   "metadata": {},
   "source": [
    "## Analyse des $1^{er}$ digit"
   ]
  },
  {
   "cell_type": "code",
   "execution_count": 7,
   "id": "amateur-youth",
   "metadata": {},
   "outputs": [],
   "source": [
    "f_benford = benford.get_theoretical_freq_benford()\n",
    "d_obs = benford.count_first_digit(exp_numbers)"
   ]
  },
  {
   "cell_type": "markdown",
   "id": "detected-space",
   "metadata": {},
   "source": [
    "### Histogramme de la fréquence des first digit de la loi de Benford et de l'abondance des protéines"
   ]
  },
  {
   "cell_type": "code",
   "execution_count": 9,
   "id": "conscious-sally",
   "metadata": {},
   "outputs": [
    {
     "data": {
      "image/png": "[encoded data removed]",
      "text/plain": [
       "<Figure size 432x288 with 1 Axes>"
      ]
     },
     "metadata": {
      "needs_background": "light"
     },
     "output_type": "display_data"
    }
   ],
   "source": [
    "benford.build_hist_freq_ben(benford.normalize_first_digit(d_obs), f_benford, nb_digit=1,\n",
    "                            title=(\"Theoretical Benford law and First digit distribution \\n \"\n",
    "                            f\"of the {sum(d_obs)} protein  abundances\"),\n",
    "                            legend=\"protein Abundances\")"
   ]
  },
  {
   "cell_type": "markdown",
   "id": "alert-alaska",
   "metadata": {},
   "source": [
    "### Test statistique par la procédure \"bootstrap\""
   ]
  },
  {
   "cell_type": "code",
   "execution_count": 15,
   "id": "sweet-niagara",
   "metadata": {},
   "outputs": [
    {
     "name": "stdout",
     "output_type": "stream",
     "text": [
      "statistics : 8.497233970714376 ; p-value : 0.3864640145275622 ; number of significant tests : 64\n",
      "CPU times: user 4.24 s, sys: 0 ns, total: 4.24 s\n",
      "Wall time: 4.24 s\n"
     ]
    }
   ],
   "source": [
    "%%time\n",
    "statistics, P_val, nb_signif = benford.calculate_bootstrap_chi2(exp_numbers, f_benford, nb_digit=1)"
   ]
  },
  {
   "cell_type": "markdown",
   "id": "prescription-excitement",
   "metadata": {},
   "source": [
    "Le résultat du test montre que le premier chiffre significatif de l'abondance de protéine suit la loi de Benford pour un risque $\\alpha = 5\\%$."
   ]
  },
  {
   "cell_type": "markdown",
   "id": "dietary-slovakia",
   "metadata": {},
   "source": [
    "## Analyse des deux $1^{er}$ digit"
   ]
  },
  {
   "cell_type": "code",
   "execution_count": 18,
   "id": "convertible-complaint",
   "metadata": {},
   "outputs": [],
   "source": [
    "f_benford = benford.get_theoretical_freq_benford(2)\n",
    "d_obs = benford.count_first_digit(exp_numbers, 2)"
   ]
  },
  {
   "cell_type": "markdown",
   "id": "changed-dragon",
   "metadata": {},
   "source": [
    "### Histogramme de la fréquence des first digit de la loi de Benford et de l'abondance des protéines"
   ]
  },
  {
   "cell_type": "code",
   "execution_count": 20,
   "id": "coordinate-challenge",
   "metadata": {},
   "outputs": [
    {
     "data": {
      "image/png": "[encoded data removed]",
      "text/plain": [
       "<Figure size 2880x1080 with 1 Axes>"
      ]
     },
     "metadata": {
      "needs_background": "light"
     },
     "output_type": "display_data"
    }
   ],
   "source": [
    "benford.build_hist_freq_ben(benford.normalize_first_digit(d_obs), f_benford, nb_digit=2,\n",
    "                            title=(\"Theoretical Benford law and First digit distribution \\n \"\n",
    "                            f\"of the {sum(d_obs)} protein  abundances\"),\n",
    "                            legend=\"protein Abundances\", size=(40, 15))"
   ]
  },
  {
   "cell_type": "markdown",
   "id": "wrapped-broadcasting",
   "metadata": {},
   "source": [
    "### Test statistique par la procédure \"bootstrap\""
   ]
  },
  {
   "cell_type": "code",
   "execution_count": 22,
   "id": "otherwise-journey",
   "metadata": {},
   "outputs": [
    {
     "name": "stdout",
     "output_type": "stream",
     "text": [
      "statistics : 90.98908399370357 ; p-value : 0.42156358213025974 ; number of significant tests : 82\n",
      "CPU times: user 4.32 s, sys: 0 ns, total: 4.32 s\n",
      "Wall time: 4.32 s\n"
     ]
    }
   ],
   "source": [
    "%%time\n",
    "statistics, P_val, nb_signif = benford.calculate_bootstrap_chi2(exp_numbers, f_benford, nb_digit=2)"
   ]
  },
  {
   "cell_type": "markdown",
   "id": "choice-twist",
   "metadata": {},
   "source": [
    "Le résultat du test montre que les deux premiers chiffres significatifs de l'abondance de protéine suit, aussi, la loi de Benford pour un risque $\\alpha = 5\\%$."
   ]
  }
 ],
 "metadata": {
  "kernelspec": {
   "display_name": "Python 3",
   "language": "python",
   "name": "python3"
  },
  "language_info": {
   "codemirror_mode": {
    "name": "ipython",
    "version": 3
   },
   "file_extension": ".py",
   "mimetype": "text/x-python",
   "name": "python",
   "nbconvert_exporter": "python",
   "pygments_lexer": "ipython3",
   "version": "3.7.9"
  }
 },
 "nbformat": 4,
 "nbformat_minor": 5
}
