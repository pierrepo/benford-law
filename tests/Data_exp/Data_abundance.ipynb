{
 "cells": [
  {
   "cell_type": "markdown",
   "id": "pacific-hollow",
   "metadata": {},
   "source": [
    "# Loi de Benford et données d'abondance de protéines\n",
    "Ce script a pour but de vérifier si l'abondance de protéines, issue de données expérimentale mesurées par spectrométrie de masse, suit la loi de benford. Le fichier contient 12 expérince en colonne de l'abondance des protéines"
   ]
  },
  {
   "cell_type": "code",
   "execution_count": 1,
   "id": "express-disaster",
   "metadata": {},
   "outputs": [],
   "source": [
    "import pandas as pd\n",
    "import matplotlib.pyplot as plt\n",
    "import math\n",
    "import numpy as np\n",
    "from scipy.stats import chisquare, power_divergence\n",
    "from scipy.stats import ks_2samp\n",
    "from scipy.stats import chi2_contingency\n",
    "import random\n",
    "\n",
    "%load_ext autoreload\n",
    "%autoreload 2"
   ]
  },
  {
   "cell_type": "markdown",
   "id": "dedicated-manner",
   "metadata": {},
   "source": [
    "## loi de Benford"
   ]
  },
  {
   "cell_type": "code",
   "execution_count": 2,
   "id": "studied-debut",
   "metadata": {},
   "outputs": [
    {
     "name": "stdout",
     "output_type": "stream",
     "text": [
      "[0.30103    0.17609126 0.12493874 0.09691001 0.07918125 0.06694679\n",
      " 0.05799195 0.05115252 0.04575749]\n"
     ]
    },
    {
     "data": {
      "text/plain": [
       "0.9999999999999999"
      ]
     },
     "execution_count": 2,
     "metadata": {},
     "output_type": "execute_result"
    }
   ],
   "source": [
    "freq_benford = np.zeros(9, dtype=float)\n",
    "for i in range(9):\n",
    "    freq_benford[i] = (math.log((1+(1/(i+1))), 10))\n",
    "print(freq_benford)\n",
    "sum(freq_benford)"
   ]
  },
  {
   "cell_type": "code",
   "execution_count": 3,
   "id": "another-birth",
   "metadata": {},
   "outputs": [
    {
     "data": {
      "text/html": [
       "<div>\n",
       "<style scoped>\n",
       "    .dataframe tbody tr th:only-of-type {\n",
       "        vertical-align: middle;\n",
       "    }\n",
       "\n",
       "    .dataframe tbody tr th {\n",
       "        vertical-align: top;\n",
       "    }\n",
       "\n",
       "    .dataframe thead th {\n",
       "        text-align: right;\n",
       "    }\n",
       "</style>\n",
       "<table border=\"1\" class=\"dataframe\">\n",
       "  <thead>\n",
       "    <tr style=\"text-align: right;\">\n",
       "      <th></th>\n",
       "      <th>0</th>\n",
       "      <th>1</th>\n",
       "      <th>2</th>\n",
       "      <th>3</th>\n",
       "      <th>4</th>\n",
       "      <th>5</th>\n",
       "      <th>6</th>\n",
       "      <th>7</th>\n",
       "      <th>8</th>\n",
       "      <th>9</th>\n",
       "      <th>10</th>\n",
       "      <th>11</th>\n",
       "    </tr>\n",
       "  </thead>\n",
       "  <tbody>\n",
       "    <tr>\n",
       "      <th>0</th>\n",
       "      <td>9.325899e+04</td>\n",
       "      <td>2.765206e+04</td>\n",
       "      <td>6.973654e+04</td>\n",
       "      <td>6.309967e+04</td>\n",
       "      <td>2.252522e+04</td>\n",
       "      <td>5.307728e+04</td>\n",
       "      <td>9.088306e+04</td>\n",
       "      <td>2.035561e+04</td>\n",
       "      <td>0.000000e+00</td>\n",
       "      <td>0.000000e+00</td>\n",
       "      <td>1.021926e+05</td>\n",
       "      <td>1.794098e+05</td>\n",
       "    </tr>\n",
       "    <tr>\n",
       "      <th>1</th>\n",
       "      <td>5.042612e+07</td>\n",
       "      <td>1.592204e+07</td>\n",
       "      <td>4.388571e+07</td>\n",
       "      <td>1.824970e+07</td>\n",
       "      <td>1.596605e+07</td>\n",
       "      <td>1.566419e+07</td>\n",
       "      <td>2.563818e+07</td>\n",
       "      <td>2.666071e+07</td>\n",
       "      <td>1.431299e+07</td>\n",
       "      <td>2.617207e+07</td>\n",
       "      <td>2.847710e+07</td>\n",
       "      <td>4.051467e+07</td>\n",
       "    </tr>\n",
       "    <tr>\n",
       "      <th>2</th>\n",
       "      <td>0.000000e+00</td>\n",
       "      <td>0.000000e+00</td>\n",
       "      <td>6.015709e+03</td>\n",
       "      <td>2.413695e+03</td>\n",
       "      <td>0.000000e+00</td>\n",
       "      <td>0.000000e+00</td>\n",
       "      <td>0.000000e+00</td>\n",
       "      <td>0.000000e+00</td>\n",
       "      <td>2.132027e+03</td>\n",
       "      <td>4.891291e+04</td>\n",
       "      <td>2.974154e+04</td>\n",
       "      <td>4.261914e+04</td>\n",
       "    </tr>\n",
       "    <tr>\n",
       "      <th>3</th>\n",
       "      <td>1.560630e+07</td>\n",
       "      <td>7.262593e+06</td>\n",
       "      <td>4.718013e+06</td>\n",
       "      <td>2.570901e+06</td>\n",
       "      <td>1.629196e+06</td>\n",
       "      <td>2.344451e+06</td>\n",
       "      <td>2.178284e+07</td>\n",
       "      <td>2.715498e+07</td>\n",
       "      <td>1.042588e+06</td>\n",
       "      <td>2.429717e+06</td>\n",
       "      <td>1.749820e+06</td>\n",
       "      <td>2.306792e+06</td>\n",
       "    </tr>\n",
       "    <tr>\n",
       "      <th>4</th>\n",
       "      <td>0.000000e+00</td>\n",
       "      <td>0.000000e+00</td>\n",
       "      <td>0.000000e+00</td>\n",
       "      <td>0.000000e+00</td>\n",
       "      <td>0.000000e+00</td>\n",
       "      <td>0.000000e+00</td>\n",
       "      <td>0.000000e+00</td>\n",
       "      <td>0.000000e+00</td>\n",
       "      <td>0.000000e+00</td>\n",
       "      <td>0.000000e+00</td>\n",
       "      <td>2.729096e+03</td>\n",
       "      <td>3.448312e+04</td>\n",
       "    </tr>\n",
       "  </tbody>\n",
       "</table>\n",
       "</div>"
      ],
      "text/plain": [
       "             0             1             2             3             4   \\\n",
       "0  9.325899e+04  2.765206e+04  6.973654e+04  6.309967e+04  2.252522e+04   \n",
       "1  5.042612e+07  1.592204e+07  4.388571e+07  1.824970e+07  1.596605e+07   \n",
       "2  0.000000e+00  0.000000e+00  6.015709e+03  2.413695e+03  0.000000e+00   \n",
       "3  1.560630e+07  7.262593e+06  4.718013e+06  2.570901e+06  1.629196e+06   \n",
       "4  0.000000e+00  0.000000e+00  0.000000e+00  0.000000e+00  0.000000e+00   \n",
       "\n",
       "             5             6             7             8             9   \\\n",
       "0  5.307728e+04  9.088306e+04  2.035561e+04  0.000000e+00  0.000000e+00   \n",
       "1  1.566419e+07  2.563818e+07  2.666071e+07  1.431299e+07  2.617207e+07   \n",
       "2  0.000000e+00  0.000000e+00  0.000000e+00  2.132027e+03  4.891291e+04   \n",
       "3  2.344451e+06  2.178284e+07  2.715498e+07  1.042588e+06  2.429717e+06   \n",
       "4  0.000000e+00  0.000000e+00  0.000000e+00  0.000000e+00  0.000000e+00   \n",
       "\n",
       "             10            11  \n",
       "0  1.021926e+05  1.794098e+05  \n",
       "1  2.847710e+07  4.051467e+07  \n",
       "2  2.974154e+04  4.261914e+04  \n",
       "3  1.749820e+06  2.306792e+06  \n",
       "4  2.729096e+03  3.448312e+04  "
      ]
     },
     "execution_count": 3,
     "metadata": {},
     "output_type": "execute_result"
    }
   ],
   "source": [
    "data = pd.read_csv(\"1512006-Calbicans-QUANTI_raw_abundance.csv\", sep=\",\", header=None)\n",
    "data.head()"
   ]
  },
  {
   "cell_type": "code",
   "execution_count": 4,
   "id": "insured-environment",
   "metadata": {},
   "outputs": [
    {
     "data": {
      "text/html": [
       "<div>\n",
       "<style scoped>\n",
       "    .dataframe tbody tr th:only-of-type {\n",
       "        vertical-align: middle;\n",
       "    }\n",
       "\n",
       "    .dataframe tbody tr th {\n",
       "        vertical-align: top;\n",
       "    }\n",
       "\n",
       "    .dataframe thead th {\n",
       "        text-align: right;\n",
       "    }\n",
       "</style>\n",
       "<table border=\"1\" class=\"dataframe\">\n",
       "  <thead>\n",
       "    <tr style=\"text-align: right;\">\n",
       "      <th></th>\n",
       "      <th>0</th>\n",
       "      <th>1</th>\n",
       "      <th>2</th>\n",
       "      <th>3</th>\n",
       "      <th>4</th>\n",
       "      <th>5</th>\n",
       "      <th>6</th>\n",
       "      <th>7</th>\n",
       "      <th>8</th>\n",
       "      <th>9</th>\n",
       "      <th>10</th>\n",
       "      <th>11</th>\n",
       "    </tr>\n",
       "  </thead>\n",
       "  <tbody>\n",
       "    <tr>\n",
       "      <th>count</th>\n",
       "      <td>2.356000e+03</td>\n",
       "      <td>2.356000e+03</td>\n",
       "      <td>2.356000e+03</td>\n",
       "      <td>2.356000e+03</td>\n",
       "      <td>2.356000e+03</td>\n",
       "      <td>2.356000e+03</td>\n",
       "      <td>2.356000e+03</td>\n",
       "      <td>2.356000e+03</td>\n",
       "      <td>2.356000e+03</td>\n",
       "      <td>2.356000e+03</td>\n",
       "      <td>2.356000e+03</td>\n",
       "      <td>2.356000e+03</td>\n",
       "    </tr>\n",
       "    <tr>\n",
       "      <th>mean</th>\n",
       "      <td>9.581614e+06</td>\n",
       "      <td>4.052261e+06</td>\n",
       "      <td>1.076837e+07</td>\n",
       "      <td>3.978163e+06</td>\n",
       "      <td>4.193656e+06</td>\n",
       "      <td>4.893936e+06</td>\n",
       "      <td>5.159211e+06</td>\n",
       "      <td>4.210483e+06</td>\n",
       "      <td>3.024618e+06</td>\n",
       "      <td>7.153360e+06</td>\n",
       "      <td>5.233013e+06</td>\n",
       "      <td>8.720928e+06</td>\n",
       "    </tr>\n",
       "    <tr>\n",
       "      <th>std</th>\n",
       "      <td>4.125241e+07</td>\n",
       "      <td>1.657254e+07</td>\n",
       "      <td>4.375361e+07</td>\n",
       "      <td>1.619806e+07</td>\n",
       "      <td>1.691781e+07</td>\n",
       "      <td>1.932079e+07</td>\n",
       "      <td>2.153755e+07</td>\n",
       "      <td>1.789246e+07</td>\n",
       "      <td>1.163298e+07</td>\n",
       "      <td>2.881443e+07</td>\n",
       "      <td>2.162810e+07</td>\n",
       "      <td>3.816761e+07</td>\n",
       "    </tr>\n",
       "    <tr>\n",
       "      <th>min</th>\n",
       "      <td>0.000000e+00</td>\n",
       "      <td>0.000000e+00</td>\n",
       "      <td>0.000000e+00</td>\n",
       "      <td>0.000000e+00</td>\n",
       "      <td>0.000000e+00</td>\n",
       "      <td>0.000000e+00</td>\n",
       "      <td>0.000000e+00</td>\n",
       "      <td>0.000000e+00</td>\n",
       "      <td>0.000000e+00</td>\n",
       "      <td>0.000000e+00</td>\n",
       "      <td>0.000000e+00</td>\n",
       "      <td>0.000000e+00</td>\n",
       "    </tr>\n",
       "    <tr>\n",
       "      <th>25%</th>\n",
       "      <td>8.296491e+04</td>\n",
       "      <td>3.506632e+04</td>\n",
       "      <td>1.029519e+05</td>\n",
       "      <td>4.253416e+04</td>\n",
       "      <td>3.999578e+04</td>\n",
       "      <td>4.841961e+04</td>\n",
       "      <td>3.683583e+04</td>\n",
       "      <td>1.386838e+04</td>\n",
       "      <td>3.081028e+04</td>\n",
       "      <td>6.278149e+04</td>\n",
       "      <td>4.784145e+04</td>\n",
       "      <td>6.436681e+04</td>\n",
       "    </tr>\n",
       "    <tr>\n",
       "      <th>50%</th>\n",
       "      <td>5.528054e+05</td>\n",
       "      <td>2.330474e+05</td>\n",
       "      <td>6.421764e+05</td>\n",
       "      <td>2.474077e+05</td>\n",
       "      <td>2.635641e+05</td>\n",
       "      <td>3.213512e+05</td>\n",
       "      <td>2.800026e+05</td>\n",
       "      <td>1.677515e+05</td>\n",
       "      <td>2.009571e+05</td>\n",
       "      <td>4.372223e+05</td>\n",
       "      <td>2.972878e+05</td>\n",
       "      <td>4.575889e+05</td>\n",
       "    </tr>\n",
       "    <tr>\n",
       "      <th>75%</th>\n",
       "      <td>2.548738e+06</td>\n",
       "      <td>1.242274e+06</td>\n",
       "      <td>3.258557e+06</td>\n",
       "      <td>1.268807e+06</td>\n",
       "      <td>1.331303e+06</td>\n",
       "      <td>1.555117e+06</td>\n",
       "      <td>1.468795e+06</td>\n",
       "      <td>1.066523e+06</td>\n",
       "      <td>1.041927e+06</td>\n",
       "      <td>2.255124e+06</td>\n",
       "      <td>1.609874e+06</td>\n",
       "      <td>2.565324e+06</td>\n",
       "    </tr>\n",
       "    <tr>\n",
       "      <th>max</th>\n",
       "      <td>8.084879e+08</td>\n",
       "      <td>3.745571e+08</td>\n",
       "      <td>8.851789e+08</td>\n",
       "      <td>3.320042e+08</td>\n",
       "      <td>3.169179e+08</td>\n",
       "      <td>3.253303e+08</td>\n",
       "      <td>5.001720e+08</td>\n",
       "      <td>3.281611e+08</td>\n",
       "      <td>1.973859e+08</td>\n",
       "      <td>5.360345e+08</td>\n",
       "      <td>3.759082e+08</td>\n",
       "      <td>7.139125e+08</td>\n",
       "    </tr>\n",
       "  </tbody>\n",
       "</table>\n",
       "</div>"
      ],
      "text/plain": [
       "                 0             1             2             3             4   \\\n",
       "count  2.356000e+03  2.356000e+03  2.356000e+03  2.356000e+03  2.356000e+03   \n",
       "mean   9.581614e+06  4.052261e+06  1.076837e+07  3.978163e+06  4.193656e+06   \n",
       "std    4.125241e+07  1.657254e+07  4.375361e+07  1.619806e+07  1.691781e+07   \n",
       "min    0.000000e+00  0.000000e+00  0.000000e+00  0.000000e+00  0.000000e+00   \n",
       "25%    8.296491e+04  3.506632e+04  1.029519e+05  4.253416e+04  3.999578e+04   \n",
       "50%    5.528054e+05  2.330474e+05  6.421764e+05  2.474077e+05  2.635641e+05   \n",
       "75%    2.548738e+06  1.242274e+06  3.258557e+06  1.268807e+06  1.331303e+06   \n",
       "max    8.084879e+08  3.745571e+08  8.851789e+08  3.320042e+08  3.169179e+08   \n",
       "\n",
       "                 5             6             7             8             9   \\\n",
       "count  2.356000e+03  2.356000e+03  2.356000e+03  2.356000e+03  2.356000e+03   \n",
       "mean   4.893936e+06  5.159211e+06  4.210483e+06  3.024618e+06  7.153360e+06   \n",
       "std    1.932079e+07  2.153755e+07  1.789246e+07  1.163298e+07  2.881443e+07   \n",
       "min    0.000000e+00  0.000000e+00  0.000000e+00  0.000000e+00  0.000000e+00   \n",
       "25%    4.841961e+04  3.683583e+04  1.386838e+04  3.081028e+04  6.278149e+04   \n",
       "50%    3.213512e+05  2.800026e+05  1.677515e+05  2.009571e+05  4.372223e+05   \n",
       "75%    1.555117e+06  1.468795e+06  1.066523e+06  1.041927e+06  2.255124e+06   \n",
       "max    3.253303e+08  5.001720e+08  3.281611e+08  1.973859e+08  5.360345e+08   \n",
       "\n",
       "                 10            11  \n",
       "count  2.356000e+03  2.356000e+03  \n",
       "mean   5.233013e+06  8.720928e+06  \n",
       "std    2.162810e+07  3.816761e+07  \n",
       "min    0.000000e+00  0.000000e+00  \n",
       "25%    4.784145e+04  6.436681e+04  \n",
       "50%    2.972878e+05  4.575889e+05  \n",
       "75%    1.609874e+06  2.565324e+06  \n",
       "max    3.759082e+08  7.139125e+08  "
      ]
     },
     "execution_count": 4,
     "metadata": {},
     "output_type": "execute_result"
    }
   ],
   "source": [
    "data.describe()"
   ]
  },
  {
   "cell_type": "code",
   "execution_count": 5,
   "id": "lyric-straight",
   "metadata": {},
   "outputs": [
    {
     "data": {
      "text/plain": [
       "(191, 12)"
      ]
     },
     "execution_count": 5,
     "metadata": {},
     "output_type": "execute_result"
    }
   ],
   "source": [
    "data[data[0] > 20_000_000].shape"
   ]
  },
  {
   "cell_type": "code",
   "execution_count": 6,
   "id": "vietnamese-cherry",
   "metadata": {},
   "outputs": [
    {
     "data": {
      "image/png": "[encoded data removed]",
      "text/plain": [
       "<Figure size 432x288 with 1 Axes>"
      ]
     },
     "metadata": {
      "needs_background": "light"
     },
     "output_type": "display_data"
    }
   ],
   "source": [
    "plt.hist(data[0], bins=range(0, 20_000_000, 150_000));"
   ]
  },
  {
   "cell_type": "markdown",
   "id": "deadly-record",
   "metadata": {},
   "source": [
    "## First digit"
   ]
  },
  {
   "cell_type": "code",
   "execution_count": 7,
   "id": "handed-marshall",
   "metadata": {},
   "outputs": [
    {
     "name": "stdout",
     "output_type": "stream",
     "text": [
      "[7942 4691 3273 2642 2176 1885 1638 1390 1282]\n",
      "26919\n"
     ]
    }
   ],
   "source": [
    "first_digit = np.zeros(9, dtype=int)\n",
    "for a in range(0, data.shape[1]):\n",
    "    for x in data[a]:\n",
    "        first = int(str(x)[0])\n",
    "        if first == 0:\n",
    "            continue\n",
    "        first_digit[first-1] += 1\n",
    "print(first_digit)\n",
    "print(sum(first_digit))"
   ]
  },
  {
   "cell_type": "markdown",
   "id": "hundred-colony",
   "metadata": {},
   "source": [
    "### Normalisation"
   ]
  },
  {
   "cell_type": "code",
   "execution_count": 8,
   "id": "boring-television",
   "metadata": {},
   "outputs": [
    {
     "name": "stdout",
     "output_type": "stream",
     "text": [
      "[0.29503325 0.17426353 0.12158698 0.09814629 0.0808351  0.07002489\n",
      " 0.06084921 0.05163639 0.04762435]\n",
      "1.0\n",
      "[7942 4691 3273 2642 2176 1885 1638 1390 1282]\n"
     ]
    }
   ],
   "source": [
    "first_digit_norm = np.array(first_digit /  sum(first_digit))\n",
    "print(first_digit_norm)\n",
    "print(sum(first_digit_norm))\n",
    "print(first_digit)"
   ]
  },
  {
   "cell_type": "code",
   "execution_count": 9,
   "id": "saved-static",
   "metadata": {},
   "outputs": [
    {
     "data": {
      "text/plain": [
       "numpy.ndarray"
      ]
     },
     "execution_count": 9,
     "metadata": {},
     "output_type": "execute_result"
    }
   ],
   "source": [
    "type(first_digit_norm)"
   ]
  },
  {
   "cell_type": "markdown",
   "id": "universal-covering",
   "metadata": {},
   "source": [
    "## Barplot de la fréquence des first digit de l'abondance des protéines et de la loi de Benford"
   ]
  },
  {
   "cell_type": "code",
   "execution_count": 10,
   "id": "proof-rental",
   "metadata": {},
   "outputs": [
    {
     "data": {
      "image/png": "[encoded data removed]",
      "text/plain": [
       "<Figure size 432x288 with 1 Axes>"
      ]
     },
     "metadata": {
      "needs_background": "light"
     },
     "output_type": "display_data"
    }
   ],
   "source": [
    "plt.plot(range(1,10), freq_benford, marker=\"o\", color=\"red\")\n",
    "plt.bar(range(1,10), first_digit_norm)\n",
    "plt.xticks(ticks=range(0,10))\n",
    "plt.title(label=f\"Theoretical Benford law and First digit distribution \\n of the {sum(first_digit)} protein  abundances\")\n",
    "plt.xlabel(\"First digit\")\n",
    "plt.ylabel(\"Proportion\")\n",
    "plt.legend(labels = (\"Benford\", \"protein Abundances\"));"
   ]
  },
  {
   "cell_type": "markdown",
   "id": "adult-transformation",
   "metadata": {},
   "source": [
    "## tests statistiques"
   ]
  },
  {
   "cell_type": "code",
   "execution_count": 11,
   "id": "extra-valley",
   "metadata": {},
   "outputs": [
    {
     "name": "stdout",
     "output_type": "stream",
     "text": [
      "[8103.42645328 4740.20060252 3363.22585076 2608.72064016 2131.47996236\n",
      " 1802.14063007 1561.08522069 1376.97475176 1231.7458884 ]\n"
     ]
    }
   ],
   "source": [
    "first_digit_theo = np.array(freq_benford * sum(first_digit))\n",
    "print(first_digit_theo)"
   ]
  },
  {
   "cell_type": "code",
   "execution_count": 12,
   "id": "continuous-rendering",
   "metadata": {},
   "outputs": [
    {
     "data": {
      "text/plain": [
       "numpy.ndarray"
      ]
     },
     "execution_count": 12,
     "metadata": {},
     "output_type": "execute_result"
    }
   ],
   "source": [
    "type(first_digit_theo)"
   ]
  },
  {
   "cell_type": "code",
   "execution_count": 13,
   "id": "experienced-porcelain",
   "metadata": {},
   "outputs": [
    {
     "name": "stdout",
     "output_type": "stream",
     "text": [
      "26919\n",
      "26918.999999999993\n"
     ]
    }
   ],
   "source": [
    "print(sum(first_digit))\n",
    "print(sum(first_digit_theo))"
   ]
  },
  {
   "cell_type": "markdown",
   "id": "correct-simpson",
   "metadata": {},
   "source": [
    "### Test du $\\chi^2$"
   ]
  },
  {
   "cell_type": "code",
   "execution_count": 14,
   "id": "wooden-roommate",
   "metadata": {},
   "outputs": [
    {
     "data": {
      "text/plain": [
       "Power_divergenceResult(statistic=17.274209428053247, pvalue=0.027377095106173994)"
      ]
     },
     "execution_count": 14,
     "metadata": {},
     "output_type": "execute_result"
    }
   ],
   "source": [
    "chisquare(first_digit, first_digit_theo)"
   ]
  },
  {
   "cell_type": "code",
   "execution_count": 16,
   "id": "worst-toddler",
   "metadata": {},
   "outputs": [
    {
     "data": {
      "text/plain": [
       "Power_divergenceResult(statistic=17.16574732677782, pvalue=0.02842870395537781)"
      ]
     },
     "execution_count": 16,
     "metadata": {},
     "output_type": "execute_result"
    }
   ],
   "source": [
    "power_divergence(first_digit, first_digit_theo, lambda_=0)"
   ]
  },
  {
   "cell_type": "code",
   "execution_count": 18,
   "id": "thrown-astronomy",
   "metadata": {},
   "outputs": [
    {
     "data": {
      "text/plain": [
       "array([7942, 4691, 3273, 2642, 2176, 1885, 1638, 1390, 1282])"
      ]
     },
     "execution_count": 18,
     "metadata": {},
     "output_type": "execute_result"
    }
   ],
   "source": [
    "first_digit"
   ]
  },
  {
   "cell_type": "code",
   "execution_count": 27,
   "id": "floppy-difference",
   "metadata": {},
   "outputs": [
    {
     "data": {
      "text/plain": [
       "array([8103.42645328, 4740.20060252, 3363.22585076, 2608.72064016,\n",
       "       2131.47996236, 1802.14063007, 1561.08522069, 1376.97475176,\n",
       "       1231.7458884 ])"
      ]
     },
     "execution_count": 27,
     "metadata": {},
     "output_type": "execute_result"
    }
   ],
   "source": [
    "first_digit_theo"
   ]
  },
  {
   "cell_type": "code",
   "execution_count": null,
   "id": "usual-sixth",
   "metadata": {},
   "outputs": [],
   "source": [
    "[7932 4679 3266 2636 2172 1881 1635 1387 1282]\n",
    "[8103.42645328 4740.20060252 3363.22585076 2608.72064016 2131.47996236\n",
    " 1802.14063007 1561.08522069 1376.97475176 1231.7458884 ]"
   ]
  },
  {
   "cell_type": "code",
   "execution_count": 22,
   "id": "rental-april",
   "metadata": {},
   "outputs": [
    {
     "data": {
      "text/plain": [
       "Power_divergenceResult(statistic=17.16574732697711, pvalue=0.02842870395341126)"
      ]
     },
     "execution_count": 22,
     "metadata": {},
     "output_type": "execute_result"
    }
   ],
   "source": [
    "power_divergence([7942, 4691, 3273, 2642, 2176, 1885, 1638, 1390, 1282], \n",
    "                 [8103.42645328, 4740.20060252, 3363.22585076, 2608.72064016, \n",
    "                  2131.47996236, 1802.14063007, 1561.08522069, 1376.97475176,\n",
    "                  1231.7458884], lambda_=0)"
   ]
  },
  {
   "cell_type": "markdown",
   "id": "general-terminal",
   "metadata": {},
   "source": [
    "#### $2^{eme}$ méthode"
   ]
  },
  {
   "cell_type": "code",
   "execution_count": 15,
   "id": "wireless-baltimore",
   "metadata": {},
   "outputs": [
    {
     "name": "stdout",
     "output_type": "stream",
     "text": [
      "[[7942.         4691.         3273.         2642.         2176.\n",
      "  1885.         1638.         1390.         1282.        ]\n",
      " [8103.42645328 4740.20060252 3363.22585076 2608.72064016 2131.47996236\n",
      "  1802.14063007 1561.08522069 1376.97475176 1231.7458884 ]]\n"
     ]
    }
   ],
   "source": [
    "test = np.array([list(first_digit), list(first_digit_theo)], dtype=float)\n",
    "print(test)"
   ]
  },
  {
   "cell_type": "code",
   "execution_count": 16,
   "id": "meaningful-electronics",
   "metadata": {},
   "outputs": [
    {
     "data": {
      "text/plain": [
       "(8.555768540906564,\n",
       " 0.3811435890854216,\n",
       " 8,\n",
       " array([[8022.71322664, 4715.60030126, 3318.11292538, 2625.36032008,\n",
       "         2153.73998118, 1843.57031503, 1599.54261035, 1383.48737588,\n",
       "         1256.8729442 ],\n",
       "        [8022.71322664, 4715.60030126, 3318.11292538, 2625.36032008,\n",
       "         2153.73998118, 1843.57031503, 1599.54261035, 1383.48737588,\n",
       "         1256.8729442 ]]))"
      ]
     },
     "execution_count": 16,
     "metadata": {},
     "output_type": "execute_result"
    }
   ],
   "source": [
    "chi2_contingency(test)"
   ]
  },
  {
   "cell_type": "markdown",
   "id": "constitutional-split",
   "metadata": {},
   "source": [
    "## Test KS (ks_2samp)"
   ]
  },
  {
   "cell_type": "code",
   "execution_count": 17,
   "id": "blocked-socket",
   "metadata": {},
   "outputs": [
    {
     "data": {
      "text/plain": [
       "KstestResult(statistic=0.1111111111111111, pvalue=1.0)"
      ]
     },
     "execution_count": 17,
     "metadata": {},
     "output_type": "execute_result"
    }
   ],
   "source": [
    "ks_2samp(first_digit, first_digit_theo)"
   ]
  },
  {
   "cell_type": "markdown",
   "id": "universal-tourist",
   "metadata": {},
   "source": [
    "#### $2^{eme}$ méthode"
   ]
  },
  {
   "cell_type": "code",
   "execution_count": 18,
   "id": "north-cowboy",
   "metadata": {},
   "outputs": [
    {
     "name": "stdout",
     "output_type": "stream",
     "text": [
      "94025\n",
      "92585\n"
     ]
    }
   ],
   "source": [
    "KS_obs = []\n",
    "for i in range(9):\n",
    "    KS_obs += [i+1]*int(first_digit[i])\n",
    "    \n",
    "KS_theo = []\n",
    "for i in range(9):\n",
    "    KS_theo += [i+1]*int(first_digit_theo[i])\n",
    "#print(KS_obs)\n",
    "#print(KS_theo)\n",
    "print(sum(KS_obs))\n",
    "print(sum(KS_theo))"
   ]
  },
  {
   "cell_type": "code",
   "execution_count": 19,
   "id": "convinced-kansas",
   "metadata": {},
   "outputs": [
    {
     "data": {
      "text/plain": [
       "KstestResult(statistic=0.011234015792294105, pvalue=0.06645028870743053)"
      ]
     },
     "execution_count": 19,
     "metadata": {},
     "output_type": "execute_result"
    }
   ],
   "source": [
    "ks_2samp(KS_obs, KS_theo)"
   ]
  },
  {
   "cell_type": "code",
   "execution_count": null,
   "id": "registered-fitness",
   "metadata": {},
   "outputs": [],
   "source": []
  },
  {
   "cell_type": "code",
   "execution_count": null,
   "id": "expensive-short",
   "metadata": {},
   "outputs": [],
   "source": []
  },
  {
   "cell_type": "markdown",
   "id": "trained-brazil",
   "metadata": {},
   "source": [
    "# Test réaliser pour étudier les tests statistique\n",
    "\n",
    "### Test pour comprendre la fonction chisquare\n",
    "\n",
    "##### hypothèse\n",
    "On pose l'hypothèse :\n",
    "- H0 : la distribution observé (a) suit la distribution théorique (b)  \n",
    "- H1 : La distribution observé (a) ne suit pas la distribution théorique (b)  \n",
    "    \n",
    "Condition de validité du test :  \n",
    "- les valeurs de la distribution théorique doivent ètre supérieur à 5.[1]  \n",
    "    \n",
    "    [1] C'est à cause de cette condition de validité du test que l'on ne peux¶ pas utilisé les valeur normalisé de la distribution observé par rapport à la loi théorique.  \n",
    "    \n",
    "Régle de décision du  test :  \n",
    "- si la p-value < à $\\alpha = 5\\%$, alors le test est significatif et on rejette l'hypothèse H0.  \n",
    "- si la p-value > à $\\alpha = 5\\%$, alors le test est non significatif et on ne rejette pas l'hypothèse H0."
   ]
  },
  {
   "cell_type": "code",
   "execution_count": 20,
   "id": "emerging-northern",
   "metadata": {},
   "outputs": [
    {
     "name": "stdout",
     "output_type": "stream",
     "text": [
      "[0.1724137931034483, 0.20689655172413793, 0.1839080459770115, 0.16091954022988506, 0.13793103448275862, 0.13793103448275862]\n",
      "[0.1839080459770115, 0.19540229885057472, 0.1724137931034483, 0.1724137931034483, 0.12643678160919541, 0.14942528735632185]\n",
      "Power_divergenceResult(statistic=0.4224890305772659, pvalue=0.9946874696728052)\n",
      "Power_divergenceResult(statistic=0.004856195753761673, pvalue=0.999999912735802)\n",
      "\n",
      "\n",
      "La p-value est de : 0.9946874696728052 pour le test réaliser sur les distributions\n",
      "\n",
      "\n",
      "La p-value est de : 0.999999912735802 pour le test réaliser sur les fréqunces\n"
     ]
    }
   ],
   "source": [
    "a = [15, 18, 16, 14, 12, 12] # distribution observé\n",
    "b = [16, 17, 15, 15, 11, 13] # distribution théorique\n",
    "A = [ a[i]/sum(a) for i in range(0, len(a)) ] # normalisation de la distribution observé\n",
    "B = [ b[i]/sum(b) for i in range(0, len(b)) ] # fréquence de la distribution théorique\n",
    "print(A)\n",
    "print(B)\n",
    "chi1 = chisquare(a, f_exp=b)\n",
    "chi2 = chisquare(A, f_exp=B)\n",
    "print(f\"{chi1}\\n{chi2}\")\n",
    "print(\"\\n\")\n",
    "print(f\"La p-value est de : {chi1[1]} pour le test réaliser sur les distributions\")\n",
    "print(\"\\n\")\n",
    "print(f\"La p-value est de : {chi2[1]} pour le test réaliser sur les fréqunces\")"
   ]
  },
  {
   "cell_type": "markdown",
   "id": "civic-filing",
   "metadata": {},
   "source": [
    "### Conclusion pour l'utilisation de chisquare\n",
    "\n",
    "On remarque une différence de p-value entre les deux tests. Il est préférable de réaliser les tests sur les distribution observé et théorique, plutôt que sur la distribution normaliseé et la fréquence de la loi théorique"
   ]
  },
  {
   "cell_type": "markdown",
   "id": "alternative-collaboration",
   "metadata": {},
   "source": [
    "## Test $\\chi²$\n",
    "### réaliser sur les fréquences"
   ]
  },
  {
   "cell_type": "code",
   "execution_count": 21,
   "id": "offensive-rebel",
   "metadata": {},
   "outputs": [
    {
     "ename": "IndexError",
     "evalue": "only integers, slices (`:`), ellipsis (`...`), numpy.newaxis (`None`) and integer or boolean arrays are valid indices",
     "output_type": "error",
     "traceback": [
      "\u001b[0;31m---------------------------------------------------------------------------\u001b[0m",
      "\u001b[0;31mIndexError\u001b[0m                                Traceback (most recent call last)",
      "\u001b[0;32m<ipython-input-21-71803031c276>\u001b[0m in \u001b[0;36m<module>\u001b[0;34m\u001b[0m\n\u001b[0;32m----> 1\u001b[0;31m chi2 = chisquare([ first_digit_norm[key] for key in sorted(first_digit_norm) ],\n\u001b[0m\u001b[1;32m      2\u001b[0m                 [ freq_benford[key] for key in sorted(freq_benford) ])\n\u001b[1;32m      3\u001b[0m \u001b[0mprint\u001b[0m\u001b[0;34m(\u001b[0m\u001b[0mchi2\u001b[0m\u001b[0;34m)\u001b[0m\u001b[0;34m\u001b[0m\u001b[0;34m\u001b[0m\u001b[0m\n",
      "\u001b[0;32m<ipython-input-21-71803031c276>\u001b[0m in \u001b[0;36m<listcomp>\u001b[0;34m(.0)\u001b[0m\n\u001b[0;32m----> 1\u001b[0;31m chi2 = chisquare([ first_digit_norm[key] for key in sorted(first_digit_norm) ],\n\u001b[0m\u001b[1;32m      2\u001b[0m                 [ freq_benford[key] for key in sorted(freq_benford) ])\n\u001b[1;32m      3\u001b[0m \u001b[0mprint\u001b[0m\u001b[0;34m(\u001b[0m\u001b[0mchi2\u001b[0m\u001b[0;34m)\u001b[0m\u001b[0;34m\u001b[0m\u001b[0;34m\u001b[0m\u001b[0m\n",
      "\u001b[0;31mIndexError\u001b[0m: only integers, slices (`:`), ellipsis (`...`), numpy.newaxis (`None`) and integer or boolean arrays are valid indices"
     ]
    }
   ],
   "source": [
    "chi2 = chisquare([ first_digit_norm[key] for key in sorted(first_digit_norm) ],\n",
    "                [ freq_benford[key] for key in sorted(freq_benford) ])\n",
    "print(chi2)"
   ]
  },
  {
   "cell_type": "markdown",
   "id": "planned-damage",
   "metadata": {},
   "source": [
    "### Réaliser sur les distribution observé et théorique\n",
    "#### calcaul des effectifs théoriques par rapport à la loi de Benford"
   ]
  },
  {
   "cell_type": "code",
   "execution_count": null,
   "id": "based-avatar",
   "metadata": {},
   "outputs": [],
   "source": [
    "first_digit_theo = [freq_benford[key]*somme for key in sorted(freq_benford)] # liste des effectifs théoriques\n",
    "print(first_digit) # effectifs observé\n",
    "print(first_digit_theo)\n",
    "print(sum(list(first_digit.values())))\n",
    "print(sum(first_digit_theo))"
   ]
  },
  {
   "cell_type": "markdown",
   "id": "anonymous-advocacy",
   "metadata": {},
   "source": [
    "#### Test du $\\chi²$"
   ]
  },
  {
   "cell_type": "code",
   "execution_count": null,
   "id": "scheduled-departure",
   "metadata": {},
   "outputs": [],
   "source": [
    "chi2_final = chisquare([ first_digit[key] for key in sorted(first_digit) ], f_exp = first_digit_theo)\n",
    "print(chi2_final)\n",
    "p_val = chi2_final[1]\n",
    "print(f\"\\nLa p-value est de : {chi2_final[1]}\")"
   ]
  },
  {
   "cell_type": "markdown",
   "id": "rental-cambodia",
   "metadata": {},
   "source": [
    "## Test de conformité à une loi théorique:\n",
    "V.A. : nombre de first digit  \n",
    "\n",
    "Hopothèse :  \n",
    "    - H0 : La distribution des $1^{er}$ digits de la taille des protéines du protéome Humain suit la loi de Benford.  \n",
    "    - H1 : La distribution des $1^{er}$ digits de la taille des protéines du protéome Humain ne suit pas la loi de Benford.  \n",
    "    \n",
    "Conditionde validité : les effectifs calculés > 5  \n",
    "\n",
    "Règle de décision (test $\\chi²$):  \n",
    "    -Si, $\\chi²_{cal} > \\chi²_{\\alpha, (k-1)ddl}$, le test est significatif à $\\alpha$% et on rejette H0.  \n",
    " \n",
    "## détermination de $F_{theo}$ et $F_{obs}$"
   ]
  },
  {
   "cell_type": "code",
   "execution_count": null,
   "id": "tested-weekend",
   "metadata": {},
   "outputs": [],
   "source": [
    "# dictionnaire de la distribution théorique\n",
    "first_digit_theo = {}\n",
    "for key in first_digit:\n",
    "    first_digit_theo[key] = freq_benford[key] * data.shape[0]\n",
    "\n",
    "F_theo = [freq_benford[key]*data.shape[0] for key in sorted(freq_benford)]\n",
    "print(f\"Le dictionnaire de la distribution théorique des first digits est : {first_digit_theo}\\n\")\n",
    "print(f\"La liste triées par ordre croissant des first digits des valeurs théoriques est : {F_theo}\\n\")\n",
    "\n",
    "F_obs = [ first_digit[key] for key in sorted(first_digit) ]\n",
    "print(f\"Le dictionnaire de la distribution observé des first digits est : {first_digit}\\n\")\n",
    "print(f\"La liste triées par ordre croissant des first digits des valeurs observés est : {F_obs}\\n\")"
   ]
  },
  {
   "cell_type": "markdown",
   "id": "artistic-legend",
   "metadata": {},
   "source": [
    "## Test statistique de comparaison d'une distribution par rapport une une distribution de référence\n",
    "Le test à réaliser est un test du $\\chi^2$\n",
    "### test du test du $\\chi^2$ sur les fréquence"
   ]
  },
  {
   "cell_type": "code",
   "execution_count": null,
   "id": "violent-greenhouse",
   "metadata": {},
   "outputs": [],
   "source": [
    "chi2 = chisquare([ first_digit_norm[key] for key in sorted(first_digit_norm) ], [ freq_benford[key] for key in sorted(freq_benford) ])\n",
    "print(chi2)\n",
    "print(f\"\\nLa p-value est de  : {chi2[1]}\\n\")"
   ]
  },
  {
   "cell_type": "markdown",
   "id": "closing-airport",
   "metadata": {},
   "source": [
    "Le test du $\\chi^2$ sur les fréquence donne une p-value > 0.05, on ne rejette donc pas l'hypothèse $H_0$. Néanmoins, ce les condition de validité du test ne sont pas validé. En effet le test du $\\chi^2$ ce réalise sur des distribution et non sur des fréquence. Ici, on obtient des valeurs théorique < 5, donc le test ne peut être réalisé. Il faut donc réaliser le test sur la distribution des $1^{er}$ digits.\n",
    "\n",
    "### test du $\\chi^2$ sur les distribution observé et théorique"
   ]
  },
  {
   "cell_type": "code",
   "execution_count": null,
   "id": "veterinary-greensboro",
   "metadata": {},
   "outputs": [],
   "source": [
    "F_obs[0]"
   ]
  },
  {
   "cell_type": "code",
   "execution_count": null,
   "id": "coated-express",
   "metadata": {},
   "outputs": [],
   "source": [
    "ff = [ int(F_theo[i]) for i in range(len(F_theo))]\n",
    "ff"
   ]
  },
  {
   "cell_type": "code",
   "execution_count": null,
   "id": "genetic-yield",
   "metadata": {},
   "outputs": [],
   "source": [
    "chi2 = chisquare([ first_digit_norm[key] for key in sorted(first_digit_norm) ], f_exp = F_theo)\n",
    "print(chi2)\n",
    "print(f\"\\nLa p-value est de  : {chi2[1]}\\n\")"
   ]
  },
  {
   "cell_type": "markdown",
   "id": "baking-virus",
   "metadata": {},
   "source": [
    "# Conclusion\n",
    "Test significatif, ne suit pas la loi de Benford.\n",
    "\n",
    "# Test de Kolmogorov-Smirnof\n",
    "### préparation pour le test KS"
   ]
  },
  {
   "cell_type": "code",
   "execution_count": null,
   "id": "ordinary-wallet",
   "metadata": {},
   "outputs": [],
   "source": [
    "KS_obs = []\n",
    "for i in range(1, 10):\n",
    "    KS_obs += [i]*int(first_digit_norm[i]*100)\n",
    "    \n",
    "KS_theo = []\n",
    "for i in range(1, 10):\n",
    "    KS_theo += [i]*int(freq_benford[i]*100)\n",
    "print(KS_obs)\n",
    "print(KS_theo)"
   ]
  },
  {
   "cell_type": "code",
   "execution_count": null,
   "id": "optional-milwaukee",
   "metadata": {},
   "outputs": [],
   "source": [
    "random.shuffle(KS_obs)\n",
    "random.shuffle(KS_theo)\n",
    "print(KS_obs)\n",
    "print(KS_theo)"
   ]
  },
  {
   "cell_type": "code",
   "execution_count": null,
   "id": "australian-client",
   "metadata": {},
   "outputs": [],
   "source": [
    "ks_2samp(KS_obs, KS_theo)"
   ]
  },
  {
   "cell_type": "markdown",
   "id": "marked-glance",
   "metadata": {},
   "source": [
    "## Test KS sur la distribution"
   ]
  },
  {
   "cell_type": "code",
   "execution_count": null,
   "id": "turned-mileage",
   "metadata": {},
   "outputs": [],
   "source": [
    "KS_obs = []\n",
    "for i in range(1, 10):\n",
    "    KS_obs += [i]*int(first_digit[i])\n",
    "KS_theo = []\n",
    "for i in range(1, 10):\n",
    "    KS_theo += [i]*int(freq_benford[i]*somme)\n",
    "print(len(KS_obs))\n",
    "print(len(KS_theo))"
   ]
  },
  {
   "cell_type": "code",
   "execution_count": null,
   "id": "theoretical-convergence",
   "metadata": {},
   "outputs": [],
   "source": [
    "random.shuffle(KS_obs)\n",
    "random.shuffle(KS_theo)\n",
    "ks_2samp(KS_obs, KS_theo)"
   ]
  },
  {
   "cell_type": "code",
   "execution_count": null,
   "id": "fitted-november",
   "metadata": {},
   "outputs": [],
   "source": []
  }
 ],
 "metadata": {
  "kernelspec": {
   "display_name": "Python 3",
   "language": "python",
   "name": "python3"
  },
  "language_info": {
   "codemirror_mode": {
    "name": "ipython",
    "version": 3
   },
   "file_extension": ".py",
   "mimetype": "text/x-python",
   "name": "python",
   "nbconvert_exporter": "python",
   "pygments_lexer": "ipython3",
   "version": "3.7.9"
  }
 },
 "nbformat": 4,
 "nbformat_minor": 5
}
