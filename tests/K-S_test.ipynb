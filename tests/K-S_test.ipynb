{
 "cells": [
  {
   "cell_type": "markdown",
   "id": "patient-numbers",
   "metadata": {},
   "source": [
    "# Test de Kolmogorov-Smirnov et la loi de Benford\n",
    "\n",
    "notebook pour tester le test de Kolmogorov-Smirnov et l'implémenter au module pybenford\n",
    "\n",
    "## Implémentation du test de K-S"
   ]
  },
  {
   "cell_type": "code",
   "execution_count": 1,
   "id": "stock-kitty",
   "metadata": {},
   "outputs": [],
   "source": [
    "import numpy as np\n",
    "import scipy.stats as st\n",
    "import matplotlib.pyplot as plt"
   ]
  },
  {
   "cell_type": "code",
   "execution_count": 2,
   "id": "ordered-clause",
   "metadata": {},
   "outputs": [],
   "source": [
    "#generate random aray\n",
    "arr_1 = np.random.normal(0, 1.0, size=100)\n",
    "#print(arr_1)\n",
    "\n",
    "#edf\n",
    "arr_1_edf = np.arange(1/len(arr_1), 1+1/len(arr_1), 1/len(arr_1))\n",
    "#print(arr_1_edf)\n",
    "\n",
    "#sort generated array\n",
    "arr_1_sorted = np.sort(arr_1)\n",
    "#print(arr_1_sorted)\n",
    "\n",
    "#get cdf based on norm distribution\n",
    "cdf_null_hyp = [st.norm.cdf(x) for x in arr_1_sorted]\n",
    "#print(cdf_null_hyp)\n",
    "\n",
    "#calculate absolute difference\n",
    "arr_dif_abs = np.abs(cdf_null_hyp-arr_1_edf)\n",
    "#print(arr_dif_abs)\n",
    "\n",
    "#get max difference\n",
    "dn_ks = max(arr_dif_abs)\n",
    "#print(dn_ks)"
   ]
  },
  {
   "cell_type": "code",
   "execution_count": 3,
   "id": "private-chancellor",
   "metadata": {},
   "outputs": [
    {
     "data": {
      "text/plain": [
       "KstestResult(statistic=0.08648968707232824, pvalue=0.41933193144147285)"
      ]
     },
     "execution_count": 3,
     "metadata": {},
     "output_type": "execute_result"
    }
   ],
   "source": [
    "st.kstest(arr_1, 'norm')"
   ]
  },
  {
   "cell_type": "markdown",
   "id": "adequate-contract",
   "metadata": {},
   "source": [
    "### Avec données d'abondance de protéines"
   ]
  },
  {
   "cell_type": "code",
   "execution_count": 4,
   "id": "massive-generic",
   "metadata": {},
   "outputs": [],
   "source": [
    "import pybenford as ben\n",
    "import numpy as np\n",
    "import pandas as pd"
   ]
  },
  {
   "cell_type": "code",
   "execution_count": 5,
   "id": "baking-homework",
   "metadata": {},
   "outputs": [],
   "source": [
    "data = pd.read_csv('data_abundance_analysis/1512006-Calbicans-QUANTI.csv', skiprows=2)"
   ]
  },
  {
   "cell_type": "code",
   "execution_count": 6,
   "id": "color-round",
   "metadata": {},
   "outputs": [],
   "source": [
    "normalized_columns = ['1512006-1', '1512006-7', '1512006-2', '1512006-8',\n",
    "                      '1512006-3', '1512006-9', '1512006-4', '1512006-10',\n",
    "                      '1512006-5_150410082104', '1512006-11',\n",
    "                      '1512006-6_150410115425', '1512006-12']"
   ]
  },
  {
   "cell_type": "code",
   "execution_count": 7,
   "id": "following-genre",
   "metadata": {},
   "outputs": [
    {
     "name": "stdout",
     "output_type": "stream",
     "text": [
      "(2566, 12)\n",
      "(30792,)\n",
      "(26936,)\n"
     ]
    }
   ],
   "source": [
    "norm_abundance = data[normalized_columns]\n",
    "print(norm_abundance.shape)\n",
    "# données dans un array d'une dimmenssion\n",
    "norm_abundance = norm_abundance.values.reshape(norm_abundance.shape[0] * norm_abundance.shape[1])\n",
    "print(norm_abundance.shape)\n",
    "# remove 0\n",
    "norm_abundance = norm_abundance[norm_abundance > 0]\n",
    "print(norm_abundance.shape)"
   ]
  },
  {
   "cell_type": "code",
   "execution_count": 8,
   "id": "pleasant-float",
   "metadata": {},
   "outputs": [
    {
     "name": "stdout",
     "output_type": "stream",
     "text": [
      "[8073 4633 3258 2583 2201 1861 1534 1504 1274]\n"
     ]
    }
   ],
   "source": [
    "first_digit = ben.count_first_digit(norm_abundance)\n",
    "print(first_digit)"
   ]
  },
  {
   "cell_type": "code",
   "execution_count": 9,
   "id": "outside-difference",
   "metadata": {},
   "outputs": [
    {
     "name": "stdout",
     "output_type": "stream",
     "text": [
      "[0.29987742 0.17209613 0.12102076 0.0959474  0.08175774 0.06912819\n",
      " 0.05698154 0.05586717 0.04732365]\n"
     ]
    }
   ],
   "source": [
    "freq_obs = ben.normalize_first_digit(first_digit)\n",
    "print(freq_obs)"
   ]
  },
  {
   "cell_type": "code",
   "execution_count": 10,
   "id": "vocal-group",
   "metadata": {},
   "outputs": [],
   "source": [
    "def cdf(freq_obs):\n",
    "    freq_obs_cumul = np.zeros(len(freq_obs), dtype=float)\n",
    "    cumul = 0\n",
    "    for i in range(len(freq_obs)):\n",
    "        cumul += freq_obs[i]\n",
    "        freq_obs_cumul[i] = cumul\n",
    "    return freq_obs_cumul"
   ]
  },
  {
   "cell_type": "code",
   "execution_count": 11,
   "id": "parliamentary-designation",
   "metadata": {},
   "outputs": [
    {
     "data": {
      "image/png": "[encoded data removed]",
      "text/plain": [
       "<Figure size 432x288 with 1 Axes>"
      ]
     },
     "metadata": {
      "needs_background": "light"
     },
     "output_type": "display_data"
    }
   ],
   "source": [
    "ben.build_hist_freq_ben(cdf(freq_obs), cdf(ben.get_theoretical_freq_benford()), 1);"
   ]
  },
  {
   "cell_type": "code",
   "execution_count": 12,
   "id": "gothic-broadway",
   "metadata": {},
   "outputs": [
    {
     "data": {
      "image/png": "[encoded data removed]",
      "text/plain": [
       "<Figure size 432x288 with 1 Axes>"
      ]
     },
     "metadata": {
      "needs_background": "light"
     },
     "output_type": "display_data"
    }
   ],
   "source": [
    "ben.build_hist_freq_ben(freq_obs, ben.get_theoretical_freq_benford(), 1);"
   ]
  },
  {
   "cell_type": "code",
   "execution_count": 13,
   "id": "floral-career",
   "metadata": {},
   "outputs": [
    {
     "name": "stdout",
     "output_type": "stream",
     "text": [
      "[1.15257655e-03 5.14770247e-03 9.06567462e-03 1.00282860e-02\n",
      " 7.45179643e-03 5.27039617e-03 6.28080457e-03 1.56616012e-03\n",
      " 1.11022302e-16]\n"
     ]
    }
   ],
   "source": [
    "# calculate absolute difference\n",
    "arr_diff_abs = np.abs(cdf(ben.get_theoretical_freq_benford()) - cdf(freq_obs))\n",
    "print(arr_diff_abs)"
   ]
  },
  {
   "cell_type": "code",
   "execution_count": 14,
   "id": "medium-fetish",
   "metadata": {},
   "outputs": [
    {
     "name": "stdout",
     "output_type": "stream",
     "text": [
      "0.01002828597488803\n"
     ]
    }
   ],
   "source": [
    "# get max difference\n",
    "max_diff = max(arr_diff_abs)\n",
    "print(max_diff)"
   ]
  },
  {
   "cell_type": "code",
   "execution_count": 15,
   "id": "correct-voluntary",
   "metadata": {},
   "outputs": [
    {
     "name": "stdout",
     "output_type": "stream",
     "text": [
      "0.008288831561233218\n"
     ]
    }
   ],
   "source": [
    "# calculate critical value\n",
    "ks_crit = 1.36/(np.sqrt(sum(first_digit)))\n",
    "print(ks_crit)"
   ]
  },
  {
   "cell_type": "code",
   "execution_count": 16,
   "id": "cloudy-compromise",
   "metadata": {},
   "outputs": [
    {
     "name": "stdout",
     "output_type": "stream",
     "text": [
      "Rejet de H0, l'enssemble de nombre ne suit pas la loi de Benford  pour un risque alpha de 0.05\n"
     ]
    }
   ],
   "source": [
    "if max_diff < ks_crit:\n",
    "    print(f\"Non rejet de H0, l'enssemble de nombre suit la loi de Benford\",\n",
    "          f\" pour un risque alpha de 0.05\")\n",
    "else:\n",
    "    print(f\"Rejet de H0, l'enssemble de nombre ne suit pas la loi de Benford\",\n",
    "          f\" pour un risque alpha de 0.05\")"
   ]
  },
  {
   "cell_type": "code",
   "execution_count": 17,
   "id": "mineral-austria",
   "metadata": {},
   "outputs": [
    {
     "name": "stdout",
     "output_type": "stream",
     "text": [
      "Not conform to Benford law, for alpha risk = 5%\n",
      "\n"
     ]
    },
    {
     "data": {
      "text/plain": [
       "(0.01002828597488803, 0.008288831561233218)"
      ]
     },
     "execution_count": 17,
     "metadata": {},
     "output_type": "execute_result"
    }
   ],
   "source": [
    "# Function K-S test of pybenford module\n",
    "ben.ks_test(freq_obs, ben.get_theoretical_freq_benford(), sum(first_digit))"
   ]
  },
  {
   "cell_type": "code",
   "execution_count": 18,
   "id": "sporting-rebate",
   "metadata": {},
   "outputs": [
    {
     "name": "stdout",
     "output_type": "stream",
     "text": [
      "Comform to Benford law, for alpha risk = 5%\n",
      "\n",
      "CPU times: user 2.65 s, sys: 0 ns, total: 2.65 s\n",
      "Wall time: 2.65 s\n"
     ]
    },
    {
     "data": {
      "text/plain": [
       "(0.021916777910165604, 0.04300697617828996)"
      ]
     },
     "execution_count": 18,
     "metadata": {},
     "output_type": "execute_result"
    }
   ],
   "source": [
    "%%time\n",
    "# Bootstrap for K-S test\n",
    "ben.calculate_bootstrap_ks(norm_abundance, ben.get_theoretical_freq_benford(), 1)"
   ]
  },
  {
   "cell_type": "markdown",
   "id": "ongoing-transaction",
   "metadata": {},
   "source": [
    "### utilisation de KS_2samp de scipy.stats"
   ]
  },
  {
   "cell_type": "code",
   "execution_count": 19,
   "id": "appropriate-purse",
   "metadata": {},
   "outputs": [
    {
     "data": {
      "text/plain": [
       "KstestResult(statistic=1.0, pvalue=4.11353352529823e-05)"
      ]
     },
     "execution_count": 19,
     "metadata": {},
     "output_type": "execute_result"
    }
   ],
   "source": [
    "st.kstest(first_digit, (ben.get_theoretical_freq_benford()))"
   ]
  },
  {
   "cell_type": "code",
   "execution_count": 20,
   "id": "generic-webster",
   "metadata": {},
   "outputs": [
    {
     "data": {
      "text/plain": [
       "KstestResult(statistic=0.1111111111111111, pvalue=1.0)"
      ]
     },
     "execution_count": 20,
     "metadata": {},
     "output_type": "execute_result"
    }
   ],
   "source": [
    "st.ks_2samp(first_digit, (ben.get_theoretical_freq_benford()*sum(first_digit)))"
   ]
  },
  {
   "cell_type": "code",
   "execution_count": 21,
   "id": "adequate-judge",
   "metadata": {},
   "outputs": [],
   "source": [
    "def get_list_first_digit(array_first_digit):\n",
    "    list_nb = []\n",
    "    for i in range(len(first_digit)):\n",
    "        for j in range(first_digit[i]):\n",
    "            list_nb.append(i+1)\n",
    "    print(len(list_nb)); print(sum(first_digit))\n",
    "    return list_nb"
   ]
  },
  {
   "cell_type": "code",
   "execution_count": 22,
   "id": "blond-statement",
   "metadata": {},
   "outputs": [
    {
     "name": "stdout",
     "output_type": "stream",
     "text": [
      "26921\n",
      "26921\n",
      "26921\n",
      "26921\n"
     ]
    }
   ],
   "source": [
    "list_first_digit = get_list_first_digit(first_digit)\n",
    "list_fist_digit_theo = get_list_first_digit(ben.normalize_first_digit(\n",
    "    ben.get_theoretical_freq_benford()))"
   ]
  },
  {
   "cell_type": "code",
   "execution_count": 23,
   "id": "distributed-library",
   "metadata": {},
   "outputs": [
    {
     "data": {
      "text/plain": [
       "KstestResult(statistic=0.0, pvalue=1.0)"
      ]
     },
     "execution_count": 23,
     "metadata": {},
     "output_type": "execute_result"
    }
   ],
   "source": [
    "st.ks_2samp(list_first_digit, list_fist_digit_theo)"
   ]
  },
  {
   "cell_type": "markdown",
   "id": "geographic-pathology",
   "metadata": {},
   "source": [
    "## Protéines total de SwissProt"
   ]
  },
  {
   "cell_type": "code",
   "execution_count": 24,
   "id": "blessed-emission",
   "metadata": {},
   "outputs": [],
   "source": [
    "data2 = pd.read_csv(\"tests/Prot_tot_uniprot/uniprot-reviewed yes.tab\", sep = \"\\t\" , index_col = 0)"
   ]
  },
  {
   "cell_type": "code",
   "execution_count": 25,
   "id": "ordered-extraction",
   "metadata": {},
   "outputs": [
    {
     "name": "stdout",
     "output_type": "stream",
     "text": [
      "[138907 115221 102958  71941  42418  30877  22501  21311  18504]\n",
      "[0.24601072 0.20406172 0.18234338 0.12741084 0.07512424 0.05468459\n",
      " 0.03985031 0.03774277 0.03277144]\n"
     ]
    }
   ],
   "source": [
    "d_obs = ben.count_first_digit(data2[\"Entry Length\"])\n",
    "print(d_obs)\n",
    "freq_obs = ben.normalize_first_digit(d_obs)\n",
    "print(freq_obs)"
   ]
  },
  {
   "cell_type": "code",
   "execution_count": 26,
   "id": "appreciated-scheme",
   "metadata": {},
   "outputs": [
    {
     "data": {
      "image/png": "[encoded data removed]",
      "text/plain": [
       "<Figure size 432x288 with 1 Axes>"
      ]
     },
     "metadata": {
      "needs_background": "light"
     },
     "output_type": "display_data"
    }
   ],
   "source": [
    "ben.build_hist_freq_ben(cdf(freq_obs), cdf(ben.get_theoretical_freq_benford()), 1);"
   ]
  },
  {
   "cell_type": "code",
   "execution_count": 27,
   "id": "affecting-moral",
   "metadata": {},
   "outputs": [
    {
     "name": "stdout",
     "output_type": "stream",
     "text": [
      "[5.50192773e-02 2.70488189e-02 3.03558220e-02 6.08566457e-02\n",
      " 5.67996385e-02 4.45374433e-02 2.63958074e-02 1.29860512e-02\n",
      " 1.11022302e-16]\n"
     ]
    }
   ],
   "source": [
    "# calculate absolute difference\n",
    "arr_diff_abs = np.abs(cdf(ben.get_theoretical_freq_benford()) - cdf(freq_obs))\n",
    "print(arr_diff_abs)"
   ]
  },
  {
   "cell_type": "code",
   "execution_count": 28,
   "id": "polished-essence",
   "metadata": {},
   "outputs": [
    {
     "name": "stdout",
     "output_type": "stream",
     "text": [
      "0.06085664565919946\n"
     ]
    }
   ],
   "source": [
    "# get max difference\n",
    "max_diff = max(arr_diff_abs)\n",
    "print(max_diff)"
   ]
  },
  {
   "cell_type": "code",
   "execution_count": 29,
   "id": "seeing-lawsuit",
   "metadata": {},
   "outputs": [
    {
     "name": "stdout",
     "output_type": "stream",
     "text": [
      "0.0018098969868555624\n"
     ]
    }
   ],
   "source": [
    "# calculate critical value\n",
    "ks_crit = 1.36/(np.sqrt(sum(d_obs)))\n",
    "print(ks_crit)"
   ]
  },
  {
   "cell_type": "code",
   "execution_count": 30,
   "id": "concerned-opinion",
   "metadata": {},
   "outputs": [
    {
     "name": "stdout",
     "output_type": "stream",
     "text": [
      "Rejet de H0, l'enssemble de nombre ne suit pas la loi de Benford  pour un risque alpha de 0.05\n"
     ]
    }
   ],
   "source": [
    "if max_diff < ks_crit:\n",
    "    print(f\"Non rejet de H0, l'enssemble de nombre suit la loi de Benford\",\n",
    "          f\" pour un risque alpha de 0.05\")\n",
    "else:\n",
    "    print(f\"Rejet de H0, l'enssemble de nombre ne suit pas la loi de Benford\",\n",
    "          f\" pour un risque alpha de 0.05\")"
   ]
  },
  {
   "cell_type": "code",
   "execution_count": 31,
   "id": "purple-enemy",
   "metadata": {},
   "outputs": [
    {
     "name": "stdout",
     "output_type": "stream",
     "text": [
      "Not conform to Benford law, for alpha risk = 5%\n",
      "\n"
     ]
    },
    {
     "data": {
      "text/plain": [
       "(0.06085664565919946, 0.0018098969868555624)"
      ]
     },
     "execution_count": 31,
     "metadata": {},
     "output_type": "execute_result"
    }
   ],
   "source": [
    "# Function K-S test of pybenford module\n",
    "ben.ks_test(freq_obs, ben.get_theoretical_freq_benford(), sum(d_obs))"
   ]
  },
  {
   "cell_type": "code",
   "execution_count": 32,
   "id": "threatened-perfume",
   "metadata": {},
   "outputs": [
    {
     "name": "stdout",
     "output_type": "stream",
     "text": [
      "Not conform to Benford law, for alpha risk = 5%\n",
      "\n",
      "CPU times: user 11.1 s, sys: 3.56 ms, total: 11.1 s\n",
      "Wall time: 11.1 s\n"
     ]
    },
    {
     "data": {
      "text/plain": [
       "(0.06775674537728456, 0.04300697617828996)"
      ]
     },
     "execution_count": 32,
     "metadata": {},
     "output_type": "execute_result"
    }
   ],
   "source": [
    "%%time\n",
    "# Bootstrap for K-S test\n",
    "ben.calculate_bootstrap_ks(data2[\"Entry Length\"], ben.get_theoretical_freq_benford(), 1)"
   ]
  },
  {
   "cell_type": "code",
   "execution_count": 33,
   "id": "banner-relative",
   "metadata": {},
   "outputs": [
    {
     "data": {
      "text/plain": [
       "KstestResult(statistic=0.3333333333333333, pvalue=0.7301110654051831)"
      ]
     },
     "execution_count": 33,
     "metadata": {},
     "output_type": "execute_result"
    }
   ],
   "source": [
    "st.kstest(d_obs, (ben.get_theoretical_freq_benford()*sum(d_obs)))"
   ]
  },
  {
   "cell_type": "code",
   "execution_count": 34,
   "id": "present-longer",
   "metadata": {},
   "outputs": [
    {
     "data": {
      "text/plain": [
       "KstestResult(statistic=0.3333333333333333, pvalue=0.7301110654051831)"
      ]
     },
     "execution_count": 34,
     "metadata": {},
     "output_type": "execute_result"
    }
   ],
   "source": [
    "st.ks_2samp(d_obs, (ben.get_theoretical_freq_benford()*sum(d_obs)))"
   ]
  },
  {
   "cell_type": "code",
   "execution_count": null,
   "id": "exact-interest",
   "metadata": {},
   "outputs": [],
   "source": []
  },
  {
   "cell_type": "code",
   "execution_count": 35,
   "id": "regulated-airline",
   "metadata": {},
   "outputs": [
    {
     "name": "stdout",
     "output_type": "stream",
     "text": [
      "26921\n",
      "26921\n",
      "26921\n",
      "26921\n"
     ]
    }
   ],
   "source": [
    "list_first_digit = get_list_first_digit(d_obs)\n",
    "list_fist_digit_theo = get_list_first_digit(ben.normalize_first_digit(\n",
    "    ben.get_theoretical_freq_benford()))"
   ]
  },
  {
   "cell_type": "code",
   "execution_count": 36,
   "id": "atlantic-outline",
   "metadata": {},
   "outputs": [
    {
     "data": {
      "text/plain": [
       "KstestResult(statistic=0.0, pvalue=1.0)"
      ]
     },
     "execution_count": 36,
     "metadata": {},
     "output_type": "execute_result"
    }
   ],
   "source": [
    "st.ks_2samp(list_first_digit, list_fist_digit_theo)"
   ]
  }
 ],
 "metadata": {
  "kernelspec": {
   "display_name": "Python 3",
   "language": "python",
   "name": "python3"
  },
  "language_info": {
   "codemirror_mode": {
    "name": "ipython",
    "version": 3
   },
   "file_extension": ".py",
   "mimetype": "text/x-python",
   "name": "python",
   "nbconvert_exporter": "python",
   "pygments_lexer": "ipython3",
   "version": "3.7.9"
  }
 },
 "nbformat": 4,
 "nbformat_minor": 5
}
