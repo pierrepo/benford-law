{
 "cells": [
  {
   "cell_type": "markdown",
   "id": "protected-field",
   "metadata": {},
   "source": [
    "# Test d'implémentation du G-test \n",
    "\n",
    "La formule du g-test est : $G = 2\\sum O_i \\times (\\frac{O_i}{E_i})$  \n",
    "\n",
    "avec, $O_i$ les effectifs observés et $E_i$ les effectiffs théoriques."
   ]
  },
  {
   "cell_type": "code",
   "execution_count": 247,
   "id": "laden-beatles",
   "metadata": {},
   "outputs": [],
   "source": [
    "import numpy as np\n",
    "import pandas as pd\n",
    "import math\n",
    "from scipy.stats import chisquare, distributions, power_divergence, chi2_contingency\n",
    "import matplotlib.pyplot as plt"
   ]
  },
  {
   "cell_type": "markdown",
   "id": "registered-smile",
   "metadata": {},
   "source": [
    "# Fonction pour réaliser le G-test\n",
    "\n",
    "Cette fonction provient de cette page GitHub https://gist.github.com/brentp/570896  \n",
    "Néanmoins un des fonction, chisqprob, est aujourd'hui obsolète et il est suggéré de la remplacer par la fonction stats.distributions.chi2.sf"
   ]
  },
  {
   "cell_type": "code",
   "execution_count": 36,
   "id": "medieval-message",
   "metadata": {},
   "outputs": [],
   "source": [
    "def gtest(f_obs, f_exp=None, ddof=0):\n",
    "    \"\"\"\n",
    "    http://en.wikipedia.org/wiki/G-test\n",
    "    The G test can test for goodness of fit to a distribution\n",
    "    Parameters\n",
    "    ----------\n",
    "    f_obs : array\n",
    "        observed frequencies in each category\n",
    "    f_exp : array, optional\n",
    "        expected frequencies in each category.  By default the categories are\n",
    "        assumed to be equally likely.\n",
    "    ddof : int, optional\n",
    "        adjustment to the degrees of freedom for the p-value\n",
    "    Returns\n",
    "    -------\n",
    "    chisquare statistic : float\n",
    "        The chisquare test statistic\n",
    "    p : float\n",
    "        The p-value of the test.\n",
    "    Notes\n",
    "    -----\n",
    "    The p-value indicates the probability that the observed distribution is\n",
    "    drawn from a distribution given frequencies in expected.\n",
    "    So a low p-value inidcates the distributions are different.\n",
    "    Examples\n",
    "    --------\n",
    "    >>> gtest([9.0, 8.1, 2, 1, 0.1, 20.0], [10, 5.01, 6, 4, 2, 1])\n",
    "    (117.94955444335938, 8.5298516190930345e-24)\n",
    "    >>> gtest([1.01, 1.01, 4.01], [1.00, 1.00, 4.00])\n",
    "    (0.060224734246730804, 0.97033649350189344)\n",
    "    >>> gtest([2, 1, 6], [4, 3, 2])\n",
    "    (8.2135343551635742, 0.016460903780063787)\n",
    "    References\n",
    "    ----------\n",
    "    http://en.wikipedia.org/wiki/G-test\n",
    "    \"\"\"\n",
    "    f_obs = np.asarray(f_obs, 'f')\n",
    "    k = f_obs.shape[0]\n",
    "    f_exp = np.array([np.sum(f_obs, axis=0) / float(k)] * k, 'f') \\\n",
    "                if f_exp is None \\\n",
    "                else np.asarray(f_exp, 'f')\n",
    "    g = 2 * np.add.reduce(f_obs * np.log(f_obs / f_exp))\n",
    "    return g, distributions.chi2.sf(g, k - 1 - ddof)"
   ]
  },
  {
   "cell_type": "markdown",
   "id": "progressive-operator",
   "metadata": {},
   "source": [
    "### Tests de la foncton gtest"
   ]
  },
  {
   "cell_type": "code",
   "execution_count": 37,
   "id": "african-yugoslavia",
   "metadata": {},
   "outputs": [
    {
     "name": "stdout",
     "output_type": "stream",
     "text": [
      "(117.94955444335938, 8.529851619093035e-24)\n",
      "(0.060224734246730804, 0.9703364935018934)\n",
      "(8.213534355163574, 0.016460903780063787)\n"
     ]
    }
   ],
   "source": [
    "print( gtest([9.0, 8.1, 2, 1, 0.1, 20.0], [10, 5.01, 6, 4, 2, 1]) )\n",
    "print( gtest([1.01, 1.01, 4.01], [1.00, 1.00, 4.00]) )\n",
    "print(  gtest([2, 1, 6], [4, 3, 2]) )"
   ]
  },
  {
   "cell_type": "code",
   "execution_count": 228,
   "id": "original-ribbon",
   "metadata": {},
   "outputs": [
    {
     "data": {
      "text/plain": [
       "Power_divergenceResult(statistic=117.94955330331798, pvalue=8.529856359697176e-24)"
      ]
     },
     "execution_count": 228,
     "metadata": {},
     "output_type": "execute_result"
    }
   ],
   "source": [
    "power_divergence([9.0, 8.1, 2, 1, 0.1, 20.0], [10, 5.01, 6, 4, 2, 1], lambda_=0)"
   ]
  },
  {
   "cell_type": "markdown",
   "id": "reasonable-violation",
   "metadata": {},
   "source": [
    "### tests avec $\\chi^2$"
   ]
  },
  {
   "cell_type": "code",
   "execution_count": 30,
   "id": "collaborative-opera",
   "metadata": {},
   "outputs": [
    {
     "name": "stdout",
     "output_type": "stream",
     "text": [
      "Power_divergenceResult(statistic=369.7274750499002, pvalue=9.882330959295634e-78)\n",
      "Power_divergenceResult(statistic=0.0002249999999999993, pvalue=0.9998875063278877)\n",
      "Power_divergenceResult(statistic=10.333333333333332, pvalue=0.0057035489980074025)\n"
     ]
    }
   ],
   "source": [
    "print( chisquare([9.0, 8.1, 2, 1, 0.1, 20.0], [10, 5.01, 6, 4, 2, 1]) )\n",
    "print( chisquare([1.01, 1.01, 4.01], [1.00, 1.00, 4.00]) )\n",
    "print(  chisquare([2, 1, 6], [4, 3, 2]) )"
   ]
  },
  {
   "cell_type": "markdown",
   "id": "graduate-inspiration",
   "metadata": {},
   "source": [
    "## réécriture de la fonction gtest"
   ]
  },
  {
   "cell_type": "code",
   "execution_count": 183,
   "id": "handy-filling",
   "metadata": {},
   "outputs": [],
   "source": [
    "def my_gtest(f_obs, f_theo):\n",
    "    f_obs = np.asarray(f_obs, 'f')\n",
    "    k = f_obs.shape[0]\n",
    "    #print(k)\n",
    "    f__theo = np.asarray(f_theo, 'f')\n",
    "    g = 0\n",
    "    for i in range(len(f_obs)):\n",
    "        g += f_obs[i] * math.log(f_obs[i]/f_theo[i])\n",
    "    g *= 2\n",
    "    return g, distributions.chi2.sf(g, k - 1)"
   ]
  },
  {
   "cell_type": "code",
   "execution_count": 207,
   "id": "surprised-morocco",
   "metadata": {},
   "outputs": [
    {
     "name": "stdout",
     "output_type": "stream",
     "text": [
      "[301.02999566 176.09125906 124.93873661  96.91001301  79.18124605\n",
      "  66.94678963  57.99194698  51.15252245  45.75749056]\n",
      "[300.02999566 176.09125906 124.93873661  96.91001301  79.18124605\n",
      "  66.94678963  56.99194698  50.15252245  45.75749056]\n",
      "[1. 0. 0. 0. 0. 0. 1. 1. 0.]\n",
      "1000.0\n"
     ]
    }
   ],
   "source": [
    "t = np.array(freq_benford)*1_000\n",
    "t2 = np.array(t)\n",
    "t2 -= np.random.randint(0, 2, size=9)\n",
    "print(t)\n",
    "print(t2)\n",
    "print(t-t2)\n",
    "print(sum(t))"
   ]
  },
  {
   "cell_type": "code",
   "execution_count": 208,
   "id": "dynamic-desperate",
   "metadata": {},
   "outputs": [
    {
     "data": {
      "text/plain": [
       "(6.040561676025391, 0.6426882366493889)"
      ]
     },
     "execution_count": 208,
     "metadata": {},
     "output_type": "execute_result"
    }
   ],
   "source": [
    "gtest(t, t2)"
   ]
  },
  {
   "cell_type": "code",
   "execution_count": 209,
   "id": "rapid-plane",
   "metadata": {},
   "outputs": [
    {
     "data": {
      "text/plain": [
       "(6.040597176563643, 0.6426842601186311)"
      ]
     },
     "execution_count": 209,
     "metadata": {},
     "output_type": "execute_result"
    }
   ],
   "source": [
    "my_gtest(t, t2)"
   ]
  },
  {
   "cell_type": "code",
   "execution_count": 210,
   "id": "pending-airfare",
   "metadata": {},
   "outputs": [
    {
     "data": {
      "text/plain": [
       "Power_divergenceResult(statistic=0.040818515256369106, pvalue=0.9999999928877158)"
      ]
     },
     "execution_count": 210,
     "metadata": {},
     "output_type": "execute_result"
    }
   ],
   "source": [
    "chisquare(t, t2)"
   ]
  },
  {
   "cell_type": "code",
   "execution_count": 231,
   "id": "mysterious-hypothetical",
   "metadata": {},
   "outputs": [
    {
     "data": {
      "text/plain": [
       "Power_divergenceResult(statistic=6.040581866779279, pvalue=0.6426859750173157)"
      ]
     },
     "execution_count": 231,
     "metadata": {},
     "output_type": "execute_result"
    }
   ],
   "source": [
    "power_divergence(t, t2, lambda_=0)"
   ]
  },
  {
   "cell_type": "markdown",
   "id": "undefined-advance",
   "metadata": {},
   "source": [
    "# Test du G-test sur les données expérimental d'abondance de données de protéines\n",
    "## importation des données"
   ]
  },
  {
   "cell_type": "code",
   "execution_count": 18,
   "id": "linear-raleigh",
   "metadata": {},
   "outputs": [],
   "source": [
    "data = pd.read_csv(\"Data_exp/1512006-Calbicans-QUANTI_raw_abundance.csv\", sep=\",\", header=None)"
   ]
  },
  {
   "cell_type": "markdown",
   "id": "rural-fortune",
   "metadata": {},
   "source": [
    "## loi de Benford\n",
    "fréquence de la loi de benford"
   ]
  },
  {
   "cell_type": "code",
   "execution_count": 21,
   "id": "golden-plenty",
   "metadata": {},
   "outputs": [
    {
     "name": "stdout",
     "output_type": "stream",
     "text": [
      "[0.30103    0.17609126 0.12493874 0.09691001 0.07918125 0.06694679\n",
      " 0.05799195 0.05115252 0.04575749]\n"
     ]
    },
    {
     "data": {
      "text/plain": [
       "0.9999999999999999"
      ]
     },
     "execution_count": 21,
     "metadata": {},
     "output_type": "execute_result"
    }
   ],
   "source": [
    "freq_benford = np.zeros(9, dtype=float)\n",
    "for i in range(9):\n",
    "    freq_benford[i] = (math.log((1+(1/(i+1))), 10))\n",
    "print(freq_benford)\n",
    "sum(freq_benford)"
   ]
  },
  {
   "cell_type": "markdown",
   "id": "fabulous-professor",
   "metadata": {},
   "source": [
    "## First digit"
   ]
  },
  {
   "cell_type": "code",
   "execution_count": 246,
   "id": "fundamental-costs",
   "metadata": {},
   "outputs": [
    {
     "name": "stdout",
     "output_type": "stream",
     "text": [
      "[7942 4691 3273 2642 2176 1885 1638 1390 1282]\n",
      "26919\n"
     ]
    }
   ],
   "source": [
    "first_digit = np.zeros(9, dtype=int)\n",
    "for a in range(0, data.shape[1]):\n",
    "    for x in data[a]:\n",
    "        first = int(str(x)[0])\n",
    "        if first == 0:\n",
    "            continue\n",
    "        first_digit[first-1] += 1\n",
    "print(first_digit)\n",
    "print(sum(first_digit))"
   ]
  },
  {
   "cell_type": "markdown",
   "id": "latin-canadian",
   "metadata": {},
   "source": [
    "## Normalisation"
   ]
  },
  {
   "cell_type": "code",
   "execution_count": 23,
   "id": "generic-inspector",
   "metadata": {},
   "outputs": [
    {
     "name": "stdout",
     "output_type": "stream",
     "text": [
      "[0.29503325 0.17426353 0.12158698 0.09814629 0.0808351  0.07002489\n",
      " 0.06084921 0.05163639 0.04762435]\n",
      "1.0\n",
      "[7942 4691 3273 2642 2176 1885 1638 1390 1282]\n"
     ]
    }
   ],
   "source": [
    "first_digit_norm = np.array(first_digit /  sum(first_digit))\n",
    "print(first_digit_norm)\n",
    "print(sum(first_digit_norm))\n",
    "print(first_digit)"
   ]
  },
  {
   "cell_type": "markdown",
   "id": "auburn-logic",
   "metadata": {},
   "source": [
    "## Barplot de la fréquence des first digit de l'abondance des protéines et de la loi de Benford"
   ]
  },
  {
   "cell_type": "code",
   "execution_count": 24,
   "id": "bronze-terror",
   "metadata": {},
   "outputs": [
    {
     "data": {
      "image/png": "[encoded data removed]",
      "text/plain": [
       "<Figure size 432x288 with 1 Axes>"
      ]
     },
     "metadata": {
      "needs_background": "light"
     },
     "output_type": "display_data"
    }
   ],
   "source": [
    "plt.plot(range(1,10), freq_benford, marker=\"o\", color=\"red\")\n",
    "plt.bar(range(1,10), first_digit_norm)\n",
    "plt.xticks(ticks=range(0,10))\n",
    "plt.title(label=f\"Theoretical Benford law and First digit distribution \\n of the {sum(first_digit)} protein  abundances\")\n",
    "plt.xlabel(\"First digit\")\n",
    "plt.ylabel(\"Proportion\")\n",
    "plt.legend(labels = (\"Benford\", \"protein Abundances\"));"
   ]
  },
  {
   "cell_type": "markdown",
   "id": "promising-rouge",
   "metadata": {},
   "source": [
    "## G-test\n",
    "### détermination des effectifs observés (Oi) et calcul des effestifs théoriques (Ei) :"
   ]
  },
  {
   "cell_type": "code",
   "execution_count": 266,
   "id": "spatial-baking",
   "metadata": {},
   "outputs": [
    {
     "name": "stdout",
     "output_type": "stream",
     "text": [
      "[7942 4691 3273 2642 2176 1885 1638 1390 1282]\n",
      "[8103.42645328 4740.20060252 3363.22585076 2608.72064016 2131.47996236\n",
      " 1802.14063007 1561.08522069 1376.97475176 1231.7458884 ]\n",
      "[161.42645328  49.20060252  90.22585076 -33.27935984 -44.52003764\n",
      " -82.85936993 -76.91477931 -13.02524824 -50.2541116 ]\n"
     ]
    }
   ],
   "source": [
    "Oi = np.array(first_digit)\n",
    "Ei = np.array(freq_benford) * sum(first_digit)\n",
    "print(Oi)\n",
    "print(Ei)\n",
    "dif = Ei - Oi\n",
    "print(dif)"
   ]
  },
  {
   "cell_type": "markdown",
   "id": "finnish-contest",
   "metadata": {},
   "source": [
    "### Hypothèse :\n",
    "- $H_0$ : Les effectifs observés sont égale pour chaque classes aux effectifs théoriques (Les données suivent la loi de Benford)  \n",
    "- $H_1$ : Les effectifs observés ne sont pas sont égale pour chaque classes aux effectifs théoriques (Les données ne suivent pas la loi de Benford  \n",
    "\n",
    "### condition de validité :\n",
    "Les effectifs observés doivent être non nul pour chacunes des classes  \n",
    "\n",
    "### Régle de décision du  test :  \n",
    "- si la p-value < à $\\alpha = 5\\%$, alors le test est significatif et on rejette l'hypothèse H0 (ne suit pas la loi de Benford).    \n",
    "- si la p-value > à $\\alpha = 5\\%$, alors le test est non significatif et on ne rejette pas l'hypothèse H0 (suit la loi de Benford).  \n",
    "    \n",
    "## test"
   ]
  },
  {
   "cell_type": "code",
   "execution_count": 267,
   "id": "amended-worst",
   "metadata": {},
   "outputs": [
    {
     "name": "stdout",
     "output_type": "stream",
     "text": [
      "statistic = 17.165863037109375\n",
      "p-value = 0.02842756216544633\n"
     ]
    }
   ],
   "source": [
    "results = gtest(Oi, Ei)\n",
    "print(f\"statistic = {results[0]}\\np-value = {results[1]}\")"
   ]
  },
  {
   "cell_type": "code",
   "execution_count": 268,
   "id": "retained-orbit",
   "metadata": {},
   "outputs": [
    {
     "name": "stdout",
     "output_type": "stream",
     "text": [
      "statistic = 17.165747326777662\n",
      "p-value = 0.028428703955379386\n"
     ]
    }
   ],
   "source": [
    "results2 = my_gtest(Oi, Ei)\n",
    "print(f\"statistic = {results2[0]}\\np-value = {results2[1]}\")"
   ]
  },
  {
   "cell_type": "markdown",
   "id": "realistic-router",
   "metadata": {},
   "source": [
    "### méthode avec la fonction power_divergence de SciPy"
   ]
  },
  {
   "cell_type": "code",
   "execution_count": 270,
   "id": "respective-identity",
   "metadata": {},
   "outputs": [
    {
     "data": {
      "text/plain": [
       "Power_divergenceResult(statistic=17.16574732677782, pvalue=0.02842870395537781)"
      ]
     },
     "execution_count": 270,
     "metadata": {},
     "output_type": "execute_result"
    }
   ],
   "source": [
    "power_divergence(Oi, Ei, lambda_=0)"
   ]
  },
  {
   "cell_type": "markdown",
   "id": "accepted-appearance",
   "metadata": {},
   "source": [
    "## Chisquare test"
   ]
  },
  {
   "cell_type": "code",
   "execution_count": 272,
   "id": "freelance-munich",
   "metadata": {},
   "outputs": [
    {
     "name": "stdout",
     "output_type": "stream",
     "text": [
      "statistic = 17.274209428053247\n",
      "p-value = 0.027377095106173994\n"
     ]
    }
   ],
   "source": [
    "chi2 = chisquare(Oi, Ei)\n",
    "print(f\"statistic = {chi2[0]}\\np-value = {chi2[1]}\")"
   ]
  },
  {
   "cell_type": "code",
   "execution_count": 271,
   "id": "outstanding-virus",
   "metadata": {},
   "outputs": [
    {
     "data": {
      "text/plain": [
       "Power_divergenceResult(statistic=17.274209428053247, pvalue=0.027377095106173994)"
      ]
     },
     "execution_count": 271,
     "metadata": {},
     "output_type": "execute_result"
    }
   ],
   "source": [
    "power_divergence(Oi, Ei, lambda_=1)"
   ]
  },
  {
   "cell_type": "markdown",
   "id": "appreciated-ending",
   "metadata": {},
   "source": [
    "## Test exact de fisher"
   ]
  },
  {
   "cell_type": "code",
   "execution_count": 279,
   "id": "painted-integration",
   "metadata": {},
   "outputs": [
    {
     "name": "stdout",
     "output_type": "stream",
     "text": [
      "[[[7942.         4691.         3273.         2642.         2176.\n",
      "   1885.         1638.         1390.         1282.        ]]\n",
      "\n",
      " [[8103.42645328 4740.20060252 3363.22585076 2608.72064016 2131.47996236\n",
      "   1802.14063007 1561.08522069 1376.97475176 1231.7458884 ]]]\n"
     ]
    }
   ],
   "source": [
    "fish = np.array([[Oi], [Ei]])\n",
    "print(fish)"
   ]
  },
  {
   "cell_type": "code",
   "execution_count": 283,
   "id": "formal-henry",
   "metadata": {},
   "outputs": [
    {
     "data": {
      "text/plain": [
       "(8.555768540906561,\n",
       " 0.38114358908542184,\n",
       " 8,\n",
       " array([[[8022.71322664, 4715.60030126, 3318.11292538, 2625.36032008,\n",
       "          2153.73998118, 1843.57031503, 1599.54261035, 1383.48737588,\n",
       "          1256.8729442 ]],\n",
       " \n",
       "        [[8022.71322664, 4715.60030126, 3318.11292538, 2625.36032008,\n",
       "          2153.73998118, 1843.57031503, 1599.54261035, 1383.48737588,\n",
       "          1256.8729442 ]]]))"
      ]
     },
     "execution_count": 283,
     "metadata": {},
     "output_type": "execute_result"
    }
   ],
   "source": [
    "chi2_contingency(fish)"
   ]
  },
  {
   "cell_type": "markdown",
   "id": "authorized-baseball",
   "metadata": {},
   "source": [
    "# Conclusion\n",
    "On obtientun résultat similaire avec le G-test. Et n'est pas adpté pour nos données."
   ]
  },
  {
   "cell_type": "code",
   "execution_count": null,
   "id": "affecting-fancy",
   "metadata": {},
   "outputs": [],
   "source": []
  }
 ],
 "metadata": {
  "kernelspec": {
   "display_name": "Python 3",
   "language": "python",
   "name": "python3"
  },
  "language_info": {
   "codemirror_mode": {
    "name": "ipython",
    "version": 3
   },
   "file_extension": ".py",
   "mimetype": "text/x-python",
   "name": "python",
   "nbconvert_exporter": "python",
   "pygments_lexer": "ipython3",
   "version": "3.7.9"
  }
 },
 "nbformat": 4,
 "nbformat_minor": 5
}
