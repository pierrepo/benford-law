{
 "cells": [
  {
   "cell_type": "markdown",
   "id": "hispanic-charger",
   "metadata": {},
   "source": [
    "# Loi de Benford et l'ensenble des protéines reviewed d'UniProt\n",
    "\n",
    "ce script a pour but de vérifier si la taille de l'ensemble des protéine reviewed d'UniProt suit la loi de Benford"
   ]
  },
  {
   "cell_type": "code",
   "execution_count": 13,
   "id": "hairy-incident",
   "metadata": {},
   "outputs": [
    {
     "name": "stdout",
     "output_type": "stream",
     "text": [
      "The autoreload extension is already loaded. To reload it, use:\n",
      "  %reload_ext autoreload\n"
     ]
    }
   ],
   "source": [
    "import pandas as pd\n",
    "import matplotlib.pyplot as plt\n",
    "import math\n",
    "import numpy as np\n",
    "from scipy.stats import chisquare, distributions, power_divergence\n",
    "\n",
    "%load_ext autoreload\n",
    "%autoreload 2"
   ]
  },
  {
   "cell_type": "code",
   "execution_count": 14,
   "id": "painful-lunch",
   "metadata": {},
   "outputs": [
    {
     "data": {
      "text/html": [
       "<div>\n",
       "<style scoped>\n",
       "    .dataframe tbody tr th:only-of-type {\n",
       "        vertical-align: middle;\n",
       "    }\n",
       "\n",
       "    .dataframe tbody tr th {\n",
       "        vertical-align: top;\n",
       "    }\n",
       "\n",
       "    .dataframe thead th {\n",
       "        text-align: right;\n",
       "    }\n",
       "</style>\n",
       "<table border=\"1\" class=\"dataframe\">\n",
       "  <thead>\n",
       "    <tr style=\"text-align: right;\">\n",
       "      <th></th>\n",
       "      <th>Length</th>\n",
       "    </tr>\n",
       "    <tr>\n",
       "      <th>Entry</th>\n",
       "      <th></th>\n",
       "    </tr>\n",
       "  </thead>\n",
       "  <tbody>\n",
       "    <tr>\n",
       "      <th>Q8K9I1</th>\n",
       "      <td>960</td>\n",
       "    </tr>\n",
       "    <tr>\n",
       "      <th>Q664P8</th>\n",
       "      <td>255</td>\n",
       "    </tr>\n",
       "    <tr>\n",
       "      <th>Q66K14</th>\n",
       "      <td>1250</td>\n",
       "    </tr>\n",
       "    <tr>\n",
       "      <th>Q8E4B4</th>\n",
       "      <td>239</td>\n",
       "    </tr>\n",
       "    <tr>\n",
       "      <th>B3CQ06</th>\n",
       "      <td>426</td>\n",
       "    </tr>\n",
       "  </tbody>\n",
       "</table>\n",
       "</div>"
      ],
      "text/plain": [
       "        Length\n",
       "Entry         \n",
       "Q8K9I1     960\n",
       "Q664P8     255\n",
       "Q66K14    1250\n",
       "Q8E4B4     239\n",
       "B3CQ06     426"
      ]
     },
     "execution_count": 14,
     "metadata": {},
     "output_type": "execute_result"
    }
   ],
   "source": [
    "data = pd.read_csv(\"uniprot-reviewed yes.tab\", sep = \"\\t\" , index_col = 0)\n",
    "data.head()"
   ]
  },
  {
   "cell_type": "code",
   "execution_count": 15,
   "id": "wicked-tenant",
   "metadata": {},
   "outputs": [
    {
     "data": {
      "text/html": [
       "<div>\n",
       "<style scoped>\n",
       "    .dataframe tbody tr th:only-of-type {\n",
       "        vertical-align: middle;\n",
       "    }\n",
       "\n",
       "    .dataframe tbody tr th {\n",
       "        vertical-align: top;\n",
       "    }\n",
       "\n",
       "    .dataframe thead th {\n",
       "        text-align: right;\n",
       "    }\n",
       "</style>\n",
       "<table border=\"1\" class=\"dataframe\">\n",
       "  <thead>\n",
       "    <tr style=\"text-align: right;\">\n",
       "      <th></th>\n",
       "      <th>Length</th>\n",
       "    </tr>\n",
       "  </thead>\n",
       "  <tbody>\n",
       "    <tr>\n",
       "      <th>count</th>\n",
       "      <td>564638.000000</td>\n",
       "    </tr>\n",
       "    <tr>\n",
       "      <th>mean</th>\n",
       "      <td>360.442643</td>\n",
       "    </tr>\n",
       "    <tr>\n",
       "      <th>std</th>\n",
       "      <td>336.460236</td>\n",
       "    </tr>\n",
       "    <tr>\n",
       "      <th>min</th>\n",
       "      <td>2.000000</td>\n",
       "    </tr>\n",
       "    <tr>\n",
       "      <th>25%</th>\n",
       "      <td>169.000000</td>\n",
       "    </tr>\n",
       "    <tr>\n",
       "      <th>50%</th>\n",
       "      <td>294.000000</td>\n",
       "    </tr>\n",
       "    <tr>\n",
       "      <th>75%</th>\n",
       "      <td>449.000000</td>\n",
       "    </tr>\n",
       "    <tr>\n",
       "      <th>max</th>\n",
       "      <td>35213.000000</td>\n",
       "    </tr>\n",
       "  </tbody>\n",
       "</table>\n",
       "</div>"
      ],
      "text/plain": [
       "              Length\n",
       "count  564638.000000\n",
       "mean      360.442643\n",
       "std       336.460236\n",
       "min         2.000000\n",
       "25%       169.000000\n",
       "50%       294.000000\n",
       "75%       449.000000\n",
       "max     35213.000000"
      ]
     },
     "execution_count": 15,
     "metadata": {},
     "output_type": "execute_result"
    }
   ],
   "source": [
    "data.describe()"
   ]
  },
  {
   "cell_type": "markdown",
   "id": "secondary-detection",
   "metadata": {},
   "source": [
    "## Distribution de la longueur des protéines reviewed d'uniprot"
   ]
  },
  {
   "cell_type": "code",
   "execution_count": 16,
   "id": "matched-johnston",
   "metadata": {},
   "outputs": [
    {
     "data": {
      "image/png": "[encoded data removed]",
      "text/plain": [
       "<Figure size 432x288 with 1 Axes>"
      ]
     },
     "metadata": {
      "needs_background": "light"
     },
     "output_type": "display_data"
    }
   ],
   "source": [
    "plt.hist(data[\"Length\"], bins=range(0, 5000, 10))\n",
    "plt.title(f\"Length distribution of the {data.shape[0]} reviewed proteins of UniProt Data base\")\n",
    "plt.xlabel(\"Length\")\n",
    "plt.ylabel(\"Number of proteins\");"
   ]
  },
  {
   "cell_type": "code",
   "execution_count": 17,
   "id": "copyrighted-august",
   "metadata": {},
   "outputs": [
    {
     "data": {
      "text/plain": [
       "(187, 1)"
      ]
     },
     "execution_count": 17,
     "metadata": {},
     "output_type": "execute_result"
    }
   ],
   "source": [
    "data[data[\"Length\"] > 5000].shape"
   ]
  },
  {
   "cell_type": "markdown",
   "id": "surprising-settlement",
   "metadata": {},
   "source": [
    "On remarque que 187 protéine sur 563972 on une taille > 5000.\n",
    "## First digit de la taille des protéines"
   ]
  },
  {
   "cell_type": "code",
   "execution_count": 18,
   "id": "charged-person",
   "metadata": {},
   "outputs": [
    {
     "name": "stdout",
     "output_type": "stream",
     "text": [
      "[138907 115221 102958  71941  42418  30877  22501  21311  18504]\n",
      "564638\n"
     ]
    }
   ],
   "source": [
    "first_digit = np.zeros(9, dtype=int)\n",
    "for x in data[\"Length\"]:\n",
    "    first = int(str(x)[0])\n",
    "    if first == 0:\n",
    "        continue\n",
    "    first_digit[first-1] += 1\n",
    "        \n",
    "print(first_digit)\n",
    "print(sum(first_digit))"
   ]
  },
  {
   "cell_type": "markdown",
   "id": "fuzzy-malaysia",
   "metadata": {},
   "source": [
    "### Normalisation"
   ]
  },
  {
   "cell_type": "code",
   "execution_count": 19,
   "id": "northern-outside",
   "metadata": {},
   "outputs": [
    {
     "name": "stdout",
     "output_type": "stream",
     "text": [
      "[0.24601072 0.20406172 0.18234338 0.12741084 0.07512424 0.05468459\n",
      " 0.03985031 0.03774277 0.03277144]\n",
      "1.0\n",
      "[138907 115221 102958  71941  42418  30877  22501  21311  18504]\n"
     ]
    }
   ],
   "source": [
    "first_digit_norm = np.array(first_digit / sum(first_digit))\n",
    "\n",
    "print(first_digit_norm)\n",
    "print(sum(first_digit_norm))\n",
    "print(first_digit)"
   ]
  },
  {
   "cell_type": "markdown",
   "id": "median-contest",
   "metadata": {},
   "source": [
    "## Loi de Benford : "
   ]
  },
  {
   "cell_type": "code",
   "execution_count": 20,
   "id": "excellent-hearts",
   "metadata": {},
   "outputs": [
    {
     "name": "stdout",
     "output_type": "stream",
     "text": [
      "[0.30103    0.17609126 0.12493874 0.09691001 0.07918125 0.06694679\n",
      " 0.05799195 0.05115252 0.04575749]\n"
     ]
    },
    {
     "data": {
      "text/plain": [
       "0.9999999999999999"
      ]
     },
     "execution_count": 20,
     "metadata": {},
     "output_type": "execute_result"
    }
   ],
   "source": [
    "freq_benford = np.zeros(9, dtype=float)\n",
    "for i in range(9):\n",
    "    freq_benford[i] = (math.log((1+(1/(i+1))), 10))\n",
    "print(freq_benford)\n",
    "sum(freq_benford)"
   ]
  },
  {
   "cell_type": "markdown",
   "id": "vietnamese-rubber",
   "metadata": {},
   "source": [
    "## Barplot de la fréquence des first digit de la loi de Banford et de la taille de l'ensemble des protéines reviewed d'UniProt"
   ]
  },
  {
   "cell_type": "code",
   "execution_count": 21,
   "id": "cardiovascular-jacket",
   "metadata": {},
   "outputs": [
    {
     "data": {
      "image/png": "[encoded data removed]",
      "text/plain": [
       "<Figure size 432x288 with 1 Axes>"
      ]
     },
     "metadata": {
      "needs_background": "light"
     },
     "output_type": "display_data"
    }
   ],
   "source": [
    "plt.plot(range(1,10), freq_benford, marker=\"o\", color=\"red\")\n",
    "plt.bar(range(1,10), first_digit_norm)\n",
    "plt.xticks(ticks=range(0,10))\n",
    "plt.title(label=f\"Theoretical Benford law and First digit distribution \\n of the {data.shape[0]} reviewed proteins of UniProt Data base\")\n",
    "plt.xlabel(\"First digit\")\n",
    "plt.ylabel(\"Proportion\")\n",
    "plt.legend(labels = (\"Benford\", \"UniProt\"));"
   ]
  },
  {
   "cell_type": "code",
   "execution_count": 24,
   "id": "solved-jersey",
   "metadata": {},
   "outputs": [
    {
     "data": {
      "text/plain": [
       "Power_divergenceResult(statistic=339794184389.22437, pvalue=0.0)"
      ]
     },
     "execution_count": 24,
     "metadata": {},
     "output_type": "execute_result"
    }
   ],
   "source": [
    "power_divergence(first_digit, freq_benford, lambda_=1)"
   ]
  },
  {
   "cell_type": "markdown",
   "id": "wrong-trinidad",
   "metadata": {},
   "source": [
    "# Test du Statistique\n",
    "\n",
    "V.A. : nombre de first digit  \n",
    "\n",
    "Hopothèse :  \n",
    "    - H0 : La distribution des $1^{er}$ digits de la taille des protéines du protéome Humain suit la loi de Benford.  \n",
    "    - H1 : La distribution des $1^{er}$ digits de la taille des protéines du protéome Humain ne suit pas la loi de Benford.  \n",
    "    \n",
    "Conditionde validité : les effectifs calculés > 5  \n",
    "\n",
    "Règle de décision (test $\\chi²$):  \n",
    "    -Si, $\\chi²_{cal} > \\chi²_{\\alpha, (k-1)ddl}$, le test est significatif à $\\alpha$% et on rejette H0.  \n",
    "\n",
    "## Test du $\\chi²$\n",
    "## détermination de $F_{theo}$ et $F_{obs}$"
   ]
  },
  {
   "cell_type": "code",
   "execution_count": 10,
   "id": "surrounded-zimbabwe",
   "metadata": {},
   "outputs": [
    {
     "ename": "IndexError",
     "evalue": "index 138907 is out of bounds for axis 0 with size 9",
     "output_type": "error",
     "traceback": [
      "\u001b[0;31m---------------------------------------------------------------------------\u001b[0m",
      "\u001b[0;31mIndexError\u001b[0m                                Traceback (most recent call last)",
      "\u001b[0;32m<ipython-input-10-50b76ad35b77>\u001b[0m in \u001b[0;36m<module>\u001b[0;34m\u001b[0m\n\u001b[1;32m      2\u001b[0m \u001b[0mfirst_digit_theo\u001b[0m \u001b[0;34m=\u001b[0m \u001b[0;34m{\u001b[0m\u001b[0;34m}\u001b[0m\u001b[0;34m\u001b[0m\u001b[0;34m\u001b[0m\u001b[0m\n\u001b[1;32m      3\u001b[0m \u001b[0;32mfor\u001b[0m \u001b[0mkey\u001b[0m \u001b[0;32min\u001b[0m \u001b[0mfirst_digit\u001b[0m\u001b[0;34m:\u001b[0m\u001b[0;34m\u001b[0m\u001b[0;34m\u001b[0m\u001b[0m\n\u001b[0;32m----> 4\u001b[0;31m     \u001b[0mfirst_digit_theo\u001b[0m\u001b[0;34m[\u001b[0m\u001b[0mkey\u001b[0m\u001b[0;34m]\u001b[0m \u001b[0;34m=\u001b[0m \u001b[0mfreq_benford\u001b[0m\u001b[0;34m[\u001b[0m\u001b[0mkey\u001b[0m\u001b[0;34m]\u001b[0m \u001b[0;34m*\u001b[0m \u001b[0mdata\u001b[0m\u001b[0;34m.\u001b[0m\u001b[0mshape\u001b[0m\u001b[0;34m[\u001b[0m\u001b[0;36m0\u001b[0m\u001b[0;34m]\u001b[0m\u001b[0;34m\u001b[0m\u001b[0;34m\u001b[0m\u001b[0m\n\u001b[0m\u001b[1;32m      5\u001b[0m \u001b[0;34m\u001b[0m\u001b[0m\n\u001b[1;32m      6\u001b[0m \u001b[0mF_theo\u001b[0m \u001b[0;34m=\u001b[0m \u001b[0;34m[\u001b[0m \u001b[0mint\u001b[0m\u001b[0;34m(\u001b[0m\u001b[0mfreq_benford\u001b[0m\u001b[0;34m[\u001b[0m\u001b[0mkey\u001b[0m\u001b[0;34m]\u001b[0m\u001b[0;34m*\u001b[0m\u001b[0mdata\u001b[0m\u001b[0;34m.\u001b[0m\u001b[0mshape\u001b[0m\u001b[0;34m[\u001b[0m\u001b[0;36m0\u001b[0m\u001b[0;34m]\u001b[0m\u001b[0;34m)\u001b[0m \u001b[0;32mfor\u001b[0m \u001b[0mkey\u001b[0m \u001b[0;32min\u001b[0m \u001b[0msorted\u001b[0m\u001b[0;34m(\u001b[0m\u001b[0mfreq_benford\u001b[0m\u001b[0;34m)\u001b[0m \u001b[0;34m]\u001b[0m\u001b[0;34m\u001b[0m\u001b[0;34m\u001b[0m\u001b[0m\n",
      "\u001b[0;31mIndexError\u001b[0m: index 138907 is out of bounds for axis 0 with size 9"
     ]
    }
   ],
   "source": [
    "# dictionnaire de la distribution théorique\n",
    "first_digit_theo = {}\n",
    "for key in first_digit:\n",
    "    first_digit_theo[key] = freq_benford[key] * data.shape[0]\n",
    "\n",
    "F_theo = [ int(freq_benford[key]*data.shape[0]) for key in sorted(freq_benford) ]\n",
    "print(f\"Le dictionnaire de la distribution théorique des first digits est : {first_digit_theo}\\n\")\n",
    "print(f\"La liste triées par ordre croissant des first digits des valeurs théoriques est : {F_theo}\\n\")\n",
    "\n",
    "F_obs = [ first_digit[key] for key in sorted(first_digit) ]\n",
    "print(f\"Le dictionnaire de la distribution observé des first digits est : {first_digit}\\n\")\n",
    "print(f\"La liste triées par ordre croissant des first digits des valeurs observés est : {F_obs}\\n\")"
   ]
  },
  {
   "cell_type": "markdown",
   "id": "returning-captain",
   "metadata": {},
   "source": [
    "### test du $\\chi^2$ sur les distribution observé et théorique"
   ]
  },
  {
   "cell_type": "code",
   "execution_count": null,
   "id": "silent-novelty",
   "metadata": {},
   "outputs": [],
   "source": [
    "chi2 = chisquare(F_obs, f_exp = F_theo)\n",
    "print(chi2)\n",
    "print(f\"\\nLa p-value est de  : {chi2[1]}\\n\")"
   ]
  },
  {
   "cell_type": "code",
   "execution_count": null,
   "id": "continuous-overhead",
   "metadata": {},
   "outputs": [],
   "source": [
    "chi2 = chisquare([ first_digit_norm[key] for key in sorted(first_digit_norm) ], [ freq_benford[key] for key in sorted(freq_benford) ])\n",
    "print(chi2)\n",
    "print(f\"\\nLa p-value est de  : {chi2[1]}\\n\")"
   ]
  },
  {
   "cell_type": "markdown",
   "id": "sudden-warning",
   "metadata": {},
   "source": [
    "# discussion des résultats obtenus précédement\n",
    "\n",
    "Les différent tests statistique testés plus jusqu'ici ne fonctionne pas dans le cas des grand échantillons (environ > 1000) ou ne sont pas applicables dans notre situation. c'est pour cette raison que l'on développe une procédure ressemblant à un bootstrap récupérant le $\\chi^2$ calculés et renvoyant la moyennes des $\\chi^2$ calculé durant la procédure. La p-value de ce $\\chi^2$ est calculé par la suite."
   ]
  },
  {
   "cell_type": "markdown",
   "id": "wrong-compression",
   "metadata": {},
   "source": [
    "# procédure \"bootstrap\"\n",
    "## Fonction First digit"
   ]
  },
  {
   "cell_type": "code",
   "execution_count": null,
   "id": "spare-thermal",
   "metadata": {},
   "outputs": [],
   "source": [
    "def First_digit(np_array):\n",
    "    fd = np.zeros(9, dtype=int)\n",
    "    for x in range(len(np_array)):\n",
    "        first = int(str(np_array[x])[0])\n",
    "        fd[first-1] += 1\n",
    "    return fd"
   ]
  },
  {
   "cell_type": "markdown",
   "id": "limiting-clear",
   "metadata": {},
   "source": [
    "## Fonction de moyenne des $\\chi^2$"
   ]
  },
  {
   "cell_type": "code",
   "execution_count": null,
   "id": "cognitive-field",
   "metadata": {},
   "outputs": [],
   "source": [
    "def meanChi2(data, nb_val, nb_loop):\n",
    "    sumChi2 = np.zeros(nb_loop, dtype=float)\n",
    "    f_theo = np.array(freq_benford * nb_val)\n",
    "    for i in range(nb_loop):\n",
    "        ech = np.random.choice(data, size=nb_val, replace=False)\n",
    "        f_obs = First_digit(ech)\n",
    "        sumChi2[i] = chisquare(f_obs, f_theo)[0]\n",
    "    return (sum(sumChi2) / nb_loop)"
   ]
  },
  {
   "cell_type": "markdown",
   "id": "pediatric-moral",
   "metadata": {},
   "source": [
    "## Fonction principale de la procédure \"bootstrap\""
   ]
  },
  {
   "cell_type": "code",
   "execution_count": null,
   "id": "legislative-shaft",
   "metadata": {},
   "outputs": [],
   "source": [
    "def bootstrap_Benford(data, nb_val, nb_loop):\n",
    "    k = len(freq_benford+1)\n",
    "    mean_chi2 = meanChi2(data, nb_val, nb_loop)\n",
    "    p_val = distributions.chi2.sf(mean_chi2, k - 1)\n",
    "    return p_val"
   ]
  },
  {
   "cell_type": "code",
   "execution_count": null,
   "id": "wooden-theorem",
   "metadata": {},
   "outputs": [],
   "source": [
    "bootstrap_Benford(data[\"Length\"], 1000, 1000)"
   ]
  },
  {
   "cell_type": "markdown",
   "id": "massive-universe",
   "metadata": {},
   "source": [
    "## conclusion\n",
    "\n",
    "La procédure mise en place (\"bootstrap\") permet de montrer, por un rique alpha de 5%, que les données expérimentale d'abondances de protéines ne suivent pas ici la loi de Benford. Puisque la p-value obtenu est inférieur à 5%, on rejette l'hypothése $H_0$, donc la distribution théorique ne suit pas la loi Benford."
   ]
  },
  {
   "cell_type": "code",
   "execution_count": null,
   "id": "military-december",
   "metadata": {},
   "outputs": [],
   "source": []
  }
 ],
 "metadata": {
  "kernelspec": {
   "display_name": "Python 3",
   "language": "python",
   "name": "python3"
  },
  "language_info": {
   "codemirror_mode": {
    "name": "ipython",
    "version": 3
   },
   "file_extension": ".py",
   "mimetype": "text/x-python",
   "name": "python",
   "nbconvert_exporter": "python",
   "pygments_lexer": "ipython3",
   "version": "3.7.9"
  }
 },
 "nbformat": 4,
 "nbformat_minor": 5
}
