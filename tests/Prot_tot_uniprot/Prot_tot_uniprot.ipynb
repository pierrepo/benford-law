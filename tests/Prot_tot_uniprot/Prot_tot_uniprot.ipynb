{
 "cells": [
  {
   "cell_type": "markdown",
   "id": "sexual-support",
   "metadata": {},
   "source": [
    "# Loi de Benford et l'ensenble des protéines reviewed d'UniProt\n",
    "\n",
    "ce script a pour but de vérifier si la taille de l'ensemble des protéine reviewed d'UniProt suit la loi de Benford"
   ]
  },
  {
   "cell_type": "code",
   "execution_count": 3,
   "id": "promising-portable",
   "metadata": {},
   "outputs": [],
   "source": [
    "import pandas as pd\n",
    "import matplotlib.pyplot as plt\n",
    "import math\n",
    "import numpy as np\n",
    "from scipy.stats import chisquare, distributions"
   ]
  },
  {
   "cell_type": "code",
   "execution_count": 4,
   "id": "seven-paris",
   "metadata": {},
   "outputs": [
    {
     "data": {
      "text/html": [
       "<div>\n",
       "<style scoped>\n",
       "    .dataframe tbody tr th:only-of-type {\n",
       "        vertical-align: middle;\n",
       "    }\n",
       "\n",
       "    .dataframe tbody tr th {\n",
       "        vertical-align: top;\n",
       "    }\n",
       "\n",
       "    .dataframe thead th {\n",
       "        text-align: right;\n",
       "    }\n",
       "</style>\n",
       "<table border=\"1\" class=\"dataframe\">\n",
       "  <thead>\n",
       "    <tr style=\"text-align: right;\">\n",
       "      <th></th>\n",
       "      <th>Length</th>\n",
       "    </tr>\n",
       "    <tr>\n",
       "      <th>Entry</th>\n",
       "      <th></th>\n",
       "    </tr>\n",
       "  </thead>\n",
       "  <tbody>\n",
       "    <tr>\n",
       "      <th>P37256</th>\n",
       "      <td>31</td>\n",
       "    </tr>\n",
       "    <tr>\n",
       "      <th>Q1RHU4</th>\n",
       "      <td>540</td>\n",
       "    </tr>\n",
       "    <tr>\n",
       "      <th>Q46GQ4</th>\n",
       "      <td>237</td>\n",
       "    </tr>\n",
       "    <tr>\n",
       "      <th>Q4WAZ9</th>\n",
       "      <td>4007</td>\n",
       "    </tr>\n",
       "    <tr>\n",
       "      <th>P08938</th>\n",
       "      <td>196</td>\n",
       "    </tr>\n",
       "  </tbody>\n",
       "</table>\n",
       "</div>"
      ],
      "text/plain": [
       "        Length\n",
       "Entry         \n",
       "P37256      31\n",
       "Q1RHU4     540\n",
       "Q46GQ4     237\n",
       "Q4WAZ9    4007\n",
       "P08938     196"
      ]
     },
     "execution_count": 4,
     "metadata": {},
     "output_type": "execute_result"
    }
   ],
   "source": [
    "data = pd.read_csv(\"uniprot-filtered-reviewed_yes_length.tab\", sep = \"\\t\" , index_col = 0)\n",
    "data.head()"
   ]
  },
  {
   "cell_type": "code",
   "execution_count": 5,
   "id": "approximate-decimal",
   "metadata": {},
   "outputs": [
    {
     "data": {
      "text/html": [
       "<div>\n",
       "<style scoped>\n",
       "    .dataframe tbody tr th:only-of-type {\n",
       "        vertical-align: middle;\n",
       "    }\n",
       "\n",
       "    .dataframe tbody tr th {\n",
       "        vertical-align: top;\n",
       "    }\n",
       "\n",
       "    .dataframe thead th {\n",
       "        text-align: right;\n",
       "    }\n",
       "</style>\n",
       "<table border=\"1\" class=\"dataframe\">\n",
       "  <thead>\n",
       "    <tr style=\"text-align: right;\">\n",
       "      <th></th>\n",
       "      <th>Length</th>\n",
       "    </tr>\n",
       "  </thead>\n",
       "  <tbody>\n",
       "    <tr>\n",
       "      <th>count</th>\n",
       "      <td>563972.000000</td>\n",
       "    </tr>\n",
       "    <tr>\n",
       "      <th>mean</th>\n",
       "      <td>360.275409</td>\n",
       "    </tr>\n",
       "    <tr>\n",
       "      <th>std</th>\n",
       "      <td>336.277975</td>\n",
       "    </tr>\n",
       "    <tr>\n",
       "      <th>min</th>\n",
       "      <td>2.000000</td>\n",
       "    </tr>\n",
       "    <tr>\n",
       "      <th>25%</th>\n",
       "      <td>169.000000</td>\n",
       "    </tr>\n",
       "    <tr>\n",
       "      <th>50%</th>\n",
       "      <td>294.000000</td>\n",
       "    </tr>\n",
       "    <tr>\n",
       "      <th>75%</th>\n",
       "      <td>449.000000</td>\n",
       "    </tr>\n",
       "    <tr>\n",
       "      <th>max</th>\n",
       "      <td>35213.000000</td>\n",
       "    </tr>\n",
       "  </tbody>\n",
       "</table>\n",
       "</div>"
      ],
      "text/plain": [
       "              Length\n",
       "count  563972.000000\n",
       "mean      360.275409\n",
       "std       336.277975\n",
       "min         2.000000\n",
       "25%       169.000000\n",
       "50%       294.000000\n",
       "75%       449.000000\n",
       "max     35213.000000"
      ]
     },
     "execution_count": 5,
     "metadata": {},
     "output_type": "execute_result"
    }
   ],
   "source": [
    "data.describe()"
   ]
  },
  {
   "cell_type": "markdown",
   "id": "regional-grill",
   "metadata": {},
   "source": [
    "## Distribution de la longueur des protéines reviewed d'uniprot"
   ]
  },
  {
   "cell_type": "code",
   "execution_count": 6,
   "id": "catholic-interval",
   "metadata": {},
   "outputs": [
    {
     "data": {
      "image/png": "[encoded data removed]",
      "text/plain": [
       "<Figure size 432x288 with 1 Axes>"
      ]
     },
     "metadata": {
      "needs_background": "light"
     },
     "output_type": "display_data"
    }
   ],
   "source": [
    "plt.hist(data[\"Length\"], bins=range(0, 5000, 10))\n",
    "plt.title(f\"Length distribution of the {data.shape[0]} reviewed proteins of UniProt Data base\")\n",
    "plt.xlabel(\"Length\")\n",
    "plt.ylabel(\"Number of proteins\");"
   ]
  },
  {
   "cell_type": "code",
   "execution_count": 7,
   "id": "automotive-criticism",
   "metadata": {},
   "outputs": [
    {
     "data": {
      "text/plain": [
       "(187, 1)"
      ]
     },
     "execution_count": 7,
     "metadata": {},
     "output_type": "execute_result"
    }
   ],
   "source": [
    "data[data[\"Length\"] > 5000].shape"
   ]
  },
  {
   "cell_type": "markdown",
   "id": "discrete-beginning",
   "metadata": {},
   "source": [
    "On remarque que 187 protéine sur 563972 on une taille > 5000.\n",
    "## First digit de la taille des protéines"
   ]
  },
  {
   "cell_type": "code",
   "execution_count": 8,
   "id": "incoming-arrangement",
   "metadata": {},
   "outputs": [
    {
     "name": "stdout",
     "output_type": "stream",
     "text": [
      "[138823 115126 102784  71833  42357  30844  22444  21274  18487]\n",
      "563972\n"
     ]
    }
   ],
   "source": [
    "first_digit = np.zeros(9, dtype=int)\n",
    "for x in data[\"Length\"]:\n",
    "    first = int(str(x)[0])\n",
    "    if first == 0:\n",
    "        continue\n",
    "    first_digit[first-1] += 1\n",
    "        \n",
    "print(first_digit)\n",
    "print(sum(first_digit))"
   ]
  },
  {
   "cell_type": "markdown",
   "id": "aquatic-birthday",
   "metadata": {},
   "source": [
    "### Normalisation"
   ]
  },
  {
   "cell_type": "code",
   "execution_count": 9,
   "id": "sound-singles",
   "metadata": {},
   "outputs": [
    {
     "name": "stdout",
     "output_type": "stream",
     "text": [
      "[0.24615229 0.20413425 0.18225018 0.1273698  0.07510479 0.05469066\n",
      " 0.0397963  0.03772173 0.03278   ]\n",
      "0.9999999999999999\n",
      "[138823 115126 102784  71833  42357  30844  22444  21274  18487]\n"
     ]
    }
   ],
   "source": [
    "first_digit_norm = np.array(first_digit / sum(first_digit))\n",
    "\n",
    "print(first_digit_norm)\n",
    "print(sum(first_digit_norm))\n",
    "print(first_digit)"
   ]
  },
  {
   "cell_type": "markdown",
   "id": "federal-installation",
   "metadata": {},
   "source": [
    "## Loi de Benford : "
   ]
  },
  {
   "cell_type": "code",
   "execution_count": 10,
   "id": "corporate-scholar",
   "metadata": {},
   "outputs": [
    {
     "name": "stdout",
     "output_type": "stream",
     "text": [
      "[0.30103    0.17609126 0.12493874 0.09691001 0.07918125 0.06694679\n",
      " 0.05799195 0.05115252 0.04575749]\n"
     ]
    },
    {
     "data": {
      "text/plain": [
       "0.9999999999999999"
      ]
     },
     "execution_count": 10,
     "metadata": {},
     "output_type": "execute_result"
    }
   ],
   "source": [
    "freq_benford = np.zeros(9, dtype=float)\n",
    "for i in range(9):\n",
    "    freq_benford[i] = (math.log((1+(1/(i+1))), 10))\n",
    "print(freq_benford)\n",
    "sum(freq_benford)"
   ]
  },
  {
   "cell_type": "markdown",
   "id": "satisfied-wagon",
   "metadata": {},
   "source": [
    "## Barplot de la fréquence des first digit de la loi de Banford et de la taille de l'ensemble des protéines reviewed d'UniProt"
   ]
  },
  {
   "cell_type": "code",
   "execution_count": 11,
   "id": "detected-burns",
   "metadata": {},
   "outputs": [
    {
     "data": {
      "image/png": "[encoded data removed]",
      "text/plain": [
       "<Figure size 432x288 with 1 Axes>"
      ]
     },
     "metadata": {
      "needs_background": "light"
     },
     "output_type": "display_data"
    }
   ],
   "source": [
    "plt.plot(range(1,10), freq_benford, marker=\"o\", color=\"red\")\n",
    "plt.bar(range(1,10), first_digit_norm)\n",
    "plt.xticks(ticks=range(0,10))\n",
    "plt.title(label=f\"Theoretical Benford law and First digit distribution \\n of the {data.shape[0]} reviewed proteins of UniProt Data base\")\n",
    "plt.xlabel(\"First digit\")\n",
    "plt.ylabel(\"Proportion\")\n",
    "plt.legend(labels = (\"Benford\", \"UniProt\"));"
   ]
  },
  {
   "cell_type": "markdown",
   "id": "alleged-emphasis",
   "metadata": {},
   "source": [
    "# Test du Statistique\n",
    "\n",
    "V.A. : nombre de first digit  \n",
    "\n",
    "Hopothèse :  \n",
    "    - H0 : La distribution des $1^{er}$ digits de la taille des protéines du protéome Humain suit la loi de Benford.  \n",
    "    - H1 : La distribution des $1^{er}$ digits de la taille des protéines du protéome Humain ne suit pas la loi de Benford.  \n",
    "    \n",
    "Conditionde validité : les effectifs calculés > 5  \n",
    "\n",
    "Règle de décision (test $\\chi²$):  \n",
    "    -Si, $\\chi²_{cal} > \\chi²_{\\alpha, (k-1)ddl}$, le test est significatif à $\\alpha$% et on rejette H0.  \n",
    "\n",
    "## Test du $\\chi²$\n",
    "## détermination de $F_{theo}$ et $F_{obs}$"
   ]
  },
  {
   "cell_type": "code",
   "execution_count": 13,
   "id": "popular-prize",
   "metadata": {},
   "outputs": [
    {
     "name": "stdout",
     "output_type": "stream",
     "text": [
      "Le dictionnaire de la distribution théorique des first digits est : {3: 70461.94916245612, 5: 44656.00569597106, 2: 99310.53955215066, 4: 54654.53385617959, 1: 169772.48871460676, 7: 32705.83432089994, 9: 25805.94346648508, 6: 37756.1148415562, 8: 28848.590389694516}\n",
      "\n",
      "La liste triées par ordre croissant des first digits des valeurs théoriques est : [169772, 99310, 70461, 54654, 44656, 37756, 32705, 28848, 25805]\n",
      "\n",
      "Le dictionnaire de la distribution observé des first digits est : {3: 102784, 5: 42357, 2: 115126, 4: 71833, 1: 138823, 7: 22444, 9: 18487, 6: 30844, 8: 21274}\n",
      "\n",
      "La liste triées par ordre croissant des first digits des valeurs observés est : [138823, 115126, 102784, 71833, 42357, 30844, 22444, 21274, 18487]\n",
      "\n"
     ]
    }
   ],
   "source": [
    "# dictionnaire de la distribution théorique\n",
    "first_digit_theo = {}\n",
    "for key in first_digit:\n",
    "    first_digit_theo[key] = freq_benford[key] * data.shape[0]\n",
    "\n",
    "F_theo = [ int(freq_benford[key]*data.shape[0]) for key in sorted(freq_benford) ]\n",
    "print(f\"Le dictionnaire de la distribution théorique des first digits est : {first_digit_theo}\\n\")\n",
    "print(f\"La liste triées par ordre croissant des first digits des valeurs théoriques est : {F_theo}\\n\")\n",
    "\n",
    "F_obs = [ first_digit[key] for key in sorted(first_digit) ]\n",
    "print(f\"Le dictionnaire de la distribution observé des first digits est : {first_digit}\\n\")\n",
    "print(f\"La liste triées par ordre croissant des first digits des valeurs observés est : {F_obs}\\n\")"
   ]
  },
  {
   "cell_type": "markdown",
   "id": "trying-bulgarian",
   "metadata": {},
   "source": [
    "### test du $\\chi^2$ sur les distribution observé et théorique"
   ]
  },
  {
   "cell_type": "code",
   "execution_count": 14,
   "id": "extensive-action",
   "metadata": {},
   "outputs": [
    {
     "name": "stdout",
     "output_type": "stream",
     "text": [
      "Power_divergenceResult(statistic=37055.14917836648, pvalue=0.0)\n",
      "\n",
      "La p-value est de  : 0.0\n",
      "\n"
     ]
    }
   ],
   "source": [
    "chi2 = chisquare(F_obs, f_exp = F_theo)\n",
    "print(chi2)\n",
    "print(f\"\\nLa p-value est de  : {chi2[1]}\\n\")"
   ]
  },
  {
   "cell_type": "code",
   "execution_count": 12,
   "id": "latin-young",
   "metadata": {},
   "outputs": [
    {
     "name": "stdout",
     "output_type": "stream",
     "text": [
      "Power_divergenceResult(statistic=0.0657033956558796, pvalue=0.9999999527270779)\n",
      "\n",
      "La p-value est de  : 0.9999999527270779\n",
      "\n"
     ]
    }
   ],
   "source": [
    "chi2 = chisquare([ first_digit_norm[key] for key in sorted(first_digit_norm) ], [ freq_benford[key] for key in sorted(freq_benford) ])\n",
    "print(chi2)\n",
    "print(f\"\\nLa p-value est de  : {chi2[1]}\\n\")"
   ]
  },
  {
   "cell_type": "markdown",
   "id": "italian-visiting",
   "metadata": {},
   "source": [
    "# discussion des résultats obtenus précédement\n",
    "\n",
    "Les différent tests statistique testés plus jusqu'ici ne fonctionne pas dans le cas des grand échantillons (environ > 1000) ou ne sont pas applicables dans notre situation. c'est pour cette raison que l'on développe une procédure ressemblant à un bootstrap récupérant le $\\chi^2$ calculés et renvoyant la moyennes des $\\chi^2$ calculé durant la procédure. La p-value de ce $\\chi^2$ est calculé par la suite."
   ]
  },
  {
   "cell_type": "markdown",
   "id": "portuguese-deadline",
   "metadata": {},
   "source": [
    "# procédure \"bootstrap\"\n",
    "## Fonction First digit"
   ]
  },
  {
   "cell_type": "code",
   "execution_count": 12,
   "id": "ready-leadership",
   "metadata": {},
   "outputs": [],
   "source": [
    "def First_digit(np_array):\n",
    "    fd = np.zeros(9, dtype=int)\n",
    "    for x in range(len(np_array)):\n",
    "        first = int(str(np_array[x])[0])\n",
    "        fd[first-1] += 1\n",
    "    return fd"
   ]
  },
  {
   "cell_type": "markdown",
   "id": "civilian-handy",
   "metadata": {},
   "source": [
    "## Fonction de moyenne des $\\chi^2$"
   ]
  },
  {
   "cell_type": "code",
   "execution_count": 13,
   "id": "simple-wholesale",
   "metadata": {},
   "outputs": [],
   "source": [
    "def meanChi2(data, nb_val, nb_loop):\n",
    "    sumChi2 = np.zeros(nb_loop, dtype=float)\n",
    "    f_theo = np.array(freq_benford * nb_val)\n",
    "    for i in range(nb_loop):\n",
    "        ech = np.random.choice(data, size=nb_val, replace=False)\n",
    "        f_obs = First_digit(ech)\n",
    "        sumChi2[i] = chisquare(f_obs, f_theo)[0]\n",
    "    return (sum(sumChi2) / nb_loop)"
   ]
  },
  {
   "cell_type": "markdown",
   "id": "tight-master",
   "metadata": {},
   "source": [
    "## Fonction principale de la procédure \"bootstrap\""
   ]
  },
  {
   "cell_type": "code",
   "execution_count": 14,
   "id": "extreme-decline",
   "metadata": {},
   "outputs": [],
   "source": [
    "def bootstrap_Benford(data, nb_val, nb_loop):\n",
    "    k = len(freq_benford+1)\n",
    "    mean_chi2 = meanChi2(data, nb_val, nb_loop)\n",
    "    p_val = distributions.chi2.sf(mean_chi2, k - 1)\n",
    "    return p_val"
   ]
  },
  {
   "cell_type": "code",
   "execution_count": 17,
   "id": "similar-smith",
   "metadata": {},
   "outputs": [
    {
     "data": {
      "text/plain": [
       "1.2516600592004783e-12"
      ]
     },
     "execution_count": 17,
     "metadata": {},
     "output_type": "execute_result"
    }
   ],
   "source": [
    "bootstrap_Benford(data[\"Length\"], 1000, 1000)"
   ]
  },
  {
   "cell_type": "code",
   "execution_count": 18,
   "id": "unauthorized-father",
   "metadata": {},
   "outputs": [
    {
     "data": {
      "text/plain": [
       "1.1920351032335908e-12"
      ]
     },
     "execution_count": 18,
     "metadata": {},
     "output_type": "execute_result"
    }
   ],
   "source": [
    "bootstrap_Benford(data[\"Length\"], 1000, 1000)"
   ]
  },
  {
   "cell_type": "markdown",
   "id": "unavailable-destruction",
   "metadata": {},
   "source": [
    "## conclusion\n",
    "\n",
    "La procédure mise en place (\"bootstrap\") permet de montrer, por un rique alpha de 5%, que les données expérimentale d'abondances de protéines ne suivent pas ici la loi de Benford. Puisque la p-value obtenu est inférieur à 5%, on rejette l'hypothése $H_0$, donc la distribution théorique ne suit pas la loi Benford."
   ]
  },
  {
   "cell_type": "code",
   "execution_count": null,
   "id": "encouraging-lexington",
   "metadata": {},
   "outputs": [],
   "source": []
  }
 ],
 "metadata": {
  "kernelspec": {
   "display_name": "Python 3",
   "language": "python",
   "name": "python3"
  },
  "language_info": {
   "codemirror_mode": {
    "name": "ipython",
    "version": 3
   },
   "file_extension": ".py",
   "mimetype": "text/x-python",
   "name": "python",
   "nbconvert_exporter": "python",
   "pygments_lexer": "ipython3",
   "version": "3.7.9"
  }
 },
 "nbformat": 4,
 "nbformat_minor": 5
}
