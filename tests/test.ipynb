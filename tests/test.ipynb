{
 "cells": [
  {
   "cell_type": "markdown",
   "id": "strange-picking",
   "metadata": {},
   "source": [
    "# Représentation graphique du 1er chiffre de nommbres tiré aléatoirement\n",
    "## Recupération du 1er chiffre de nombre tirés aléatoirement entre 1 et m\n",
    "le dictionnaire first_digit, va permettre de stocker le nombre de fois où le nombre tiré aléatoirement commence par un chiffre compris entre 1 et 9.  \n",
    "la fonction d'incrémentation du dictionnaire (increment_fd), prend en argument un entier x et le dictionnaire. cette dernière réalise l'incrémantation des valeurs des clé du dictionnaire en fonction de l'entier x. (n'est pas utile). On peut Faire l'incrémenttaion du dictionnaire directement dans la boucle de tirage des nombres aléatoire.\n",
    "\n",
    "n représente le nombre de tirage et m la valeur maximum que peut prend x.  \n",
    "dans la boucle réalisant le tirage aléatoire des nombres :  \n",
    "1- x prend une valeur aléatoire entre 1 et m  \n",
    "2- x est transformé en chaine de caractére  \n",
    "3- x prend la valeur en entier de la première position de la chaine de carractère  \n",
    "4- appel de la fonction d'encrémantation du dictionnaire, non utile."
   ]
  },
  {
   "cell_type": "code",
   "execution_count": 21,
   "id": "classified-antigua",
   "metadata": {},
   "outputs": [
    {
     "name": "stdout",
     "output_type": "stream",
     "text": [
      "{9: 11096, 6: 11171, 7: 11161, 8: 11266, 5: 11024, 1: 10981, 4: 11056, 3: 11243, 2: 11002}\n"
     ]
    }
   ],
   "source": [
    "import random\n",
    "import matplotlib.pyplot as plt\n",
    "\n",
    "first_digit = {}\n",
    "\n",
    "n = 100_000\n",
    "m = 1_000_000\n",
    "for i in range(n):\n",
    "    x = random.randint(1, m+1)\n",
    "    x = str(x)\n",
    "    x = int(x[0])\n",
    "    if x in first_digit:\n",
    "        first_digit[x] += 1\n",
    "    else:\n",
    "        first_digit[x] = 1\n",
    "\n",
    "print(first_digit)"
   ]
  },
  {
   "cell_type": "markdown",
   "id": "altered-hobby",
   "metadata": {},
   "source": [
    "## Création des liste contenant les valeurs pour le diagramme en bâton\n",
    "axe_x : liste contenant les entiers de 1 à 9.  \n",
    "la boucle permet d'ajouté à la liste axe_y les valeurs des clés du dictionnaire."
   ]
  },
  {
   "cell_type": "code",
   "execution_count": 22,
   "id": "tight-connectivity",
   "metadata": {},
   "outputs": [],
   "source": [
    "axe_x = sorted(first_digit)\n",
    "axe_y = [ first_digit[key] for key in sorted(first_digit) ]"
   ]
  },
  {
   "cell_type": "markdown",
   "id": "collected-remainder",
   "metadata": {},
   "source": [
    "## Création du Barplot\n",
    "Les lignes de commandes suivantes permettent la création du diagramme en bâton des 1er chiffres des nombres tirés aléatoirement en amont.  \n",
    "description des commande :  \n",
    "1- permet la création du barplot en fonction des 2 listes créées précédemment  \n",
    "2- permet d'indiquer la position des graduations  \n",
    "3- ajoute le nom de l'axe des Abscisses  \n",
    "4- ajoute le nom de l'axe des ordonnés  \n",
    "5- ajoute le titre du diagramme"
   ]
  },
  {
   "cell_type": "code",
   "execution_count": 29,
   "id": "dressed-independence",
   "metadata": {},
   "outputs": [
    {
     "data": {
      "text/plain": [
       "Text(0.5, 1.0, 'Distribution des 1er chiffres de 100000 nombres tirés aléatoirement entre 1 et 1000000')"
      ]
     },
     "execution_count": 29,
     "metadata": {},
     "output_type": "execute_result"
    },
    {
     "data": {
      "image/png": "[encoded data removed]",
      "text/plain": [
       "<Figure size 432x288 with 1 Axes>"
      ]
     },
     "metadata": {
      "needs_background": "light"
     },
     "output_type": "display_data"
    }
   ],
   "source": [
    "plt.bar(axe_x, axe_y)\n",
    "plt.xticks(range(1, 10))\n",
    "plt.xlabel(\"1er chiffre d'un nombre\")\n",
    "plt.ylabel(\"Nombre de nombres\")\n",
    "plt.title(f\"Distribution des 1er chiffres de {n} nombres tirés aléatoirement entre 1 et {m}\")"
   ]
  },
  {
   "cell_type": "markdown",
   "id": "pharmaceutical-intellectual",
   "metadata": {},
   "source": [
    "## résultats\n",
    "La distibution des Premiers chiffre des nombres tirés aleatoirement semble être uniforme, cela que la loi de Benford ne s'applique pas dans le cas de nombres tirés aléatoirement."
   ]
  }
 ],
 "metadata": {
  "kernelspec": {
   "display_name": "Python 3",
   "language": "python",
   "name": "python3"
  },
  "language_info": {
   "codemirror_mode": {
    "name": "ipython",
    "version": 3
   },
   "file_extension": ".py",
   "mimetype": "text/x-python",
   "name": "python",
   "nbconvert_exporter": "python",
   "pygments_lexer": "ipython3",
   "version": "3.7.9"
  }
 },
 "nbformat": 4,
 "nbformat_minor": 5
}
