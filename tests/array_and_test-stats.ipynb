{
 "cells": [
  {
   "cell_type": "markdown",
   "id": "actual-morris",
   "metadata": {},
   "source": [
    "# Utilisation d'un array pour stocké les first digit théo. et obs. & test de différents tests statistique"
   ]
  },
  {
   "cell_type": "code",
   "execution_count": 620,
   "id": "surgical-accreditation",
   "metadata": {},
   "outputs": [],
   "source": [
    "import pandas as pd\n",
    "import matplotlib.pyplot as plt\n",
    "import math\n",
    "import numpy as np\n",
    "from scipy.stats import chisquare\n",
    "from scipy.stats import ks_2samp\n",
    "from scipy.stats import fisher_exact\n",
    "from scipy.stats.contingency import expected_freq\n",
    "from scipy.stats import chi2_contingency"
   ]
  },
  {
   "cell_type": "markdown",
   "id": "august-transparency",
   "metadata": {},
   "source": [
    "## Fréquences théoriques de benford"
   ]
  },
  {
   "cell_type": "code",
   "execution_count": 621,
   "id": "spectacular-royalty",
   "metadata": {},
   "outputs": [
    {
     "name": "stdout",
     "output_type": "stream",
     "text": [
      "[0.30103    0.17609126 0.12493874 0.09691001 0.07918125 0.06694679\n",
      " 0.05799195 0.05115252 0.04575749]\n"
     ]
    },
    {
     "data": {
      "text/plain": [
       "0.9999999999999999"
      ]
     },
     "execution_count": 621,
     "metadata": {},
     "output_type": "execute_result"
    }
   ],
   "source": [
    "freq_benford = np.zeros(9, dtype=float)\n",
    "for i in range(9):\n",
    "    freq_benford[i] = (math.log((1+(1/(i+1))), 10))\n",
    "print(freq_benford)\n",
    "sum(freq_benford)"
   ]
  },
  {
   "cell_type": "markdown",
   "id": "equipped-report",
   "metadata": {},
   "source": [
    "### distribution théorique"
   ]
  },
  {
   "cell_type": "code",
   "execution_count": 622,
   "id": "atmospheric-houston",
   "metadata": {},
   "outputs": [
    {
     "name": "stdout",
     "output_type": "stream",
     "text": [
      "[301029.99566398 176091.25905568 124938.7366083   96910.01300806\n",
      "  79181.24604762  66946.78963061  57991.94697769  51152.52244738\n",
      "  45757.49056068]\n"
     ]
    }
   ],
   "source": [
    "pr_benford =  freq_benford * 1_000_000\n",
    "print(pr_benford)"
   ]
  },
  {
   "cell_type": "markdown",
   "id": "widespread-segment",
   "metadata": {},
   "source": [
    "## Distribution observé"
   ]
  },
  {
   "cell_type": "code",
   "execution_count": 623,
   "id": "distributed-induction",
   "metadata": {},
   "outputs": [
    {
     "name": "stdout",
     "output_type": "stream",
     "text": [
      "[301029.99566398 176091.25905568 124938.7366083   96910.01300806\n",
      "  79181.24604762  66946.78963061  57991.94697769  51152.52244738\n",
      "  45757.49056068]\n"
     ]
    }
   ],
   "source": [
    "pr_obs = pr_benford \n",
    "print(pr_obs)"
   ]
  },
  {
   "cell_type": "markdown",
   "id": "apparent-space",
   "metadata": {},
   "source": [
    "### Féquences observés"
   ]
  },
  {
   "cell_type": "code",
   "execution_count": 624,
   "id": "adolescent-monster",
   "metadata": {},
   "outputs": [
    {
     "name": "stdout",
     "output_type": "stream",
     "text": [
      "[0.30103    0.17609126 0.12493874 0.09691001 0.07918125 0.06694679\n",
      " 0.05799195 0.05115252 0.04575749]\n"
     ]
    }
   ],
   "source": [
    "freq_obs = pr_obs / sum(pr_obs)\n",
    "print(freq_obs)"
   ]
  },
  {
   "cell_type": "markdown",
   "id": "running-exposure",
   "metadata": {},
   "source": [
    "## graphe de la fréquence observé et de la féquence de la loi Benford"
   ]
  },
  {
   "cell_type": "code",
   "execution_count": 625,
   "id": "valuable-thursday",
   "metadata": {},
   "outputs": [
    {
     "data": {
      "image/png": "[encoded data removed]",
      "text/plain": [
       "<Figure size 432x288 with 1 Axes>"
      ]
     },
     "metadata": {
      "needs_background": "light"
     },
     "output_type": "display_data"
    }
   ],
   "source": [
    "plt.bar(range(1,10), freq_obs)\n",
    "plt.plot(range(1,10), freq_benford, marker=\"o\",color=\"red\")\n",
    "plt.xlabel(\"First digit\")\n",
    "plt.ylabel(\"Proportion\")\n",
    "plt.title(\"First digit distribution\")\n",
    "plt.xticks(range(1, 10))\n",
    "plt.legend(labels = (\"Benford\", \"observé\"));"
   ]
  },
  {
   "cell_type": "code",
   "execution_count": 626,
   "id": "persistent-biodiversity",
   "metadata": {},
   "outputs": [
    {
     "data": {
      "text/plain": [
       "KstestResult(statistic=0.0, pvalue=1.0)"
      ]
     },
     "execution_count": 626,
     "metadata": {},
     "output_type": "execute_result"
    }
   ],
   "source": [
    "ks_2samp(pr_obs, pr_benford)"
   ]
  },
  {
   "cell_type": "markdown",
   "id": "confident-creator",
   "metadata": {},
   "source": [
    "## test en ajoutant du bruit sur la distribution observé"
   ]
  },
  {
   "cell_type": "code",
   "execution_count": 627,
   "id": "skilled-instrumentation",
   "metadata": {},
   "outputs": [
    {
     "name": "stdout",
     "output_type": "stream",
     "text": [
      "[301216.99566398 176256.25905568 125106.7366083   97031.01300806\n",
      "  79287.24604762  67083.78963061  58115.94697769  51352.52244738\n",
      "  45882.49056068]\n",
      "[301029.99566398 176091.25905568 124938.7366083   96910.01300806\n",
      "  79181.24604762  66946.78963061  57991.94697769  51152.52244738\n",
      "  45757.49056068]\n"
     ]
    }
   ],
   "source": [
    "pr_obs2 =  np.array(pr_obs)\n",
    "pr_obs2 += np.random.randint(100, 201, size=9)\n",
    "print(pr_obs2)\n",
    "print(pr_obs)"
   ]
  },
  {
   "cell_type": "code",
   "execution_count": 628,
   "id": "written-province",
   "metadata": {},
   "outputs": [
    {
     "name": "stdout",
     "output_type": "stream",
     "text": [
      "[0.30081601 0.17602162 0.12494019 0.09690184 0.0791817  0.06699449\n",
      " 0.05803858 0.05128416 0.04582141]\n"
     ]
    }
   ],
   "source": [
    "freq_obs2 = np.array(pr_obs2 / sum(pr_obs2))\n",
    "print(freq_obs2)"
   ]
  },
  {
   "cell_type": "markdown",
   "id": "heavy-enzyme",
   "metadata": {},
   "source": [
    "### distribution théorique"
   ]
  },
  {
   "cell_type": "code",
   "execution_count": 629,
   "id": "lesser-campus",
   "metadata": {},
   "outputs": [
    {
     "name": "stdout",
     "output_type": "stream",
     "text": [
      "[301431.2686482  176325.988704   125105.2799442   97039.1940554\n",
      "  79286.79464861  67036.02970119  58069.25024301  51220.7087598\n",
      "  45818.48529559]\n"
     ]
    }
   ],
   "source": [
    "pr_benford2 = np.array(freq_benford * sum(pr_obs2))\n",
    "print(pr_benford2)"
   ]
  },
  {
   "cell_type": "markdown",
   "id": "unique-rebel",
   "metadata": {},
   "source": [
    "### graphe de la fréquence observé et de la féquence de la loi Benford"
   ]
  },
  {
   "cell_type": "code",
   "execution_count": 630,
   "id": "grave-america",
   "metadata": {},
   "outputs": [
    {
     "data": {
      "image/png": "[encoded data removed]",
      "text/plain": [
       "<Figure size 432x288 with 1 Axes>"
      ]
     },
     "metadata": {
      "needs_background": "light"
     },
     "output_type": "display_data"
    }
   ],
   "source": [
    "plt.bar(range(1,10), freq_obs2)\n",
    "plt.plot(range(1,10), freq_benford, marker=\"o\",color=\"red\")\n",
    "plt.xlabel(\"First digit\")\n",
    "plt.ylabel(\"Proportion\")\n",
    "plt.title(\"First digit distribution\")\n",
    "plt.xticks(range(1, 10))\n",
    "plt.legend(labels = (\"Benford\", \"observé\"));"
   ]
  },
  {
   "cell_type": "markdown",
   "id": "fantastic-monthly",
   "metadata": {},
   "source": [
    "## Test de KS avec les distribution"
   ]
  },
  {
   "cell_type": "code",
   "execution_count": 631,
   "id": "turkish-confusion",
   "metadata": {},
   "outputs": [
    {
     "data": {
      "text/plain": [
       "KstestResult(statistic=0.1111111111111111, pvalue=1.0)"
      ]
     },
     "execution_count": 631,
     "metadata": {},
     "output_type": "execute_result"
    }
   ],
   "source": [
    "ks_2samp(pr_obs2, pr_benford2)"
   ]
  },
  {
   "cell_type": "markdown",
   "id": "healthy-outline",
   "metadata": {},
   "source": [
    "### $2^{eme}$ méthode"
   ]
  },
  {
   "cell_type": "code",
   "execution_count": 632,
   "id": "antique-office",
   "metadata": {},
   "outputs": [
    {
     "name": "stdout",
     "output_type": "stream",
     "text": [
      "3446662\n",
      "3444803\n"
     ]
    }
   ],
   "source": [
    "KS_obs = []\n",
    "for i in range(9):\n",
    "    KS_obs += [i+1]*int(pr_obs2[i])\n",
    "    \n",
    "KS_theo = []\n",
    "for i in range(9):\n",
    "    KS_theo += [i+1]*int(pr_benford2[i])\n",
    "#print(KS_obs)\n",
    "#print(KS_theo)\n",
    "print(sum(KS_obs))\n",
    "print(sum(KS_theo))"
   ]
  },
  {
   "cell_type": "code",
   "execution_count": 633,
   "id": "driven-probe",
   "metadata": {},
   "outputs": [
    {
     "data": {
      "text/plain": [
       "KstestResult(statistic=0.0002899160204573592, pvalue=0.9999999999975819)"
      ]
     },
     "execution_count": 633,
     "metadata": {},
     "output_type": "execute_result"
    }
   ],
   "source": [
    "ks_2samp(KS_obs, KS_theo)"
   ]
  },
  {
   "cell_type": "markdown",
   "id": "funded-uzbekistan",
   "metadata": {},
   "source": [
    "## test du $\\chi^2$  avec la fonction chi2_contingency()"
   ]
  },
  {
   "cell_type": "code",
   "execution_count": 634,
   "id": "optional-substitute",
   "metadata": {},
   "outputs": [
    {
     "name": "stdout",
     "output_type": "stream",
     "text": [
      "[[301216.99566398 176256.25905568 125106.7366083   97031.01300806\n",
      "   79287.24604762  67083.78963061  58115.94697769  51352.52244738\n",
      "   45882.49056068]\n",
      " [301431.2686482  176325.988704   125105.2799442   97039.1940554\n",
      "   79286.79464861  67036.02970119  58069.25024301  51220.7087598\n",
      "   45818.48529559]]\n"
     ]
    }
   ],
   "source": [
    "test = np.array([list(pr_obs2), list(pr_benford2)], dtype=float)\n",
    "print(test)"
   ]
  },
  {
   "cell_type": "code",
   "execution_count": 635,
   "id": "unlimited-profit",
   "metadata": {},
   "outputs": [
    {
     "data": {
      "text/plain": [
       "Power_divergenceResult(statistic=0.6808051416846215, pvalue=0.999573247312796)"
      ]
     },
     "execution_count": 635,
     "metadata": {},
     "output_type": "execute_result"
    }
   ],
   "source": [
    "chisquare(pr_obs2, pr_benford2)"
   ]
  },
  {
   "cell_type": "code",
   "execution_count": 636,
   "id": "stuffed-asian",
   "metadata": {},
   "outputs": [
    {
     "data": {
      "text/plain": [
       "(0.3401696246116912,\n",
       " 0.9999695542600919,\n",
       " 8,\n",
       " array([[301324.13215609, 176291.12387984, 125106.00827625,\n",
       "          97035.10353173,  79287.02034812,  67059.9096659 ,\n",
       "          58092.59861035,  51286.61560359,  45850.48792813],\n",
       "        [301324.13215609, 176291.12387984, 125106.00827625,\n",
       "          97035.10353173,  79287.02034812,  67059.9096659 ,\n",
       "          58092.59861035,  51286.61560359,  45850.48792813]]))"
      ]
     },
     "execution_count": 636,
     "metadata": {},
     "output_type": "execute_result"
    }
   ],
   "source": [
    "chi2_contingency(test)"
   ]
  },
  {
   "cell_type": "code",
   "execution_count": 609,
   "id": "crazy-candle",
   "metadata": {},
   "outputs": [
    {
     "data": {
      "text/plain": [
       "Power_divergenceResult(statistic=array([1.19217625e-03, 5.31787625e-05, 2.63822611e-04, 2.80589406e-04,\n",
       "       2.40796370e-05, 1.27007712e-03, 6.94699757e-05, 6.36842423e-05,\n",
       "       6.86614817e-04]), pvalue=array([0.97245619, 0.99418158, 0.98704084, 0.98663542, 0.99608472,\n",
       "       0.9715709 , 0.99334982, 0.99363276, 0.97909516]))"
      ]
     },
     "execution_count": 609,
     "metadata": {},
     "output_type": "execute_result"
    }
   ],
   "source": [
    "chisquare(test)"
   ]
  },
  {
   "cell_type": "markdown",
   "id": "quantitative-polyester",
   "metadata": {},
   "source": [
    "## test exact de fisher"
   ]
  },
  {
   "cell_type": "code",
   "execution_count": 277,
   "id": "eleven-packing",
   "metadata": {},
   "outputs": [],
   "source": [
    "# fisher_exact(test) ---> pour array 2x2 !!!"
   ]
  },
  {
   "cell_type": "markdown",
   "id": "sudden-gazette",
   "metadata": {},
   "source": [
    "#### Test de la fonction expected_freq()"
   ]
  },
  {
   "cell_type": "code",
   "execution_count": 275,
   "id": "assumed-template",
   "metadata": {},
   "outputs": [
    {
     "data": {
      "text/plain": [
       "array([[301.02999566, 176.09125906, 124.93873661,  96.91001301,\n",
       "         79.18124605,  66.94678963,  57.99194698,  51.15252245,\n",
       "         45.75749056],\n",
       "       [301.02999566, 176.09125906, 124.93873661,  96.91001301,\n",
       "         79.18124605,  66.94678963,  57.99194698,  51.15252245,\n",
       "         45.75749056]])"
      ]
     },
     "execution_count": 275,
     "metadata": {},
     "output_type": "execute_result"
    }
   ],
   "source": [
    "expected_freq(test)"
   ]
  },
  {
   "cell_type": "markdown",
   "id": "indie-longitude",
   "metadata": {},
   "source": [
    "Ne pas pas de calcul de p-value"
   ]
  },
  {
   "cell_type": "code",
   "execution_count": null,
   "id": "second-belarus",
   "metadata": {},
   "outputs": [],
   "source": []
  }
 ],
 "metadata": {
  "kernelspec": {
   "display_name": "Python 3",
   "language": "python",
   "name": "python3"
  },
  "language_info": {
   "codemirror_mode": {
    "name": "ipython",
    "version": 3
   },
   "file_extension": ".py",
   "mimetype": "text/x-python",
   "name": "python",
   "nbconvert_exporter": "python",
   "pygments_lexer": "ipython3",
   "version": "3.7.9"
  }
 },
 "nbformat": 4,
 "nbformat_minor": 5
}
