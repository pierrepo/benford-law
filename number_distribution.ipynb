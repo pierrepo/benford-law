{
 "cells": [
  {
   "cell_type": "markdown",
   "id": "unsigned-impossible",
   "metadata": {},
   "source": [
    "# Distribution des nombres en fonction des premiers digits\n",
    "\n",
    "Il s'agit d'un notebook permettant d'analyser la distribution des nombres d'un emsemble de nombre (ici, des données d'abondances de proteines) en fonction du premiers digits."
   ]
  },
  {
   "cell_type": "code",
   "execution_count": 26,
   "id": "fifth-consultancy",
   "metadata": {},
   "outputs": [],
   "source": [
    "import pandas as pd\n",
    "import numpy as np\n",
    "import matplotlib.pyplot as plt\n",
    "import os, sys\n",
    "from collections import OrderedDict\n",
    "\n",
    "import pybenford as ben"
   ]
  },
  {
   "cell_type": "markdown",
   "id": "plain-barrier",
   "metadata": {},
   "source": [
    "## Importation et préparation nombresdes données"
   ]
  },
  {
   "cell_type": "code",
   "execution_count": 2,
   "id": "random-arthur",
   "metadata": {},
   "outputs": [],
   "source": [
    "if not os.path.exists(\"data_abundance_analysis/1512006-Calbicans-QUANTI.csv\"):\n",
    "    !wget http://ftp.pride.ebi.ac.uk/pride/data/archive/2019/07/PXD014125/1512006-Calbicans-QUANTI.csv\n",
    "    data = pd.read_csv(\"1512006-Calbicans-QUANTI.csv\", skiprows=2)\n",
    "else:\n",
    "    data = pd.read_csv(\"data_abundance_analysis/1512006-Calbicans-QUANTI.csv\", skiprows=2)"
   ]
  },
  {
   "cell_type": "code",
   "execution_count": 3,
   "id": "thrown-large",
   "metadata": {},
   "outputs": [
    {
     "data": {
      "text/plain": [
       "(2566, 45)"
      ]
     },
     "execution_count": 3,
     "metadata": {},
     "output_type": "execute_result"
    }
   ],
   "source": [
    "data.shape"
   ]
  },
  {
   "cell_type": "code",
   "execution_count": 4,
   "id": "purple-smell",
   "metadata": {},
   "outputs": [
    {
     "data": {
      "text/html": [
       "<div>\n",
       "<style scoped>\n",
       "    .dataframe tbody tr th:only-of-type {\n",
       "        vertical-align: middle;\n",
       "    }\n",
       "\n",
       "    .dataframe tbody tr th {\n",
       "        vertical-align: top;\n",
       "    }\n",
       "\n",
       "    .dataframe thead th {\n",
       "        text-align: right;\n",
       "    }\n",
       "</style>\n",
       "<table border=\"1\" class=\"dataframe\">\n",
       "  <thead>\n",
       "    <tr style=\"text-align: right;\">\n",
       "      <th></th>\n",
       "      <th>Accession</th>\n",
       "      <th>Peptide count</th>\n",
       "      <th>Unique peptides</th>\n",
       "      <th>Confidence score</th>\n",
       "      <th>Anova (p)</th>\n",
       "      <th>Max fold change</th>\n",
       "      <th>Highest mean condition</th>\n",
       "      <th>Lowest mean condition</th>\n",
       "      <th>Description</th>\n",
       "      <th>1512006-1</th>\n",
       "      <th>...</th>\n",
       "      <th>1512006-2.2</th>\n",
       "      <th>1512006-8.2</th>\n",
       "      <th>1512006-3.2</th>\n",
       "      <th>1512006-9.2</th>\n",
       "      <th>1512006-4.2</th>\n",
       "      <th>1512006-10.2</th>\n",
       "      <th>1512006-5_150410082104.2</th>\n",
       "      <th>1512006-11.2</th>\n",
       "      <th>1512006-6_150410115425.2</th>\n",
       "      <th>1512006-12.2</th>\n",
       "    </tr>\n",
       "  </thead>\n",
       "  <tbody>\n",
       "    <tr>\n",
       "      <th>0</th>\n",
       "      <td>orf19.3365</td>\n",
       "      <td>1</td>\n",
       "      <td>1</td>\n",
       "      <td>29.90</td>\n",
       "      <td>0.000002</td>\n",
       "      <td>inf</td>\n",
       "      <td>Tris 2 60</td>\n",
       "      <td>Tris 1 60</td>\n",
       "      <td>DAO2 CGDID:CAL0004175 COORDS:Ca21chr4_C_albica...</td>\n",
       "      <td>6.290566e+04</td>\n",
       "      <td>...</td>\n",
       "      <td>0</td>\n",
       "      <td>0</td>\n",
       "      <td>0</td>\n",
       "      <td>0</td>\n",
       "      <td>0</td>\n",
       "      <td>0</td>\n",
       "      <td>0</td>\n",
       "      <td>0</td>\n",
       "      <td>0</td>\n",
       "      <td>1</td>\n",
       "    </tr>\n",
       "    <tr>\n",
       "      <th>1</th>\n",
       "      <td>orf19.5112</td>\n",
       "      <td>24</td>\n",
       "      <td>24</td>\n",
       "      <td>1946.82</td>\n",
       "      <td>0.000003</td>\n",
       "      <td>3.250834</td>\n",
       "      <td>Ctrl 60</td>\n",
       "      <td>Tris 2 10</td>\n",
       "      <td>TKL1 CGDID:CAL0002508 COORDS:Ca21chr1_C_albica...</td>\n",
       "      <td>3.401376e+07</td>\n",
       "      <td>...</td>\n",
       "      <td>30</td>\n",
       "      <td>21</td>\n",
       "      <td>19</td>\n",
       "      <td>18</td>\n",
       "      <td>17</td>\n",
       "      <td>13</td>\n",
       "      <td>19</td>\n",
       "      <td>24</td>\n",
       "      <td>22</td>\n",
       "      <td>29</td>\n",
       "    </tr>\n",
       "    <tr>\n",
       "      <th>2</th>\n",
       "      <td>orf19.3160</td>\n",
       "      <td>4</td>\n",
       "      <td>1</td>\n",
       "      <td>271.39</td>\n",
       "      <td>0.000008</td>\n",
       "      <td>inf</td>\n",
       "      <td>Tris 2 60</td>\n",
       "      <td>Ctrl 10</td>\n",
       "      <td>HSP12 CGDID:CAL0002358 COORDS:Ca21chr5_C_albic...</td>\n",
       "      <td>0.000000e+00</td>\n",
       "      <td>...</td>\n",
       "      <td>0</td>\n",
       "      <td>0</td>\n",
       "      <td>0</td>\n",
       "      <td>0</td>\n",
       "      <td>0</td>\n",
       "      <td>0</td>\n",
       "      <td>0</td>\n",
       "      <td>1</td>\n",
       "      <td>1</td>\n",
       "      <td>1</td>\n",
       "    </tr>\n",
       "    <tr>\n",
       "      <th>3</th>\n",
       "      <td>orf19.3646</td>\n",
       "      <td>13</td>\n",
       "      <td>13</td>\n",
       "      <td>604.54</td>\n",
       "      <td>0.000014</td>\n",
       "      <td>27.365113</td>\n",
       "      <td>Ctrl 60</td>\n",
       "      <td>Tris 2 60</td>\n",
       "      <td>CTR1 CGDID:CAL0000406 COORDS:Ca21chr6_C_albica...</td>\n",
       "      <td>1.052686e+07</td>\n",
       "      <td>...</td>\n",
       "      <td>4</td>\n",
       "      <td>3</td>\n",
       "      <td>4</td>\n",
       "      <td>3</td>\n",
       "      <td>15</td>\n",
       "      <td>8</td>\n",
       "      <td>1</td>\n",
       "      <td>2</td>\n",
       "      <td>5</td>\n",
       "      <td>5</td>\n",
       "    </tr>\n",
       "    <tr>\n",
       "      <th>4</th>\n",
       "      <td>orf19.1564</td>\n",
       "      <td>2</td>\n",
       "      <td>1</td>\n",
       "      <td>101.16</td>\n",
       "      <td>0.000020</td>\n",
       "      <td>inf</td>\n",
       "      <td>Tris 2 60</td>\n",
       "      <td>Ctrl 10</td>\n",
       "      <td>orf19.1564 CGDID:CAL0005564 COORDS:Ca21chr2_C_...</td>\n",
       "      <td>0.000000e+00</td>\n",
       "      <td>...</td>\n",
       "      <td>0</td>\n",
       "      <td>0</td>\n",
       "      <td>0</td>\n",
       "      <td>0</td>\n",
       "      <td>0</td>\n",
       "      <td>0</td>\n",
       "      <td>0</td>\n",
       "      <td>0</td>\n",
       "      <td>0</td>\n",
       "      <td>1</td>\n",
       "    </tr>\n",
       "  </tbody>\n",
       "</table>\n",
       "<p>5 rows × 45 columns</p>\n",
       "</div>"
      ],
      "text/plain": [
       "    Accession  Peptide count  Unique peptides  Confidence score  Anova (p)  \\\n",
       "0  orf19.3365              1                1             29.90   0.000002   \n",
       "1  orf19.5112             24               24           1946.82   0.000003   \n",
       "2  orf19.3160              4                1            271.39   0.000008   \n",
       "3  orf19.3646             13               13            604.54   0.000014   \n",
       "4  orf19.1564              2                1            101.16   0.000020   \n",
       "\n",
       "   Max fold change Highest mean condition Lowest mean condition  \\\n",
       "0              inf              Tris 2 60             Tris 1 60   \n",
       "1         3.250834                Ctrl 60             Tris 2 10   \n",
       "2              inf              Tris 2 60               Ctrl 10   \n",
       "3        27.365113                Ctrl 60             Tris 2 60   \n",
       "4              inf              Tris 2 60               Ctrl 10   \n",
       "\n",
       "                                         Description     1512006-1  ...  \\\n",
       "0  DAO2 CGDID:CAL0004175 COORDS:Ca21chr4_C_albica...  6.290566e+04  ...   \n",
       "1  TKL1 CGDID:CAL0002508 COORDS:Ca21chr1_C_albica...  3.401376e+07  ...   \n",
       "2  HSP12 CGDID:CAL0002358 COORDS:Ca21chr5_C_albic...  0.000000e+00  ...   \n",
       "3  CTR1 CGDID:CAL0000406 COORDS:Ca21chr6_C_albica...  1.052686e+07  ...   \n",
       "4  orf19.1564 CGDID:CAL0005564 COORDS:Ca21chr2_C_...  0.000000e+00  ...   \n",
       "\n",
       "   1512006-2.2  1512006-8.2  1512006-3.2  1512006-9.2  1512006-4.2  \\\n",
       "0            0            0            0            0            0   \n",
       "1           30           21           19           18           17   \n",
       "2            0            0            0            0            0   \n",
       "3            4            3            4            3           15   \n",
       "4            0            0            0            0            0   \n",
       "\n",
       "   1512006-10.2  1512006-5_150410082104.2  1512006-11.2  \\\n",
       "0             0                         0             0   \n",
       "1            13                        19            24   \n",
       "2             0                         0             1   \n",
       "3             8                         1             2   \n",
       "4             0                         0             0   \n",
       "\n",
       "   1512006-6_150410115425.2  1512006-12.2  \n",
       "0                         0             1  \n",
       "1                        22            29  \n",
       "2                         1             1  \n",
       "3                         5             5  \n",
       "4                         0             1  \n",
       "\n",
       "[5 rows x 45 columns]"
      ]
     },
     "execution_count": 4,
     "metadata": {},
     "output_type": "execute_result"
    }
   ],
   "source": [
    "data.head()"
   ]
  },
  {
   "cell_type": "code",
   "execution_count": 5,
   "id": "genetic-corporation",
   "metadata": {},
   "outputs": [
    {
     "data": {
      "text/plain": [
       "Index(['Accession', 'Peptide count', 'Unique peptides', 'Confidence score',\n",
       "       'Anova (p)', 'Max fold change', 'Highest mean condition',\n",
       "       'Lowest mean condition', 'Description', '1512006-1', '1512006-7',\n",
       "       '1512006-2', '1512006-8', '1512006-3', '1512006-9', '1512006-4',\n",
       "       '1512006-10', '1512006-5_150410082104', '1512006-11',\n",
       "       '1512006-6_150410115425', '1512006-12', '1512006-1.1', '1512006-7.1',\n",
       "       '1512006-2.1', '1512006-8.1', '1512006-3.1', '1512006-9.1',\n",
       "       '1512006-4.1', '1512006-10.1', '1512006-5_150410082104.1',\n",
       "       '1512006-11.1', '1512006-6_150410115425.1', '1512006-12.1',\n",
       "       '1512006-1.2', '1512006-7.2', '1512006-2.2', '1512006-8.2',\n",
       "       '1512006-3.2', '1512006-9.2', '1512006-4.2', '1512006-10.2',\n",
       "       '1512006-5_150410082104.2', '1512006-11.2', '1512006-6_150410115425.2',\n",
       "       '1512006-12.2'],\n",
       "      dtype='object')"
      ]
     },
     "execution_count": 5,
     "metadata": {},
     "output_type": "execute_result"
    }
   ],
   "source": [
    "data.columns"
   ]
  },
  {
   "cell_type": "code",
   "execution_count": 6,
   "id": "amateur-account",
   "metadata": {},
   "outputs": [],
   "source": [
    "normalized_columns = ['1512006-1', '1512006-7', '1512006-2', '1512006-8',\n",
    "                      '1512006-3', '1512006-9', '1512006-4', '1512006-10',\n",
    "                      '1512006-5_150410082104', '1512006-11',\n",
    "                      '1512006-6_150410115425', '1512006-12']\n",
    "raw_columns = ['1512006-1.1', '1512006-7.1', '1512006-2.1', '1512006-8.1',\n",
    "               '1512006-3.1', '1512006-9.1', '1512006-4.1', '1512006-10.1',\n",
    "               '1512006-5_150410082104.1', '1512006-11.1',\n",
    "               '1512006-6_150410115425.1', '1512006-12.1']"
   ]
  },
  {
   "cell_type": "code",
   "execution_count": 7,
   "id": "angry-variance",
   "metadata": {},
   "outputs": [
    {
     "data": {
      "text/html": [
       "<div>\n",
       "<style scoped>\n",
       "    .dataframe tbody tr th:only-of-type {\n",
       "        vertical-align: middle;\n",
       "    }\n",
       "\n",
       "    .dataframe tbody tr th {\n",
       "        vertical-align: top;\n",
       "    }\n",
       "\n",
       "    .dataframe thead th {\n",
       "        text-align: right;\n",
       "    }\n",
       "</style>\n",
       "<table border=\"1\" class=\"dataframe\">\n",
       "  <thead>\n",
       "    <tr style=\"text-align: right;\">\n",
       "      <th></th>\n",
       "      <th>Peptide count</th>\n",
       "      <th>Unique peptides</th>\n",
       "      <th>Confidence score</th>\n",
       "      <th>Anova (p)</th>\n",
       "      <th>Max fold change</th>\n",
       "      <th>1512006-1</th>\n",
       "      <th>1512006-7</th>\n",
       "      <th>1512006-2</th>\n",
       "      <th>1512006-8</th>\n",
       "      <th>1512006-3</th>\n",
       "      <th>...</th>\n",
       "      <th>1512006-2.2</th>\n",
       "      <th>1512006-8.2</th>\n",
       "      <th>1512006-3.2</th>\n",
       "      <th>1512006-9.2</th>\n",
       "      <th>1512006-4.2</th>\n",
       "      <th>1512006-10.2</th>\n",
       "      <th>1512006-5_150410082104.2</th>\n",
       "      <th>1512006-11.2</th>\n",
       "      <th>1512006-6_150410115425.2</th>\n",
       "      <th>1512006-12.2</th>\n",
       "    </tr>\n",
       "  </thead>\n",
       "  <tbody>\n",
       "    <tr>\n",
       "      <th>count</th>\n",
       "      <td>2566.000000</td>\n",
       "      <td>2566.000000</td>\n",
       "      <td>2566.000000</td>\n",
       "      <td>2356.000000</td>\n",
       "      <td>2356.000000</td>\n",
       "      <td>2.356000e+03</td>\n",
       "      <td>2.356000e+03</td>\n",
       "      <td>2.356000e+03</td>\n",
       "      <td>2.356000e+03</td>\n",
       "      <td>2.356000e+03</td>\n",
       "      <td>...</td>\n",
       "      <td>2566.000000</td>\n",
       "      <td>2566.000000</td>\n",
       "      <td>2566.000000</td>\n",
       "      <td>2566.000000</td>\n",
       "      <td>2566.000000</td>\n",
       "      <td>2566.000000</td>\n",
       "      <td>2566.000000</td>\n",
       "      <td>2566.000000</td>\n",
       "      <td>2566.000000</td>\n",
       "      <td>2566.000000</td>\n",
       "    </tr>\n",
       "    <tr>\n",
       "      <th>mean</th>\n",
       "      <td>5.966875</td>\n",
       "      <td>4.924006</td>\n",
       "      <td>329.951567</td>\n",
       "      <td>0.316327</td>\n",
       "      <td>inf</td>\n",
       "      <td>6.463053e+06</td>\n",
       "      <td>8.785142e+06</td>\n",
       "      <td>6.601764e+06</td>\n",
       "      <td>5.323631e+06</td>\n",
       "      <td>4.636626e+06</td>\n",
       "      <td>...</td>\n",
       "      <td>3.934918</td>\n",
       "      <td>2.997272</td>\n",
       "      <td>2.920109</td>\n",
       "      <td>2.801637</td>\n",
       "      <td>2.675370</td>\n",
       "      <td>1.516758</td>\n",
       "      <td>2.888153</td>\n",
       "      <td>3.286828</td>\n",
       "      <td>3.576383</td>\n",
       "      <td>4.000000</td>\n",
       "    </tr>\n",
       "    <tr>\n",
       "      <th>std</th>\n",
       "      <td>6.425649</td>\n",
       "      <td>5.917107</td>\n",
       "      <td>463.406302</td>\n",
       "      <td>0.289389</td>\n",
       "      <td>NaN</td>\n",
       "      <td>2.782584e+07</td>\n",
       "      <td>3.592861e+07</td>\n",
       "      <td>2.682403e+07</td>\n",
       "      <td>2.167646e+07</td>\n",
       "      <td>1.870482e+07</td>\n",
       "      <td>...</td>\n",
       "      <td>7.652240</td>\n",
       "      <td>5.576230</td>\n",
       "      <td>5.713587</td>\n",
       "      <td>5.313268</td>\n",
       "      <td>5.588438</td>\n",
       "      <td>3.486022</td>\n",
       "      <td>5.220402</td>\n",
       "      <td>5.935091</td>\n",
       "      <td>6.629855</td>\n",
       "      <td>7.488835</td>\n",
       "    </tr>\n",
       "    <tr>\n",
       "      <th>min</th>\n",
       "      <td>1.000000</td>\n",
       "      <td>0.000000</td>\n",
       "      <td>0.000000</td>\n",
       "      <td>0.000002</td>\n",
       "      <td>1.272817</td>\n",
       "      <td>0.000000e+00</td>\n",
       "      <td>0.000000e+00</td>\n",
       "      <td>0.000000e+00</td>\n",
       "      <td>0.000000e+00</td>\n",
       "      <td>0.000000e+00</td>\n",
       "      <td>...</td>\n",
       "      <td>0.000000</td>\n",
       "      <td>0.000000</td>\n",
       "      <td>0.000000</td>\n",
       "      <td>0.000000</td>\n",
       "      <td>0.000000</td>\n",
       "      <td>0.000000</td>\n",
       "      <td>0.000000</td>\n",
       "      <td>0.000000</td>\n",
       "      <td>0.000000</td>\n",
       "      <td>0.000000</td>\n",
       "    </tr>\n",
       "    <tr>\n",
       "      <th>25%</th>\n",
       "      <td>2.000000</td>\n",
       "      <td>1.000000</td>\n",
       "      <td>62.225000</td>\n",
       "      <td>0.058240</td>\n",
       "      <td>2.417902</td>\n",
       "      <td>5.596203e+04</td>\n",
       "      <td>7.602239e+04</td>\n",
       "      <td>6.311675e+04</td>\n",
       "      <td>5.691979e+04</td>\n",
       "      <td>4.422048e+04</td>\n",
       "      <td>...</td>\n",
       "      <td>0.000000</td>\n",
       "      <td>0.000000</td>\n",
       "      <td>0.000000</td>\n",
       "      <td>0.000000</td>\n",
       "      <td>0.000000</td>\n",
       "      <td>0.000000</td>\n",
       "      <td>0.000000</td>\n",
       "      <td>0.000000</td>\n",
       "      <td>0.000000</td>\n",
       "      <td>0.000000</td>\n",
       "    </tr>\n",
       "    <tr>\n",
       "      <th>50%</th>\n",
       "      <td>4.000000</td>\n",
       "      <td>3.000000</td>\n",
       "      <td>157.265000</td>\n",
       "      <td>0.229864</td>\n",
       "      <td>3.866055</td>\n",
       "      <td>3.728819e+05</td>\n",
       "      <td>5.052376e+05</td>\n",
       "      <td>3.936991e+05</td>\n",
       "      <td>3.310843e+05</td>\n",
       "      <td>2.914040e+05</td>\n",
       "      <td>...</td>\n",
       "      <td>1.000000</td>\n",
       "      <td>1.000000</td>\n",
       "      <td>1.000000</td>\n",
       "      <td>1.000000</td>\n",
       "      <td>1.000000</td>\n",
       "      <td>0.000000</td>\n",
       "      <td>1.000000</td>\n",
       "      <td>1.000000</td>\n",
       "      <td>1.000000</td>\n",
       "      <td>1.000000</td>\n",
       "    </tr>\n",
       "    <tr>\n",
       "      <th>75%</th>\n",
       "      <td>8.000000</td>\n",
       "      <td>6.000000</td>\n",
       "      <td>389.705000</td>\n",
       "      <td>0.529185</td>\n",
       "      <td>10.111793</td>\n",
       "      <td>1.719191e+06</td>\n",
       "      <td>2.693200e+06</td>\n",
       "      <td>1.997724e+06</td>\n",
       "      <td>1.697935e+06</td>\n",
       "      <td>1.471927e+06</td>\n",
       "      <td>...</td>\n",
       "      <td>4.000000</td>\n",
       "      <td>3.000000</td>\n",
       "      <td>3.000000</td>\n",
       "      <td>3.000000</td>\n",
       "      <td>3.000000</td>\n",
       "      <td>1.000000</td>\n",
       "      <td>3.000000</td>\n",
       "      <td>4.000000</td>\n",
       "      <td>4.000000</td>\n",
       "      <td>4.000000</td>\n",
       "    </tr>\n",
       "    <tr>\n",
       "      <th>max</th>\n",
       "      <td>52.000000</td>\n",
       "      <td>47.000000</td>\n",
       "      <td>3915.770000</td>\n",
       "      <td>0.996207</td>\n",
       "      <td>inf</td>\n",
       "      <td>5.453465e+08</td>\n",
       "      <td>8.120249e+08</td>\n",
       "      <td>5.426768e+08</td>\n",
       "      <td>4.442926e+08</td>\n",
       "      <td>3.503934e+08</td>\n",
       "      <td>...</td>\n",
       "      <td>96.000000</td>\n",
       "      <td>73.000000</td>\n",
       "      <td>73.000000</td>\n",
       "      <td>65.000000</td>\n",
       "      <td>70.000000</td>\n",
       "      <td>47.000000</td>\n",
       "      <td>56.000000</td>\n",
       "      <td>64.000000</td>\n",
       "      <td>82.000000</td>\n",
       "      <td>95.000000</td>\n",
       "    </tr>\n",
       "  </tbody>\n",
       "</table>\n",
       "<p>8 rows × 41 columns</p>\n",
       "</div>"
      ],
      "text/plain": [
       "       Peptide count  Unique peptides  Confidence score    Anova (p)  \\\n",
       "count    2566.000000      2566.000000       2566.000000  2356.000000   \n",
       "mean        5.966875         4.924006        329.951567     0.316327   \n",
       "std         6.425649         5.917107        463.406302     0.289389   \n",
       "min         1.000000         0.000000          0.000000     0.000002   \n",
       "25%         2.000000         1.000000         62.225000     0.058240   \n",
       "50%         4.000000         3.000000        157.265000     0.229864   \n",
       "75%         8.000000         6.000000        389.705000     0.529185   \n",
       "max        52.000000        47.000000       3915.770000     0.996207   \n",
       "\n",
       "       Max fold change     1512006-1     1512006-7     1512006-2  \\\n",
       "count      2356.000000  2.356000e+03  2.356000e+03  2.356000e+03   \n",
       "mean               inf  6.463053e+06  8.785142e+06  6.601764e+06   \n",
       "std                NaN  2.782584e+07  3.592861e+07  2.682403e+07   \n",
       "min           1.272817  0.000000e+00  0.000000e+00  0.000000e+00   \n",
       "25%           2.417902  5.596203e+04  7.602239e+04  6.311675e+04   \n",
       "50%           3.866055  3.728819e+05  5.052376e+05  3.936991e+05   \n",
       "75%          10.111793  1.719191e+06  2.693200e+06  1.997724e+06   \n",
       "max                inf  5.453465e+08  8.120249e+08  5.426768e+08   \n",
       "\n",
       "          1512006-8     1512006-3  ...  1512006-2.2  1512006-8.2  1512006-3.2  \\\n",
       "count  2.356000e+03  2.356000e+03  ...  2566.000000  2566.000000  2566.000000   \n",
       "mean   5.323631e+06  4.636626e+06  ...     3.934918     2.997272     2.920109   \n",
       "std    2.167646e+07  1.870482e+07  ...     7.652240     5.576230     5.713587   \n",
       "min    0.000000e+00  0.000000e+00  ...     0.000000     0.000000     0.000000   \n",
       "25%    5.691979e+04  4.422048e+04  ...     0.000000     0.000000     0.000000   \n",
       "50%    3.310843e+05  2.914040e+05  ...     1.000000     1.000000     1.000000   \n",
       "75%    1.697935e+06  1.471927e+06  ...     4.000000     3.000000     3.000000   \n",
       "max    4.442926e+08  3.503934e+08  ...    96.000000    73.000000    73.000000   \n",
       "\n",
       "       1512006-9.2  1512006-4.2  1512006-10.2  1512006-5_150410082104.2  \\\n",
       "count  2566.000000  2566.000000   2566.000000               2566.000000   \n",
       "mean      2.801637     2.675370      1.516758                  2.888153   \n",
       "std       5.313268     5.588438      3.486022                  5.220402   \n",
       "min       0.000000     0.000000      0.000000                  0.000000   \n",
       "25%       0.000000     0.000000      0.000000                  0.000000   \n",
       "50%       1.000000     1.000000      0.000000                  1.000000   \n",
       "75%       3.000000     3.000000      1.000000                  3.000000   \n",
       "max      65.000000    70.000000     47.000000                 56.000000   \n",
       "\n",
       "       1512006-11.2  1512006-6_150410115425.2  1512006-12.2  \n",
       "count   2566.000000               2566.000000   2566.000000  \n",
       "mean       3.286828                  3.576383      4.000000  \n",
       "std        5.935091                  6.629855      7.488835  \n",
       "min        0.000000                  0.000000      0.000000  \n",
       "25%        0.000000                  0.000000      0.000000  \n",
       "50%        1.000000                  1.000000      1.000000  \n",
       "75%        4.000000                  4.000000      4.000000  \n",
       "max       64.000000                 82.000000     95.000000  \n",
       "\n",
       "[8 rows x 41 columns]"
      ]
     },
     "execution_count": 7,
     "metadata": {},
     "output_type": "execute_result"
    }
   ],
   "source": [
    "data.describe()"
   ]
  },
  {
   "cell_type": "code",
   "execution_count": 8,
   "id": "parliamentary-exhaust",
   "metadata": {},
   "outputs": [
    {
     "name": "stdout",
     "output_type": "stream",
     "text": [
      "(2566, 12)\n",
      "(30792,)\n",
      "(26921,)\n"
     ]
    }
   ],
   "source": [
    "norm_abundance = data[normalized_columns]\n",
    "print(norm_abundance.shape)\n",
    "# données dans un array d'une dimmenssion\n",
    "norm_abundance = norm_abundance.values.reshape(norm_abundance.shape[0] * norm_abundance.shape[1])\n",
    "print(norm_abundance.shape)\n",
    "# remove 0\n",
    "norm_abundance = norm_abundance[norm_abundance >= 1]\n",
    "print(norm_abundance.shape)"
   ]
  },
  {
   "cell_type": "code",
   "execution_count": 9,
   "id": "affected-spoke",
   "metadata": {},
   "outputs": [
    {
     "name": "stdout",
     "output_type": "stream",
     "text": [
      "1.0980649496244\n",
      "1041290229.71853\n"
     ]
    }
   ],
   "source": [
    "print(min(norm_abundance))\n",
    "print(max(norm_abundance))"
   ]
  },
  {
   "cell_type": "markdown",
   "id": "allied-knife",
   "metadata": {},
   "source": [
    "## Distribution des nombres des digit\n",
    "La liste `distrib_digit` contient 9 dictionnaire (pour les 9 digit), `distrib_digit_tot` est un dictionnaire. `distrib_digit` et `distrib_digit_tot` vont permettre de determiner la distribution des nombre en fonction des premiers digits (la distribution est réalisé en fonction de l'ordre de grandeur des nombres. exemple : 12 est compris entre \\[10;19\\] donc son ordre de grandeur est de 1 ($10^1$), 5420 est compris entre \\[5000;5999\\] donc son ordre de grandeur est de 3 ($10^3$)."
   ]
  },
  {
   "cell_type": "code",
   "execution_count": 10,
   "id": "entitled-webmaster",
   "metadata": {},
   "outputs": [],
   "source": [
    "distrib_digit = [{}, {}, {}, {}, {}, {}, {}, {}, {}]\n",
    "distrib_digit_tot = {}"
   ]
  },
  {
   "cell_type": "code",
   "execution_count": 11,
   "id": "empirical-dialogue",
   "metadata": {},
   "outputs": [],
   "source": [
    "for number in norm_abundance:\n",
    "    number = str(abs(int(number)))\n",
    "    nb_digit = len(number)\n",
    "    if nb_digit in distrib_digit[int(number[0])-1]:\n",
    "        distrib_digit[int(number[0])-1][nb_digit] += 1\n",
    "        distrib_digit_tot[nb_digit] += 1\n",
    "    else:\n",
    "        distrib_digit[int(number[0])-1][nb_digit] = 1\n",
    "        distrib_digit_tot[nb_digit] = 1"
   ]
  },
  {
   "cell_type": "markdown",
   "id": "enormous-local",
   "metadata": {},
   "source": [
    "#### triage des dictionnaires\n",
    "Triage des dictionnaires par ordre croissant en fonction de leurs clées."
   ]
  },
  {
   "cell_type": "code",
   "execution_count": 12,
   "id": "distant-military",
   "metadata": {},
   "outputs": [
    {
     "data": {
      "text/plain": [
       "[{1: 5,\n",
       "  2: 25,\n",
       "  3: 108,\n",
       "  4: 316,\n",
       "  5: 998,\n",
       "  6: 2545,\n",
       "  7: 2707,\n",
       "  8: 1043,\n",
       "  9: 325,\n",
       "  10: 1},\n",
       " {1: 10, 2: 22, 3: 83, 4: 232, 5: 841, 6: 1616, 7: 1339, 8: 412, 9: 78},\n",
       " {1: 6, 2: 15, 3: 69, 4: 187, 5: 712, 6: 1183, 7: 801, 8: 261, 9: 24},\n",
       " {1: 8, 2: 16, 3: 50, 4: 174, 5: 609, 6: 939, 7: 582, 8: 189, 9: 16},\n",
       " {1: 6, 2: 17, 3: 51, 4: 147, 5: 531, 6: 841, 7: 459, 8: 141, 9: 8},\n",
       " {1: 2, 2: 10, 3: 48, 4: 132, 5: 472, 6: 711, 7: 366, 8: 120},\n",
       " {1: 2, 2: 12, 3: 48, 4: 116, 5: 415, 6: 578, 7: 281, 8: 81, 9: 1},\n",
       " {1: 2, 2: 15, 3: 43, 4: 135, 5: 441, 6: 548, 7: 215, 8: 104, 9: 1},\n",
       " {1: 3, 2: 12, 3: 41, 4: 108, 5: 363, 6: 455, 7: 208, 8: 84}]"
      ]
     },
     "execution_count": 12,
     "metadata": {},
     "output_type": "execute_result"
    }
   ],
   "source": [
    "digit_distrib_order = []\n",
    "for i in range(len(distrib_digit)):\n",
    "    digit_distrib_order.append(dict(OrderedDict(sorted(distrib_digit[i].items()))))\n",
    "distrib_digit = digit_distrib_order\n",
    "distrib_digit"
   ]
  },
  {
   "cell_type": "code",
   "execution_count": 13,
   "id": "outside-heather",
   "metadata": {},
   "outputs": [
    {
     "data": {
      "text/plain": [
       "{5: 5352,\n",
       " 6: 9399,\n",
       " 8: 2370,\n",
       " 4: 1492,\n",
       " 7: 6920,\n",
       " 3: 518,\n",
       " 2: 121,\n",
       " 9: 238,\n",
       " 1: 23,\n",
       " 10: 1}"
      ]
     },
     "execution_count": 13,
     "metadata": {},
     "output_type": "execute_result"
    }
   ],
   "source": [
    "distrib_digit_tot = dict(OrderedDict(distrib_digit_tot.items()))\n",
    "distrib_digit_tot"
   ]
  },
  {
   "cell_type": "markdown",
   "id": "greek-northern",
   "metadata": {},
   "source": [
    "### Représentation de la distribution des nombres tous digits confondus"
   ]
  },
  {
   "cell_type": "code",
   "execution_count": 14,
   "id": "interested-lincoln",
   "metadata": {},
   "outputs": [
    {
     "data": {
      "image/png": "[encoded data removed]",
      "text/plain": [
       "<Figure size 504x432 with 1 Axes>"
      ]
     },
     "metadata": {
      "needs_background": "light"
     },
     "output_type": "display_data"
    }
   ],
   "source": [
    "plt.figure(figsize=(7,6))\n",
    "plt.bar(list(distrib_digit_tot.keys()),\n",
    "        ben.normalize_first_digit(np.array(list(distrib_digit_tot.values()))),\n",
    "        width=1, align=\"edge\")\n",
    "lab = []\n",
    "for j in range(len(list(distrib_digit_tot.keys()))+2):\n",
    "    lab.append(f\"10e{j}\")\n",
    "plt.xticks(ticks=list(distrib_digit_tot.keys())+[11, 12],\n",
    "               labels=lab)\n",
    "plt.title(label=f\"Number distribution of {sum(list(distrib_digit_tot.values()))} protein abundance\")\n",
    "plt.ylabel(\"Proportion\");"
   ]
  },
  {
   "cell_type": "markdown",
   "id": "fatal-register",
   "metadata": {},
   "source": [
    "### Représetation de la distribution des nombres pour les 9 digits"
   ]
  },
  {
   "cell_type": "code",
   "execution_count": 15,
   "id": "federal-effectiveness",
   "metadata": {},
   "outputs": [
    {
     "data": {
      "image/png": "[encoded data removed]",
      "text/plain": [
       "<Figure size 504x432 with 1 Axes>"
      ]
     },
     "metadata": {
      "needs_background": "light"
     },
     "output_type": "display_data"
    },
    {
     "data": {
      "image/png": "[encoded data removed]",
      "text/plain": [
       "<Figure size 504x432 with 1 Axes>"
      ]
     },
     "metadata": {
      "needs_background": "light"
     },
     "output_type": "display_data"
    },
    {
     "data": {
      "image/png": "[encoded data removed]",
      "text/plain": [
       "<Figure size 504x432 with 1 Axes>"
      ]
     },
     "metadata": {
      "needs_background": "light"
     },
     "output_type": "display_data"
    },
    {
     "data": {
      "image/png": "[encoded data removed]",
      "text/plain": [
       "<Figure size 504x432 with 1 Axes>"
      ]
     },
     "metadata": {
      "needs_background": "light"
     },
     "output_type": "display_data"
    },
    {
     "data": {
      "image/png": "[encoded data removed]",
      "text/plain": [
       "<Figure size 504x432 with 1 Axes>"
      ]
     },
     "metadata": {
      "needs_background": "light"
     },
     "output_type": "display_data"
    },
    {
     "data": {
      "image/png": "[encoded data removed]",
      "text/plain": [
       "<Figure size 504x432 with 1 Axes>"
      ]
     },
     "metadata": {
      "needs_background": "light"
     },
     "output_type": "display_data"
    },
    {
     "data": {
      "image/png": "[encoded data removed]",
      "text/plain": [
       "<Figure size 504x432 with 1 Axes>"
      ]
     },
     "metadata": {
      "needs_background": "light"
     },
     "output_type": "display_data"
    },
    {
     "data": {
      "image/png": "[encoded data removed]",
      "text/plain": [
       "<Figure size 504x432 with 1 Axes>"
      ]
     },
     "metadata": {
      "needs_background": "light"
     },
     "output_type": "display_data"
    },
    {
     "data": {
      "image/png": "[encoded data removed]",
      "text/plain": [
       "<Figure size 504x432 with 1 Axes>"
      ]
     },
     "metadata": {
      "needs_background": "light"
     },
     "output_type": "display_data"
    }
   ],
   "source": [
    "\n",
    "for i in range(len(distrib_digit)):\n",
    "    plt.figure(figsize=(7,6))\n",
    "    plt.bar(list(distrib_digit[i].keys()),\n",
    "            ben.normalize_first_digit(np.array(list(distrib_digit[i].values()))),\n",
    "           width=1, align=\"edge\")\n",
    "    lab = []\n",
    "    for j in range(len(list(distrib_digit[0].keys()))+2):\n",
    "        lab.append(f\"10e{j}\")\n",
    "    plt.xticks(ticks=list(distrib_digit[0].keys())+[11, 12],\n",
    "               labels=lab)\n",
    "    plt.title(label=f\"Number distribution for digit {i+1}\")\n",
    "    plt.ylabel(\"Proportion\")\n",
    "    plt.xlabel(\"\")\n",
    "    plt.text(0.6, 0.32, f\"Number of protien abundance : {sum(list(distrib_digit[i].values()))}\");"
   ]
  },
  {
   "cell_type": "markdown",
   "id": "valuable-affect",
   "metadata": {},
   "source": [
    "On remarque que la distribution des nombres en fonction de leurs premiers digits est équivalentes et ressemble à la distribution de l'ensemble des nombres de l'ensemble de nombre (26434 abondance de protéines).\n",
    "\n",
    "## Frequence Benford second et dernier digit\n",
    "### Second digit"
   ]
  },
  {
   "cell_type": "code",
   "execution_count": 16,
   "id": "banned-windsor",
   "metadata": {},
   "outputs": [],
   "source": [
    "def count_digit(numbers, digit, nb_digit=1):\n",
    "    size_array = (10 ** nb_digit) - (10 ** (nb_digit - 1))\n",
    "    # array size return\n",
    "    digit_distrib = np.zeros(size_array, dtype=int)\n",
    "    for number in numbers:\n",
    "        number = abs(int(number))\n",
    "        if len(str(number)) > digit-1:\n",
    "            number = str(number)\n",
    "            first = int(number[digit-1])\n",
    "            digit_distrib[first - (10 ** (nb_digit - 1))] += 1\n",
    "\n",
    "    return digit_distrib"
   ]
  },
  {
   "cell_type": "code",
   "execution_count": 17,
   "id": "defensive-logging",
   "metadata": {},
   "outputs": [
    {
     "data": {
      "text/plain": [
       "array([2990, 3027, 2797, 2664, 2610, 2521, 2414, 2310, 5544])"
      ]
     },
     "execution_count": 17,
     "metadata": {},
     "output_type": "execute_result"
    }
   ],
   "source": [
    "second_digit = count_digit(norm_abundance, 2)\n",
    "second_digit"
   ]
  },
  {
   "cell_type": "code",
   "execution_count": 18,
   "id": "aggressive-nirvana",
   "metadata": {},
   "outputs": [
    {
     "data": {
      "image/png": "[encoded data removed]",
      "text/plain": [
       "<Figure size 432x288 with 1 Axes>"
      ]
     },
     "metadata": {
      "needs_background": "light"
     },
     "output_type": "display_data"
    }
   ],
   "source": [
    "ben.build_hist_freq_ben(ben.normalize_first_digit(second_digit),\n",
    "                        ben.get_theoretical_freq_benford(), 1)"
   ]
  },
  {
   "cell_type": "markdown",
   "id": "turned-album",
   "metadata": {},
   "source": [
    "On remarque que le second digit prit indépendement du premier digit ne suit pas la loi de Benford. \n",
    "### Last digit"
   ]
  },
  {
   "cell_type": "code",
   "execution_count": 19,
   "id": "planned-fence",
   "metadata": {},
   "outputs": [],
   "source": [
    "def count_last_digit(numbers, nb_digit=1):\n",
    "    size_array = (10 ** nb_digit) - (10 ** (nb_digit - 1))\n",
    "    # array size return\n",
    "    digit_distrib = np.zeros(size_array, dtype=int)\n",
    "    for number in numbers:\n",
    "        number = abs(int(number))\n",
    "        number = str(number)\n",
    "        first = int(number[-1])\n",
    "        digit_distrib[first - (10 ** (nb_digit - 1))] += 1\n",
    "\n",
    "    return digit_distrib"
   ]
  },
  {
   "cell_type": "code",
   "execution_count": 20,
   "id": "noble-filter",
   "metadata": {},
   "outputs": [
    {
     "data": {
      "text/plain": [
       "array([2659, 2703, 2701, 2748, 2729, 2598, 2759, 2716, 5308])"
      ]
     },
     "execution_count": 20,
     "metadata": {},
     "output_type": "execute_result"
    }
   ],
   "source": [
    "last_digit = count_last_digit(norm_abundance)\n",
    "last_digit"
   ]
  },
  {
   "cell_type": "code",
   "execution_count": 21,
   "id": "constant-source",
   "metadata": {},
   "outputs": [
    {
     "data": {
      "image/png": "[encoded data removed]",
      "text/plain": [
       "<Figure size 432x288 with 1 Axes>"
      ]
     },
     "metadata": {
      "needs_background": "light"
     },
     "output_type": "display_data"
    }
   ],
   "source": [
    "ben.build_hist_freq_ben(ben.normalize_first_digit(last_digit),\n",
    "                        ben.get_theoretical_freq_benford(), 1)"
   ]
  },
  {
   "cell_type": "markdown",
   "id": "complicated-substance",
   "metadata": {},
   "source": [
    "Comme pour le second digit le dernier digit prit indépendement des digit qui le précède ne suit pas la loi de Benford.  \n",
    "\n",
    "La loi de Benford s'applique exlusivement sur le premiers digit d'un ensemble de nombre ou au $n$ premiers digit d'un nombre ou encore $n^{\\text{ième}}$ digit dépendant des digit qui le précède.\n",
    "\n",
    "## Frequence Benford en fonction du nombre de grandeur choisi dans l'ensemble de nombre"
   ]
  },
  {
   "cell_type": "code",
   "execution_count": 22,
   "id": "dried-reproduction",
   "metadata": {},
   "outputs": [],
   "source": [
    "filtered = norm_abundance[(norm_abundance > 10e4) & (norm_abundance < 10e8)]"
   ]
  },
  {
   "cell_type": "code",
   "execution_count": 23,
   "id": "downtown-syria",
   "metadata": {},
   "outputs": [
    {
     "data": {
      "image/png": "[encoded data removed]",
      "text/plain": [
       "<Figure size 432x288 with 1 Axes>"
      ]
     },
     "metadata": {
      "needs_background": "light"
     },
     "output_type": "display_data"
    }
   ],
   "source": [
    "ben.build_hist_freq_ben(ben.normalize_first_digit(ben.count_first_digit(filtered)),\n",
    "                        ben.get_theoretical_freq_benford(), 1)"
   ]
  },
  {
   "cell_type": "markdown",
   "id": "missing-appendix",
   "metadata": {},
   "source": [
    "En faisant varier l'intervalle du nombre d'ordre de grandeur choisi dans notre ensemble de nombre, on remarque que seul l'intégralité de l'ensembe de nombre suit la loi de Benford. Ici on remarque que les nombre compris entre 10 000 et 100 000 000 semble suivre la loi de benford sauf pour le digit 1 où l'on remarque que la fréquence observée est plus élevée que la fréquence de la loi de Benford.  \n",
    "\n",
    "On peut en conclure que c'est seulement un ensemble de nombre complet qui suit la loi de Benford. Et qu'un sous-ensemble de cette ensemble de nombre de ne suit pas forcément la loi de Benford."
   ]
  },
  {
   "cell_type": "code",
   "execution_count": null,
   "id": "automatic-direction",
   "metadata": {},
   "outputs": [],
   "source": []
  },
  {
   "cell_type": "code",
   "execution_count": null,
   "id": "above-quarter",
   "metadata": {},
   "outputs": [],
   "source": []
  },
  {
   "cell_type": "code",
   "execution_count": 24,
   "id": "polished-anthony",
   "metadata": {},
   "outputs": [],
   "source": [
    "from scipy.stats import kstest"
   ]
  },
  {
   "cell_type": "code",
   "execution_count": 25,
   "id": "normal-prompt",
   "metadata": {},
   "outputs": [
    {
     "data": {
      "text/plain": [
       "KstestResult(statistic=0.1111111111111111, pvalue=1.0)"
      ]
     },
     "execution_count": 25,
     "metadata": {},
     "output_type": "execute_result"
    }
   ],
   "source": [
    "kstest(ben.get_theoretical_freq_benford(), ben.normalize_first_digit(ben.count_first_digit(norm_abundance)), N=9)"
   ]
  },
  {
   "cell_type": "code",
   "execution_count": null,
   "id": "weekly-blast",
   "metadata": {},
   "outputs": [],
   "source": []
  }
 ],
 "metadata": {
  "kernelspec": {
   "display_name": "Python 3",
   "language": "python",
   "name": "python3"
  },
  "language_info": {
   "codemirror_mode": {
    "name": "ipython",
    "version": 3
   },
   "file_extension": ".py",
   "mimetype": "text/x-python",
   "name": "python",
   "nbconvert_exporter": "python",
   "pygments_lexer": "ipython3",
   "version": "3.7.9"
  }
 },
 "nbformat": 4,
 "nbformat_minor": 5
}
