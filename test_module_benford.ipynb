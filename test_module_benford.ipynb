{
 "cells": [
  {
   "cell_type": "markdown",
   "id": "handed-carrier",
   "metadata": {},
   "source": [
    "# notebook pour l'implémentation de nouvelles fonction pour le module python\n",
    "notebook pour tester l'implémentation des nouvelles fonctions du module benford.py"
   ]
  },
  {
   "cell_type": "code",
   "execution_count": 1,
   "id": "unsigned-belarus",
   "metadata": {},
   "outputs": [],
   "source": [
    "import pandas as pd\n",
    "import numpy as np\n",
    "import matplotlib.pyplot as plt\n",
    "import os, sys, math\n",
    "sys.path.insert(0, \"..\")\n",
    "import benford as ben\n",
    "\n",
    "\n",
    "%load_ext autoreload\n",
    "%autoreload 2"
   ]
  },
  {
   "cell_type": "code",
   "execution_count": 2,
   "id": "graduate-blade",
   "metadata": {},
   "outputs": [
    {
     "name": "stdout",
     "output_type": "stream",
     "text": [
      "(2356, 12)\n"
     ]
    },
    {
     "data": {
      "text/html": [
       "<div>\n",
       "<style scoped>\n",
       "    .dataframe tbody tr th:only-of-type {\n",
       "        vertical-align: middle;\n",
       "    }\n",
       "\n",
       "    .dataframe tbody tr th {\n",
       "        vertical-align: top;\n",
       "    }\n",
       "\n",
       "    .dataframe thead th {\n",
       "        text-align: right;\n",
       "    }\n",
       "</style>\n",
       "<table border=\"1\" class=\"dataframe\">\n",
       "  <thead>\n",
       "    <tr style=\"text-align: right;\">\n",
       "      <th></th>\n",
       "      <th>0</th>\n",
       "      <th>1</th>\n",
       "      <th>2</th>\n",
       "      <th>3</th>\n",
       "      <th>4</th>\n",
       "      <th>5</th>\n",
       "      <th>6</th>\n",
       "      <th>7</th>\n",
       "      <th>8</th>\n",
       "      <th>9</th>\n",
       "      <th>10</th>\n",
       "      <th>11</th>\n",
       "    </tr>\n",
       "  </thead>\n",
       "  <tbody>\n",
       "    <tr>\n",
       "      <th>0</th>\n",
       "      <td>9.325899e+04</td>\n",
       "      <td>2.765206e+04</td>\n",
       "      <td>6.973654e+04</td>\n",
       "      <td>6.309967e+04</td>\n",
       "      <td>2.252522e+04</td>\n",
       "      <td>5.307728e+04</td>\n",
       "      <td>9.088306e+04</td>\n",
       "      <td>2.035561e+04</td>\n",
       "      <td>0.000000e+00</td>\n",
       "      <td>0.000000e+00</td>\n",
       "      <td>1.021926e+05</td>\n",
       "      <td>1.794098e+05</td>\n",
       "    </tr>\n",
       "    <tr>\n",
       "      <th>1</th>\n",
       "      <td>5.042612e+07</td>\n",
       "      <td>1.592204e+07</td>\n",
       "      <td>4.388571e+07</td>\n",
       "      <td>1.824970e+07</td>\n",
       "      <td>1.596605e+07</td>\n",
       "      <td>1.566419e+07</td>\n",
       "      <td>2.563818e+07</td>\n",
       "      <td>2.666071e+07</td>\n",
       "      <td>1.431299e+07</td>\n",
       "      <td>2.617207e+07</td>\n",
       "      <td>2.847710e+07</td>\n",
       "      <td>4.051467e+07</td>\n",
       "    </tr>\n",
       "    <tr>\n",
       "      <th>2</th>\n",
       "      <td>0.000000e+00</td>\n",
       "      <td>0.000000e+00</td>\n",
       "      <td>6.015709e+03</td>\n",
       "      <td>2.413695e+03</td>\n",
       "      <td>0.000000e+00</td>\n",
       "      <td>0.000000e+00</td>\n",
       "      <td>0.000000e+00</td>\n",
       "      <td>0.000000e+00</td>\n",
       "      <td>2.132027e+03</td>\n",
       "      <td>4.891291e+04</td>\n",
       "      <td>2.974154e+04</td>\n",
       "      <td>4.261914e+04</td>\n",
       "    </tr>\n",
       "    <tr>\n",
       "      <th>3</th>\n",
       "      <td>1.560630e+07</td>\n",
       "      <td>7.262593e+06</td>\n",
       "      <td>4.718013e+06</td>\n",
       "      <td>2.570901e+06</td>\n",
       "      <td>1.629196e+06</td>\n",
       "      <td>2.344451e+06</td>\n",
       "      <td>2.178284e+07</td>\n",
       "      <td>2.715498e+07</td>\n",
       "      <td>1.042588e+06</td>\n",
       "      <td>2.429717e+06</td>\n",
       "      <td>1.749820e+06</td>\n",
       "      <td>2.306792e+06</td>\n",
       "    </tr>\n",
       "    <tr>\n",
       "      <th>4</th>\n",
       "      <td>0.000000e+00</td>\n",
       "      <td>0.000000e+00</td>\n",
       "      <td>0.000000e+00</td>\n",
       "      <td>0.000000e+00</td>\n",
       "      <td>0.000000e+00</td>\n",
       "      <td>0.000000e+00</td>\n",
       "      <td>0.000000e+00</td>\n",
       "      <td>0.000000e+00</td>\n",
       "      <td>0.000000e+00</td>\n",
       "      <td>0.000000e+00</td>\n",
       "      <td>2.729096e+03</td>\n",
       "      <td>3.448312e+04</td>\n",
       "    </tr>\n",
       "  </tbody>\n",
       "</table>\n",
       "</div>"
      ],
      "text/plain": [
       "             0             1             2             3             4   \\\n",
       "0  9.325899e+04  2.765206e+04  6.973654e+04  6.309967e+04  2.252522e+04   \n",
       "1  5.042612e+07  1.592204e+07  4.388571e+07  1.824970e+07  1.596605e+07   \n",
       "2  0.000000e+00  0.000000e+00  6.015709e+03  2.413695e+03  0.000000e+00   \n",
       "3  1.560630e+07  7.262593e+06  4.718013e+06  2.570901e+06  1.629196e+06   \n",
       "4  0.000000e+00  0.000000e+00  0.000000e+00  0.000000e+00  0.000000e+00   \n",
       "\n",
       "             5             6             7             8             9   \\\n",
       "0  5.307728e+04  9.088306e+04  2.035561e+04  0.000000e+00  0.000000e+00   \n",
       "1  1.566419e+07  2.563818e+07  2.666071e+07  1.431299e+07  2.617207e+07   \n",
       "2  0.000000e+00  0.000000e+00  0.000000e+00  2.132027e+03  4.891291e+04   \n",
       "3  2.344451e+06  2.178284e+07  2.715498e+07  1.042588e+06  2.429717e+06   \n",
       "4  0.000000e+00  0.000000e+00  0.000000e+00  0.000000e+00  0.000000e+00   \n",
       "\n",
       "             10            11  \n",
       "0  1.021926e+05  1.794098e+05  \n",
       "1  2.847710e+07  4.051467e+07  \n",
       "2  2.974154e+04  4.261914e+04  \n",
       "3  1.749820e+06  2.306792e+06  \n",
       "4  2.729096e+03  3.448312e+04  "
      ]
     },
     "execution_count": 2,
     "metadata": {},
     "output_type": "execute_result"
    }
   ],
   "source": [
    "data = pd.read_csv(\"tests/Data_exp/1512006-Calbicans-QUANTI_raw_abundance.csv\", sep=\",\", header=None)\n",
    "print(data.shape)\n",
    "data.head()"
   ]
  },
  {
   "cell_type": "code",
   "execution_count": 3,
   "id": "nominated-saskatchewan",
   "metadata": {},
   "outputs": [
    {
     "name": "stdout",
     "output_type": "stream",
     "text": [
      "(28272,)\n"
     ]
    }
   ],
   "source": [
    "# données dans un array d'une dimmenssion\n",
    "exp_numbers = data.values.reshape(data.shape[0]*data.shape[1])\n",
    "print(exp_numbers.shape)\n",
    "exp_numbers = np.array(exp_numbers, dtype=int)"
   ]
  },
  {
   "cell_type": "code",
   "execution_count": 4,
   "id": "mental-needle",
   "metadata": {},
   "outputs": [
    {
     "data": {
      "text/plain": [
       "(26919,)"
      ]
     },
     "execution_count": 4,
     "metadata": {},
     "output_type": "execute_result"
    }
   ],
   "source": [
    "# Remove 0\n",
    "exp_numbers = exp_numbers[ exp_numbers > 0 ]\n",
    "exp_numbers.shape"
   ]
  },
  {
   "cell_type": "code",
   "execution_count": 5,
   "id": "talented-president",
   "metadata": {},
   "outputs": [
    {
     "data": {
      "text/plain": [
       "array([7942, 4691, 3273, 2642, 2176, 1885, 1638, 1390, 1282])"
      ]
     },
     "execution_count": 5,
     "metadata": {},
     "output_type": "execute_result"
    }
   ],
   "source": [
    "first_digit = ben.count_first_digit(exp_numbers, nb_digit=1)\n",
    "first_digit"
   ]
  },
  {
   "cell_type": "code",
   "execution_count": 6,
   "id": "secure-exploration",
   "metadata": {},
   "outputs": [
    {
     "data": {
      "text/plain": [
       "array([0.29503325, 0.17426353, 0.12158698, 0.09814629, 0.0808351 ,\n",
       "       0.07002489, 0.06084921, 0.05163639, 0.04762435])"
      ]
     },
     "execution_count": 6,
     "metadata": {},
     "output_type": "execute_result"
    }
   ],
   "source": [
    "first_digit_norm = ben.normalize_first_digit(first_digit)\n",
    "first_digit_norm"
   ]
  },
  {
   "cell_type": "markdown",
   "id": "taken-plate",
   "metadata": {},
   "source": [
    "## Fonction POM (Physical Order of Magnitude)"
   ]
  },
  {
   "cell_type": "code",
   "execution_count": 7,
   "id": "deluxe-bunch",
   "metadata": {},
   "outputs": [
    {
     "name": "stdout",
     "output_type": "stream",
     "text": [
      "POM : 885178948.0\n"
     ]
    },
    {
     "data": {
      "text/plain": [
       "885178948.0"
      ]
     },
     "execution_count": 7,
     "metadata": {},
     "output_type": "execute_result"
    }
   ],
   "source": [
    "ben.calculate_pom(exp_numbers)"
   ]
  },
  {
   "cell_type": "markdown",
   "id": "later-breakfast",
   "metadata": {},
   "source": [
    "## fonction OOM (Order of Magnitude)"
   ]
  },
  {
   "cell_type": "code",
   "execution_count": 8,
   "id": "passive-federal",
   "metadata": {},
   "outputs": [
    {
     "name": "stdout",
     "output_type": "stream",
     "text": [
      "POM : 885178948.0\n",
      "OOM : 8.94703107665586\n"
     ]
    },
    {
     "data": {
      "text/plain": [
       "8.94703107665586"
      ]
     },
     "execution_count": 8,
     "metadata": {},
     "output_type": "execute_result"
    }
   ],
   "source": [
    "ben.calculate_oom(exp_numbers)"
   ]
  },
  {
   "cell_type": "markdown",
   "id": "distinguished-artist",
   "metadata": {},
   "source": [
    "## Fonction SSD (Sum of Squares Deviation)"
   ]
  },
  {
   "cell_type": "code",
   "execution_count": 9,
   "id": "paperback-comfort",
   "metadata": {},
   "outputs": [
    {
     "name": "stdout",
     "output_type": "stream",
     "text": [
      "SDD : 0.7615741694551663\n"
     ]
    },
    {
     "data": {
      "text/plain": [
       "0.7615741694551663"
      ]
     },
     "execution_count": 9,
     "metadata": {},
     "output_type": "execute_result"
    }
   ],
   "source": [
    "ben.calculate_ssd(first_digit_norm, ben.get_theoretical_freq_benford())"
   ]
  },
  {
   "cell_type": "markdown",
   "id": "frequent-relative",
   "metadata": {},
   "source": [
    "## Fonction RMSSD (Root Mean Sum of Square Deviation)"
   ]
  },
  {
   "cell_type": "code",
   "execution_count": 10,
   "id": "finnish-million",
   "metadata": {},
   "outputs": [
    {
     "name": "stdout",
     "output_type": "stream",
     "text": [
      "SDD : 0.7615741694551663\n",
      "RMSSD : 0.2908940565939517\n"
     ]
    },
    {
     "data": {
      "text/plain": [
       "0.2908940565939517"
      ]
     },
     "execution_count": 10,
     "metadata": {},
     "output_type": "execute_result"
    }
   ],
   "source": [
    "ben.calculate_rmssd(first_digit_norm, ben.get_theoretical_freq_benford())"
   ]
  },
  {
   "cell_type": "markdown",
   "id": "drawn-guard",
   "metadata": {},
   "source": [
    "## Fonction chisquare test (sans bootstrap)"
   ]
  },
  {
   "cell_type": "code",
   "execution_count": 11,
   "id": "forced-victor",
   "metadata": {},
   "outputs": [
    {
     "name": "stdout",
     "output_type": "stream",
     "text": [
      "statistics : 17.274209428053247 ; p-value : 0.027377095106173994\n"
     ]
    },
    {
     "data": {
      "text/plain": [
       "(17.274209428053247, 0.027377095106173994)"
      ]
     },
     "execution_count": 11,
     "metadata": {},
     "output_type": "execute_result"
    }
   ],
   "source": [
    "ben.chi2_test(exp_numbers, ben.get_theoretical_freq_benford())"
   ]
  },
  {
   "cell_type": "markdown",
   "id": "compound-complex",
   "metadata": {},
   "source": [
    "#### avec bootstrap"
   ]
  },
  {
   "cell_type": "code",
   "execution_count": 12,
   "id": "bright-teddy",
   "metadata": {},
   "outputs": [
    {
     "name": "stdout",
     "output_type": "stream",
     "text": [
      "statistics : 8.400410263951448 ; p-value : 0.3953653873747007 ; number of significant tests : 58\n"
     ]
    },
    {
     "data": {
      "text/plain": [
       "(8.400410263951448, 0.3953653873747007, 58)"
      ]
     },
     "execution_count": 12,
     "metadata": {},
     "output_type": "execute_result"
    }
   ],
   "source": [
    "ben.calculate_bootstrap_chi2(exp_numbers, ben.get_theoretical_freq_benford(), nb_digit=1,\n",
    "                            type_test=0)"
   ]
  },
  {
   "cell_type": "markdown",
   "id": "toxic-independence",
   "metadata": {},
   "source": [
    "## Fonction G-test (sans bootstrap)"
   ]
  },
  {
   "cell_type": "code",
   "execution_count": 13,
   "id": "northern-canvas",
   "metadata": {},
   "outputs": [
    {
     "name": "stdout",
     "output_type": "stream",
     "text": [
      "[7942 4691 3273 2642 2176 1885 1638 1390 1282]\n",
      "[8103.42645328 4740.20060252 3363.22585076 2608.72064016 2131.47996236\n",
      " 1802.14063007 1561.08522069 1376.97475176 1231.7458884 ]\n",
      "statistics : 17.16574732677782 ; p-value : 0.02842870395537781\n"
     ]
    },
    {
     "data": {
      "text/plain": [
       "(17.16574732677782, 0.02842870395537781)"
      ]
     },
     "execution_count": 13,
     "metadata": {},
     "output_type": "execute_result"
    }
   ],
   "source": [
    "ben.g_test(exp_numbers, ben.get_theoretical_freq_benford())"
   ]
  },
  {
   "cell_type": "markdown",
   "id": "alternate-forty",
   "metadata": {},
   "source": [
    "## Fonction calcul de la distance de Hellinger\n",
    "\n",
    "très sensible aux petites déviation de la loi de Benford"
   ]
  },
  {
   "cell_type": "code",
   "execution_count": 14,
   "id": "medium-nicaragua",
   "metadata": {},
   "outputs": [
    {
     "name": "stdout",
     "output_type": "stream",
     "text": [
      "Hellinger distance : 0.006776437622267773\n"
     ]
    },
    {
     "data": {
      "text/plain": [
       "0.006776437622267773"
      ]
     },
     "execution_count": 14,
     "metadata": {},
     "output_type": "execute_result"
    }
   ],
   "source": [
    "ben.calculate_dist_hellinger(first_digit_norm, ben.get_theoretical_freq_benford())"
   ]
  },
  {
   "cell_type": "markdown",
   "id": "approved-tuner",
   "metadata": {},
   "source": [
    "## Fonction calcul de la distance de Kullback & Leibler"
   ]
  },
  {
   "cell_type": "code",
   "execution_count": 15,
   "id": "professional-courtesy",
   "metadata": {},
   "outputs": [
    {
     "name": "stdout",
     "output_type": "stream",
     "text": [
      "Kullback & Leibler distance : 0.00013847077049230464\n"
     ]
    },
    {
     "data": {
      "text/plain": [
       "0.00013847077049230464"
      ]
     },
     "execution_count": 15,
     "metadata": {},
     "output_type": "execute_result"
    }
   ],
   "source": [
    "ben.calculate_dist_k_and_l(first_digit_norm, ben.get_theoretical_freq_benford())"
   ]
  },
  {
   "cell_type": "markdown",
   "id": "minute-carry",
   "metadata": {},
   "source": [
    "# Test sur la taille des protéines de swissProt"
   ]
  },
  {
   "cell_type": "code",
   "execution_count": 17,
   "id": "spanish-heaven",
   "metadata": {},
   "outputs": [
    {
     "name": "stdout",
     "output_type": "stream",
     "text": [
      "(2356, 12)\n"
     ]
    },
    {
     "data": {
      "text/html": [
       "<div>\n",
       "<style scoped>\n",
       "    .dataframe tbody tr th:only-of-type {\n",
       "        vertical-align: middle;\n",
       "    }\n",
       "\n",
       "    .dataframe tbody tr th {\n",
       "        vertical-align: top;\n",
       "    }\n",
       "\n",
       "    .dataframe thead th {\n",
       "        text-align: right;\n",
       "    }\n",
       "</style>\n",
       "<table border=\"1\" class=\"dataframe\">\n",
       "  <thead>\n",
       "    <tr style=\"text-align: right;\">\n",
       "      <th></th>\n",
       "      <th>0</th>\n",
       "      <th>1</th>\n",
       "      <th>2</th>\n",
       "      <th>3</th>\n",
       "      <th>4</th>\n",
       "      <th>5</th>\n",
       "      <th>6</th>\n",
       "      <th>7</th>\n",
       "      <th>8</th>\n",
       "      <th>9</th>\n",
       "      <th>10</th>\n",
       "      <th>11</th>\n",
       "    </tr>\n",
       "  </thead>\n",
       "  <tbody>\n",
       "    <tr>\n",
       "      <th>0</th>\n",
       "      <td>9.325899e+04</td>\n",
       "      <td>2.765206e+04</td>\n",
       "      <td>6.973654e+04</td>\n",
       "      <td>6.309967e+04</td>\n",
       "      <td>2.252522e+04</td>\n",
       "      <td>5.307728e+04</td>\n",
       "      <td>9.088306e+04</td>\n",
       "      <td>2.035561e+04</td>\n",
       "      <td>0.000000e+00</td>\n",
       "      <td>0.000000e+00</td>\n",
       "      <td>1.021926e+05</td>\n",
       "      <td>1.794098e+05</td>\n",
       "    </tr>\n",
       "    <tr>\n",
       "      <th>1</th>\n",
       "      <td>5.042612e+07</td>\n",
       "      <td>1.592204e+07</td>\n",
       "      <td>4.388571e+07</td>\n",
       "      <td>1.824970e+07</td>\n",
       "      <td>1.596605e+07</td>\n",
       "      <td>1.566419e+07</td>\n",
       "      <td>2.563818e+07</td>\n",
       "      <td>2.666071e+07</td>\n",
       "      <td>1.431299e+07</td>\n",
       "      <td>2.617207e+07</td>\n",
       "      <td>2.847710e+07</td>\n",
       "      <td>4.051467e+07</td>\n",
       "    </tr>\n",
       "    <tr>\n",
       "      <th>2</th>\n",
       "      <td>0.000000e+00</td>\n",
       "      <td>0.000000e+00</td>\n",
       "      <td>6.015709e+03</td>\n",
       "      <td>2.413695e+03</td>\n",
       "      <td>0.000000e+00</td>\n",
       "      <td>0.000000e+00</td>\n",
       "      <td>0.000000e+00</td>\n",
       "      <td>0.000000e+00</td>\n",
       "      <td>2.132027e+03</td>\n",
       "      <td>4.891291e+04</td>\n",
       "      <td>2.974154e+04</td>\n",
       "      <td>4.261914e+04</td>\n",
       "    </tr>\n",
       "    <tr>\n",
       "      <th>3</th>\n",
       "      <td>1.560630e+07</td>\n",
       "      <td>7.262593e+06</td>\n",
       "      <td>4.718013e+06</td>\n",
       "      <td>2.570901e+06</td>\n",
       "      <td>1.629196e+06</td>\n",
       "      <td>2.344451e+06</td>\n",
       "      <td>2.178284e+07</td>\n",
       "      <td>2.715498e+07</td>\n",
       "      <td>1.042588e+06</td>\n",
       "      <td>2.429717e+06</td>\n",
       "      <td>1.749820e+06</td>\n",
       "      <td>2.306792e+06</td>\n",
       "    </tr>\n",
       "    <tr>\n",
       "      <th>4</th>\n",
       "      <td>0.000000e+00</td>\n",
       "      <td>0.000000e+00</td>\n",
       "      <td>0.000000e+00</td>\n",
       "      <td>0.000000e+00</td>\n",
       "      <td>0.000000e+00</td>\n",
       "      <td>0.000000e+00</td>\n",
       "      <td>0.000000e+00</td>\n",
       "      <td>0.000000e+00</td>\n",
       "      <td>0.000000e+00</td>\n",
       "      <td>0.000000e+00</td>\n",
       "      <td>2.729096e+03</td>\n",
       "      <td>3.448312e+04</td>\n",
       "    </tr>\n",
       "  </tbody>\n",
       "</table>\n",
       "</div>"
      ],
      "text/plain": [
       "             0             1             2             3             4   \\\n",
       "0  9.325899e+04  2.765206e+04  6.973654e+04  6.309967e+04  2.252522e+04   \n",
       "1  5.042612e+07  1.592204e+07  4.388571e+07  1.824970e+07  1.596605e+07   \n",
       "2  0.000000e+00  0.000000e+00  6.015709e+03  2.413695e+03  0.000000e+00   \n",
       "3  1.560630e+07  7.262593e+06  4.718013e+06  2.570901e+06  1.629196e+06   \n",
       "4  0.000000e+00  0.000000e+00  0.000000e+00  0.000000e+00  0.000000e+00   \n",
       "\n",
       "             5             6             7             8             9   \\\n",
       "0  5.307728e+04  9.088306e+04  2.035561e+04  0.000000e+00  0.000000e+00   \n",
       "1  1.566419e+07  2.563818e+07  2.666071e+07  1.431299e+07  2.617207e+07   \n",
       "2  0.000000e+00  0.000000e+00  0.000000e+00  2.132027e+03  4.891291e+04   \n",
       "3  2.344451e+06  2.178284e+07  2.715498e+07  1.042588e+06  2.429717e+06   \n",
       "4  0.000000e+00  0.000000e+00  0.000000e+00  0.000000e+00  0.000000e+00   \n",
       "\n",
       "             10            11  \n",
       "0  1.021926e+05  1.794098e+05  \n",
       "1  2.847710e+07  4.051467e+07  \n",
       "2  2.974154e+04  4.261914e+04  \n",
       "3  1.749820e+06  2.306792e+06  \n",
       "4  2.729096e+03  3.448312e+04  "
      ]
     },
     "execution_count": 17,
     "metadata": {},
     "output_type": "execute_result"
    }
   ],
   "source": [
    "data2 = pd.read_csv(\"tests/Prot_tot_uniprot/uniprot-reviewed yes.tab\", sep=\"\\t\",\n",
    "                   header=0)\n",
    "print(data.shape)\n",
    "data.head()"
   ]
  },
  {
   "cell_type": "code",
   "execution_count": 18,
   "id": "fatty-playback",
   "metadata": {},
   "outputs": [
    {
     "data": {
      "text/plain": [
       "Q8K9I1     960\n",
       "Q664P8     255\n",
       "Q66K14    1250\n",
       "Q8E4B4     239\n",
       "B3CQ06     426\n",
       "          ... \n",
       "C3L855     410\n",
       "P41413    1809\n",
       "B7HED5     394\n",
       "B1IUE0     408\n",
       "Q1KXU1      31\n",
       "Name: Entry Length, Length: 564638, dtype: int64"
      ]
     },
     "execution_count": 18,
     "metadata": {},
     "output_type": "execute_result"
    }
   ],
   "source": [
    "prot_len = data2[\"Entry Length\"]\n",
    "prot_len"
   ]
  },
  {
   "cell_type": "code",
   "execution_count": 19,
   "id": "circular-lesbian",
   "metadata": {},
   "outputs": [
    {
     "name": "stdout",
     "output_type": "stream",
     "text": [
      "POM : 17606.5\n",
      "POM : 17606.5\n",
      "OOM : 4.245673031051872\n"
     ]
    },
    {
     "data": {
      "text/plain": [
       "4.245673031051872"
      ]
     },
     "execution_count": 19,
     "metadata": {},
     "output_type": "execute_result"
    }
   ],
   "source": [
    "# fonction pom :\n",
    "ben.calculate_pom(prot_len)\n",
    "# fonction oom :\n",
    "ben.calculate_oom(prot_len)"
   ]
  },
  {
   "cell_type": "code",
   "execution_count": 20,
   "id": "impressed-hundred",
   "metadata": {},
   "outputs": [
    {
     "name": "stdout",
     "output_type": "stream",
     "text": [
      "SDD : 88.79459235866496\n",
      "SDD : 88.79459235866496\n",
      "RMSSD : 3.1410294200515603\n"
     ]
    },
    {
     "data": {
      "text/plain": [
       "3.1410294200515603"
      ]
     },
     "execution_count": 20,
     "metadata": {},
     "output_type": "execute_result"
    }
   ],
   "source": [
    "d_obs = ben.count_first_digit(prot_len)\n",
    "# fonction ssd :\n",
    "ben.calculate_ssd(ben.normalize_first_digit(d_obs), ben.get_theoretical_freq_benford())\n",
    "# fonction rmssd :\n",
    "ben.calculate_rmssd(ben.normalize_first_digit(d_obs), ben.get_theoretical_freq_benford())"
   ]
  },
  {
   "cell_type": "code",
   "execution_count": 21,
   "id": "internal-anaheim",
   "metadata": {},
   "outputs": [
    {
     "name": "stdout",
     "output_type": "stream",
     "text": [
      "Hellinger distance : 0.027956872229815403\n"
     ]
    },
    {
     "data": {
      "text/plain": [
       "0.027956872229815403"
      ]
     },
     "execution_count": 21,
     "metadata": {},
     "output_type": "execute_result"
    }
   ],
   "source": [
    "# fonction Hellinger distance0.013833265465795642\n",
    "ben.calculate_dist_hellinger(ben.normalize_first_digit(d_obs), ben.get_theoretical_freq_benford())"
   ]
  },
  {
   "cell_type": "code",
   "execution_count": 22,
   "id": "traditional-membership",
   "metadata": {},
   "outputs": [
    {
     "name": "stdout",
     "output_type": "stream",
     "text": [
      "Kullback & Leibler distance : 0.013833265465795642\n"
     ]
    },
    {
     "data": {
      "text/plain": [
       "0.013833265465795642"
      ]
     },
     "execution_count": 22,
     "metadata": {},
     "output_type": "execute_result"
    }
   ],
   "source": [
    "# fonction K&L distance\n",
    "ben.calculate_dist_k_and_l(ben.normalize_first_digit(d_obs), ben.get_theoretical_freq_benford())"
   ]
  },
  {
   "cell_type": "code",
   "execution_count": 23,
   "id": "revised-wisdom",
   "metadata": {},
   "outputs": [],
   "source": [
    "## test mise à jour count_first_digit"
   ]
  },
  {
   "cell_type": "code",
   "execution_count": 40,
   "id": "assumed-figure",
   "metadata": {},
   "outputs": [],
   "source": [
    "numbers = [-15.01, -0.025, 0.0000325, 0.0045004508, -0.005500145, -15]"
   ]
  },
  {
   "cell_type": "code",
   "execution_count": 41,
   "id": "recognized-globe",
   "metadata": {},
   "outputs": [
    {
     "data": {
      "text/plain": [
       "array([2, 1, 1, 1, 1, 0, 0, 0, 0])"
      ]
     },
     "execution_count": 41,
     "metadata": {},
     "output_type": "execute_result"
    }
   ],
   "source": [
    "fd_numbers = ben.count_first_digit(numbers)\n",
    "fd_numbers"
   ]
  },
  {
   "cell_type": "code",
   "execution_count": null,
   "id": "promising-prototype",
   "metadata": {},
   "outputs": [],
   "source": []
  },
  {
   "cell_type": "code",
   "execution_count": null,
   "id": "modular-bahamas",
   "metadata": {},
   "outputs": [],
   "source": []
  },
  {
   "cell_type": "code",
   "execution_count": null,
   "id": "afraid-visibility",
   "metadata": {},
   "outputs": [],
   "source": []
  },
  {
   "cell_type": "code",
   "execution_count": 26,
   "id": "sought-parameter",
   "metadata": {},
   "outputs": [
    {
     "name": "stdout",
     "output_type": "stream",
     "text": [
      "Kullback & Leibler distance : -0.0\n"
     ]
    },
    {
     "data": {
      "text/plain": [
       "-0.0"
      ]
     },
     "execution_count": 26,
     "metadata": {},
     "output_type": "execute_result"
    }
   ],
   "source": [
    "ben.calculate_dist_k_and_l(ben.get_theoretical_freq_benford(), ben.get_theoretical_freq_benford())"
   ]
  },
  {
   "cell_type": "code",
   "execution_count": 27,
   "id": "inside-ceiling",
   "metadata": {},
   "outputs": [
    {
     "name": "stdout",
     "output_type": "stream",
     "text": [
      "Hellinger distance : 0.0\n"
     ]
    },
    {
     "data": {
      "text/plain": [
       "0.0"
      ]
     },
     "execution_count": 27,
     "metadata": {},
     "output_type": "execute_result"
    }
   ],
   "source": [
    "ben.calculate_dist_hellinger(ben.get_theoretical_freq_benford(), ben.get_theoretical_freq_benford())"
   ]
  },
  {
   "cell_type": "code",
   "execution_count": 28,
   "id": "planned-climate",
   "metadata": {},
   "outputs": [
    {
     "data": {
      "text/plain": [
       "[0.1111111111111111,\n",
       " 0.1111111111111111,\n",
       " 0.1111111111111111,\n",
       " 0.1111111111111111,\n",
       " 0.1111111111111111,\n",
       " 0.1111111111111111,\n",
       " 0.1111111111111111,\n",
       " 0.1111111111111111,\n",
       " 0.1111111111111111]"
      ]
     },
     "execution_count": 28,
     "metadata": {},
     "output_type": "execute_result"
    }
   ],
   "source": [
    "f_obs = [1/9]\n",
    "f_obs = f_obs * 9\n",
    "f_obs"
   ]
  },
  {
   "cell_type": "code",
   "execution_count": 32,
   "id": "accessory-source",
   "metadata": {},
   "outputs": [
    {
     "name": "stdout",
     "output_type": "stream",
     "text": [
      "Hellinger distance : 0.10317283367839158\n"
     ]
    },
    {
     "data": {
      "text/plain": [
       "0.10317283367839158"
      ]
     },
     "execution_count": 32,
     "metadata": {},
     "output_type": "execute_result"
    }
   ],
   "source": [
    "ben.calculate_dist_hellinger(f_obs, ben.get_theoretical_freq_benford())"
   ]
  },
  {
   "cell_type": "code",
   "execution_count": 39,
   "id": "statutory-underground",
   "metadata": {},
   "outputs": [
    {
     "name": "stdout",
     "output_type": "stream",
     "text": [
      "statistics : 74.06886982931206 ; p-value : 7.576077212514461e-13\n"
     ]
    },
    {
     "data": {
      "text/plain": [
       "(74.06886982931206, 7.576077212514461e-13)"
      ]
     },
     "execution_count": 39,
     "metadata": {},
     "output_type": "execute_result"
    }
   ],
   "source": [
    "ben.calculate_bootstrap_chi2(prot_len, ben.get_theoretical_freq_benford(), 1)"
   ]
  },
  {
   "cell_type": "code",
   "execution_count": null,
   "id": "cardiac-investor",
   "metadata": {},
   "outputs": [],
   "source": []
  }
 ],
 "metadata": {
  "kernelspec": {
   "display_name": "Python 3",
   "language": "python",
   "name": "python3"
  },
  "language_info": {
   "codemirror_mode": {
    "name": "ipython",
    "version": 3
   },
   "file_extension": ".py",
   "mimetype": "text/x-python",
   "name": "python",
   "nbconvert_exporter": "python",
   "pygments_lexer": "ipython3",
   "version": "3.7.9"
  }
 },
 "nbformat": 4,
 "nbformat_minor": 5
}
