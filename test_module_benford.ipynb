{
 "cells": [
  {
   "cell_type": "markdown",
   "id": "therapeutic-victorian",
   "metadata": {},
   "source": [
    "# notebook pour l'implémentation de nouvelles fonction pour le module python\n",
    "notebook pour tester l'implémentation des nouvelles fonctions du module benford.py"
   ]
  },
  {
   "cell_type": "code",
   "execution_count": 60,
   "id": "impossible-particular",
   "metadata": {},
   "outputs": [
    {
     "name": "stdout",
     "output_type": "stream",
     "text": [
      "The autoreload extension is already loaded. To reload it, use:\n",
      "  %reload_ext autoreload\n"
     ]
    }
   ],
   "source": [
    "import pandas as pd\n",
    "import numpy as np\n",
    "import matplotlib.pyplot as plt\n",
    "import os, sys, math\n",
    "sys.path.insert(0, \"..\")\n",
    "import benford as ben\n",
    "\n",
    "\n",
    "%load_ext autoreload\n",
    "%autoreload 2"
   ]
  },
  {
   "cell_type": "code",
   "execution_count": 45,
   "id": "continued-background",
   "metadata": {},
   "outputs": [
    {
     "name": "stdout",
     "output_type": "stream",
     "text": [
      "(2356, 12)\n"
     ]
    },
    {
     "data": {
      "text/html": [
       "<div>\n",
       "<style scoped>\n",
       "    .dataframe tbody tr th:only-of-type {\n",
       "        vertical-align: middle;\n",
       "    }\n",
       "\n",
       "    .dataframe tbody tr th {\n",
       "        vertical-align: top;\n",
       "    }\n",
       "\n",
       "    .dataframe thead th {\n",
       "        text-align: right;\n",
       "    }\n",
       "</style>\n",
       "<table border=\"1\" class=\"dataframe\">\n",
       "  <thead>\n",
       "    <tr style=\"text-align: right;\">\n",
       "      <th></th>\n",
       "      <th>0</th>\n",
       "      <th>1</th>\n",
       "      <th>2</th>\n",
       "      <th>3</th>\n",
       "      <th>4</th>\n",
       "      <th>5</th>\n",
       "      <th>6</th>\n",
       "      <th>7</th>\n",
       "      <th>8</th>\n",
       "      <th>9</th>\n",
       "      <th>10</th>\n",
       "      <th>11</th>\n",
       "    </tr>\n",
       "  </thead>\n",
       "  <tbody>\n",
       "    <tr>\n",
       "      <th>0</th>\n",
       "      <td>9.325899e+04</td>\n",
       "      <td>2.765206e+04</td>\n",
       "      <td>6.973654e+04</td>\n",
       "      <td>6.309967e+04</td>\n",
       "      <td>2.252522e+04</td>\n",
       "      <td>5.307728e+04</td>\n",
       "      <td>9.088306e+04</td>\n",
       "      <td>2.035561e+04</td>\n",
       "      <td>0.000000e+00</td>\n",
       "      <td>0.000000e+00</td>\n",
       "      <td>1.021926e+05</td>\n",
       "      <td>1.794098e+05</td>\n",
       "    </tr>\n",
       "    <tr>\n",
       "      <th>1</th>\n",
       "      <td>5.042612e+07</td>\n",
       "      <td>1.592204e+07</td>\n",
       "      <td>4.388571e+07</td>\n",
       "      <td>1.824970e+07</td>\n",
       "      <td>1.596605e+07</td>\n",
       "      <td>1.566419e+07</td>\n",
       "      <td>2.563818e+07</td>\n",
       "      <td>2.666071e+07</td>\n",
       "      <td>1.431299e+07</td>\n",
       "      <td>2.617207e+07</td>\n",
       "      <td>2.847710e+07</td>\n",
       "      <td>4.051467e+07</td>\n",
       "    </tr>\n",
       "    <tr>\n",
       "      <th>2</th>\n",
       "      <td>0.000000e+00</td>\n",
       "      <td>0.000000e+00</td>\n",
       "      <td>6.015709e+03</td>\n",
       "      <td>2.413695e+03</td>\n",
       "      <td>0.000000e+00</td>\n",
       "      <td>0.000000e+00</td>\n",
       "      <td>0.000000e+00</td>\n",
       "      <td>0.000000e+00</td>\n",
       "      <td>2.132027e+03</td>\n",
       "      <td>4.891291e+04</td>\n",
       "      <td>2.974154e+04</td>\n",
       "      <td>4.261914e+04</td>\n",
       "    </tr>\n",
       "    <tr>\n",
       "      <th>3</th>\n",
       "      <td>1.560630e+07</td>\n",
       "      <td>7.262593e+06</td>\n",
       "      <td>4.718013e+06</td>\n",
       "      <td>2.570901e+06</td>\n",
       "      <td>1.629196e+06</td>\n",
       "      <td>2.344451e+06</td>\n",
       "      <td>2.178284e+07</td>\n",
       "      <td>2.715498e+07</td>\n",
       "      <td>1.042588e+06</td>\n",
       "      <td>2.429717e+06</td>\n",
       "      <td>1.749820e+06</td>\n",
       "      <td>2.306792e+06</td>\n",
       "    </tr>\n",
       "    <tr>\n",
       "      <th>4</th>\n",
       "      <td>0.000000e+00</td>\n",
       "      <td>0.000000e+00</td>\n",
       "      <td>0.000000e+00</td>\n",
       "      <td>0.000000e+00</td>\n",
       "      <td>0.000000e+00</td>\n",
       "      <td>0.000000e+00</td>\n",
       "      <td>0.000000e+00</td>\n",
       "      <td>0.000000e+00</td>\n",
       "      <td>0.000000e+00</td>\n",
       "      <td>0.000000e+00</td>\n",
       "      <td>2.729096e+03</td>\n",
       "      <td>3.448312e+04</td>\n",
       "    </tr>\n",
       "  </tbody>\n",
       "</table>\n",
       "</div>"
      ],
      "text/plain": [
       "             0             1             2             3             4   \\\n",
       "0  9.325899e+04  2.765206e+04  6.973654e+04  6.309967e+04  2.252522e+04   \n",
       "1  5.042612e+07  1.592204e+07  4.388571e+07  1.824970e+07  1.596605e+07   \n",
       "2  0.000000e+00  0.000000e+00  6.015709e+03  2.413695e+03  0.000000e+00   \n",
       "3  1.560630e+07  7.262593e+06  4.718013e+06  2.570901e+06  1.629196e+06   \n",
       "4  0.000000e+00  0.000000e+00  0.000000e+00  0.000000e+00  0.000000e+00   \n",
       "\n",
       "             5             6             7             8             9   \\\n",
       "0  5.307728e+04  9.088306e+04  2.035561e+04  0.000000e+00  0.000000e+00   \n",
       "1  1.566419e+07  2.563818e+07  2.666071e+07  1.431299e+07  2.617207e+07   \n",
       "2  0.000000e+00  0.000000e+00  0.000000e+00  2.132027e+03  4.891291e+04   \n",
       "3  2.344451e+06  2.178284e+07  2.715498e+07  1.042588e+06  2.429717e+06   \n",
       "4  0.000000e+00  0.000000e+00  0.000000e+00  0.000000e+00  0.000000e+00   \n",
       "\n",
       "             10            11  \n",
       "0  1.021926e+05  1.794098e+05  \n",
       "1  2.847710e+07  4.051467e+07  \n",
       "2  2.974154e+04  4.261914e+04  \n",
       "3  1.749820e+06  2.306792e+06  \n",
       "4  2.729096e+03  3.448312e+04  "
      ]
     },
     "execution_count": 45,
     "metadata": {},
     "output_type": "execute_result"
    }
   ],
   "source": [
    "data = pd.read_csv(\"tests/Data_exp/1512006-Calbicans-QUANTI_raw_abundance.csv\", sep=\",\", header=None)\n",
    "print(data.shape)\n",
    "data.head()"
   ]
  },
  {
   "cell_type": "code",
   "execution_count": 46,
   "id": "noticed-chicken",
   "metadata": {},
   "outputs": [
    {
     "name": "stdout",
     "output_type": "stream",
     "text": [
      "(28272,)\n"
     ]
    }
   ],
   "source": [
    "# données dans un array d'une dimmenssion\n",
    "exp_numbers = data.values.reshape(data.shape[0]*data.shape[1])\n",
    "print(exp_numbers.shape)\n",
    "exp_numbers = np.array(exp_numbers, dtype=int)"
   ]
  },
  {
   "cell_type": "code",
   "execution_count": 47,
   "id": "junior-recording",
   "metadata": {},
   "outputs": [
    {
     "data": {
      "text/plain": [
       "(26919,)"
      ]
     },
     "execution_count": 47,
     "metadata": {},
     "output_type": "execute_result"
    }
   ],
   "source": [
    "# Remove 0\n",
    "exp_numbers = exp_numbers[ exp_numbers > 0 ]\n",
    "exp_numbers.shape"
   ]
  },
  {
   "cell_type": "code",
   "execution_count": 48,
   "id": "united-helena",
   "metadata": {},
   "outputs": [
    {
     "data": {
      "text/plain": [
       "array([7932, 4679, 3266, 2636, 2172, 1881, 1635, 1387, 1282])"
      ]
     },
     "execution_count": 48,
     "metadata": {},
     "output_type": "execute_result"
    }
   ],
   "source": [
    "first_digit = ben.count_first_digit(exp_numbers, nb_digit=1)\n",
    "first_digit"
   ]
  },
  {
   "cell_type": "code",
   "execution_count": 49,
   "id": "regular-attraction",
   "metadata": {},
   "outputs": [
    {
     "data": {
      "text/plain": [
       "array([0.29519911, 0.17413472, 0.1215482 , 0.09810197, 0.08083364,\n",
       "       0.07000372, 0.06084853, 0.05161891, 0.0477112 ])"
      ]
     },
     "execution_count": 49,
     "metadata": {},
     "output_type": "execute_result"
    }
   ],
   "source": [
    "first_digit_norm = ben.normalize_first_digit(first_digit)\n",
    "first_digit_norm"
   ]
  },
  {
   "cell_type": "markdown",
   "id": "resistant-change",
   "metadata": {},
   "source": [
    "## Fonction POM (Physical Order of Magnitude)"
   ]
  },
  {
   "cell_type": "code",
   "execution_count": 51,
   "id": "excellent-economics",
   "metadata": {},
   "outputs": [
    {
     "data": {
      "text/plain": [
       "885178948.0"
      ]
     },
     "execution_count": 51,
     "metadata": {},
     "output_type": "execute_result"
    }
   ],
   "source": [
    "ben.calculate_pom(exp_numbers)"
   ]
  },
  {
   "cell_type": "markdown",
   "id": "advisory-testament",
   "metadata": {},
   "source": [
    "## fonction OOM (Order of Magnitude)"
   ]
  },
  {
   "cell_type": "code",
   "execution_count": 54,
   "id": "differential-prince",
   "metadata": {},
   "outputs": [
    {
     "data": {
      "text/plain": [
       "8.94703107665586"
      ]
     },
     "execution_count": 54,
     "metadata": {},
     "output_type": "execute_result"
    }
   ],
   "source": [
    "ben.calculate_oom(exp_numbers)"
   ]
  },
  {
   "cell_type": "markdown",
   "id": "formed-trace",
   "metadata": {},
   "source": [
    "## Fonction SSD (Sum of Squares Deviation)"
   ]
  },
  {
   "cell_type": "code",
   "execution_count": 55,
   "id": "mature-recommendation",
   "metadata": {},
   "outputs": [
    {
     "data": {
      "text/plain": [
       "0.7501365778165984"
      ]
     },
     "execution_count": 55,
     "metadata": {},
     "output_type": "execute_result"
    }
   ],
   "source": [
    "ben.calculate_ssd(first_digit_norm, ben.get_theoretical_freq_benford())"
   ]
  },
  {
   "cell_type": "markdown",
   "id": "furnished-senate",
   "metadata": {},
   "source": [
    "## Fonction RMSSD (Root Mean Sum of Square Deviation)"
   ]
  },
  {
   "cell_type": "code",
   "execution_count": 56,
   "id": "lonely-miracle",
   "metadata": {},
   "outputs": [
    {
     "data": {
      "text/plain": [
       "0.2887014178113587"
      ]
     },
     "execution_count": 56,
     "metadata": {},
     "output_type": "execute_result"
    }
   ],
   "source": [
    "ben.calculate_rmssd(first_digit_norm, ben.get_theoretical_freq_benford())"
   ]
  },
  {
   "cell_type": "markdown",
   "id": "unavailable-stocks",
   "metadata": {},
   "source": [
    "## Fonction chisquare test (sans bootstrap)"
   ]
  },
  {
   "cell_type": "code",
   "execution_count": 57,
   "id": "alternate-underwear",
   "metadata": {},
   "outputs": [
    {
     "name": "stdout",
     "output_type": "stream",
     "text": [
      "statistics : 17.35670420146075 ; p-value : 0.026601803104451673\n"
     ]
    },
    {
     "data": {
      "text/plain": [
       "(17.35670420146075, 0.026601803104451673)"
      ]
     },
     "execution_count": 57,
     "metadata": {},
     "output_type": "execute_result"
    }
   ],
   "source": [
    "ben.chi2_test(exp_numbers, ben.get_theoretical_freq_benford())"
   ]
  },
  {
   "cell_type": "markdown",
   "id": "oriented-silver",
   "metadata": {},
   "source": [
    "#### avec bootstrap"
   ]
  },
  {
   "cell_type": "code",
   "execution_count": 69,
   "id": "aboriginal-norway",
   "metadata": {},
   "outputs": [
    {
     "name": "stdout",
     "output_type": "stream",
     "text": [
      "statistics : 4.808124805526675 ; p-value : 0.7778733812145178 ; number of significant tests : 26\n"
     ]
    },
    {
     "data": {
      "text/plain": [
       "(4.808124805526675, 0.7778733812145178, 26)"
      ]
     },
     "execution_count": 69,
     "metadata": {},
     "output_type": "execute_result"
    }
   ],
   "source": [
    "ben.calculate_bootstrap_chi2(exp_numbers, ben.get_theoretical_freq_benford(), nb_digit=1,\n",
    "                            type_test=0)"
   ]
  },
  {
   "cell_type": "markdown",
   "id": "distinct-struggle",
   "metadata": {},
   "source": [
    "## Fonction G-test (sans bootstrap)"
   ]
  },
  {
   "cell_type": "code",
   "execution_count": 70,
   "id": "certified-syntax",
   "metadata": {},
   "outputs": [
    {
     "name": "stdout",
     "output_type": "stream",
     "text": [
      "[7932 4679 3266 2636 2172 1881 1635 1387 1282]\n",
      "[8103.42645328 4740.20060252 3363.22585076 2608.72064016 2131.47996236\n",
      " 1802.14063007 1561.08522069 1376.97475176 1231.7458884 ]\n",
      "statistics : -80.72309844128006 ; p-value : 1.0\n"
     ]
    },
    {
     "data": {
      "text/plain": [
       "(-80.72309844128006, 1.0)"
      ]
     },
     "execution_count": 70,
     "metadata": {},
     "output_type": "execute_result"
    }
   ],
   "source": [
    "ben.g_test(exp_numbers, ben.get_theoretical_freq_benford())"
   ]
  },
  {
   "cell_type": "markdown",
   "id": "assured-magnet",
   "metadata": {},
   "source": [
    "# Test sur la taille des protéines de swissProt"
   ]
  },
  {
   "cell_type": "code",
   "execution_count": 74,
   "id": "pointed-berkeley",
   "metadata": {},
   "outputs": [
    {
     "name": "stdout",
     "output_type": "stream",
     "text": [
      "(564638, 1)\n"
     ]
    },
    {
     "data": {
      "text/html": [
       "<div>\n",
       "<style scoped>\n",
       "    .dataframe tbody tr th:only-of-type {\n",
       "        vertical-align: middle;\n",
       "    }\n",
       "\n",
       "    .dataframe tbody tr th {\n",
       "        vertical-align: top;\n",
       "    }\n",
       "\n",
       "    .dataframe thead th {\n",
       "        text-align: right;\n",
       "    }\n",
       "</style>\n",
       "<table border=\"1\" class=\"dataframe\">\n",
       "  <thead>\n",
       "    <tr style=\"text-align: right;\">\n",
       "      <th></th>\n",
       "      <th>Entry Length</th>\n",
       "    </tr>\n",
       "  </thead>\n",
       "  <tbody>\n",
       "    <tr>\n",
       "      <th>Q8K9I1</th>\n",
       "      <td>960</td>\n",
       "    </tr>\n",
       "    <tr>\n",
       "      <th>Q664P8</th>\n",
       "      <td>255</td>\n",
       "    </tr>\n",
       "    <tr>\n",
       "      <th>Q66K14</th>\n",
       "      <td>1250</td>\n",
       "    </tr>\n",
       "    <tr>\n",
       "      <th>Q8E4B4</th>\n",
       "      <td>239</td>\n",
       "    </tr>\n",
       "    <tr>\n",
       "      <th>B3CQ06</th>\n",
       "      <td>426</td>\n",
       "    </tr>\n",
       "  </tbody>\n",
       "</table>\n",
       "</div>"
      ],
      "text/plain": [
       "        Entry Length\n",
       "Q8K9I1           960\n",
       "Q664P8           255\n",
       "Q66K14          1250\n",
       "Q8E4B4           239\n",
       "B3CQ06           426"
      ]
     },
     "execution_count": 74,
     "metadata": {},
     "output_type": "execute_result"
    }
   ],
   "source": [
    "data2 = pd.read_csv(\"tests/Prot_tot_uniprot/uniprot-reviewed yes.tab\", sep=\"\\t\",\n",
    "                   header=0)\n",
    "print(data.shape)\n",
    "data.head()"
   ]
  },
  {
   "cell_type": "code",
   "execution_count": 75,
   "id": "injured-upgrade",
   "metadata": {},
   "outputs": [
    {
     "data": {
      "text/plain": [
       "Q8K9I1     960\n",
       "Q664P8     255\n",
       "Q66K14    1250\n",
       "Q8E4B4     239\n",
       "B3CQ06     426\n",
       "          ... \n",
       "C3L855     410\n",
       "P41413    1809\n",
       "B7HED5     394\n",
       "B1IUE0     408\n",
       "Q1KXU1      31\n",
       "Name: Entry Length, Length: 564638, dtype: int64"
      ]
     },
     "execution_count": 75,
     "metadata": {},
     "output_type": "execute_result"
    }
   ],
   "source": [
    "prot_len = data2[\"Entry Length\"]\n",
    "prot_len"
   ]
  },
  {
   "cell_type": "code",
   "execution_count": 92,
   "id": "missing-activity",
   "metadata": {},
   "outputs": [
    {
     "name": "stdout",
     "output_type": "stream",
     "text": [
      "POM : 17606.5\n",
      "POM : 17606.5\n",
      "OOM : 4.245673031051872\n"
     ]
    },
    {
     "data": {
      "text/plain": [
       "4.245673031051872"
      ]
     },
     "execution_count": 92,
     "metadata": {},
     "output_type": "execute_result"
    }
   ],
   "source": [
    "# fonction pom :\n",
    "ben.calculate_pom(prot_len)\n",
    "# fonction oom :\n",
    "ben.calculate_oom(prot_len)"
   ]
  },
  {
   "cell_type": "code",
   "execution_count": 93,
   "id": "oriental-equity",
   "metadata": {},
   "outputs": [
    {
     "name": "stdout",
     "output_type": "stream",
     "text": [
      "SDD : 89.04626775928213\n",
      "SDD : 89.04626775928213\n",
      "RMSSD : 3.1454776665923645\n"
     ]
    },
    {
     "data": {
      "text/plain": [
       "3.1454776665923645"
      ]
     },
     "execution_count": 93,
     "metadata": {},
     "output_type": "execute_result"
    }
   ],
   "source": [
    "d_obs = ben.count_first_digit(prot_len)\n",
    "# fonction ssd :\n",
    "ben.calculate_ssd(ben.normalize_first_digit(d_obs), ben.get_theoretical_freq_benford())\n",
    "# fonction rmssd :\n",
    "ben.calculate_rmssd(ben.normalize_first_digit(d_obs), ben.get_theoretical_freq_benford())"
   ]
  },
  {
   "cell_type": "code",
   "execution_count": null,
   "id": "stunning-regulation",
   "metadata": {},
   "outputs": [],
   "source": []
  }
 ],
 "metadata": {
  "kernelspec": {
   "display_name": "Python 3",
   "language": "python",
   "name": "python3"
  },
  "language_info": {
   "codemirror_mode": {
    "name": "ipython",
    "version": 3
   },
   "file_extension": ".py",
   "mimetype": "text/x-python",
   "name": "python",
   "nbconvert_exporter": "python",
   "pygments_lexer": "ipython3",
   "version": "3.7.9"
  }
 },
 "nbformat": 4,
 "nbformat_minor": 5
}
