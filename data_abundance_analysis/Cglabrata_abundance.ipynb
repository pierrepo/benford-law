{
 "cells": [
  {
   "cell_type": "markdown",
   "id": "fewer-logistics",
   "metadata": {},
   "source": [
    "# Loi de Benford et données d'abondance de protéines\n",
    "Ce script a pour but de vérifier si l'abondance de protéines, d'un fichier d'abondance de protéines extrait depuis [PRIDE](https://www.ebi.ac.uk/pride/), suit la loi de Benford."
   ]
  },
  {
   "cell_type": "code",
   "execution_count": 1,
   "id": "ordinary-fundamental",
   "metadata": {},
   "outputs": [],
   "source": [
    "import pandas as pd\n",
    "import numpy as np\n",
    "import matplotlib.pyplot as plt\n",
    "import os, sys\n",
    "\n",
    "import pybenford as benford"
   ]
  },
  {
   "cell_type": "markdown",
   "id": "spiritual-craft",
   "metadata": {},
   "source": [
    "## Téléchargement du jeu de données"
   ]
  },
  {
   "cell_type": "code",
   "execution_count": 2,
   "id": "constitutional-discovery",
   "metadata": {},
   "outputs": [],
   "source": [
    "if not os.path.exists(\"1445007-Cglabrata-QUANTI.csv\"):\n",
    "    !wget http://ftp.pride.ebi.ac.uk/pride/data/archive/2019/07/PXD014125/1445007-Cglabrata-QUANTI.csv"
   ]
  },
  {
   "cell_type": "markdown",
   "id": "nominated-sudan",
   "metadata": {},
   "source": [
    "## Chargement et exploration du jeu de données "
   ]
  },
  {
   "cell_type": "code",
   "execution_count": 3,
   "id": "danish-genre",
   "metadata": {},
   "outputs": [],
   "source": [
    "data = pd.read_csv(\"1445007-Cglabrata-QUANTI.csv\", skiprows=2)"
   ]
  },
  {
   "cell_type": "code",
   "execution_count": 4,
   "id": "regional-writing",
   "metadata": {},
   "outputs": [
    {
     "data": {
      "text/plain": [
       "(1936, 45)"
      ]
     },
     "execution_count": 4,
     "metadata": {},
     "output_type": "execute_result"
    }
   ],
   "source": [
    "data.shape"
   ]
  },
  {
   "cell_type": "code",
   "execution_count": 5,
   "id": "international-reception",
   "metadata": {},
   "outputs": [
    {
     "data": {
      "text/html": [
       "<div>\n",
       "<style scoped>\n",
       "    .dataframe tbody tr th:only-of-type {\n",
       "        vertical-align: middle;\n",
       "    }\n",
       "\n",
       "    .dataframe tbody tr th {\n",
       "        vertical-align: top;\n",
       "    }\n",
       "\n",
       "    .dataframe thead th {\n",
       "        text-align: right;\n",
       "    }\n",
       "</style>\n",
       "<table border=\"1\" class=\"dataframe\">\n",
       "  <thead>\n",
       "    <tr style=\"text-align: right;\">\n",
       "      <th></th>\n",
       "      <th>Accession</th>\n",
       "      <th>Peptide count</th>\n",
       "      <th>Unique peptides</th>\n",
       "      <th>Confidence score</th>\n",
       "      <th>Anova (p)</th>\n",
       "      <th>Max fold change</th>\n",
       "      <th>Highest mean condition</th>\n",
       "      <th>Lowest mean condition</th>\n",
       "      <th>Description</th>\n",
       "      <th>1445007-Q1</th>\n",
       "      <th>...</th>\n",
       "      <th>1445007-Q2.2</th>\n",
       "      <th>1445007-Q8.2</th>\n",
       "      <th>1445007-Q3.2</th>\n",
       "      <th>1445007-Q9.2</th>\n",
       "      <th>1445007-Q4.2</th>\n",
       "      <th>1445007-Q10.2</th>\n",
       "      <th>1445007-Q5.2</th>\n",
       "      <th>1445007-Q11.2</th>\n",
       "      <th>1445007-Q6.2</th>\n",
       "      <th>1445007-Q12.2</th>\n",
       "    </tr>\n",
       "  </thead>\n",
       "  <tbody>\n",
       "    <tr>\n",
       "      <th>0</th>\n",
       "      <td>GLV|CAGL0M05929g</td>\n",
       "      <td>1</td>\n",
       "      <td>1</td>\n",
       "      <td>97.80</td>\n",
       "      <td>5.719966e-10</td>\n",
       "      <td>inf</td>\n",
       "      <td>C10 Tris1</td>\n",
       "      <td>C10 Tris2</td>\n",
       "      <td>[Candida glabrata] CAGL-CDS4552.1 CAGL-IPF9088...</td>\n",
       "      <td>5.396072e+04</td>\n",
       "      <td>...</td>\n",
       "      <td>2</td>\n",
       "      <td>3</td>\n",
       "      <td>0</td>\n",
       "      <td>0</td>\n",
       "      <td>2</td>\n",
       "      <td>2</td>\n",
       "      <td>1</td>\n",
       "      <td>2</td>\n",
       "      <td>0</td>\n",
       "      <td>0</td>\n",
       "    </tr>\n",
       "    <tr>\n",
       "      <th>1</th>\n",
       "      <td>GLV|CAGL0A03993g</td>\n",
       "      <td>1</td>\n",
       "      <td>1</td>\n",
       "      <td>23.86</td>\n",
       "      <td>2.928500e-09</td>\n",
       "      <td>inf</td>\n",
       "      <td>C10 Tris1</td>\n",
       "      <td>C10 Tris2</td>\n",
       "      <td>[Candida glabrata] CAGL-CDS4296.1 CAGL-IPF1185...</td>\n",
       "      <td>3.333623e+04</td>\n",
       "      <td>...</td>\n",
       "      <td>1</td>\n",
       "      <td>0</td>\n",
       "      <td>0</td>\n",
       "      <td>0</td>\n",
       "      <td>0</td>\n",
       "      <td>0</td>\n",
       "      <td>0</td>\n",
       "      <td>0</td>\n",
       "      <td>0</td>\n",
       "      <td>0</td>\n",
       "    </tr>\n",
       "    <tr>\n",
       "      <th>2</th>\n",
       "      <td>GLV|CAGL0D00176g</td>\n",
       "      <td>40</td>\n",
       "      <td>40</td>\n",
       "      <td>3688.17</td>\n",
       "      <td>5.788833e-09</td>\n",
       "      <td>4.900036</td>\n",
       "      <td>C60</td>\n",
       "      <td>C60 Tris2</td>\n",
       "      <td>[Candida glabrata] CAGL-CDS2317.1 CAGL-IPF2549...</td>\n",
       "      <td>1.005912e+08</td>\n",
       "      <td>...</td>\n",
       "      <td>71</td>\n",
       "      <td>106</td>\n",
       "      <td>3</td>\n",
       "      <td>2</td>\n",
       "      <td>112</td>\n",
       "      <td>119</td>\n",
       "      <td>49</td>\n",
       "      <td>45</td>\n",
       "      <td>22</td>\n",
       "      <td>39</td>\n",
       "    </tr>\n",
       "    <tr>\n",
       "      <th>3</th>\n",
       "      <td>GLV|CAGL0I03498g</td>\n",
       "      <td>1</td>\n",
       "      <td>1</td>\n",
       "      <td>17.60</td>\n",
       "      <td>1.688998e-08</td>\n",
       "      <td>inf</td>\n",
       "      <td>C60</td>\n",
       "      <td>C10 Tris2</td>\n",
       "      <td>[Candida glabrata] CAGL-CDS2392.1 CAGL-IPF7370...</td>\n",
       "      <td>1.282680e+05</td>\n",
       "      <td>...</td>\n",
       "      <td>0</td>\n",
       "      <td>0</td>\n",
       "      <td>0</td>\n",
       "      <td>0</td>\n",
       "      <td>0</td>\n",
       "      <td>0</td>\n",
       "      <td>0</td>\n",
       "      <td>0</td>\n",
       "      <td>0</td>\n",
       "      <td>0</td>\n",
       "    </tr>\n",
       "    <tr>\n",
       "      <th>4</th>\n",
       "      <td>GLV|CAGL0C02475g</td>\n",
       "      <td>1</td>\n",
       "      <td>1</td>\n",
       "      <td>89.39</td>\n",
       "      <td>1.753395e-08</td>\n",
       "      <td>inf</td>\n",
       "      <td>C60 Tris2</td>\n",
       "      <td>C10</td>\n",
       "      <td>[Candida glabrata] CAGL-CDS4848.1 CAGL-IPF1048...</td>\n",
       "      <td>0.000000e+00</td>\n",
       "      <td>...</td>\n",
       "      <td>0</td>\n",
       "      <td>1</td>\n",
       "      <td>0</td>\n",
       "      <td>0</td>\n",
       "      <td>1</td>\n",
       "      <td>1</td>\n",
       "      <td>1</td>\n",
       "      <td>1</td>\n",
       "      <td>1</td>\n",
       "      <td>1</td>\n",
       "    </tr>\n",
       "  </tbody>\n",
       "</table>\n",
       "<p>5 rows × 45 columns</p>\n",
       "</div>"
      ],
      "text/plain": [
       "          Accession  Peptide count  Unique peptides  Confidence score  \\\n",
       "0  GLV|CAGL0M05929g              1                1             97.80   \n",
       "1  GLV|CAGL0A03993g              1                1             23.86   \n",
       "2  GLV|CAGL0D00176g             40               40           3688.17   \n",
       "3  GLV|CAGL0I03498g              1                1             17.60   \n",
       "4  GLV|CAGL0C02475g              1                1             89.39   \n",
       "\n",
       "      Anova (p)  Max fold change Highest mean condition Lowest mean condition  \\\n",
       "0  5.719966e-10              inf              C10 Tris1             C10 Tris2   \n",
       "1  2.928500e-09              inf              C10 Tris1             C10 Tris2   \n",
       "2  5.788833e-09         4.900036                    C60             C60 Tris2   \n",
       "3  1.688998e-08              inf                    C60             C10 Tris2   \n",
       "4  1.753395e-08              inf              C60 Tris2                   C10   \n",
       "\n",
       "                                         Description    1445007-Q1  ...  \\\n",
       "0  [Candida glabrata] CAGL-CDS4552.1 CAGL-IPF9088...  5.396072e+04  ...   \n",
       "1  [Candida glabrata] CAGL-CDS4296.1 CAGL-IPF1185...  3.333623e+04  ...   \n",
       "2  [Candida glabrata] CAGL-CDS2317.1 CAGL-IPF2549...  1.005912e+08  ...   \n",
       "3  [Candida glabrata] CAGL-CDS2392.1 CAGL-IPF7370...  1.282680e+05  ...   \n",
       "4  [Candida glabrata] CAGL-CDS4848.1 CAGL-IPF1048...  0.000000e+00  ...   \n",
       "\n",
       "   1445007-Q2.2  1445007-Q8.2  1445007-Q3.2  1445007-Q9.2  1445007-Q4.2  \\\n",
       "0             2             3             0             0             2   \n",
       "1             1             0             0             0             0   \n",
       "2            71           106             3             2           112   \n",
       "3             0             0             0             0             0   \n",
       "4             0             1             0             0             1   \n",
       "\n",
       "   1445007-Q10.2  1445007-Q5.2  1445007-Q11.2  1445007-Q6.2  1445007-Q12.2  \n",
       "0              2             1              2             0              0  \n",
       "1              0             0              0             0              0  \n",
       "2            119            49             45            22             39  \n",
       "3              0             0              0             0              0  \n",
       "4              1             1              1             1              1  \n",
       "\n",
       "[5 rows x 45 columns]"
      ]
     },
     "execution_count": 5,
     "metadata": {},
     "output_type": "execute_result"
    }
   ],
   "source": [
    "data.head()"
   ]
  },
  {
   "cell_type": "code",
   "execution_count": 6,
   "id": "standing-worcester",
   "metadata": {},
   "outputs": [
    {
     "data": {
      "text/plain": [
       "Index(['Accession', 'Peptide count', 'Unique peptides', 'Confidence score',\n",
       "       'Anova (p)', 'Max fold change', 'Highest mean condition',\n",
       "       'Lowest mean condition', 'Description', '1445007-Q1', '1445007-Q7',\n",
       "       '1445007-Q2', '1445007-Q8', '1445007-Q3', '1445007-Q9', '1445007-Q4',\n",
       "       '1445007-Q10', '1445007-Q5', '1445007-Q11', '1445007-Q6', '1445007-Q12',\n",
       "       '1445007-Q1.1', '1445007-Q7.1', '1445007-Q2.1', '1445007-Q8.1',\n",
       "       '1445007-Q3.1', '1445007-Q9.1', '1445007-Q4.1', '1445007-Q10.1',\n",
       "       '1445007-Q5.1', '1445007-Q11.1', '1445007-Q6.1', '1445007-Q12.1',\n",
       "       '1445007-Q1.2', '1445007-Q7.2', '1445007-Q2.2', '1445007-Q8.2',\n",
       "       '1445007-Q3.2', '1445007-Q9.2', '1445007-Q4.2', '1445007-Q10.2',\n",
       "       '1445007-Q5.2', '1445007-Q11.2', '1445007-Q6.2', '1445007-Q12.2'],\n",
       "      dtype='object')"
      ]
     },
     "execution_count": 6,
     "metadata": {},
     "output_type": "execute_result"
    }
   ],
   "source": [
    "data.columns"
   ]
  },
  {
   "cell_type": "code",
   "execution_count": 7,
   "id": "essential-orleans",
   "metadata": {},
   "outputs": [],
   "source": [
    "normalized_columns = ['1445007-Q1', '1445007-Q7','1445007-Q2', '1445007-Q8',\n",
    "                      '1445007-Q3', '1445007-Q9', '1445007-Q4', '1445007-Q10',\n",
    "                      '1445007-Q5', '1445007-Q11', '1445007-Q6', '1445007-Q12']\n",
    "\n",
    "raw_columns = ['1445007-Q1.1', '1445007-Q7.1', '1445007-Q2.1', '1445007-Q8.1',\n",
    "               '1445007-Q3.1', '1445007-Q9.1', '1445007-Q4.1', '1445007-Q10.1',\n",
    "               '1445007-Q5.1', '1445007-Q11.1', '1445007-Q6.1', '1445007-Q12.1']"
   ]
  },
  {
   "cell_type": "code",
   "execution_count": 8,
   "id": "sexual-venture",
   "metadata": {},
   "outputs": [
    {
     "data": {
      "text/html": [
       "<div>\n",
       "<style scoped>\n",
       "    .dataframe tbody tr th:only-of-type {\n",
       "        vertical-align: middle;\n",
       "    }\n",
       "\n",
       "    .dataframe tbody tr th {\n",
       "        vertical-align: top;\n",
       "    }\n",
       "\n",
       "    .dataframe thead th {\n",
       "        text-align: right;\n",
       "    }\n",
       "</style>\n",
       "<table border=\"1\" class=\"dataframe\">\n",
       "  <thead>\n",
       "    <tr style=\"text-align: right;\">\n",
       "      <th></th>\n",
       "      <th>Peptide count</th>\n",
       "      <th>Unique peptides</th>\n",
       "      <th>Confidence score</th>\n",
       "      <th>Anova (p)</th>\n",
       "      <th>Max fold change</th>\n",
       "      <th>1445007-Q1</th>\n",
       "      <th>1445007-Q7</th>\n",
       "      <th>1445007-Q2</th>\n",
       "      <th>1445007-Q8</th>\n",
       "      <th>1445007-Q3</th>\n",
       "      <th>...</th>\n",
       "      <th>1445007-Q2.2</th>\n",
       "      <th>1445007-Q8.2</th>\n",
       "      <th>1445007-Q3.2</th>\n",
       "      <th>1445007-Q9.2</th>\n",
       "      <th>1445007-Q4.2</th>\n",
       "      <th>1445007-Q10.2</th>\n",
       "      <th>1445007-Q5.2</th>\n",
       "      <th>1445007-Q11.2</th>\n",
       "      <th>1445007-Q6.2</th>\n",
       "      <th>1445007-Q12.2</th>\n",
       "    </tr>\n",
       "  </thead>\n",
       "  <tbody>\n",
       "    <tr>\n",
       "      <th>count</th>\n",
       "      <td>1936.00000</td>\n",
       "      <td>1936.000000</td>\n",
       "      <td>1936.000000</td>\n",
       "      <td>1.930000e+03</td>\n",
       "      <td>1930.000000</td>\n",
       "      <td>1.930000e+03</td>\n",
       "      <td>1.930000e+03</td>\n",
       "      <td>1.930000e+03</td>\n",
       "      <td>1.930000e+03</td>\n",
       "      <td>1.930000e+03</td>\n",
       "      <td>...</td>\n",
       "      <td>1936.000000</td>\n",
       "      <td>1936.000000</td>\n",
       "      <td>1936.000000</td>\n",
       "      <td>1936.000000</td>\n",
       "      <td>1936.000000</td>\n",
       "      <td>1936.000000</td>\n",
       "      <td>1936.000000</td>\n",
       "      <td>1936.000000</td>\n",
       "      <td>1936.000000</td>\n",
       "      <td>1936.000000</td>\n",
       "    </tr>\n",
       "    <tr>\n",
       "      <th>mean</th>\n",
       "      <td>6.49845</td>\n",
       "      <td>6.306302</td>\n",
       "      <td>359.394995</td>\n",
       "      <td>2.448946e-01</td>\n",
       "      <td>inf</td>\n",
       "      <td>4.751254e+06</td>\n",
       "      <td>5.366972e+06</td>\n",
       "      <td>5.065718e+06</td>\n",
       "      <td>5.197891e+06</td>\n",
       "      <td>3.488360e+06</td>\n",
       "      <td>...</td>\n",
       "      <td>3.955579</td>\n",
       "      <td>5.697831</td>\n",
       "      <td>0.380165</td>\n",
       "      <td>0.261880</td>\n",
       "      <td>6.269112</td>\n",
       "      <td>6.209711</td>\n",
       "      <td>6.110537</td>\n",
       "      <td>6.348140</td>\n",
       "      <td>3.289773</td>\n",
       "      <td>5.634814</td>\n",
       "    </tr>\n",
       "    <tr>\n",
       "      <th>std</th>\n",
       "      <td>7.46326</td>\n",
       "      <td>7.227258</td>\n",
       "      <td>518.734163</td>\n",
       "      <td>2.883287e-01</td>\n",
       "      <td>NaN</td>\n",
       "      <td>2.996800e+07</td>\n",
       "      <td>3.375564e+07</td>\n",
       "      <td>2.411415e+07</td>\n",
       "      <td>2.663158e+07</td>\n",
       "      <td>1.395122e+07</td>\n",
       "      <td>...</td>\n",
       "      <td>8.359808</td>\n",
       "      <td>11.631425</td>\n",
       "      <td>1.391409</td>\n",
       "      <td>1.050219</td>\n",
       "      <td>12.642956</td>\n",
       "      <td>12.553160</td>\n",
       "      <td>10.671567</td>\n",
       "      <td>11.323739</td>\n",
       "      <td>5.567738</td>\n",
       "      <td>9.568165</td>\n",
       "    </tr>\n",
       "    <tr>\n",
       "      <th>min</th>\n",
       "      <td>1.00000</td>\n",
       "      <td>0.000000</td>\n",
       "      <td>15.030000</td>\n",
       "      <td>5.719966e-10</td>\n",
       "      <td>1.130936</td>\n",
       "      <td>0.000000e+00</td>\n",
       "      <td>0.000000e+00</td>\n",
       "      <td>0.000000e+00</td>\n",
       "      <td>0.000000e+00</td>\n",
       "      <td>0.000000e+00</td>\n",
       "      <td>...</td>\n",
       "      <td>0.000000</td>\n",
       "      <td>0.000000</td>\n",
       "      <td>0.000000</td>\n",
       "      <td>0.000000</td>\n",
       "      <td>0.000000</td>\n",
       "      <td>0.000000</td>\n",
       "      <td>0.000000</td>\n",
       "      <td>0.000000</td>\n",
       "      <td>0.000000</td>\n",
       "      <td>0.000000</td>\n",
       "    </tr>\n",
       "    <tr>\n",
       "      <th>25%</th>\n",
       "      <td>2.00000</td>\n",
       "      <td>2.000000</td>\n",
       "      <td>57.337500</td>\n",
       "      <td>1.109649e-02</td>\n",
       "      <td>2.893868</td>\n",
       "      <td>2.514680e+04</td>\n",
       "      <td>3.131115e+04</td>\n",
       "      <td>4.576720e+04</td>\n",
       "      <td>5.282857e+04</td>\n",
       "      <td>7.379701e+03</td>\n",
       "      <td>...</td>\n",
       "      <td>0.000000</td>\n",
       "      <td>1.000000</td>\n",
       "      <td>0.000000</td>\n",
       "      <td>0.000000</td>\n",
       "      <td>1.000000</td>\n",
       "      <td>1.000000</td>\n",
       "      <td>1.000000</td>\n",
       "      <td>1.000000</td>\n",
       "      <td>0.000000</td>\n",
       "      <td>1.000000</td>\n",
       "    </tr>\n",
       "    <tr>\n",
       "      <th>50%</th>\n",
       "      <td>4.00000</td>\n",
       "      <td>4.000000</td>\n",
       "      <td>161.510000</td>\n",
       "      <td>1.046004e-01</td>\n",
       "      <td>4.958960</td>\n",
       "      <td>1.291918e+05</td>\n",
       "      <td>1.667075e+05</td>\n",
       "      <td>2.219138e+05</td>\n",
       "      <td>2.219337e+05</td>\n",
       "      <td>1.162979e+05</td>\n",
       "      <td>...</td>\n",
       "      <td>1.000000</td>\n",
       "      <td>2.000000</td>\n",
       "      <td>0.000000</td>\n",
       "      <td>0.000000</td>\n",
       "      <td>2.000000</td>\n",
       "      <td>2.000000</td>\n",
       "      <td>2.000000</td>\n",
       "      <td>3.000000</td>\n",
       "      <td>1.000000</td>\n",
       "      <td>2.000000</td>\n",
       "    </tr>\n",
       "    <tr>\n",
       "      <th>75%</th>\n",
       "      <td>8.00000</td>\n",
       "      <td>8.000000</td>\n",
       "      <td>422.527500</td>\n",
       "      <td>4.252954e-01</td>\n",
       "      <td>16.073054</td>\n",
       "      <td>8.653429e+05</td>\n",
       "      <td>1.040062e+06</td>\n",
       "      <td>1.304688e+06</td>\n",
       "      <td>1.263389e+06</td>\n",
       "      <td>8.788029e+05</td>\n",
       "      <td>...</td>\n",
       "      <td>4.000000</td>\n",
       "      <td>5.000000</td>\n",
       "      <td>0.000000</td>\n",
       "      <td>0.000000</td>\n",
       "      <td>6.000000</td>\n",
       "      <td>6.000000</td>\n",
       "      <td>7.000000</td>\n",
       "      <td>7.000000</td>\n",
       "      <td>4.000000</td>\n",
       "      <td>6.000000</td>\n",
       "    </tr>\n",
       "    <tr>\n",
       "      <th>max</th>\n",
       "      <td>60.00000</td>\n",
       "      <td>60.000000</td>\n",
       "      <td>4483.410000</td>\n",
       "      <td>9.990362e-01</td>\n",
       "      <td>inf</td>\n",
       "      <td>7.895782e+08</td>\n",
       "      <td>9.083549e+08</td>\n",
       "      <td>4.857986e+08</td>\n",
       "      <td>5.773365e+08</td>\n",
       "      <td>2.357977e+08</td>\n",
       "      <td>...</td>\n",
       "      <td>97.000000</td>\n",
       "      <td>135.000000</td>\n",
       "      <td>20.000000</td>\n",
       "      <td>14.000000</td>\n",
       "      <td>157.000000</td>\n",
       "      <td>150.000000</td>\n",
       "      <td>135.000000</td>\n",
       "      <td>141.000000</td>\n",
       "      <td>68.000000</td>\n",
       "      <td>110.000000</td>\n",
       "    </tr>\n",
       "  </tbody>\n",
       "</table>\n",
       "<p>8 rows × 41 columns</p>\n",
       "</div>"
      ],
      "text/plain": [
       "       Peptide count  Unique peptides  Confidence score     Anova (p)  \\\n",
       "count     1936.00000      1936.000000       1936.000000  1.930000e+03   \n",
       "mean         6.49845         6.306302        359.394995  2.448946e-01   \n",
       "std          7.46326         7.227258        518.734163  2.883287e-01   \n",
       "min          1.00000         0.000000         15.030000  5.719966e-10   \n",
       "25%          2.00000         2.000000         57.337500  1.109649e-02   \n",
       "50%          4.00000         4.000000        161.510000  1.046004e-01   \n",
       "75%          8.00000         8.000000        422.527500  4.252954e-01   \n",
       "max         60.00000        60.000000       4483.410000  9.990362e-01   \n",
       "\n",
       "       Max fold change    1445007-Q1    1445007-Q7    1445007-Q2  \\\n",
       "count      1930.000000  1.930000e+03  1.930000e+03  1.930000e+03   \n",
       "mean               inf  4.751254e+06  5.366972e+06  5.065718e+06   \n",
       "std                NaN  2.996800e+07  3.375564e+07  2.411415e+07   \n",
       "min           1.130936  0.000000e+00  0.000000e+00  0.000000e+00   \n",
       "25%           2.893868  2.514680e+04  3.131115e+04  4.576720e+04   \n",
       "50%           4.958960  1.291918e+05  1.667075e+05  2.219138e+05   \n",
       "75%          16.073054  8.653429e+05  1.040062e+06  1.304688e+06   \n",
       "max                inf  7.895782e+08  9.083549e+08  4.857986e+08   \n",
       "\n",
       "         1445007-Q8    1445007-Q3  ...  1445007-Q2.2  1445007-Q8.2  \\\n",
       "count  1.930000e+03  1.930000e+03  ...   1936.000000   1936.000000   \n",
       "mean   5.197891e+06  3.488360e+06  ...      3.955579      5.697831   \n",
       "std    2.663158e+07  1.395122e+07  ...      8.359808     11.631425   \n",
       "min    0.000000e+00  0.000000e+00  ...      0.000000      0.000000   \n",
       "25%    5.282857e+04  7.379701e+03  ...      0.000000      1.000000   \n",
       "50%    2.219337e+05  1.162979e+05  ...      1.000000      2.000000   \n",
       "75%    1.263389e+06  8.788029e+05  ...      4.000000      5.000000   \n",
       "max    5.773365e+08  2.357977e+08  ...     97.000000    135.000000   \n",
       "\n",
       "       1445007-Q3.2  1445007-Q9.2  1445007-Q4.2  1445007-Q10.2  1445007-Q5.2  \\\n",
       "count   1936.000000   1936.000000   1936.000000    1936.000000   1936.000000   \n",
       "mean       0.380165      0.261880      6.269112       6.209711      6.110537   \n",
       "std        1.391409      1.050219     12.642956      12.553160     10.671567   \n",
       "min        0.000000      0.000000      0.000000       0.000000      0.000000   \n",
       "25%        0.000000      0.000000      1.000000       1.000000      1.000000   \n",
       "50%        0.000000      0.000000      2.000000       2.000000      2.000000   \n",
       "75%        0.000000      0.000000      6.000000       6.000000      7.000000   \n",
       "max       20.000000     14.000000    157.000000     150.000000    135.000000   \n",
       "\n",
       "       1445007-Q11.2  1445007-Q6.2  1445007-Q12.2  \n",
       "count    1936.000000   1936.000000    1936.000000  \n",
       "mean        6.348140      3.289773       5.634814  \n",
       "std        11.323739      5.567738       9.568165  \n",
       "min         0.000000      0.000000       0.000000  \n",
       "25%         1.000000      0.000000       1.000000  \n",
       "50%         3.000000      1.000000       2.000000  \n",
       "75%         7.000000      4.000000       6.000000  \n",
       "max       141.000000     68.000000     110.000000  \n",
       "\n",
       "[8 rows x 41 columns]"
      ]
     },
     "execution_count": 8,
     "metadata": {},
     "output_type": "execute_result"
    }
   ],
   "source": [
    "data.describe()"
   ]
  },
  {
   "cell_type": "markdown",
   "id": "handled-willow",
   "metadata": {},
   "source": [
    "## Récupération des abondances nomalisées"
   ]
  },
  {
   "cell_type": "code",
   "execution_count": 9,
   "id": "sought-temperature",
   "metadata": {},
   "outputs": [
    {
     "name": "stdout",
     "output_type": "stream",
     "text": [
      "(1936, 12)\n"
     ]
    },
    {
     "data": {
      "text/html": [
       "<div>\n",
       "<style scoped>\n",
       "    .dataframe tbody tr th:only-of-type {\n",
       "        vertical-align: middle;\n",
       "    }\n",
       "\n",
       "    .dataframe tbody tr th {\n",
       "        vertical-align: top;\n",
       "    }\n",
       "\n",
       "    .dataframe thead th {\n",
       "        text-align: right;\n",
       "    }\n",
       "</style>\n",
       "<table border=\"1\" class=\"dataframe\">\n",
       "  <thead>\n",
       "    <tr style=\"text-align: right;\">\n",
       "      <th></th>\n",
       "      <th>1445007-Q1</th>\n",
       "      <th>1445007-Q7</th>\n",
       "      <th>1445007-Q2</th>\n",
       "      <th>1445007-Q8</th>\n",
       "      <th>1445007-Q3</th>\n",
       "      <th>1445007-Q9</th>\n",
       "      <th>1445007-Q4</th>\n",
       "      <th>1445007-Q10</th>\n",
       "      <th>1445007-Q5</th>\n",
       "      <th>1445007-Q11</th>\n",
       "      <th>1445007-Q6</th>\n",
       "      <th>1445007-Q12</th>\n",
       "    </tr>\n",
       "  </thead>\n",
       "  <tbody>\n",
       "    <tr>\n",
       "      <th>0</th>\n",
       "      <td>5.396072e+04</td>\n",
       "      <td>7.607179e+04</td>\n",
       "      <td>8.297770e+04</td>\n",
       "      <td>7.549802e+04</td>\n",
       "      <td>0.000000e+00</td>\n",
       "      <td>0.000000e+00</td>\n",
       "      <td>6.773552e+04</td>\n",
       "      <td>8.529264e+04</td>\n",
       "      <td>5.459649e+04</td>\n",
       "      <td>4.972176e+04</td>\n",
       "      <td>3.427736e+04</td>\n",
       "      <td>3.055065e+04</td>\n",
       "    </tr>\n",
       "    <tr>\n",
       "      <th>1</th>\n",
       "      <td>3.333623e+04</td>\n",
       "      <td>3.300214e+04</td>\n",
       "      <td>1.706845e+05</td>\n",
       "      <td>1.774815e+05</td>\n",
       "      <td>0.000000e+00</td>\n",
       "      <td>0.000000e+00</td>\n",
       "      <td>8.068690e+04</td>\n",
       "      <td>1.124522e+05</td>\n",
       "      <td>1.177198e+05</td>\n",
       "      <td>1.318751e+05</td>\n",
       "      <td>1.531653e+05</td>\n",
       "      <td>9.220770e+04</td>\n",
       "    </tr>\n",
       "    <tr>\n",
       "      <th>2</th>\n",
       "      <td>1.005912e+08</td>\n",
       "      <td>1.011114e+08</td>\n",
       "      <td>7.927298e+07</td>\n",
       "      <td>7.911240e+07</td>\n",
       "      <td>2.755520e+07</td>\n",
       "      <td>2.963698e+07</td>\n",
       "      <td>1.210886e+08</td>\n",
       "      <td>1.243634e+08</td>\n",
       "      <td>2.597128e+07</td>\n",
       "      <td>2.526855e+07</td>\n",
       "      <td>2.427973e+07</td>\n",
       "      <td>2.581216e+07</td>\n",
       "    </tr>\n",
       "    <tr>\n",
       "      <th>3</th>\n",
       "      <td>1.282680e+05</td>\n",
       "      <td>9.384290e+04</td>\n",
       "      <td>1.003959e+05</td>\n",
       "      <td>9.644244e+04</td>\n",
       "      <td>0.000000e+00</td>\n",
       "      <td>0.000000e+00</td>\n",
       "      <td>1.249602e+05</td>\n",
       "      <td>1.158255e+05</td>\n",
       "      <td>8.551896e+04</td>\n",
       "      <td>1.048047e+05</td>\n",
       "      <td>5.834601e+04</td>\n",
       "      <td>1.213847e+05</td>\n",
       "    </tr>\n",
       "    <tr>\n",
       "      <th>4</th>\n",
       "      <td>0.000000e+00</td>\n",
       "      <td>0.000000e+00</td>\n",
       "      <td>3.132250e+04</td>\n",
       "      <td>5.475254e+04</td>\n",
       "      <td>0.000000e+00</td>\n",
       "      <td>0.000000e+00</td>\n",
       "      <td>1.856952e+04</td>\n",
       "      <td>1.855994e+04</td>\n",
       "      <td>6.257094e+04</td>\n",
       "      <td>7.835615e+04</td>\n",
       "      <td>1.351767e+05</td>\n",
       "      <td>6.157735e+04</td>\n",
       "    </tr>\n",
       "  </tbody>\n",
       "</table>\n",
       "</div>"
      ],
      "text/plain": [
       "     1445007-Q1    1445007-Q7    1445007-Q2    1445007-Q8    1445007-Q3  \\\n",
       "0  5.396072e+04  7.607179e+04  8.297770e+04  7.549802e+04  0.000000e+00   \n",
       "1  3.333623e+04  3.300214e+04  1.706845e+05  1.774815e+05  0.000000e+00   \n",
       "2  1.005912e+08  1.011114e+08  7.927298e+07  7.911240e+07  2.755520e+07   \n",
       "3  1.282680e+05  9.384290e+04  1.003959e+05  9.644244e+04  0.000000e+00   \n",
       "4  0.000000e+00  0.000000e+00  3.132250e+04  5.475254e+04  0.000000e+00   \n",
       "\n",
       "     1445007-Q9    1445007-Q4   1445007-Q10    1445007-Q5   1445007-Q11  \\\n",
       "0  0.000000e+00  6.773552e+04  8.529264e+04  5.459649e+04  4.972176e+04   \n",
       "1  0.000000e+00  8.068690e+04  1.124522e+05  1.177198e+05  1.318751e+05   \n",
       "2  2.963698e+07  1.210886e+08  1.243634e+08  2.597128e+07  2.526855e+07   \n",
       "3  0.000000e+00  1.249602e+05  1.158255e+05  8.551896e+04  1.048047e+05   \n",
       "4  0.000000e+00  1.856952e+04  1.855994e+04  6.257094e+04  7.835615e+04   \n",
       "\n",
       "     1445007-Q6   1445007-Q12  \n",
       "0  3.427736e+04  3.055065e+04  \n",
       "1  1.531653e+05  9.220770e+04  \n",
       "2  2.427973e+07  2.581216e+07  \n",
       "3  5.834601e+04  1.213847e+05  \n",
       "4  1.351767e+05  6.157735e+04  "
      ]
     },
     "execution_count": 9,
     "metadata": {},
     "output_type": "execute_result"
    }
   ],
   "source": [
    "norm_abundance = data[normalized_columns]\n",
    "print(norm_abundance.shape)\n",
    "norm_abundance.head()"
   ]
  },
  {
   "cell_type": "code",
   "execution_count": 10,
   "id": "studied-progressive",
   "metadata": {},
   "outputs": [
    {
     "name": "stdout",
     "output_type": "stream",
     "text": [
      "(23232,)\n"
     ]
    },
    {
     "data": {
      "text/plain": [
       "array([53960.72435433, 76071.79246109, 82977.70221731, ...,\n",
       "                  nan,            nan,            nan])"
      ]
     },
     "execution_count": 10,
     "metadata": {},
     "output_type": "execute_result"
    }
   ],
   "source": [
    "# données dans un array d'une dimmenssion\n",
    "norm_abundance = norm_abundance.values.reshape(norm_abundance.shape[0] * norm_abundance.shape[1])\n",
    "print(norm_abundance.shape)\n",
    "norm_abundance"
   ]
  },
  {
   "cell_type": "code",
   "execution_count": 11,
   "id": "emotional-makeup",
   "metadata": {},
   "outputs": [
    {
     "name": "stdout",
     "output_type": "stream",
     "text": [
      "(22411,)\n"
     ]
    }
   ],
   "source": [
    "# remove 0\n",
    "norm_abundance = norm_abundance[norm_abundance > 0]\n",
    "print(norm_abundance.shape)"
   ]
  },
  {
   "cell_type": "markdown",
   "id": "committed-combination",
   "metadata": {},
   "source": [
    "## Récupération des abondances non normalisées"
   ]
  },
  {
   "cell_type": "code",
   "execution_count": 12,
   "id": "disturbed-murray",
   "metadata": {},
   "outputs": [
    {
     "name": "stdout",
     "output_type": "stream",
     "text": [
      "(1936, 12)\n"
     ]
    },
    {
     "data": {
      "text/html": [
       "<div>\n",
       "<style scoped>\n",
       "    .dataframe tbody tr th:only-of-type {\n",
       "        vertical-align: middle;\n",
       "    }\n",
       "\n",
       "    .dataframe tbody tr th {\n",
       "        vertical-align: top;\n",
       "    }\n",
       "\n",
       "    .dataframe thead th {\n",
       "        text-align: right;\n",
       "    }\n",
       "</style>\n",
       "<table border=\"1\" class=\"dataframe\">\n",
       "  <thead>\n",
       "    <tr style=\"text-align: right;\">\n",
       "      <th></th>\n",
       "      <th>1445007-Q1.1</th>\n",
       "      <th>1445007-Q7.1</th>\n",
       "      <th>1445007-Q2.1</th>\n",
       "      <th>1445007-Q8.1</th>\n",
       "      <th>1445007-Q3.1</th>\n",
       "      <th>1445007-Q9.1</th>\n",
       "      <th>1445007-Q4.1</th>\n",
       "      <th>1445007-Q10.1</th>\n",
       "      <th>1445007-Q5.1</th>\n",
       "      <th>1445007-Q11.1</th>\n",
       "      <th>1445007-Q6.1</th>\n",
       "      <th>1445007-Q12.1</th>\n",
       "    </tr>\n",
       "  </thead>\n",
       "  <tbody>\n",
       "    <tr>\n",
       "      <th>0</th>\n",
       "      <td>3.630108e+04</td>\n",
       "      <td>4.038520e+04</td>\n",
       "      <td>4.614436e+04</td>\n",
       "      <td>7.711143e+04</td>\n",
       "      <td>0.000000e+00</td>\n",
       "      <td>0.000000</td>\n",
       "      <td>6.773552e+04</td>\n",
       "      <td>8.709263e+04</td>\n",
       "      <td>6.771089e+04</td>\n",
       "      <td>6.248702e+04</td>\n",
       "      <td>1.384783e+04</td>\n",
       "      <td>3.341036e+04</td>\n",
       "    </tr>\n",
       "    <tr>\n",
       "      <th>1</th>\n",
       "      <td>2.242633e+04</td>\n",
       "      <td>1.752027e+04</td>\n",
       "      <td>9.491859e+04</td>\n",
       "      <td>1.812743e+05</td>\n",
       "      <td>0.000000e+00</td>\n",
       "      <td>0.000000</td>\n",
       "      <td>8.068690e+04</td>\n",
       "      <td>1.148254e+05</td>\n",
       "      <td>1.459967e+05</td>\n",
       "      <td>1.657319e+05</td>\n",
       "      <td>6.187778e+04</td>\n",
       "      <td>1.008388e+05</td>\n",
       "    </tr>\n",
       "    <tr>\n",
       "      <th>2</th>\n",
       "      <td>6.767087e+07</td>\n",
       "      <td>5.367831e+07</td>\n",
       "      <td>4.408415e+07</td>\n",
       "      <td>8.080305e+07</td>\n",
       "      <td>1.369881e+06</td>\n",
       "      <td>576411.311211</td>\n",
       "      <td>1.210886e+08</td>\n",
       "      <td>1.269880e+08</td>\n",
       "      <td>3.220974e+07</td>\n",
       "      <td>3.175585e+07</td>\n",
       "      <td>9.808853e+06</td>\n",
       "      <td>2.822832e+07</td>\n",
       "    </tr>\n",
       "    <tr>\n",
       "      <th>3</th>\n",
       "      <td>8.628990e+04</td>\n",
       "      <td>4.981957e+04</td>\n",
       "      <td>5.583073e+04</td>\n",
       "      <td>9.850344e+04</td>\n",
       "      <td>0.000000e+00</td>\n",
       "      <td>0.000000</td>\n",
       "      <td>1.249602e+05</td>\n",
       "      <td>1.182698e+05</td>\n",
       "      <td>1.060611e+05</td>\n",
       "      <td>1.317116e+05</td>\n",
       "      <td>2.357141e+04</td>\n",
       "      <td>1.327469e+05</td>\n",
       "    </tr>\n",
       "    <tr>\n",
       "      <th>4</th>\n",
       "      <td>0.000000e+00</td>\n",
       "      <td>0.000000e+00</td>\n",
       "      <td>1.741862e+04</td>\n",
       "      <td>5.592262e+04</td>\n",
       "      <td>0.000000e+00</td>\n",
       "      <td>0.000000</td>\n",
       "      <td>1.856952e+04</td>\n",
       "      <td>1.895163e+04</td>\n",
       "      <td>7.760084e+04</td>\n",
       "      <td>9.847283e+04</td>\n",
       "      <td>5.461053e+04</td>\n",
       "      <td>6.734132e+04</td>\n",
       "    </tr>\n",
       "  </tbody>\n",
       "</table>\n",
       "</div>"
      ],
      "text/plain": [
       "   1445007-Q1.1  1445007-Q7.1  1445007-Q2.1  1445007-Q8.1  1445007-Q3.1  \\\n",
       "0  3.630108e+04  4.038520e+04  4.614436e+04  7.711143e+04  0.000000e+00   \n",
       "1  2.242633e+04  1.752027e+04  9.491859e+04  1.812743e+05  0.000000e+00   \n",
       "2  6.767087e+07  5.367831e+07  4.408415e+07  8.080305e+07  1.369881e+06   \n",
       "3  8.628990e+04  4.981957e+04  5.583073e+04  9.850344e+04  0.000000e+00   \n",
       "4  0.000000e+00  0.000000e+00  1.741862e+04  5.592262e+04  0.000000e+00   \n",
       "\n",
       "    1445007-Q9.1  1445007-Q4.1  1445007-Q10.1  1445007-Q5.1  1445007-Q11.1  \\\n",
       "0       0.000000  6.773552e+04   8.709263e+04  6.771089e+04   6.248702e+04   \n",
       "1       0.000000  8.068690e+04   1.148254e+05  1.459967e+05   1.657319e+05   \n",
       "2  576411.311211  1.210886e+08   1.269880e+08  3.220974e+07   3.175585e+07   \n",
       "3       0.000000  1.249602e+05   1.182698e+05  1.060611e+05   1.317116e+05   \n",
       "4       0.000000  1.856952e+04   1.895163e+04  7.760084e+04   9.847283e+04   \n",
       "\n",
       "   1445007-Q6.1  1445007-Q12.1  \n",
       "0  1.384783e+04   3.341036e+04  \n",
       "1  6.187778e+04   1.008388e+05  \n",
       "2  9.808853e+06   2.822832e+07  \n",
       "3  2.357141e+04   1.327469e+05  \n",
       "4  5.461053e+04   6.734132e+04  "
      ]
     },
     "execution_count": 12,
     "metadata": {},
     "output_type": "execute_result"
    }
   ],
   "source": [
    "raw_abundance = data[raw_columns]\n",
    "print(raw_abundance.shape)\n",
    "raw_abundance.head()"
   ]
  },
  {
   "cell_type": "code",
   "execution_count": 13,
   "id": "imperial-alexander",
   "metadata": {},
   "outputs": [
    {
     "name": "stdout",
     "output_type": "stream",
     "text": [
      "(23232,)\n"
     ]
    },
    {
     "data": {
      "text/plain": [
       "array([36301.07929739, 40385.19808956, 46144.36454181, ...,\n",
       "           0.        ,     0.        ,     0.        ])"
      ]
     },
     "execution_count": 13,
     "metadata": {},
     "output_type": "execute_result"
    }
   ],
   "source": [
    "# données dans un array d'une dimmenssion\n",
    "raw_abundance = raw_abundance.values.reshape(raw_abundance.shape[0] * raw_abundance.shape[1])\n",
    "print(raw_abundance.shape)\n",
    "raw_abundance"
   ]
  },
  {
   "cell_type": "code",
   "execution_count": 14,
   "id": "persistent-circular",
   "metadata": {},
   "outputs": [
    {
     "name": "stdout",
     "output_type": "stream",
     "text": [
      "(22411,)\n"
     ]
    }
   ],
   "source": [
    "raw_abundance = raw_abundance[raw_abundance > 0]\n",
    "print(raw_abundance.shape)"
   ]
  },
  {
   "cell_type": "markdown",
   "id": "regulation-denmark",
   "metadata": {},
   "source": [
    "## Analyse sur les données d'abondance normalisées\n",
    "### histograme de la distribution des données normalisées"
   ]
  },
  {
   "cell_type": "code",
   "execution_count": 15,
   "id": "controlling-alexander",
   "metadata": {},
   "outputs": [
    {
     "data": {
      "image/png": "[encoded data removed]",
      "text/plain": [
       "<Figure size 432x288 with 1 Axes>"
      ]
     },
     "metadata": {
      "needs_background": "light"
     },
     "output_type": "display_data"
    }
   ],
   "source": [
    "plt.hist(norm_abundance, bins=range(0, 20_000_000, 150_000));"
   ]
  },
  {
   "cell_type": "markdown",
   "id": "revolutionary-original",
   "metadata": {},
   "source": [
    "### Analyse des $1^{er}$ digit"
   ]
  },
  {
   "cell_type": "code",
   "execution_count": 16,
   "id": "hindu-chassis",
   "metadata": {},
   "outputs": [],
   "source": [
    "f_benford = benford.get_theoretical_freq_benford()\n",
    "d_obs = benford.count_first_digit(norm_abundance)"
   ]
  },
  {
   "cell_type": "markdown",
   "id": "fuzzy-calculator",
   "metadata": {},
   "source": [
    "### Histogramme de la fréquence des first digit de la loi de Benford et de l'abondance des protéines"
   ]
  },
  {
   "cell_type": "code",
   "execution_count": 17,
   "id": "divided-bedroom",
   "metadata": {},
   "outputs": [
    {
     "data": {
      "image/png": "[encoded data removed]",
      "text/plain": [
       "<Figure size 432x288 with 1 Axes>"
      ]
     },
     "metadata": {
      "needs_background": "light"
     },
     "output_type": "display_data"
    }
   ],
   "source": [
    "benford.build_hist_freq_ben(benford.normalize_first_digit(d_obs), f_benford, nb_digit=1,\n",
    "                            title=(\"Theoretical Benford law and First digit distribution \\n \"\n",
    "                            f\"of the {sum(d_obs)} protein  abundances\"),\n",
    "                            legend=\"protein Abundances\")"
   ]
  },
  {
   "cell_type": "markdown",
   "id": "mobile-yukon",
   "metadata": {},
   "source": [
    "### Test statistique par la procédure \"bootstrap\""
   ]
  },
  {
   "cell_type": "code",
   "execution_count": 18,
   "id": "affecting-northwest",
   "metadata": {},
   "outputs": [
    {
     "name": "stdout",
     "output_type": "stream",
     "text": [
      "statistics : 8.188187281914812 ; p-value : 0.415306810854963\n",
      "CPU times: user 3.71 s, sys: 0 ns, total: 3.71 s\n",
      "Wall time: 3.71 s\n"
     ]
    }
   ],
   "source": [
    "%%time\n",
    "statistics, p_val = benford.calculate_bootstrap_chi2(norm_abundance, f_benford, nb_digit=1)"
   ]
  },
  {
   "cell_type": "code",
   "execution_count": 19,
   "id": "coral-parent",
   "metadata": {},
   "outputs": [
    {
     "name": "stdout",
     "output_type": "stream",
     "text": [
      "Le résultat du test montre que le premier chiffre significatif de l'abondance de protéine suit la loi de Benford pour un risque 𝛼=5%.\n"
     ]
    }
   ],
   "source": [
    "if p_val > 0.05:\n",
    "    print(\"Le résultat du test montre que le premier chiffre significatif de\",\n",
    "          \"l'abondance de protéine suit la loi de Benford pour un risque 𝛼=5%.\")\n",
    "else:\n",
    "    print(\"Le résultat du test montre que le premier chiffre significatif de\",\n",
    "          \"l'abondance de protéine ne suit pas la loi de Benford pour un \",\n",
    "          \"risque 𝛼=5%.\")"
   ]
  },
  {
   "cell_type": "markdown",
   "id": "metric-munich",
   "metadata": {},
   "source": [
    "count_firs_digit## Analyse des deux $1^{er}$ digit"
   ]
  },
  {
   "cell_type": "code",
   "execution_count": 20,
   "id": "dressed-observer",
   "metadata": {},
   "outputs": [],
   "source": [
    "f_benford = benford.get_theoretical_freq_benford(2)\n",
    "d_obs = benford.count_first_digit(norm_abundance, 2)"
   ]
  },
  {
   "cell_type": "markdown",
   "id": "incident-pittsburgh",
   "metadata": {},
   "source": [
    "### Histogramme de la fréquence des first digit de la loi de Benford et de l'abondance des protéines"
   ]
  },
  {
   "cell_type": "code",
   "execution_count": 21,
   "id": "corrected-microwave",
   "metadata": {},
   "outputs": [
    {
     "data": {
      "image/png": "[encoded data removed]",
      "text/plain": [
       "<Figure size 2880x1080 with 1 Axes>"
      ]
     },
     "metadata": {
      "needs_background": "light"
     },
     "output_type": "display_data"
    }
   ],
   "source": [
    "benford.build_hist_freq_ben(benford.normalize_first_digit(d_obs), f_benford, nb_digit=2,\n",
    "                            title=(\"Theoretical Benford law and First digit distribution \\n \"\n",
    "                            f\"of the {sum(d_obs)} protein  abundances\"),\n",
    "                            legend=\"protein Abundances\", size=(40, 15))"
   ]
  },
  {
   "cell_type": "markdown",
   "id": "thermal-cradle",
   "metadata": {},
   "source": [
    "### Test statistique par la procédure \"bootstrap\""
   ]
  },
  {
   "cell_type": "code",
   "execution_count": 22,
   "id": "pleasant-grove",
   "metadata": {},
   "outputs": [
    {
     "name": "stdout",
     "output_type": "stream",
     "text": [
      "statistics : 90.23432348009506 ; p-value : 0.4435280166881061\n",
      "CPU times: user 4.09 s, sys: 3.59 ms, total: 4.1 s\n",
      "Wall time: 4.09 s\n"
     ]
    }
   ],
   "source": [
    "%%time\n",
    "statistics, P_val = benford.calculate_bootstrap_chi2(norm_abundance, f_benford, nb_digit=2)"
   ]
  },
  {
   "cell_type": "code",
   "execution_count": 23,
   "id": "whole-removal",
   "metadata": {},
   "outputs": [
    {
     "name": "stdout",
     "output_type": "stream",
     "text": [
      "Le résultat du test montre que les 2 premiers chiffres significatifs de l'abondance de protéine suit la loi de Benford pour un risque 𝛼=5%.\n"
     ]
    }
   ],
   "source": [
    "if p_val > 0.05:\n",
    "    print(\"Le résultat du test montre que les 2 premiers chiffres significatifs de\",\n",
    "          \"l'abondance de protéine suit la loi de Benford pour un risque 𝛼=5%.\")\n",
    "else:\n",
    "    print(\"Le résultat du test montre que les 2 premiers chiffres significatifs de\",\n",
    "          \"l'abondance de protéine ne suit pas la loi de Benford pour un \",\n",
    "          \"risque 𝛼=5%.\")"
   ]
  },
  {
   "cell_type": "markdown",
   "id": "emotional-cooking",
   "metadata": {},
   "source": [
    "## Analyse sur les données d'abondance non normalisées\n",
    "### histograme de la distribution des données non normalisées"
   ]
  },
  {
   "cell_type": "code",
   "execution_count": 24,
   "id": "published-heart",
   "metadata": {},
   "outputs": [
    {
     "data": {
      "image/png": "[encoded data removed]",
      "text/plain": [
       "<Figure size 432x288 with 1 Axes>"
      ]
     },
     "metadata": {
      "needs_background": "light"
     },
     "output_type": "display_data"
    }
   ],
   "source": [
    "plt.hist(raw_abundance, bins=range(0, 40));"
   ]
  },
  {
   "cell_type": "markdown",
   "id": "exclusive-bracelet",
   "metadata": {},
   "source": [
    "### Analyse des $1^{er}$ digit"
   ]
  },
  {
   "cell_type": "code",
   "execution_count": 25,
   "id": "local-right",
   "metadata": {},
   "outputs": [],
   "source": [
    "f_benford = benford.get_theoretical_freq_benford()\n",
    "d_obs = benford.count_first_digit(raw_abundance)"
   ]
  },
  {
   "cell_type": "markdown",
   "id": "dependent-dryer",
   "metadata": {},
   "source": [
    "### Histogramme de la fréquence des first digit de la loi de Benford et de l'abondance des protéines"
   ]
  },
  {
   "cell_type": "code",
   "execution_count": 26,
   "id": "protected-purse",
   "metadata": {},
   "outputs": [
    {
     "data": {
      "image/png": "[encoded data removed]",
      "text/plain": [
       "<Figure size 432x288 with 1 Axes>"
      ]
     },
     "metadata": {
      "needs_background": "light"
     },
     "output_type": "display_data"
    }
   ],
   "source": [
    "benford.build_hist_freq_ben(benford.normalize_first_digit(d_obs), f_benford, nb_digit=1,\n",
    "                            title=(\"Theoretical Benford law and First digit distribution \\n \"\n",
    "                            f\"of the {sum(d_obs)} protein  abundances\"),\n",
    "                            legend=\"protein Abundances\")"
   ]
  },
  {
   "cell_type": "markdown",
   "id": "forced-hostel",
   "metadata": {},
   "source": [
    "### Test statistique par la procédure \"bootstrap\""
   ]
  },
  {
   "cell_type": "code",
   "execution_count": 27,
   "id": "special-salon",
   "metadata": {},
   "outputs": [
    {
     "name": "stdout",
     "output_type": "stream",
     "text": [
      "statistics : 8.019951320876869 ; p-value : 0.43152364159587064\n",
      "CPU times: user 3.71 s, sys: 0 ns, total: 3.71 s\n",
      "Wall time: 3.7 s\n"
     ]
    }
   ],
   "source": [
    "%%time\n",
    "statistics, p_val = benford.calculate_bootstrap_chi2(raw_abundance, f_benford, nb_digit=1)"
   ]
  },
  {
   "cell_type": "code",
   "execution_count": 28,
   "id": "passing-recycling",
   "metadata": {},
   "outputs": [
    {
     "name": "stdout",
     "output_type": "stream",
     "text": [
      "Le résultat du test montre que le premier chiffre significatif de l'abondance de protéine suit la loi de Benford pour un risque 𝛼=5%.\n"
     ]
    }
   ],
   "source": [
    "if p_val > 0.05:\n",
    "    print(\"Le résultat du test montre que le premier chiffre significatif de\",\n",
    "          \"l'abondance de protéine suit la loi de Benford pour un risque 𝛼=5%.\")\n",
    "else:\n",
    "    print(\"Le résultat du test montre que le premier chiffre significatif de\",\n",
    "          \"l'abondance de protéine ne suit pas la loi de Benford pour un \",\n",
    "          \"risque 𝛼=5%.\")"
   ]
  },
  {
   "cell_type": "markdown",
   "id": "blond-community",
   "metadata": {},
   "source": [
    "## Analyse des deux $1^{er}$ digit"
   ]
  },
  {
   "cell_type": "code",
   "execution_count": 29,
   "id": "initial-litigation",
   "metadata": {},
   "outputs": [],
   "source": [
    "f_benford = benford.get_theoretical_freq_benford(2)\n",
    "d_obs = benford.count_first_digit(raw_abundance, 2)"
   ]
  },
  {
   "cell_type": "markdown",
   "id": "running-stations",
   "metadata": {},
   "source": [
    "### Histogramme de la fréquence des first digit de la loi de Benford et de l'abondance des protéines"
   ]
  },
  {
   "cell_type": "code",
   "execution_count": 30,
   "id": "bigger-audit",
   "metadata": {},
   "outputs": [
    {
     "data": {
      "image/png": "[encoded data removed]",
      "text/plain": [
       "<Figure size 2880x1080 with 1 Axes>"
      ]
     },
     "metadata": {
      "needs_background": "light"
     },
     "output_type": "display_data"
    }
   ],
   "source": [
    "benford.build_hist_freq_ben(benford.normalize_first_digit(d_obs), f_benford, nb_digit=2,\n",
    "                            title=(\"Theoretical Benford law and First digit distribution \\n \"\n",
    "                            f\"of the {sum(d_obs)} protein  abundances\"),\n",
    "                            legend=\"protein Abundances\", size=(40, 15))"
   ]
  },
  {
   "cell_type": "markdown",
   "id": "funded-cleveland",
   "metadata": {},
   "source": [
    "### Test statistique par la procédure \"bootstrap\""
   ]
  },
  {
   "cell_type": "code",
   "execution_count": 31,
   "id": "mexican-minister",
   "metadata": {},
   "outputs": [
    {
     "name": "stdout",
     "output_type": "stream",
     "text": [
      "statistics : 88.55669569022997 ; p-value : 0.4933244698656889\n",
      "CPU times: user 4.12 s, sys: 0 ns, total: 4.12 s\n",
      "Wall time: 4.12 s\n"
     ]
    }
   ],
   "source": [
    "%%time\n",
    "statistics, P_val = benford.calculate_bootstrap_chi2(raw_abundance, f_benford, nb_digit=2)"
   ]
  },
  {
   "cell_type": "code",
   "execution_count": 32,
   "id": "outstanding-passenger",
   "metadata": {},
   "outputs": [
    {
     "name": "stdout",
     "output_type": "stream",
     "text": [
      "Le résultat du test montre que les 2 premiers chiffres significatifs de l'abondance de protéine suit la loi de Benford pour un risque 𝛼=5%.\n"
     ]
    }
   ],
   "source": [
    "if p_val > 0.05:\n",
    "    print(\"Le résultat du test montre que les 2 premiers chiffres significatifs de\",\n",
    "          \"l'abondance de protéine suit la loi de Benford pour un risque 𝛼=5%.\")\n",
    "else:\n",
    "    print(\"Le résultat du test montre que les 2 premiers chiffres significatifs de\",\n",
    "          \"l'abondance de protéine ne suit pas la loi de Benford pour un \",\n",
    "          \"risque 𝛼=5%.\")"
   ]
  },
  {
   "cell_type": "code",
   "execution_count": null,
   "id": "outstanding-entrepreneur",
   "metadata": {},
   "outputs": [],
   "source": []
  }
 ],
 "metadata": {
  "kernelspec": {
   "display_name": "Python 3",
   "language": "python",
   "name": "python3"
  },
  "language_info": {
   "codemirror_mode": {
    "name": "ipython",
    "version": 3
   },
   "file_extension": ".py",
   "mimetype": "text/x-python",
   "name": "python",
   "nbconvert_exporter": "python",
   "pygments_lexer": "ipython3",
   "version": "3.7.9"
  }
 },
 "nbformat": 4,
 "nbformat_minor": 5
}
