{
 "cells": [
  {
   "cell_type": "markdown",
   "id": "secondary-peoples",
   "metadata": {},
   "source": [
    "# Loi de Benford et données d'abondance de protéines\n",
    "Ce script a pour but de vérifier si l'abondance de protéines, d'un fichier d'abondance de protéines extrait depuis [PRIDE](https://www.ebi.ac.uk/pride/), suit la loi de Benford."
   ]
  },
  {
   "cell_type": "code",
   "execution_count": 1,
   "id": "north-filename",
   "metadata": {},
   "outputs": [],
   "source": [
    "import pandas as pd\n",
    "import numpy as np\n",
    "import matplotlib.pyplot as plt\n",
    "import os, sys\n",
    "\n",
    "sys.path.insert(0, '..')\n",
    "\n",
    "import benford\n",
    "\n",
    "%load_ext autoreload\n",
    "%autoreload 2"
   ]
  },
  {
   "cell_type": "markdown",
   "id": "massive-cambridge",
   "metadata": {},
   "source": [
    "## Téléchargement du jeu de données"
   ]
  },
  {
   "cell_type": "code",
   "execution_count": 2,
   "id": "unknown-turning",
   "metadata": {},
   "outputs": [
    {
     "name": "stdout",
     "output_type": "stream",
     "text": [
      "--2021-04-30 13:37:39--  http://ftp.pride.ebi.ac.uk/pride/data/archive/2019/07/PXD014125/1445007-Cglabrata-QUANTI.csv\n",
      "Resolving ftp.pride.ebi.ac.uk (ftp.pride.ebi.ac.uk)... 193.62.197.74\n",
      "Connecting to ftp.pride.ebi.ac.uk (ftp.pride.ebi.ac.uk)|193.62.197.74|:80... connected.\n",
      "HTTP request sent, awaiting response... 200 OK\n",
      "Length: 1404249 (1.3M) [application/octet-stream]\n",
      "Saving to: '1445007-Cglabrata-QUANTI.csv'\n",
      "\n",
      "1445007-Cglabrata-Q 100%[===================>]   1.34M  4.95MB/s    in 0.3s    \n",
      "\n",
      "2021-04-30 13:37:39 (4.95 MB/s) - '1445007-Cglabrata-QUANTI.csv' saved [1404249/1404249]\n",
      "\n"
     ]
    }
   ],
   "source": [
    "if os.path.exists(\"1445007-Cglabrata-QUANTI.csv\") == False:\n",
    "    !wget http://ftp.pride.ebi.ac.uk/pride/data/archive/2019/07/PXD014125/1445007-Cglabrata-QUANTI.csv"
   ]
  },
  {
   "cell_type": "code",
   "execution_count": null,
   "id": "forward-package",
   "metadata": {},
   "outputs": [],
   "source": []
  }
 ],
 "metadata": {
  "kernelspec": {
   "display_name": "Python 3",
   "language": "python",
   "name": "python3"
  },
  "language_info": {
   "codemirror_mode": {
    "name": "ipython",
    "version": 3
   },
   "file_extension": ".py",
   "mimetype": "text/x-python",
   "name": "python",
   "nbconvert_exporter": "python",
   "pygments_lexer": "ipython3",
   "version": "3.7.9"
  }
 },
 "nbformat": 4,
 "nbformat_minor": 5
}
