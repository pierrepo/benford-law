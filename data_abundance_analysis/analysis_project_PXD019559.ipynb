{
 "cells": [
  {
   "cell_type": "markdown",
   "id": "considerable-underwear",
   "metadata": {},
   "source": [
    "# Loi de Benford et données d'abondance de protéines\n",
    "Ce script a pour but de vérifier si l'abondance de protéines, de 2 fichiers d'abondances de protéines extrait depuis [PRIDE](https://www.ebi.ac.uk/pride/) du projet PXD019559, suit la loi de Benford."
   ]
  },
  {
   "cell_type": "code",
   "execution_count": 1,
   "id": "brave-berlin",
   "metadata": {},
   "outputs": [],
   "source": [
    "import pandas as pd\n",
    "import numpy as np\n",
    "import matplotlib.pyplot as plt\n",
    "import os, sys\n",
    "\n",
    "sys.path.insert(0, '..')\n",
    "\n",
    "import benford\n",
    "\n",
    "%load_ext autoreload\n",
    "%autoreload 2"
   ]
  },
  {
   "cell_type": "markdown",
   "id": "hollywood-incidence",
   "metadata": {},
   "source": [
    "## Téléchargement du jeu de données"
   ]
  },
  {
   "cell_type": "code",
   "execution_count": 2,
   "id": "polished-monkey",
   "metadata": {},
   "outputs": [],
   "source": [
    "if not os.path.exists(\"raw_abundance_table_1.txt\"):\n",
    "    ! wget https://www.ebi.ac.uk/pride/data/archive/2020/07/PXD019559/raw_abundance_table_1.txt\n",
    "if not os.path.exists(\"raw_abundance_table_2.txt\"):\n",
    "    ! wget https://www.ebi.ac.uk/pride/data/archive/2020/07/PXD019559/raw_abundance_table_2.txt"
   ]
  },
  {
   "cell_type": "markdown",
   "id": "fewer-level",
   "metadata": {},
   "source": [
    "## Chargement et exploration du jeu de données raw_abundance_table_1.txt et raw_abundance_table_2.txt\n",
    "### <font color='green'>raw_abundance_table_1.txt</font> "
   ]
  },
  {
   "cell_type": "code",
   "execution_count": 3,
   "id": "mexican-correlation",
   "metadata": {},
   "outputs": [],
   "source": [
    "data = pd.read_csv(\"raw_abundance_table_1.txt\", delimiter=\"\\t\", skiprows=0)"
   ]
  },
  {
   "cell_type": "code",
   "execution_count": 4,
   "id": "vocal-satisfaction",
   "metadata": {},
   "outputs": [
    {
     "data": {
      "text/plain": [
       "(1917, 55)"
      ]
     },
     "execution_count": 4,
     "metadata": {},
     "output_type": "execute_result"
    }
   ],
   "source": [
    "data.shape"
   ]
  },
  {
   "cell_type": "code",
   "execution_count": 5,
   "id": "catholic-circle",
   "metadata": {},
   "outputs": [
    {
     "data": {
      "text/html": [
       "<div>\n",
       "<style scoped>\n",
       "    .dataframe tbody tr th:only-of-type {\n",
       "        vertical-align: middle;\n",
       "    }\n",
       "\n",
       "    .dataframe tbody tr th {\n",
       "        vertical-align: top;\n",
       "    }\n",
       "\n",
       "    .dataframe thead th {\n",
       "        text-align: right;\n",
       "    }\n",
       "</style>\n",
       "<table border=\"1\" class=\"dataframe\">\n",
       "  <thead>\n",
       "    <tr style=\"text-align: right;\">\n",
       "      <th></th>\n",
       "      <th>Accession</th>\n",
       "      <th>Peptide count</th>\n",
       "      <th>Unique peptides</th>\n",
       "      <th>Confidence score</th>\n",
       "      <th>Anova (p)</th>\n",
       "      <th>Max fold change</th>\n",
       "      <th>Description</th>\n",
       "      <th>WT_control_1</th>\n",
       "      <th>WT_control_2</th>\n",
       "      <th>AMFR_1</th>\n",
       "      <th>...</th>\n",
       "      <th>RNFT1_1</th>\n",
       "      <th>RNFT1_2</th>\n",
       "      <th>Tmem129_1</th>\n",
       "      <th>Tmem129_2</th>\n",
       "      <th>Trim13_1</th>\n",
       "      <th>Trim13_2</th>\n",
       "      <th>Trim59_1</th>\n",
       "      <th>Trim59_2</th>\n",
       "      <th>ZNRF4_1</th>\n",
       "      <th>ZNRF4_2</th>\n",
       "    </tr>\n",
       "  </thead>\n",
       "  <tbody>\n",
       "    <tr>\n",
       "      <th>0</th>\n",
       "      <td>P62306</td>\n",
       "      <td>1</td>\n",
       "      <td>1</td>\n",
       "      <td>92.54</td>\n",
       "      <td>0.0</td>\n",
       "      <td>146.250416</td>\n",
       "      <td>Small nuclear ribonucleoprotein F OS=Homo sapi...</td>\n",
       "      <td>1.597321e+06</td>\n",
       "      <td>1.510281e+06</td>\n",
       "      <td>653449.78450</td>\n",
       "      <td>...</td>\n",
       "      <td>1.031725e+06</td>\n",
       "      <td>8.946137e+05</td>\n",
       "      <td>685599.113800</td>\n",
       "      <td>622240.798000</td>\n",
       "      <td>3.612258e+05</td>\n",
       "      <td>4.090111e+05</td>\n",
       "      <td>542880.771500</td>\n",
       "      <td>577099.865000</td>\n",
       "      <td>723632.233300</td>\n",
       "      <td>369505.163300</td>\n",
       "    </tr>\n",
       "    <tr>\n",
       "      <th>1</th>\n",
       "      <td>P00738</td>\n",
       "      <td>2</td>\n",
       "      <td>1</td>\n",
       "      <td>120.92</td>\n",
       "      <td>0.0</td>\n",
       "      <td>11.860484</td>\n",
       "      <td>Haptoglobin OS=Homo sapiens GN=HP PE=1 SV=1</td>\n",
       "      <td>2.571727e+06</td>\n",
       "      <td>2.227859e+06</td>\n",
       "      <td>939360.24170</td>\n",
       "      <td>...</td>\n",
       "      <td>4.768931e+05</td>\n",
       "      <td>4.418349e+05</td>\n",
       "      <td>543889.881000</td>\n",
       "      <td>605881.526900</td>\n",
       "      <td>1.130502e+06</td>\n",
       "      <td>1.066964e+06</td>\n",
       "      <td>364056.310300</td>\n",
       "      <td>336637.678800</td>\n",
       "      <td>346912.799800</td>\n",
       "      <td>290904.602200</td>\n",
       "    </tr>\n",
       "    <tr>\n",
       "      <th>2</th>\n",
       "      <td>Q14574</td>\n",
       "      <td>2</td>\n",
       "      <td>1</td>\n",
       "      <td>68.78</td>\n",
       "      <td>0.0</td>\n",
       "      <td>inf</td>\n",
       "      <td>Desmocollin-3 OS=Homo sapiens GN=DSC3 PE=1 SV=3</td>\n",
       "      <td>1.267556e+04</td>\n",
       "      <td>1.148202e+04</td>\n",
       "      <td>2578.10604</td>\n",
       "      <td>...</td>\n",
       "      <td>1.665226e+04</td>\n",
       "      <td>1.272385e+04</td>\n",
       "      <td>927.292206</td>\n",
       "      <td>721.778363</td>\n",
       "      <td>1.455537e+03</td>\n",
       "      <td>5.289084e+03</td>\n",
       "      <td>549.407043</td>\n",
       "      <td>873.451386</td>\n",
       "      <td>3540.070679</td>\n",
       "      <td>1922.103598</td>\n",
       "    </tr>\n",
       "    <tr>\n",
       "      <th>3</th>\n",
       "      <td>P62942</td>\n",
       "      <td>2</td>\n",
       "      <td>2</td>\n",
       "      <td>192.71</td>\n",
       "      <td>0.0</td>\n",
       "      <td>14.602234</td>\n",
       "      <td>Peptidyl-prolyl cis-trans isomerase FKBP1A OS=...</td>\n",
       "      <td>1.082784e+06</td>\n",
       "      <td>7.226234e+05</td>\n",
       "      <td>170103.36070</td>\n",
       "      <td>...</td>\n",
       "      <td>5.264412e+05</td>\n",
       "      <td>4.712341e+05</td>\n",
       "      <td>129784.308800</td>\n",
       "      <td>172422.538100</td>\n",
       "      <td>5.451802e+04</td>\n",
       "      <td>6.912112e+04</td>\n",
       "      <td>99581.120720</td>\n",
       "      <td>93295.618290</td>\n",
       "      <td>99816.192810</td>\n",
       "      <td>94214.225140</td>\n",
       "    </tr>\n",
       "    <tr>\n",
       "      <th>4</th>\n",
       "      <td>P14174</td>\n",
       "      <td>2</td>\n",
       "      <td>2</td>\n",
       "      <td>139.51</td>\n",
       "      <td>0.0</td>\n",
       "      <td>18.804068</td>\n",
       "      <td>Macrophage migration inhibitory factor OS=Homo...</td>\n",
       "      <td>3.847340e+06</td>\n",
       "      <td>3.328870e+06</td>\n",
       "      <td>696620.77780</td>\n",
       "      <td>...</td>\n",
       "      <td>1.083375e+06</td>\n",
       "      <td>1.301425e+06</td>\n",
       "      <td>581763.270800</td>\n",
       "      <td>691786.657400</td>\n",
       "      <td>2.647066e+05</td>\n",
       "      <td>3.463574e+05</td>\n",
       "      <td>376276.827000</td>\n",
       "      <td>430823.038700</td>\n",
       "      <td>414007.508500</td>\n",
       "      <td>320752.227500</td>\n",
       "    </tr>\n",
       "  </tbody>\n",
       "</table>\n",
       "<p>5 rows × 55 columns</p>\n",
       "</div>"
      ],
      "text/plain": [
       "  Accession  Peptide count  Unique peptides  Confidence score  Anova (p)  \\\n",
       "0    P62306              1                1             92.54        0.0   \n",
       "1    P00738              2                1            120.92        0.0   \n",
       "2    Q14574              2                1             68.78        0.0   \n",
       "3    P62942              2                2            192.71        0.0   \n",
       "4    P14174              2                2            139.51        0.0   \n",
       "\n",
       "   Max fold change                                        Description  \\\n",
       "0       146.250416  Small nuclear ribonucleoprotein F OS=Homo sapi...   \n",
       "1        11.860484        Haptoglobin OS=Homo sapiens GN=HP PE=1 SV=1   \n",
       "2              inf    Desmocollin-3 OS=Homo sapiens GN=DSC3 PE=1 SV=3   \n",
       "3        14.602234  Peptidyl-prolyl cis-trans isomerase FKBP1A OS=...   \n",
       "4        18.804068  Macrophage migration inhibitory factor OS=Homo...   \n",
       "\n",
       "   WT_control_1  WT_control_2        AMFR_1  ...       RNFT1_1       RNFT1_2  \\\n",
       "0  1.597321e+06  1.510281e+06  653449.78450  ...  1.031725e+06  8.946137e+05   \n",
       "1  2.571727e+06  2.227859e+06  939360.24170  ...  4.768931e+05  4.418349e+05   \n",
       "2  1.267556e+04  1.148202e+04    2578.10604  ...  1.665226e+04  1.272385e+04   \n",
       "3  1.082784e+06  7.226234e+05  170103.36070  ...  5.264412e+05  4.712341e+05   \n",
       "4  3.847340e+06  3.328870e+06  696620.77780  ...  1.083375e+06  1.301425e+06   \n",
       "\n",
       "       Tmem129_1      Tmem129_2      Trim13_1      Trim13_2       Trim59_1  \\\n",
       "0  685599.113800  622240.798000  3.612258e+05  4.090111e+05  542880.771500   \n",
       "1  543889.881000  605881.526900  1.130502e+06  1.066964e+06  364056.310300   \n",
       "2     927.292206     721.778363  1.455537e+03  5.289084e+03     549.407043   \n",
       "3  129784.308800  172422.538100  5.451802e+04  6.912112e+04   99581.120720   \n",
       "4  581763.270800  691786.657400  2.647066e+05  3.463574e+05  376276.827000   \n",
       "\n",
       "        Trim59_2        ZNRF4_1        ZNRF4_2  \n",
       "0  577099.865000  723632.233300  369505.163300  \n",
       "1  336637.678800  346912.799800  290904.602200  \n",
       "2     873.451386    3540.070679    1922.103598  \n",
       "3   93295.618290   99816.192810   94214.225140  \n",
       "4  430823.038700  414007.508500  320752.227500  \n",
       "\n",
       "[5 rows x 55 columns]"
      ]
     },
     "execution_count": 5,
     "metadata": {},
     "output_type": "execute_result"
    }
   ],
   "source": [
    "data.head()"
   ]
  },
  {
   "cell_type": "code",
   "execution_count": 6,
   "id": "genuine-foster",
   "metadata": {},
   "outputs": [
    {
     "data": {
      "text/plain": [
       "Index(['Accession', 'Peptide count', 'Unique peptides', 'Confidence score',\n",
       "       'Anova (p)', 'Max fold change', 'Description', 'WT_control_1',\n",
       "       'WT_control_2', 'AMFR_1', 'AMFR_2', 'BFAR_1', 'BFAR_2', 'CGRRF1_1',\n",
       "       'CGRRF1_2', 'HRD1_1', 'HRD1_2', 'MARCH2_1', 'MARCH2_2', 'MARCH3_1',\n",
       "       'MARCH3_2', 'MARCH4_1', 'MARCH4_2', 'MARCH6_1', 'MARCH6_2', 'MARCH8_1',\n",
       "       'MARCH8_2', 'RNF5_1', 'RNF5_2', 'RNF13_1', 'RNF13_2', 'RNF26_1',\n",
       "       'RNF26_2', 'RNF103_1', 'RNF103_2', 'RNF128_1', 'RNF128_2', 'RNF139_1',\n",
       "       'RNF139_2', 'RNF148_1', 'RNF148_2', 'RNF170_1', 'RNF170_2', 'RNF185_1',\n",
       "       'RNF185_2', 'RNFT1_1', 'RNFT1_2', 'Tmem129_1', 'Tmem129_2', 'Trim13_1',\n",
       "       'Trim13_2', 'Trim59_1', 'Trim59_2', 'ZNRF4_1', 'ZNRF4_2'],\n",
       "      dtype='object')"
      ]
     },
     "execution_count": 6,
     "metadata": {},
     "output_type": "execute_result"
    }
   ],
   "source": [
    "data.columns"
   ]
  },
  {
   "cell_type": "code",
   "execution_count": 7,
   "id": "dirty-architecture",
   "metadata": {},
   "outputs": [
    {
     "data": {
      "text/html": [
       "<div>\n",
       "<style scoped>\n",
       "    .dataframe tbody tr th:only-of-type {\n",
       "        vertical-align: middle;\n",
       "    }\n",
       "\n",
       "    .dataframe tbody tr th {\n",
       "        vertical-align: top;\n",
       "    }\n",
       "\n",
       "    .dataframe thead th {\n",
       "        text-align: right;\n",
       "    }\n",
       "</style>\n",
       "<table border=\"1\" class=\"dataframe\">\n",
       "  <thead>\n",
       "    <tr style=\"text-align: right;\">\n",
       "      <th></th>\n",
       "      <th>Peptide count</th>\n",
       "      <th>Unique peptides</th>\n",
       "      <th>Confidence score</th>\n",
       "      <th>Anova (p)</th>\n",
       "      <th>Max fold change</th>\n",
       "      <th>WT_control_1</th>\n",
       "      <th>WT_control_2</th>\n",
       "      <th>AMFR_1</th>\n",
       "      <th>AMFR_2</th>\n",
       "      <th>BFAR_1</th>\n",
       "      <th>...</th>\n",
       "      <th>RNFT1_1</th>\n",
       "      <th>RNFT1_2</th>\n",
       "      <th>Tmem129_1</th>\n",
       "      <th>Tmem129_2</th>\n",
       "      <th>Trim13_1</th>\n",
       "      <th>Trim13_2</th>\n",
       "      <th>Trim59_1</th>\n",
       "      <th>Trim59_2</th>\n",
       "      <th>ZNRF4_1</th>\n",
       "      <th>ZNRF4_2</th>\n",
       "    </tr>\n",
       "  </thead>\n",
       "  <tbody>\n",
       "    <tr>\n",
       "      <th>count</th>\n",
       "      <td>1917.000000</td>\n",
       "      <td>1917.000000</td>\n",
       "      <td>1917.000000</td>\n",
       "      <td>1.686000e+03</td>\n",
       "      <td>1686.000000</td>\n",
       "      <td>1.917000e+03</td>\n",
       "      <td>1.917000e+03</td>\n",
       "      <td>1.917000e+03</td>\n",
       "      <td>1.917000e+03</td>\n",
       "      <td>1.917000e+03</td>\n",
       "      <td>...</td>\n",
       "      <td>1.917000e+03</td>\n",
       "      <td>1.917000e+03</td>\n",
       "      <td>1.917000e+03</td>\n",
       "      <td>1.917000e+03</td>\n",
       "      <td>1.917000e+03</td>\n",
       "      <td>1.917000e+03</td>\n",
       "      <td>1.917000e+03</td>\n",
       "      <td>1.917000e+03</td>\n",
       "      <td>1.917000e+03</td>\n",
       "      <td>1.917000e+03</td>\n",
       "    </tr>\n",
       "    <tr>\n",
       "      <th>mean</th>\n",
       "      <td>7.703182</td>\n",
       "      <td>5.748565</td>\n",
       "      <td>524.507366</td>\n",
       "      <td>2.044765e-02</td>\n",
       "      <td>inf</td>\n",
       "      <td>1.450945e+07</td>\n",
       "      <td>1.167597e+07</td>\n",
       "      <td>6.771586e+06</td>\n",
       "      <td>6.530283e+06</td>\n",
       "      <td>7.970426e+06</td>\n",
       "      <td>...</td>\n",
       "      <td>5.262449e+06</td>\n",
       "      <td>5.061042e+06</td>\n",
       "      <td>6.457390e+06</td>\n",
       "      <td>6.324781e+06</td>\n",
       "      <td>4.416519e+06</td>\n",
       "      <td>5.437701e+06</td>\n",
       "      <td>4.972108e+06</td>\n",
       "      <td>5.970891e+06</td>\n",
       "      <td>5.795576e+06</td>\n",
       "      <td>5.929622e+06</td>\n",
       "    </tr>\n",
       "    <tr>\n",
       "      <th>std</th>\n",
       "      <td>12.325655</td>\n",
       "      <td>9.653518</td>\n",
       "      <td>1069.470551</td>\n",
       "      <td>8.353295e-02</td>\n",
       "      <td>NaN</td>\n",
       "      <td>2.431987e+08</td>\n",
       "      <td>1.954770e+08</td>\n",
       "      <td>1.106233e+08</td>\n",
       "      <td>1.062132e+08</td>\n",
       "      <td>1.338884e+08</td>\n",
       "      <td>...</td>\n",
       "      <td>8.109688e+07</td>\n",
       "      <td>7.745157e+07</td>\n",
       "      <td>1.049003e+08</td>\n",
       "      <td>1.012173e+08</td>\n",
       "      <td>7.343538e+07</td>\n",
       "      <td>9.360917e+07</td>\n",
       "      <td>8.429700e+07</td>\n",
       "      <td>1.008382e+08</td>\n",
       "      <td>9.375301e+07</td>\n",
       "      <td>9.590334e+07</td>\n",
       "    </tr>\n",
       "    <tr>\n",
       "      <th>min</th>\n",
       "      <td>1.000000</td>\n",
       "      <td>0.000000</td>\n",
       "      <td>20.090000</td>\n",
       "      <td>0.000000e+00</td>\n",
       "      <td>2.102359</td>\n",
       "      <td>0.000000e+00</td>\n",
       "      <td>0.000000e+00</td>\n",
       "      <td>0.000000e+00</td>\n",
       "      <td>0.000000e+00</td>\n",
       "      <td>0.000000e+00</td>\n",
       "      <td>...</td>\n",
       "      <td>0.000000e+00</td>\n",
       "      <td>0.000000e+00</td>\n",
       "      <td>0.000000e+00</td>\n",
       "      <td>0.000000e+00</td>\n",
       "      <td>0.000000e+00</td>\n",
       "      <td>0.000000e+00</td>\n",
       "      <td>0.000000e+00</td>\n",
       "      <td>0.000000e+00</td>\n",
       "      <td>0.000000e+00</td>\n",
       "      <td>0.000000e+00</td>\n",
       "    </tr>\n",
       "    <tr>\n",
       "      <th>25%</th>\n",
       "      <td>2.000000</td>\n",
       "      <td>1.000000</td>\n",
       "      <td>80.520000</td>\n",
       "      <td>2.295000e-11</td>\n",
       "      <td>8.323138</td>\n",
       "      <td>1.001500e+04</td>\n",
       "      <td>6.973303e+03</td>\n",
       "      <td>3.431016e+03</td>\n",
       "      <td>3.559545e+03</td>\n",
       "      <td>4.942978e+03</td>\n",
       "      <td>...</td>\n",
       "      <td>9.305063e+03</td>\n",
       "      <td>9.521564e+03</td>\n",
       "      <td>2.835270e+03</td>\n",
       "      <td>2.633716e+03</td>\n",
       "      <td>1.219816e+03</td>\n",
       "      <td>1.097948e+03</td>\n",
       "      <td>1.032123e+03</td>\n",
       "      <td>8.398080e+02</td>\n",
       "      <td>4.477968e+03</td>\n",
       "      <td>1.561814e+03</td>\n",
       "    </tr>\n",
       "    <tr>\n",
       "      <th>50%</th>\n",
       "      <td>4.000000</td>\n",
       "      <td>3.000000</td>\n",
       "      <td>204.820000</td>\n",
       "      <td>2.200000e-08</td>\n",
       "      <td>20.804422</td>\n",
       "      <td>1.306292e+05</td>\n",
       "      <td>9.904392e+04</td>\n",
       "      <td>4.598567e+04</td>\n",
       "      <td>5.040053e+04</td>\n",
       "      <td>6.157182e+04</td>\n",
       "      <td>...</td>\n",
       "      <td>7.879131e+04</td>\n",
       "      <td>7.926856e+04</td>\n",
       "      <td>3.593127e+04</td>\n",
       "      <td>3.666904e+04</td>\n",
       "      <td>2.330468e+04</td>\n",
       "      <td>2.593749e+04</td>\n",
       "      <td>2.233400e+04</td>\n",
       "      <td>2.554444e+04</td>\n",
       "      <td>5.060903e+04</td>\n",
       "      <td>2.922629e+04</td>\n",
       "    </tr>\n",
       "    <tr>\n",
       "      <th>75%</th>\n",
       "      <td>9.000000</td>\n",
       "      <td>7.000000</td>\n",
       "      <td>547.090000</td>\n",
       "      <td>1.671580e-04</td>\n",
       "      <td>198.777600</td>\n",
       "      <td>7.422822e+05</td>\n",
       "      <td>5.692127e+05</td>\n",
       "      <td>2.854443e+05</td>\n",
       "      <td>2.981701e+05</td>\n",
       "      <td>3.768043e+05</td>\n",
       "      <td>...</td>\n",
       "      <td>4.129133e+05</td>\n",
       "      <td>4.201421e+05</td>\n",
       "      <td>2.380012e+05</td>\n",
       "      <td>2.330490e+05</td>\n",
       "      <td>1.469063e+05</td>\n",
       "      <td>1.609766e+05</td>\n",
       "      <td>1.590611e+05</td>\n",
       "      <td>1.723112e+05</td>\n",
       "      <td>3.075652e+05</td>\n",
       "      <td>1.693491e+05</td>\n",
       "    </tr>\n",
       "    <tr>\n",
       "      <th>max</th>\n",
       "      <td>228.000000</td>\n",
       "      <td>155.000000</td>\n",
       "      <td>22066.130000</td>\n",
       "      <td>8.741167e-01</td>\n",
       "      <td>inf</td>\n",
       "      <td>7.102946e+09</td>\n",
       "      <td>5.344566e+09</td>\n",
       "      <td>3.016153e+09</td>\n",
       "      <td>2.876725e+09</td>\n",
       "      <td>3.687347e+09</td>\n",
       "      <td>...</td>\n",
       "      <td>2.049018e+09</td>\n",
       "      <td>2.018134e+09</td>\n",
       "      <td>2.697112e+09</td>\n",
       "      <td>2.429316e+09</td>\n",
       "      <td>1.879069e+09</td>\n",
       "      <td>2.467022e+09</td>\n",
       "      <td>2.275035e+09</td>\n",
       "      <td>2.547731e+09</td>\n",
       "      <td>2.470082e+09</td>\n",
       "      <td>2.522217e+09</td>\n",
       "    </tr>\n",
       "  </tbody>\n",
       "</table>\n",
       "<p>8 rows × 53 columns</p>\n",
       "</div>"
      ],
      "text/plain": [
       "       Peptide count  Unique peptides  Confidence score     Anova (p)  \\\n",
       "count    1917.000000      1917.000000       1917.000000  1.686000e+03   \n",
       "mean        7.703182         5.748565        524.507366  2.044765e-02   \n",
       "std        12.325655         9.653518       1069.470551  8.353295e-02   \n",
       "min         1.000000         0.000000         20.090000  0.000000e+00   \n",
       "25%         2.000000         1.000000         80.520000  2.295000e-11   \n",
       "50%         4.000000         3.000000        204.820000  2.200000e-08   \n",
       "75%         9.000000         7.000000        547.090000  1.671580e-04   \n",
       "max       228.000000       155.000000      22066.130000  8.741167e-01   \n",
       "\n",
       "       Max fold change  WT_control_1  WT_control_2        AMFR_1  \\\n",
       "count      1686.000000  1.917000e+03  1.917000e+03  1.917000e+03   \n",
       "mean               inf  1.450945e+07  1.167597e+07  6.771586e+06   \n",
       "std                NaN  2.431987e+08  1.954770e+08  1.106233e+08   \n",
       "min           2.102359  0.000000e+00  0.000000e+00  0.000000e+00   \n",
       "25%           8.323138  1.001500e+04  6.973303e+03  3.431016e+03   \n",
       "50%          20.804422  1.306292e+05  9.904392e+04  4.598567e+04   \n",
       "75%         198.777600  7.422822e+05  5.692127e+05  2.854443e+05   \n",
       "max                inf  7.102946e+09  5.344566e+09  3.016153e+09   \n",
       "\n",
       "             AMFR_2        BFAR_1  ...       RNFT1_1       RNFT1_2  \\\n",
       "count  1.917000e+03  1.917000e+03  ...  1.917000e+03  1.917000e+03   \n",
       "mean   6.530283e+06  7.970426e+06  ...  5.262449e+06  5.061042e+06   \n",
       "std    1.062132e+08  1.338884e+08  ...  8.109688e+07  7.745157e+07   \n",
       "min    0.000000e+00  0.000000e+00  ...  0.000000e+00  0.000000e+00   \n",
       "25%    3.559545e+03  4.942978e+03  ...  9.305063e+03  9.521564e+03   \n",
       "50%    5.040053e+04  6.157182e+04  ...  7.879131e+04  7.926856e+04   \n",
       "75%    2.981701e+05  3.768043e+05  ...  4.129133e+05  4.201421e+05   \n",
       "max    2.876725e+09  3.687347e+09  ...  2.049018e+09  2.018134e+09   \n",
       "\n",
       "          Tmem129_1     Tmem129_2      Trim13_1      Trim13_2      Trim59_1  \\\n",
       "count  1.917000e+03  1.917000e+03  1.917000e+03  1.917000e+03  1.917000e+03   \n",
       "mean   6.457390e+06  6.324781e+06  4.416519e+06  5.437701e+06  4.972108e+06   \n",
       "std    1.049003e+08  1.012173e+08  7.343538e+07  9.360917e+07  8.429700e+07   \n",
       "min    0.000000e+00  0.000000e+00  0.000000e+00  0.000000e+00  0.000000e+00   \n",
       "25%    2.835270e+03  2.633716e+03  1.219816e+03  1.097948e+03  1.032123e+03   \n",
       "50%    3.593127e+04  3.666904e+04  2.330468e+04  2.593749e+04  2.233400e+04   \n",
       "75%    2.380012e+05  2.330490e+05  1.469063e+05  1.609766e+05  1.590611e+05   \n",
       "max    2.697112e+09  2.429316e+09  1.879069e+09  2.467022e+09  2.275035e+09   \n",
       "\n",
       "           Trim59_2       ZNRF4_1       ZNRF4_2  \n",
       "count  1.917000e+03  1.917000e+03  1.917000e+03  \n",
       "mean   5.970891e+06  5.795576e+06  5.929622e+06  \n",
       "std    1.008382e+08  9.375301e+07  9.590334e+07  \n",
       "min    0.000000e+00  0.000000e+00  0.000000e+00  \n",
       "25%    8.398080e+02  4.477968e+03  1.561814e+03  \n",
       "50%    2.554444e+04  5.060903e+04  2.922629e+04  \n",
       "75%    1.723112e+05  3.075652e+05  1.693491e+05  \n",
       "max    2.547731e+09  2.470082e+09  2.522217e+09  \n",
       "\n",
       "[8 rows x 53 columns]"
      ]
     },
     "execution_count": 7,
     "metadata": {},
     "output_type": "execute_result"
    }
   ],
   "source": [
    "data.describe()"
   ]
  },
  {
   "cell_type": "markdown",
   "id": "beneficial-defense",
   "metadata": {},
   "source": [
    "On remarque qu'il y a 2 conditions WT et 6 autres condition.\n",
    "\n",
    "### <font color='green'>raw_abundance_table_2.txt</font> "
   ]
  },
  {
   "cell_type": "code",
   "execution_count": 9,
   "id": "domestic-state",
   "metadata": {},
   "outputs": [],
   "source": [
    "data2 = pd.read_csv(\"raw_abundance_table_2.txt\", delimiter=\"\\t\", skiprows=0)"
   ]
  },
  {
   "cell_type": "code",
   "execution_count": 10,
   "id": "alternative-congress",
   "metadata": {},
   "outputs": [
    {
     "data": {
      "text/plain": [
       "(1871, 27)"
      ]
     },
     "execution_count": 10,
     "metadata": {},
     "output_type": "execute_result"
    }
   ],
   "source": [
    "data2.shape"
   ]
  },
  {
   "cell_type": "code",
   "execution_count": 11,
   "id": "wanted-fifth",
   "metadata": {},
   "outputs": [
    {
     "data": {
      "text/html": [
       "<div>\n",
       "<style scoped>\n",
       "    .dataframe tbody tr th:only-of-type {\n",
       "        vertical-align: middle;\n",
       "    }\n",
       "\n",
       "    .dataframe tbody tr th {\n",
       "        vertical-align: top;\n",
       "    }\n",
       "\n",
       "    .dataframe thead th {\n",
       "        text-align: right;\n",
       "    }\n",
       "</style>\n",
       "<table border=\"1\" class=\"dataframe\">\n",
       "  <thead>\n",
       "    <tr style=\"text-align: right;\">\n",
       "      <th></th>\n",
       "      <th>Accession</th>\n",
       "      <th>Peptide count</th>\n",
       "      <th>Unique peptides</th>\n",
       "      <th>Confidence score</th>\n",
       "      <th>Anova (p)</th>\n",
       "      <th>Max fold change</th>\n",
       "      <th>Description</th>\n",
       "      <th>R26_N_1</th>\n",
       "      <th>R26_N_2</th>\n",
       "      <th>R26_NM_1</th>\n",
       "      <th>...</th>\n",
       "      <th>R150_1</th>\n",
       "      <th>R150_2</th>\n",
       "      <th>Pool_1</th>\n",
       "      <th>Pool_2</th>\n",
       "      <th>HRD1_rerun_1</th>\n",
       "      <th>HRD1_rerun_2</th>\n",
       "      <th>R13_repeat_1</th>\n",
       "      <th>R13_repeat_2</th>\n",
       "      <th>ZNRF4_repeat_1</th>\n",
       "      <th>ZNRF4_repeat_2</th>\n",
       "    </tr>\n",
       "  </thead>\n",
       "  <tbody>\n",
       "    <tr>\n",
       "      <th>0</th>\n",
       "      <td>Q9UK59</td>\n",
       "      <td>2</td>\n",
       "      <td>1</td>\n",
       "      <td>63.90</td>\n",
       "      <td>0.0</td>\n",
       "      <td>inf</td>\n",
       "      <td>Lariat debranching enzyme OS=Homo sapiens GN=D...</td>\n",
       "      <td>0.0</td>\n",
       "      <td>0.0</td>\n",
       "      <td>0.0</td>\n",
       "      <td>...</td>\n",
       "      <td>37555.23096</td>\n",
       "      <td>3.913464e+04</td>\n",
       "      <td>0.0</td>\n",
       "      <td>0.0</td>\n",
       "      <td>0.000</td>\n",
       "      <td>0.0000</td>\n",
       "      <td>0.0</td>\n",
       "      <td>0.0</td>\n",
       "      <td>0.0000</td>\n",
       "      <td>0.0000</td>\n",
       "    </tr>\n",
       "    <tr>\n",
       "      <th>1</th>\n",
       "      <td>P68402</td>\n",
       "      <td>2</td>\n",
       "      <td>1</td>\n",
       "      <td>69.73</td>\n",
       "      <td>0.0</td>\n",
       "      <td>inf</td>\n",
       "      <td>Platelet-activating factor acetylhydrolase IB ...</td>\n",
       "      <td>0.0</td>\n",
       "      <td>0.0</td>\n",
       "      <td>0.0</td>\n",
       "      <td>...</td>\n",
       "      <td>775911.54020</td>\n",
       "      <td>1.136750e+06</td>\n",
       "      <td>0.0</td>\n",
       "      <td>0.0</td>\n",
       "      <td>0.000</td>\n",
       "      <td>0.0000</td>\n",
       "      <td>0.0</td>\n",
       "      <td>0.0</td>\n",
       "      <td>0.0000</td>\n",
       "      <td>0.0000</td>\n",
       "    </tr>\n",
       "    <tr>\n",
       "      <th>2</th>\n",
       "      <td>Q9Y3E0</td>\n",
       "      <td>1</td>\n",
       "      <td>1</td>\n",
       "      <td>42.24</td>\n",
       "      <td>0.0</td>\n",
       "      <td>inf</td>\n",
       "      <td>Vesicle transport protein GOT1B OS=Homo sapien...</td>\n",
       "      <td>0.0</td>\n",
       "      <td>0.0</td>\n",
       "      <td>0.0</td>\n",
       "      <td>...</td>\n",
       "      <td>0.00000</td>\n",
       "      <td>0.000000e+00</td>\n",
       "      <td>0.0</td>\n",
       "      <td>0.0</td>\n",
       "      <td>178409.584</td>\n",
       "      <td>126520.4523</td>\n",
       "      <td>0.0</td>\n",
       "      <td>0.0</td>\n",
       "      <td>0.0000</td>\n",
       "      <td>0.0000</td>\n",
       "    </tr>\n",
       "    <tr>\n",
       "      <th>3</th>\n",
       "      <td>P61006</td>\n",
       "      <td>3</td>\n",
       "      <td>1</td>\n",
       "      <td>201.24</td>\n",
       "      <td>0.0</td>\n",
       "      <td>inf</td>\n",
       "      <td>Ras-related protein Rab-8A OS=Homo sapiens GN=...</td>\n",
       "      <td>0.0</td>\n",
       "      <td>0.0</td>\n",
       "      <td>0.0</td>\n",
       "      <td>...</td>\n",
       "      <td>122061.77150</td>\n",
       "      <td>1.597211e+05</td>\n",
       "      <td>0.0</td>\n",
       "      <td>0.0</td>\n",
       "      <td>0.000</td>\n",
       "      <td>0.0000</td>\n",
       "      <td>0.0</td>\n",
       "      <td>0.0</td>\n",
       "      <td>0.0000</td>\n",
       "      <td>0.0000</td>\n",
       "    </tr>\n",
       "    <tr>\n",
       "      <th>4</th>\n",
       "      <td>Q9BPW8</td>\n",
       "      <td>1</td>\n",
       "      <td>1</td>\n",
       "      <td>29.73</td>\n",
       "      <td>0.0</td>\n",
       "      <td>inf</td>\n",
       "      <td>Protein NipSnap homolog 1 OS=Homo sapiens GN=N...</td>\n",
       "      <td>0.0</td>\n",
       "      <td>0.0</td>\n",
       "      <td>0.0</td>\n",
       "      <td>...</td>\n",
       "      <td>0.00000</td>\n",
       "      <td>0.000000e+00</td>\n",
       "      <td>0.0</td>\n",
       "      <td>0.0</td>\n",
       "      <td>0.000</td>\n",
       "      <td>0.0000</td>\n",
       "      <td>0.0</td>\n",
       "      <td>0.0</td>\n",
       "      <td>376794.8466</td>\n",
       "      <td>418675.2332</td>\n",
       "    </tr>\n",
       "  </tbody>\n",
       "</table>\n",
       "<p>5 rows × 27 columns</p>\n",
       "</div>"
      ],
      "text/plain": [
       "  Accession  Peptide count  Unique peptides  Confidence score  Anova (p)  \\\n",
       "0    Q9UK59              2                1             63.90        0.0   \n",
       "1    P68402              2                1             69.73        0.0   \n",
       "2    Q9Y3E0              1                1             42.24        0.0   \n",
       "3    P61006              3                1            201.24        0.0   \n",
       "4    Q9BPW8              1                1             29.73        0.0   \n",
       "\n",
       "   Max fold change                                        Description  \\\n",
       "0              inf  Lariat debranching enzyme OS=Homo sapiens GN=D...   \n",
       "1              inf  Platelet-activating factor acetylhydrolase IB ...   \n",
       "2              inf  Vesicle transport protein GOT1B OS=Homo sapien...   \n",
       "3              inf  Ras-related protein Rab-8A OS=Homo sapiens GN=...   \n",
       "4              inf  Protein NipSnap homolog 1 OS=Homo sapiens GN=N...   \n",
       "\n",
       "   R26_N_1  R26_N_2  R26_NM_1  ...        R150_1        R150_2  Pool_1  \\\n",
       "0      0.0      0.0       0.0  ...   37555.23096  3.913464e+04     0.0   \n",
       "1      0.0      0.0       0.0  ...  775911.54020  1.136750e+06     0.0   \n",
       "2      0.0      0.0       0.0  ...       0.00000  0.000000e+00     0.0   \n",
       "3      0.0      0.0       0.0  ...  122061.77150  1.597211e+05     0.0   \n",
       "4      0.0      0.0       0.0  ...       0.00000  0.000000e+00     0.0   \n",
       "\n",
       "   Pool_2  HRD1_rerun_1  HRD1_rerun_2  R13_repeat_1  R13_repeat_2  \\\n",
       "0     0.0         0.000        0.0000           0.0           0.0   \n",
       "1     0.0         0.000        0.0000           0.0           0.0   \n",
       "2     0.0    178409.584   126520.4523           0.0           0.0   \n",
       "3     0.0         0.000        0.0000           0.0           0.0   \n",
       "4     0.0         0.000        0.0000           0.0           0.0   \n",
       "\n",
       "   ZNRF4_repeat_1  ZNRF4_repeat_2  \n",
       "0          0.0000          0.0000  \n",
       "1          0.0000          0.0000  \n",
       "2          0.0000          0.0000  \n",
       "3          0.0000          0.0000  \n",
       "4     376794.8466     418675.2332  \n",
       "\n",
       "[5 rows x 27 columns]"
      ]
     },
     "execution_count": 11,
     "metadata": {},
     "output_type": "execute_result"
    }
   ],
   "source": [
    "data2.head()"
   ]
  },
  {
   "cell_type": "code",
   "execution_count": 37,
   "id": "present-freedom",
   "metadata": {},
   "outputs": [
    {
     "data": {
      "text/html": [
       "<div>\n",
       "<style scoped>\n",
       "    .dataframe tbody tr th:only-of-type {\n",
       "        vertical-align: middle;\n",
       "    }\n",
       "\n",
       "    .dataframe tbody tr th {\n",
       "        vertical-align: top;\n",
       "    }\n",
       "\n",
       "    .dataframe thead th {\n",
       "        text-align: right;\n",
       "    }\n",
       "</style>\n",
       "<table border=\"1\" class=\"dataframe\">\n",
       "  <thead>\n",
       "    <tr style=\"text-align: right;\">\n",
       "      <th></th>\n",
       "      <th>Peptide count</th>\n",
       "      <th>Unique peptides</th>\n",
       "      <th>Confidence score</th>\n",
       "      <th>Anova (p)</th>\n",
       "      <th>Max fold change</th>\n",
       "      <th>R26_N_1</th>\n",
       "      <th>R26_N_2</th>\n",
       "      <th>R26_NM_1</th>\n",
       "      <th>R26_NM_2</th>\n",
       "      <th>R13_1</th>\n",
       "      <th>...</th>\n",
       "      <th>R150_1</th>\n",
       "      <th>R150_2</th>\n",
       "      <th>Pool_1</th>\n",
       "      <th>Pool_2</th>\n",
       "      <th>HRD1_rerun_1</th>\n",
       "      <th>HRD1_rerun_2</th>\n",
       "      <th>R13_repeat_1</th>\n",
       "      <th>R13_repeat_2</th>\n",
       "      <th>ZNRF4_repeat_1</th>\n",
       "      <th>ZNRF4_repeat_2</th>\n",
       "    </tr>\n",
       "  </thead>\n",
       "  <tbody>\n",
       "    <tr>\n",
       "      <th>count</th>\n",
       "      <td>1871.000000</td>\n",
       "      <td>1871.000000</td>\n",
       "      <td>1871.000000</td>\n",
       "      <td>1.676000e+03</td>\n",
       "      <td>1676.000000</td>\n",
       "      <td>1.871000e+03</td>\n",
       "      <td>1.871000e+03</td>\n",
       "      <td>1.871000e+03</td>\n",
       "      <td>1.871000e+03</td>\n",
       "      <td>1.871000e+03</td>\n",
       "      <td>...</td>\n",
       "      <td>1.871000e+03</td>\n",
       "      <td>1.871000e+03</td>\n",
       "      <td>1.871000e+03</td>\n",
       "      <td>1.871000e+03</td>\n",
       "      <td>1.871000e+03</td>\n",
       "      <td>1.871000e+03</td>\n",
       "      <td>1.871000e+03</td>\n",
       "      <td>1.871000e+03</td>\n",
       "      <td>1.871000e+03</td>\n",
       "      <td>1.871000e+03</td>\n",
       "    </tr>\n",
       "    <tr>\n",
       "      <th>mean</th>\n",
       "      <td>8.287547</td>\n",
       "      <td>6.128808</td>\n",
       "      <td>504.043068</td>\n",
       "      <td>1.479526e-02</td>\n",
       "      <td>inf</td>\n",
       "      <td>1.095139e+07</td>\n",
       "      <td>1.077093e+07</td>\n",
       "      <td>1.044265e+07</td>\n",
       "      <td>1.019498e+07</td>\n",
       "      <td>1.215600e+07</td>\n",
       "      <td>...</td>\n",
       "      <td>1.167015e+07</td>\n",
       "      <td>1.190642e+07</td>\n",
       "      <td>1.193684e+07</td>\n",
       "      <td>1.191616e+07</td>\n",
       "      <td>1.158439e+07</td>\n",
       "      <td>1.165333e+07</td>\n",
       "      <td>1.208248e+07</td>\n",
       "      <td>1.160224e+07</td>\n",
       "      <td>1.263682e+07</td>\n",
       "      <td>1.360353e+07</td>\n",
       "    </tr>\n",
       "    <tr>\n",
       "      <th>std</th>\n",
       "      <td>14.073020</td>\n",
       "      <td>10.728640</td>\n",
       "      <td>1222.186081</td>\n",
       "      <td>6.262363e-02</td>\n",
       "      <td>NaN</td>\n",
       "      <td>1.928076e+08</td>\n",
       "      <td>1.900138e+08</td>\n",
       "      <td>2.117533e+08</td>\n",
       "      <td>2.086545e+08</td>\n",
       "      <td>2.062331e+08</td>\n",
       "      <td>...</td>\n",
       "      <td>1.470457e+08</td>\n",
       "      <td>1.458234e+08</td>\n",
       "      <td>2.421096e+08</td>\n",
       "      <td>2.412375e+08</td>\n",
       "      <td>2.391984e+08</td>\n",
       "      <td>2.416312e+08</td>\n",
       "      <td>2.740485e+08</td>\n",
       "      <td>2.582879e+08</td>\n",
       "      <td>2.811280e+08</td>\n",
       "      <td>3.035070e+08</td>\n",
       "    </tr>\n",
       "    <tr>\n",
       "      <th>min</th>\n",
       "      <td>1.000000</td>\n",
       "      <td>0.000000</td>\n",
       "      <td>20.110000</td>\n",
       "      <td>0.000000e+00</td>\n",
       "      <td>1.470347</td>\n",
       "      <td>0.000000e+00</td>\n",
       "      <td>0.000000e+00</td>\n",
       "      <td>0.000000e+00</td>\n",
       "      <td>0.000000e+00</td>\n",
       "      <td>0.000000e+00</td>\n",
       "      <td>...</td>\n",
       "      <td>0.000000e+00</td>\n",
       "      <td>0.000000e+00</td>\n",
       "      <td>0.000000e+00</td>\n",
       "      <td>0.000000e+00</td>\n",
       "      <td>0.000000e+00</td>\n",
       "      <td>0.000000e+00</td>\n",
       "      <td>0.000000e+00</td>\n",
       "      <td>0.000000e+00</td>\n",
       "      <td>0.000000e+00</td>\n",
       "      <td>0.000000e+00</td>\n",
       "    </tr>\n",
       "    <tr>\n",
       "      <th>25%</th>\n",
       "      <td>2.000000</td>\n",
       "      <td>1.000000</td>\n",
       "      <td>83.785000</td>\n",
       "      <td>5.527500e-09</td>\n",
       "      <td>6.740021</td>\n",
       "      <td>1.273142e+04</td>\n",
       "      <td>1.291538e+04</td>\n",
       "      <td>2.449837e+04</td>\n",
       "      <td>2.316279e+04</td>\n",
       "      <td>3.447232e+04</td>\n",
       "      <td>...</td>\n",
       "      <td>2.309399e+05</td>\n",
       "      <td>2.423147e+05</td>\n",
       "      <td>3.251074e+04</td>\n",
       "      <td>3.251678e+04</td>\n",
       "      <td>1.872257e+04</td>\n",
       "      <td>1.915312e+04</td>\n",
       "      <td>2.188906e+04</td>\n",
       "      <td>1.928522e+04</td>\n",
       "      <td>1.692563e+04</td>\n",
       "      <td>1.778402e+04</td>\n",
       "    </tr>\n",
       "    <tr>\n",
       "      <th>50%</th>\n",
       "      <td>4.000000</td>\n",
       "      <td>3.000000</td>\n",
       "      <td>187.890000</td>\n",
       "      <td>3.380000e-07</td>\n",
       "      <td>14.210936</td>\n",
       "      <td>1.319084e+05</td>\n",
       "      <td>1.322794e+05</td>\n",
       "      <td>1.887871e+05</td>\n",
       "      <td>1.732571e+05</td>\n",
       "      <td>2.520422e+05</td>\n",
       "      <td>...</td>\n",
       "      <td>9.282913e+05</td>\n",
       "      <td>9.714438e+05</td>\n",
       "      <td>2.270747e+05</td>\n",
       "      <td>2.308371e+05</td>\n",
       "      <td>1.743351e+05</td>\n",
       "      <td>1.835531e+05</td>\n",
       "      <td>2.003607e+05</td>\n",
       "      <td>1.906914e+05</td>\n",
       "      <td>1.546259e+05</td>\n",
       "      <td>1.568485e+05</td>\n",
       "    </tr>\n",
       "    <tr>\n",
       "      <th>75%</th>\n",
       "      <td>9.000000</td>\n",
       "      <td>7.000000</td>\n",
       "      <td>510.980000</td>\n",
       "      <td>7.737500e-05</td>\n",
       "      <td>56.996738</td>\n",
       "      <td>8.216791e+05</td>\n",
       "      <td>8.216418e+05</td>\n",
       "      <td>1.024513e+06</td>\n",
       "      <td>9.191975e+05</td>\n",
       "      <td>1.217181e+06</td>\n",
       "      <td>...</td>\n",
       "      <td>3.100158e+06</td>\n",
       "      <td>3.289176e+06</td>\n",
       "      <td>1.080769e+06</td>\n",
       "      <td>1.104595e+06</td>\n",
       "      <td>9.015394e+05</td>\n",
       "      <td>9.141666e+05</td>\n",
       "      <td>9.114388e+05</td>\n",
       "      <td>8.815841e+05</td>\n",
       "      <td>8.053501e+05</td>\n",
       "      <td>8.142002e+05</td>\n",
       "    </tr>\n",
       "    <tr>\n",
       "      <th>max</th>\n",
       "      <td>300.000000</td>\n",
       "      <td>207.000000</td>\n",
       "      <td>30966.850000</td>\n",
       "      <td>7.977923e-01</td>\n",
       "      <td>inf</td>\n",
       "      <td>7.031320e+09</td>\n",
       "      <td>6.935911e+09</td>\n",
       "      <td>7.928262e+09</td>\n",
       "      <td>7.705997e+09</td>\n",
       "      <td>6.726223e+09</td>\n",
       "      <td>...</td>\n",
       "      <td>4.944074e+09</td>\n",
       "      <td>4.807881e+09</td>\n",
       "      <td>8.219117e+09</td>\n",
       "      <td>8.255201e+09</td>\n",
       "      <td>7.160988e+09</td>\n",
       "      <td>7.275510e+09</td>\n",
       "      <td>8.777721e+09</td>\n",
       "      <td>8.248206e+09</td>\n",
       "      <td>1.005826e+10</td>\n",
       "      <td>1.073757e+10</td>\n",
       "    </tr>\n",
       "  </tbody>\n",
       "</table>\n",
       "<p>8 rows × 25 columns</p>\n",
       "</div>"
      ],
      "text/plain": [
       "       Peptide count  Unique peptides  Confidence score     Anova (p)  \\\n",
       "count    1871.000000      1871.000000       1871.000000  1.676000e+03   \n",
       "mean        8.287547         6.128808        504.043068  1.479526e-02   \n",
       "std        14.073020        10.728640       1222.186081  6.262363e-02   \n",
       "min         1.000000         0.000000         20.110000  0.000000e+00   \n",
       "25%         2.000000         1.000000         83.785000  5.527500e-09   \n",
       "50%         4.000000         3.000000        187.890000  3.380000e-07   \n",
       "75%         9.000000         7.000000        510.980000  7.737500e-05   \n",
       "max       300.000000       207.000000      30966.850000  7.977923e-01   \n",
       "\n",
       "       Max fold change       R26_N_1       R26_N_2      R26_NM_1  \\\n",
       "count      1676.000000  1.871000e+03  1.871000e+03  1.871000e+03   \n",
       "mean               inf  1.095139e+07  1.077093e+07  1.044265e+07   \n",
       "std                NaN  1.928076e+08  1.900138e+08  2.117533e+08   \n",
       "min           1.470347  0.000000e+00  0.000000e+00  0.000000e+00   \n",
       "25%           6.740021  1.273142e+04  1.291538e+04  2.449837e+04   \n",
       "50%          14.210936  1.319084e+05  1.322794e+05  1.887871e+05   \n",
       "75%          56.996738  8.216791e+05  8.216418e+05  1.024513e+06   \n",
       "max                inf  7.031320e+09  6.935911e+09  7.928262e+09   \n",
       "\n",
       "           R26_NM_2         R13_1  ...        R150_1        R150_2  \\\n",
       "count  1.871000e+03  1.871000e+03  ...  1.871000e+03  1.871000e+03   \n",
       "mean   1.019498e+07  1.215600e+07  ...  1.167015e+07  1.190642e+07   \n",
       "std    2.086545e+08  2.062331e+08  ...  1.470457e+08  1.458234e+08   \n",
       "min    0.000000e+00  0.000000e+00  ...  0.000000e+00  0.000000e+00   \n",
       "25%    2.316279e+04  3.447232e+04  ...  2.309399e+05  2.423147e+05   \n",
       "50%    1.732571e+05  2.520422e+05  ...  9.282913e+05  9.714438e+05   \n",
       "75%    9.191975e+05  1.217181e+06  ...  3.100158e+06  3.289176e+06   \n",
       "max    7.705997e+09  6.726223e+09  ...  4.944074e+09  4.807881e+09   \n",
       "\n",
       "             Pool_1        Pool_2  HRD1_rerun_1  HRD1_rerun_2  R13_repeat_1  \\\n",
       "count  1.871000e+03  1.871000e+03  1.871000e+03  1.871000e+03  1.871000e+03   \n",
       "mean   1.193684e+07  1.191616e+07  1.158439e+07  1.165333e+07  1.208248e+07   \n",
       "std    2.421096e+08  2.412375e+08  2.391984e+08  2.416312e+08  2.740485e+08   \n",
       "min    0.000000e+00  0.000000e+00  0.000000e+00  0.000000e+00  0.000000e+00   \n",
       "25%    3.251074e+04  3.251678e+04  1.872257e+04  1.915312e+04  2.188906e+04   \n",
       "50%    2.270747e+05  2.308371e+05  1.743351e+05  1.835531e+05  2.003607e+05   \n",
       "75%    1.080769e+06  1.104595e+06  9.015394e+05  9.141666e+05  9.114388e+05   \n",
       "max    8.219117e+09  8.255201e+09  7.160988e+09  7.275510e+09  8.777721e+09   \n",
       "\n",
       "       R13_repeat_2  ZNRF4_repeat_1  ZNRF4_repeat_2  \n",
       "count  1.871000e+03    1.871000e+03    1.871000e+03  \n",
       "mean   1.160224e+07    1.263682e+07    1.360353e+07  \n",
       "std    2.582879e+08    2.811280e+08    3.035070e+08  \n",
       "min    0.000000e+00    0.000000e+00    0.000000e+00  \n",
       "25%    1.928522e+04    1.692563e+04    1.778402e+04  \n",
       "50%    1.906914e+05    1.546259e+05    1.568485e+05  \n",
       "75%    8.815841e+05    8.053501e+05    8.142002e+05  \n",
       "max    8.248206e+09    1.005826e+10    1.073757e+10  \n",
       "\n",
       "[8 rows x 25 columns]"
      ]
     },
     "execution_count": 37,
     "metadata": {},
     "output_type": "execute_result"
    }
   ],
   "source": [
    "data2.describe()"
   ]
  },
  {
   "cell_type": "code",
   "execution_count": 13,
   "id": "adaptive-idaho",
   "metadata": {},
   "outputs": [
    {
     "data": {
      "text/plain": [
       "Index(['Accession', 'Peptide count', 'Unique peptides', 'Confidence score',\n",
       "       'Anova (p)', 'Max fold change', 'Description', 'R26_N_1', 'R26_N_2',\n",
       "       'R26_NM_1', 'R26_NM_2', 'R13_1', 'R13_2', 'T59_1', 'T59_2', 'R145_1',\n",
       "       'R145_2', 'R150_1', 'R150_2', 'Pool_1', 'Pool_2', 'HRD1_rerun_1',\n",
       "       'HRD1_rerun_2', 'R13_repeat_1', 'R13_repeat_2', 'ZNRF4_repeat_1',\n",
       "       'ZNRF4_repeat_2'],\n",
       "      dtype='object')"
      ]
     },
     "execution_count": 13,
     "metadata": {},
     "output_type": "execute_result"
    }
   ],
   "source": [
    "data2.columns"
   ]
  },
  {
   "cell_type": "markdown",
   "id": "homeless-lotus",
   "metadata": {},
   "source": [
    "On remarque qu'il s'agit de pool et de mélange des condition présentes dans le fichier raw_abundance_table_1.txt. On analysera donc pas ses données.\n",
    "\n",
    "# Analyse toutes conditions de l'ensemble des deux jeux de données"
   ]
  },
  {
   "cell_type": "code",
   "execution_count": 14,
   "id": "swiss-musical",
   "metadata": {},
   "outputs": [
    {
     "data": {
      "text/plain": [
       "\" not used because it's pool of the raw_abundance_table_1.txt\\nabundance2_id = ['R26_N_1', 'R26_N_2', 'R26_NM_1', 'R26_NM_2', 'R13_1', 'R13_2', 'T59_1', 'T59_2',\\n              'R145_1', 'R145_2', 'R150_1', 'R150_2', 'Pool_1', 'Pool_2', 'HRD1_rerun_1',\\n              'HRD1_rerun_2', 'R13_repeat_1', 'R13_repeat_2', 'ZNRF4_repeat_1', 'ZNRF4_repeat_2']\""
      ]
     },
     "execution_count": 14,
     "metadata": {},
     "output_type": "execute_result"
    }
   ],
   "source": [
    "abundance1_id = ['WT_control_1', 'WT_control_2', 'AMFR_1', 'AMFR_2', 'BFAR_1', 'BFAR_2', 'CGRRF1_1', \n",
    "              'CGRRF1_2', 'HRD1_1', 'HRD1_2', 'MARCH2_1', 'MARCH2_2', 'MARCH3_1', 'MARCH3_2',\n",
    "              'MARCH4_1', 'MARCH4_2', 'MARCH6_1', 'MARCH6_2', 'MARCH8_1', 'MARCH8_2', 'RNF5_1',\n",
    "              'RNF5_2', 'RNF13_1', 'RNF13_2', 'RNF26_1', 'RNF26_2', 'RNF103_1', 'RNF103_2',\n",
    "              'RNF128_1', 'RNF128_2', 'RNF139_1', 'RNF139_2', 'RNF148_1', 'RNF148_2', 'RNF170_1',\n",
    "              'RNF170_2', 'RNF185_1', 'RNF185_2', 'RNFT1_1', 'RNFT1_2', 'Tmem129_1', 'Tmem129_2',\n",
    "              'Trim13_1', 'Trim13_2', 'Trim59_1', 'Trim59_2', 'ZNRF4_1', 'ZNRF4_2']\n",
    "\n",
    "''' not used because it's pool of the raw_abundance_table_1.txt\n",
    "abundance2_id = ['R26_N_1', 'R26_N_2', 'R26_NM_1', 'R26_NM_2', 'R13_1', 'R13_2', 'T59_1', 'T59_2',\n",
    "              'R145_1', 'R145_2', 'R150_1', 'R150_2', 'Pool_1', 'Pool_2', 'HRD1_rerun_1',\n",
    "              'HRD1_rerun_2', 'R13_repeat_1', 'R13_repeat_2', 'ZNRF4_repeat_1', 'ZNRF4_repeat_2']'''"
   ]
  },
  {
   "cell_type": "code",
   "execution_count": 15,
   "id": "failing-smell",
   "metadata": {},
   "outputs": [
    {
     "name": "stdout",
     "output_type": "stream",
     "text": [
      "abundance 1 :\n",
      "(1917, 48)\n",
      "   WT_control_1  WT_control_2        AMFR_1        AMFR_2        BFAR_1  \\\n",
      "0  1.597321e+06  1.510281e+06  653449.78450  6.365099e+05  8.297559e+05   \n",
      "1  2.571727e+06  2.227859e+06  939360.24170  1.086076e+06  2.541636e+06   \n",
      "2  1.267556e+04  1.148202e+04    2578.10604  3.096190e+03  8.704869e+03   \n",
      "3  1.082784e+06  7.226234e+05  170103.36070  1.373951e+05  5.848435e+05   \n",
      "4  3.847340e+06  3.328870e+06  696620.77780  7.875347e+05  1.752087e+06   \n",
      "\n",
      "         BFAR_2      CGRRF1_1      CGRRF1_2        HRD1_1        HRD1_2  ...  \\\n",
      "0  7.523494e+05  8.883458e+05  8.619253e+05  4.912131e+05  5.133508e+05  ...   \n",
      "1  2.384330e+06  9.445967e+05  9.851906e+05  2.513519e+06  2.134729e+06  ...   \n",
      "2  4.587620e+03  4.843652e+03  4.662689e+03  1.339073e+04  1.041953e+04  ...   \n",
      "3  5.229952e+05  2.840173e+05  3.033291e+05  4.074580e+05  3.529428e+05  ...   \n",
      "4  2.024885e+06  1.527643e+06  1.503624e+06  3.768847e+06  3.383489e+06  ...   \n",
      "\n",
      "        RNFT1_1       RNFT1_2      Tmem129_1      Tmem129_2      Trim13_1  \\\n",
      "0  1.031725e+06  8.946137e+05  685599.113800  622240.798000  3.612258e+05   \n",
      "1  4.768931e+05  4.418349e+05  543889.881000  605881.526900  1.130502e+06   \n",
      "2  1.665226e+04  1.272385e+04     927.292206     721.778363  1.455537e+03   \n",
      "3  5.264412e+05  4.712341e+05  129784.308800  172422.538100  5.451802e+04   \n",
      "4  1.083375e+06  1.301425e+06  581763.270800  691786.657400  2.647066e+05   \n",
      "\n",
      "       Trim13_2       Trim59_1       Trim59_2        ZNRF4_1        ZNRF4_2  \n",
      "0  4.090111e+05  542880.771500  577099.865000  723632.233300  369505.163300  \n",
      "1  1.066964e+06  364056.310300  336637.678800  346912.799800  290904.602200  \n",
      "2  5.289084e+03     549.407043     873.451386    3540.070679    1922.103598  \n",
      "3  6.912112e+04   99581.120720   93295.618290   99816.192810   94214.225140  \n",
      "4  3.463574e+05  376276.827000  430823.038700  414007.508500  320752.227500  \n",
      "\n",
      "[5 rows x 48 columns]\n"
     ]
    }
   ],
   "source": [
    "abundance1 = data[abundance1_id]\n",
    "print(\"abundance 1 :\")\n",
    "print(abundance1.shape)\n",
    "print(abundance1.head())"
   ]
  },
  {
   "cell_type": "code",
   "execution_count": 16,
   "id": "bronze-credits",
   "metadata": {},
   "outputs": [
    {
     "name": "stdout",
     "output_type": "stream",
     "text": [
      "abundance 1 :\n",
      "(92016,)\n",
      "[1597320.69   1510280.674   653449.7845 ...       0.           0.\n",
      "       0.    ]\n"
     ]
    }
   ],
   "source": [
    "# données dans un array d'une dimmenssion\n",
    "abundance1 = abundance1.values.reshape(abundance1.shape[0] * abundance1.shape[1])\n",
    "print(\"abundance 1 :\")\n",
    "print(abundance1.shape)\n",
    "print(abundance1)"
   ]
  },
  {
   "cell_type": "code",
   "execution_count": 19,
   "id": "removable-aspect",
   "metadata": {},
   "outputs": [
    {
     "name": "stdout",
     "output_type": "stream",
     "text": [
      "abundance 1 : (75834,)\n"
     ]
    }
   ],
   "source": [
    "# remove 0\n",
    "abundance_tot = abundance1[abundance1 > 0]\n",
    "print(f\"abundance 1 : {abundance1.shape}\")"
   ]
  },
  {
   "cell_type": "markdown",
   "id": "frozen-central",
   "metadata": {},
   "source": [
    "nous obtenons donc un seul array de 75834 abondance de protéines\n",
    "## <font color='red'> Analyse sur les données d'abondance total</font>\n",
    "### histograme de la distribution des données d'abondance total"
   ]
  },
  {
   "cell_type": "code",
   "execution_count": 20,
   "id": "equal-hierarchy",
   "metadata": {},
   "outputs": [
    {
     "data": {
      "image/png": "[encoded data removed]",
      "text/plain": [
       "<Figure size 432x288 with 1 Axes>"
      ]
     },
     "metadata": {
      "needs_background": "light"
     },
     "output_type": "display_data"
    }
   ],
   "source": [
    "plt.hist(abundance_tot, bins=range(0, 2_000_000, 150_000));"
   ]
  },
  {
   "cell_type": "markdown",
   "id": "taken-diana",
   "metadata": {},
   "source": [
    "### Analyse des $1^{er}$ digit"
   ]
  },
  {
   "cell_type": "code",
   "execution_count": 21,
   "id": "transparent-southwest",
   "metadata": {},
   "outputs": [],
   "source": [
    "f_benford = benford.get_theoretical_freq_benford()\n",
    "d_obs = benford.count_first_digit(abundance_tot)"
   ]
  },
  {
   "cell_type": "markdown",
   "id": "successful-indonesian",
   "metadata": {},
   "source": [
    "### Histogramme de la fréquence des first digit de la loi de Benford et de l'abondance total des protéines"
   ]
  },
  {
   "cell_type": "code",
   "execution_count": 22,
   "id": "completed-method",
   "metadata": {},
   "outputs": [
    {
     "data": {
      "image/png": "[encoded data removed]",
      "text/plain": [
       "<Figure size 432x288 with 1 Axes>"
      ]
     },
     "metadata": {
      "needs_background": "light"
     },
     "output_type": "display_data"
    }
   ],
   "source": [
    "benford.build_hist_freq_ben(benford.normalize_first_digit(d_obs), f_benford, nb_digit=1,\n",
    "                            title=(\"Theoretical Benford law and First digit distribution \\n \"\n",
    "                            f\"of the {sum(d_obs)} total protein abundances\"),\n",
    "                            legend=\"Total protein Abundances\")"
   ]
  },
  {
   "cell_type": "markdown",
   "id": "liberal-volume",
   "metadata": {},
   "source": [
    "### Test statistique par la procédure \"bootstrap\""
   ]
  },
  {
   "cell_type": "code",
   "execution_count": 23,
   "id": "completed-vancouver",
   "metadata": {},
   "outputs": [
    {
     "name": "stdout",
     "output_type": "stream",
     "text": [
      "statistics : 8.11591414398729 ; p-value : 0.42223003441247664 ; number of significant tests : 55\n",
      "CPU times: user 3.7 s, sys: 23.4 ms, total: 3.72 s\n",
      "Wall time: 3.74 s\n"
     ]
    }
   ],
   "source": [
    "%%time\n",
    "statistics, p_val, nb_signif = benford.calculate_bootstrap_chi2(abundance_tot, f_benford, nb_digit=1)"
   ]
  },
  {
   "cell_type": "code",
   "execution_count": 24,
   "id": "suited-terminal",
   "metadata": {},
   "outputs": [
    {
     "name": "stdout",
     "output_type": "stream",
     "text": [
      "Le résultat du test montre que le premier chiffre significatif de l'abondance total des protéines suit la loi de Benford pour un risque 𝛼=5%.\n"
     ]
    }
   ],
   "source": [
    "if p_val > 0.05:\n",
    "    print(\"Le résultat du test montre que le premier chiffre significatif de\",\n",
    "          \"l'abondance total des protéines suit la loi de Benford pour un risque 𝛼=5%.\")\n",
    "else:\n",
    "    print(\"Le résultat du test montre que le premier chiffre significatif de\",\n",
    "          \"l'abondance total des protéines ne suit pas la loi de Benford pour un \",\n",
    "          \"risque 𝛼=5%.\")"
   ]
  },
  {
   "cell_type": "markdown",
   "id": "important-lincoln",
   "metadata": {},
   "source": [
    "## Analyse des deux $1^{er}$ digit"
   ]
  },
  {
   "cell_type": "code",
   "execution_count": 25,
   "id": "waiting-bathroom",
   "metadata": {},
   "outputs": [],
   "source": [
    "f_benford = benford.get_theoretical_freq_benford(2)\n",
    "d_obs = benford.count_first_digit(abundance_tot, 2)"
   ]
  },
  {
   "cell_type": "markdown",
   "id": "capable-remedy",
   "metadata": {},
   "source": [
    "### Histogramme de la fréquence des first digit de la loi de Benford et de l'abondance des protéines de l'ensemble des données"
   ]
  },
  {
   "cell_type": "code",
   "execution_count": 26,
   "id": "through-weather",
   "metadata": {},
   "outputs": [
    {
     "data": {
      "image/png": "[encoded data removed]",
      "text/plain": [
       "<Figure size 2880x1080 with 1 Axes>"
      ]
     },
     "metadata": {
      "needs_background": "light"
     },
     "output_type": "display_data"
    }
   ],
   "source": [
    "benford.build_hist_freq_ben(benford.normalize_first_digit(d_obs), f_benford, nb_digit=2,\n",
    "                            title=(\"Theoretical Benford law and First digit distribution \\n \"\n",
    "                            f\"of the {sum(d_obs)} protein  abundances\"),\n",
    "                            legend=\"protein Abundances\", size=(40, 15))"
   ]
  },
  {
   "cell_type": "markdown",
   "id": "constant-optics",
   "metadata": {},
   "source": [
    "### Test statistique par la procédure \"bootstrap\""
   ]
  },
  {
   "cell_type": "code",
   "execution_count": 27,
   "id": "protecting-applicant",
   "metadata": {},
   "outputs": [
    {
     "name": "stdout",
     "output_type": "stream",
     "text": [
      "statistics : 88.92071504124186 ; p-value : 0.4824303609592541 ; number of significant tests : 46\n",
      "CPU times: user 3.39 s, sys: 4.66 ms, total: 3.39 s\n",
      "Wall time: 3.39 s\n"
     ]
    }
   ],
   "source": [
    "%%time\n",
    "statistics, P_val, nb_signif = benford.calculate_bootstrap_chi2(abundance_tot, f_benford, nb_digit=2)"
   ]
  },
  {
   "cell_type": "code",
   "execution_count": 28,
   "id": "aggregate-satellite",
   "metadata": {},
   "outputs": [
    {
     "name": "stdout",
     "output_type": "stream",
     "text": [
      "Le résultat du test montre que les 2 premiers chiffres significatifs de l'abondance total des protéines suit la loi de Benford pour un risque 𝛼=5%.\n"
     ]
    }
   ],
   "source": [
    "if p_val > 0.05:\n",
    "    print(\"Le résultat du test montre que les 2 premiers chiffres significatifs de\",\n",
    "          \"l'abondance total des protéines suit la loi de Benford pour un risque 𝛼=5%.\")\n",
    "else:\n",
    "    print(\"Le résultat du test montre que les 2 premiers chiffres significatifs de\",\n",
    "          \"l'abondance total des protéines ne suit pas la loi de Benford pour un \",\n",
    "          \"risque 𝛼=5%.\")"
   ]
  },
  {
   "cell_type": "markdown",
   "id": "verbal-sleep",
   "metadata": {},
   "source": [
    "nous allons maintenant nous intéresser aux abondances de protéines obtenus pour les échantillon WT\n",
    "## <font color='red'> Analyse sur les données d'abondance pour les échantillon WT</font>\n",
    "### récupération des échantillon WT"
   ]
  },
  {
   "cell_type": "code",
   "execution_count": 29,
   "id": "worse-parameter",
   "metadata": {},
   "outputs": [
    {
     "name": "stdout",
     "output_type": "stream",
     "text": [
      "abundance  WT:\n",
      "(1917, 2)\n",
      "      WT_control_1  WT_control_2\n",
      "0     1.597321e+06  1.510281e+06\n",
      "1     2.571727e+06  2.227859e+06\n",
      "2     1.267556e+04  1.148202e+04\n",
      "3     1.082784e+06  7.226234e+05\n",
      "4     3.847340e+06  3.328870e+06\n",
      "...            ...           ...\n",
      "1912  0.000000e+00  0.000000e+00\n",
      "1913  0.000000e+00  0.000000e+00\n",
      "1914  0.000000e+00  0.000000e+00\n",
      "1915  0.000000e+00  0.000000e+00\n",
      "1916  0.000000e+00  0.000000e+00\n",
      "\n",
      "[1917 rows x 2 columns]\n"
     ]
    }
   ],
   "source": [
    "wt_id = ['WT_control_1', 'WT_control_2']\n",
    "white_type = data[wt_id]\n",
    "print(\"abundance  WT:\")\n",
    "print(white_type.shape)\n",
    "print(white_type)"
   ]
  },
  {
   "cell_type": "code",
   "execution_count": 30,
   "id": "applied-narrative",
   "metadata": {},
   "outputs": [
    {
     "name": "stdout",
     "output_type": "stream",
     "text": [
      "abundance WT :\n",
      "(3834,)\n",
      "[1597320.69  1510280.674 2571727.402 ...       0.          0.\n",
      "       0.   ]\n"
     ]
    }
   ],
   "source": [
    "# données dans un array d'une dimmenssion\n",
    "white_type = white_type.values.reshape(white_type.shape[0] * white_type.shape[1])\n",
    "print(\"abundance WT :\")\n",
    "print(white_type.shape)\n",
    "print(white_type)"
   ]
  },
  {
   "cell_type": "code",
   "execution_count": 31,
   "id": "small-circuit",
   "metadata": {},
   "outputs": [
    {
     "name": "stdout",
     "output_type": "stream",
     "text": [
      "abundance WT : (3147,)\n"
     ]
    }
   ],
   "source": [
    "# remove 0\n",
    "white_type = white_type[white_type > 0]\n",
    "print(f\"abundance WT : {white_type.shape}\")"
   ]
  },
  {
   "cell_type": "markdown",
   "id": "atlantic-convert",
   "metadata": {},
   "source": [
    "on obtient après nettoyage des données 3147 données d'abondance des échantillons WT\n",
    "### histograme de la distribution des données d'abondance des échantillons WT"
   ]
  },
  {
   "cell_type": "code",
   "execution_count": 32,
   "id": "sustainable-salvation",
   "metadata": {},
   "outputs": [
    {
     "data": {
      "image/png": "[encoded data removed]",
      "text/plain": [
       "<Figure size 432x288 with 1 Axes>"
      ]
     },
     "metadata": {
      "needs_background": "light"
     },
     "output_type": "display_data"
    }
   ],
   "source": [
    "plt.hist(white_type, bins=range(0, 2_000_000, 150_000));"
   ]
  },
  {
   "cell_type": "markdown",
   "id": "banner-tracker",
   "metadata": {},
   "source": [
    "### Analyse des $1^{er}$ digit"
   ]
  },
  {
   "cell_type": "code",
   "execution_count": 33,
   "id": "expanded-intention",
   "metadata": {},
   "outputs": [],
   "source": [
    "f_benford = benford.get_theoretical_freq_benford()\n",
    "d_obs = benford.count_first_digit(white_type)"
   ]
  },
  {
   "cell_type": "markdown",
   "id": "pressed-scale",
   "metadata": {},
   "source": [
    "### Histogramme de la fréquence des first digit de la loi de Benford et de l'abondance total des protéines des échantillons WT"
   ]
  },
  {
   "cell_type": "code",
   "execution_count": 34,
   "id": "logical-tyler",
   "metadata": {},
   "outputs": [
    {
     "data": {
      "image/png": "[encoded data removed]",
      "text/plain": [
       "<Figure size 432x288 with 1 Axes>"
      ]
     },
     "metadata": {
      "needs_background": "light"
     },
     "output_type": "display_data"
    }
   ],
   "source": [
    "benford.build_hist_freq_ben(benford.normalize_first_digit(d_obs), f_benford, nb_digit=1,\n",
    "                            title=(\"Theoretical Benford law and First digit distribution \\n \"\n",
    "                            f\"of the {sum(d_obs)} white type protein abundances\"),\n",
    "                            legend=\"WT protein Abundances\")"
   ]
  },
  {
   "cell_type": "markdown",
   "id": "unable-building",
   "metadata": {},
   "source": [
    "On observe que le digit 1 à une fréqunece plus faible que celle de la loi théorique de Benford et le digit 2 à, lui, une fréquence plus élevé que loi théorique de Benford.\n",
    "### Test statistique par la procédure \"bootstrap\""
   ]
  },
  {
   "cell_type": "code",
   "execution_count": 35,
   "id": "cleared-nickel",
   "metadata": {},
   "outputs": [
    {
     "name": "stdout",
     "output_type": "stream",
     "text": [
      "statistics : 7.954895708432163 ; p-value : 0.43788843453702064 ; number of significant tests : 48\n",
      "CPU times: user 2.15 s, sys: 11.1 ms, total: 2.16 s\n",
      "Wall time: 2.15 s\n"
     ]
    }
   ],
   "source": [
    "%%time\n",
    "statistics, p_val, nb_signif = benford.calculate_bootstrap_chi2(white_type, f_benford, nb_digit=1)"
   ]
  },
  {
   "cell_type": "code",
   "execution_count": 36,
   "id": "perfect-completion",
   "metadata": {},
   "outputs": [
    {
     "name": "stdout",
     "output_type": "stream",
     "text": [
      "Le résultat du test montre que le premier chiffre significatif de l'abondance de protéines, pour les \n",
      "échantillons WT, suit la loi de Benford pour un risque 𝛼=5%.\n"
     ]
    }
   ],
   "source": [
    "if p_val > 0.05:\n",
    "    print(\"Le résultat du test montre que le premier chiffre significatif de\",\n",
    "          \"l'abondance de protéines, pour les \\néchantillons WT, suit la loi de Benford pour un risque 𝛼=5%.\")\n",
    "else:\n",
    "    print(\"Le résultat du test montre que le premier chiffre significatif de\",\n",
    "          \"l'abondance de protéines, pour les \\néchantillons WT, ne suit pas la loi de Benford pour un \",\n",
    "          \"risque 𝛼=5%.\")"
   ]
  },
  {
   "cell_type": "markdown",
   "id": "demanding-trust",
   "metadata": {},
   "source": [
    "## Analyse des deux $1^{er}$ digit"
   ]
  },
  {
   "cell_type": "code",
   "execution_count": 37,
   "id": "double-dylan",
   "metadata": {},
   "outputs": [],
   "source": [
    "f_benford = benford.get_theoretical_freq_benford(2)\n",
    "d_obs = benford.count_first_digit(white_type, 2)"
   ]
  },
  {
   "cell_type": "markdown",
   "id": "adverse-darwin",
   "metadata": {},
   "source": [
    "### Histogramme de la fréquence des first digit de la loi de Benford et de l'abondance des protéines des échantillons WT"
   ]
  },
  {
   "cell_type": "code",
   "execution_count": 38,
   "id": "amended-buying",
   "metadata": {},
   "outputs": [
    {
     "data": {
      "image/png": "[encoded data removed]",
      "text/plain": [
       "<Figure size 2880x1080 with 1 Axes>"
      ]
     },
     "metadata": {
      "needs_background": "light"
     },
     "output_type": "display_data"
    }
   ],
   "source": [
    "benford.build_hist_freq_ben(benford.normalize_first_digit(d_obs), f_benford, nb_digit=2,\n",
    "                            title=(\"Theoretical Benford law and First digit distribution \\n \"\n",
    "                            f\"of the {sum(d_obs)} protein  abundances\"),\n",
    "                            legend=\"protein Abundances\", size=(40, 15))"
   ]
  },
  {
   "cell_type": "markdown",
   "id": "attached-overall",
   "metadata": {},
   "source": [
    "On observe un écart plus important entre la fréquence des 2 first digit de l'abondance de protéines, pour les échantillon WT, et celle de la loi théorique de Benford.\n",
    "### Test statistique par la procédure \"bootstrap\""
   ]
  },
  {
   "cell_type": "code",
   "execution_count": 39,
   "id": "tested-pizza",
   "metadata": {},
   "outputs": [
    {
     "name": "stdout",
     "output_type": "stream",
     "text": [
      "statistics : 89.29420799731221 ; p-value : 0.47129722299904986 ; number of significant tests : 51\n",
      "CPU times: user 3.42 s, sys: 8.11 ms, total: 3.43 s\n",
      "Wall time: 3.43 s\n"
     ]
    }
   ],
   "source": [
    "%%time\n",
    "statistics, P_val, nb_signif = benford.calculate_bootstrap_chi2(abundance_tot, f_benford, nb_digit=2)"
   ]
  },
  {
   "cell_type": "code",
   "execution_count": 40,
   "id": "logical-washington",
   "metadata": {},
   "outputs": [
    {
     "name": "stdout",
     "output_type": "stream",
     "text": [
      "Le résultat du test montre que les 2 premiers chiffres significatifs de l'abondance de protéines, \n",
      "pour les échantillons WT, suit la loi de Benford pour un risque 𝛼=5%.\n"
     ]
    }
   ],
   "source": [
    "if p_val > 0.05:\n",
    "    print(\"Le résultat du test montre que les 2 premiers chiffres significatifs de\",\n",
    "          \"l'abondance de protéines, \\npour les échantillons WT, suit la loi de Benford pour un risque 𝛼=5%.\")\n",
    "else:\n",
    "    print(\"Le résultat du test montre que les 2 premiers chiffres significatifs de\",\n",
    "          \"l'abondance total de protéines, \\npour les \\néchantillons WT, ne suit pas la loi de Benford pour un \",\n",
    "          \"risque 𝛼=5%.\")"
   ]
  },
  {
   "cell_type": "markdown",
   "id": "relevant-window",
   "metadata": {},
   "source": [
    "Le résultat du test statistique, qui à une p-value supérieur à 5%, nous indique que l'abondance de protéines des échantillons WT suivent la loi de Benford pour les deux premiers chifres significatifs, pour un rique $\\alpha$ de 5%.  \n",
    "Le résultat du test est en contradiction avec ce qu'on pourrait penser en analysant l'Histogramme de la fréquence des deux premiers chiffres significatifs des échantillons WT."
   ]
  },
  {
   "cell_type": "markdown",
   "id": "italic-gibraltar",
   "metadata": {},
   "source": [
    "nous allons maintenant nous intéresser aux abondances de protéines obtenus pour l'ensemble des échantillons non WT.\n",
    "## <font color='red'> Analyse sur les données d'abondance pour des échantillons non WT</font>\n",
    "### récupération des échantillons non WT"
   ]
  },
  {
   "cell_type": "code",
   "execution_count": 42,
   "id": "confused-radius",
   "metadata": {},
   "outputs": [
    {
     "name": "stdout",
     "output_type": "stream",
     "text": [
      "non WT 1 :\n",
      "(1917, 46)\n",
      "         AMFR_1        AMFR_2        BFAR_1        BFAR_2      CGRRF1_1  \\\n",
      "0  653449.78450  6.365099e+05  8.297559e+05  7.523494e+05  8.883458e+05   \n",
      "1  939360.24170  1.086076e+06  2.541636e+06  2.384330e+06  9.445967e+05   \n",
      "2    2578.10604  3.096190e+03  8.704869e+03  4.587620e+03  4.843652e+03   \n",
      "3  170103.36070  1.373951e+05  5.848435e+05  5.229952e+05  2.840173e+05   \n",
      "4  696620.77780  7.875347e+05  1.752087e+06  2.024885e+06  1.527643e+06   \n",
      "\n",
      "       CGRRF1_2        HRD1_1        HRD1_2      MARCH2_1      MARCH2_2  ...  \\\n",
      "0  8.619253e+05  4.912131e+05  5.133508e+05  9.476632e+05  1.063860e+06  ...   \n",
      "1  9.851906e+05  2.513519e+06  2.134729e+06  8.823349e+05  1.089042e+06  ...   \n",
      "2  4.662689e+03  1.339073e+04  1.041953e+04  5.112826e+04  4.803791e+04  ...   \n",
      "3  3.033291e+05  4.074580e+05  3.529428e+05  4.556203e+05  5.441068e+05  ...   \n",
      "4  1.503624e+06  3.768847e+06  3.383489e+06  1.509969e+06  1.592874e+06  ...   \n",
      "\n",
      "        RNFT1_1       RNFT1_2      Tmem129_1      Tmem129_2      Trim13_1  \\\n",
      "0  1.031725e+06  8.946137e+05  685599.113800  622240.798000  3.612258e+05   \n",
      "1  4.768931e+05  4.418349e+05  543889.881000  605881.526900  1.130502e+06   \n",
      "2  1.665226e+04  1.272385e+04     927.292206     721.778363  1.455537e+03   \n",
      "3  5.264412e+05  4.712341e+05  129784.308800  172422.538100  5.451802e+04   \n",
      "4  1.083375e+06  1.301425e+06  581763.270800  691786.657400  2.647066e+05   \n",
      "\n",
      "       Trim13_2       Trim59_1       Trim59_2        ZNRF4_1        ZNRF4_2  \n",
      "0  4.090111e+05  542880.771500  577099.865000  723632.233300  369505.163300  \n",
      "1  1.066964e+06  364056.310300  336637.678800  346912.799800  290904.602200  \n",
      "2  5.289084e+03     549.407043     873.451386    3540.070679    1922.103598  \n",
      "3  6.912112e+04   99581.120720   93295.618290   99816.192810   94214.225140  \n",
      "4  3.463574e+05  376276.827000  430823.038700  414007.508500  320752.227500  \n",
      "\n",
      "[5 rows x 46 columns]\n"
     ]
    }
   ],
   "source": [
    "non_wt_id1 = ['AMFR_1', 'AMFR_2', 'BFAR_1', 'BFAR_2', 'CGRRF1_1',\n",
    "       'CGRRF1_2', 'HRD1_1', 'HRD1_2', 'MARCH2_1', 'MARCH2_2', 'MARCH3_1',\n",
    "       'MARCH3_2', 'MARCH4_1', 'MARCH4_2', 'MARCH6_1', 'MARCH6_2', 'MARCH8_1',\n",
    "       'MARCH8_2', 'RNF5_1', 'RNF5_2', 'RNF13_1', 'RNF13_2', 'RNF26_1',\n",
    "       'RNF26_2', 'RNF103_1', 'RNF103_2', 'RNF128_1', 'RNF128_2', 'RNF139_1',\n",
    "       'RNF139_2', 'RNF148_1', 'RNF148_2', 'RNF170_1', 'RNF170_2', 'RNF185_1',\n",
    "       'RNF185_2', 'RNFT1_1', 'RNFT1_2', 'Tmem129_1', 'Tmem129_2', 'Trim13_1',\n",
    "       'Trim13_2', 'Trim59_1', 'Trim59_2', 'ZNRF4_1', 'ZNRF4_2']\n",
    "\n",
    "''' not used\n",
    "non_wt_id2 = ['R26_N_1', 'R26_N_2',\n",
    "       'R26_NM_1', 'R26_NM_2', 'R13_1', 'R13_2', 'T59_1', 'T59_2', 'R145_1',\n",
    "       'R145_2', 'R150_1', 'R150_2', 'Pool_1', 'Pool_2', 'HRD1_rerun_1',\n",
    "       'HRD1_rerun_2', 'R13_repeat_1', 'R13_repeat_2', 'ZNRF4_repeat_1',\n",
    "       'ZNRF4_repeat_2'] '''\n",
    "\n",
    "non_wt1 = data[non_wt_id1]\n",
    "print(\"non WT 1 :\")\n",
    "print(non_wt1.shape)\n",
    "print(non_wt1.head())"
   ]
  },
  {
   "cell_type": "code",
   "execution_count": 43,
   "id": "impossible-location",
   "metadata": {},
   "outputs": [
    {
     "name": "stdout",
     "output_type": "stream",
     "text": [
      "non WT 1 :\n",
      "(88182,)\n",
      "[653449.7845 636509.9156 829755.8643 ...      0.          0.\n",
      "      0.    ]\n"
     ]
    }
   ],
   "source": [
    "# données dans un array d'une dimmenssion\n",
    "non_wt1 = non_wt1.values.reshape(non_wt1.shape[0] * non_wt1.shape[1])\n",
    "print(\"non WT 1 :\")\n",
    "print(non_wt1.shape)\n",
    "print(non_wt1)"
   ]
  },
  {
   "cell_type": "code",
   "execution_count": 47,
   "id": "ready-sleeve",
   "metadata": {},
   "outputs": [
    {
     "name": "stdout",
     "output_type": "stream",
     "text": [
      "non WT 1 : (72687,)\n"
     ]
    }
   ],
   "source": [
    "# remove 0\n",
    "non_wt_tot = non_wt1[non_wt1 > 0]\n",
    "print(f\"non WT 1 : {non_wt1.shape}\")"
   ]
  },
  {
   "cell_type": "markdown",
   "id": "muslim-passing",
   "metadata": {},
   "source": [
    "### Histogramme de la fréquence des first digit de la loi de Benford et de l'abondance total des protéines des échantillons non WT"
   ]
  },
  {
   "cell_type": "code",
   "execution_count": 48,
   "id": "included-liver",
   "metadata": {},
   "outputs": [
    {
     "data": {
      "image/png": "[encoded data removed]",
      "text/plain": [
       "<Figure size 432x288 with 1 Axes>"
      ]
     },
     "metadata": {
      "needs_background": "light"
     },
     "output_type": "display_data"
    }
   ],
   "source": [
    "plt.hist(non_wt_tot, bins=range(0, 2_000_000, 150_000));"
   ]
  },
  {
   "cell_type": "markdown",
   "id": "figured-skating",
   "metadata": {},
   "source": [
    "### Analyse des $1^{er}$ digit"
   ]
  },
  {
   "cell_type": "code",
   "execution_count": 49,
   "id": "disturbed-hygiene",
   "metadata": {},
   "outputs": [],
   "source": [
    "f_benford = benford.get_theoretical_freq_benford()\n",
    "d_obs = benford.count_first_digit(non_wt_tot)"
   ]
  },
  {
   "cell_type": "markdown",
   "id": "alpine-parish",
   "metadata": {},
   "source": [
    "### Histogramme de la fréquence des first digit de la loi de Benford et de l'abondance total des échantillons non WT"
   ]
  },
  {
   "cell_type": "code",
   "execution_count": 50,
   "id": "restricted-boost",
   "metadata": {},
   "outputs": [
    {
     "data": {
      "image/png": "[encoded data removed]",
      "text/plain": [
       "<Figure size 432x288 with 1 Axes>"
      ]
     },
     "metadata": {
      "needs_background": "light"
     },
     "output_type": "display_data"
    }
   ],
   "source": [
    "benford.build_hist_freq_ben(benford.normalize_first_digit(d_obs), f_benford, nb_digit=1,\n",
    "                            title=(\"Theoretical Benford law and First digit distribution \\n \"\n",
    "                            f\"of the {sum(d_obs)} no white type protein abundances\"),\n",
    "                            legend=\"No WT protein Abundances\")"
   ]
  },
  {
   "cell_type": "markdown",
   "id": "governing-western",
   "metadata": {},
   "source": [
    "### Test statistique par la procédure \"bootstrap\""
   ]
  },
  {
   "cell_type": "code",
   "execution_count": 51,
   "id": "fabulous-mission",
   "metadata": {},
   "outputs": [
    {
     "name": "stdout",
     "output_type": "stream",
     "text": [
      "statistics : 8.246388476011107 ; p-value : 0.4097798909690807 ; number of significant tests : 62\n",
      "CPU times: user 3.14 s, sys: 5.3 ms, total: 3.14 s\n",
      "Wall time: 3.14 s\n"
     ]
    }
   ],
   "source": [
    "%%time\n",
    "statistics, p_val, nb_signif = benford.calculate_bootstrap_chi2(non_wt_tot, f_benford, nb_digit=1)"
   ]
  },
  {
   "cell_type": "code",
   "execution_count": 52,
   "id": "julian-premises",
   "metadata": {},
   "outputs": [
    {
     "name": "stdout",
     "output_type": "stream",
     "text": [
      "Le résultat du test montre que le premier chiffre significatif de l'abondance de protéines, pour les \n",
      "échantillons non WT, suit la loi de Benford pour un risque 𝛼=5%.\n"
     ]
    }
   ],
   "source": [
    "if p_val > 0.05:\n",
    "    print(\"Le résultat du test montre que le premier chiffre significatif de\",\n",
    "          \"l'abondance de protéines, pour les \\néchantillons non WT, suit la loi de Benford pour un risque 𝛼=5%.\")\n",
    "else:\n",
    "    print(\"Le résultat du test montre que le premier chiffre significatif de\",\n",
    "          \"l'abondance de protéines, pour les \\néchantillons non WT, ne suit pas la loi de Benford pour un \",\n",
    "          \"risque 𝛼=5%.\")"
   ]
  },
  {
   "cell_type": "markdown",
   "id": "tutorial-infection",
   "metadata": {},
   "source": [
    "## Analyse des deux $1^{er}$ digit"
   ]
  },
  {
   "cell_type": "code",
   "execution_count": 53,
   "id": "controlled-swift",
   "metadata": {},
   "outputs": [],
   "source": [
    "f_benford = benford.get_theoretical_freq_benford(2)\n",
    "d_obs = benford.count_first_digit(non_wt_tot, 2)"
   ]
  },
  {
   "cell_type": "markdown",
   "id": "handmade-lawrence",
   "metadata": {},
   "source": [
    "### Histogramme de la fréquence des first digit de la loi de Benford et de l'abondance des protéines des échantillons non WT"
   ]
  },
  {
   "cell_type": "code",
   "execution_count": 54,
   "id": "integral-registration",
   "metadata": {},
   "outputs": [
    {
     "data": {
      "image/png": "[encoded data removed]",
      "text/plain": [
       "<Figure size 2880x1080 with 1 Axes>"
      ]
     },
     "metadata": {
      "needs_background": "light"
     },
     "output_type": "display_data"
    }
   ],
   "source": [
    "benford.build_hist_freq_ben(benford.normalize_first_digit(d_obs), f_benford, nb_digit=2,\n",
    "                            title=(\"Theoretical Benford law and First digit distribution \\n \"\n",
    "                            f\"of the {sum(d_obs)} protein  abundances\"),\n",
    "                            legend=\"protein Abundances\", size=(40, 15))"
   ]
  },
  {
   "cell_type": "markdown",
   "id": "surrounded-kansas",
   "metadata": {},
   "source": [
    "### Test statistique par la procédure \"bootstrap\""
   ]
  },
  {
   "cell_type": "code",
   "execution_count": 55,
   "id": "published-tomato",
   "metadata": {},
   "outputs": [
    {
     "name": "stdout",
     "output_type": "stream",
     "text": [
      "statistics : 88.36114152314154 ; p-value : 0.4991917907035394 ; number of significant tests : 46\n",
      "CPU times: user 3.37 s, sys: 5.74 ms, total: 3.38 s\n",
      "Wall time: 3.38 s\n"
     ]
    }
   ],
   "source": [
    "%%time\n",
    "statistics, P_val, nb_signif = benford.calculate_bootstrap_chi2(non_wt_tot, f_benford, nb_digit=2)"
   ]
  },
  {
   "cell_type": "code",
   "execution_count": 56,
   "id": "governmental-hours",
   "metadata": {},
   "outputs": [
    {
     "name": "stdout",
     "output_type": "stream",
     "text": [
      "Le résultat du test montre que les 2 premiers chiffres significatifs de l'abondance de protéines, \n",
      "pour les échantillons non WT, suit la loi de Benford pour un risque 𝛼=5%.\n"
     ]
    }
   ],
   "source": [
    "if p_val > 0.05:\n",
    "    print(\"Le résultat du test montre que les 2 premiers chiffres significatifs de\",\n",
    "          \"l'abondance de protéines, \\npour les échantillons non WT, suit la loi de Benford pour un risque 𝛼=5%.\")\n",
    "else:\n",
    "    print(\"Le résultat du test montre que les 2 premiers chiffres significatifs de\",\n",
    "          \"l'abondance total de protéines, \\npour les \\néchantillons non WT, ne suit pas la loi de Benford pour un \",\n",
    "          \"risque 𝛼=5%.\")"
   ]
  },
  {
   "cell_type": "markdown",
   "id": "stuffed-xerox",
   "metadata": {},
   "source": [
    "nous allons maintenant nous intéresser aux abondances de protéines obtenus pour chacunes des conditions non WT.\n",
    "## <font color='red'> Analyse sur les données d'abondance pour pour chacunes des conditions non WT </font>\n",
    "### <font color='green'> Analyse des données d'abondance de protéines pour la condition AMFR </font>\n",
    "#### récupération des données de la condition AMFR et nettyage des données"
   ]
  },
  {
   "cell_type": "code",
   "execution_count": 83,
   "id": "artificial-sailing",
   "metadata": {},
   "outputs": [
    {
     "name": "stdout",
     "output_type": "stream",
     "text": [
      "\n",
      "condition AMFR :\n",
      "(1917, 2)\n",
      "         AMFR_1        AMFR_2\n",
      "0  653449.78450  6.365099e+05\n",
      "1  939360.24170  1.086076e+06\n",
      "2    2578.10604  3.096190e+03\n",
      "3  170103.36070  1.373951e+05\n",
      "4  696620.77780  7.875347e+05\n"
     ]
    }
   ],
   "source": [
    "condition_id = ['AMFR_1', 'AMFR_2']\n",
    "condition = data[condition_id]\n",
    "print(\"\\ncondition AMFR :\")\n",
    "print(condition.shape)\n",
    "print(condition.head())"
   ]
  },
  {
   "cell_type": "code",
   "execution_count": 58,
   "id": "governing-republican",
   "metadata": {},
   "outputs": [
    {
     "name": "stdout",
     "output_type": "stream",
     "text": [
      "\n",
      "condition AMFR :\n",
      "(3834,)\n",
      "[653449.7845 636509.9156 939360.2417 ...      0.          0.\n",
      "      0.    ]\n"
     ]
    }
   ],
   "source": [
    "# données dans un array d'une dimmenssion\n",
    "condition = condition.values.reshape(condition.shape[0] * condition.shape[1])\n",
    "print(\"\\ncondition AMFR :\")\n",
    "print(condition.shape)\n",
    "print(condition)"
   ]
  },
  {
   "cell_type": "code",
   "execution_count": 59,
   "id": "eight-parent",
   "metadata": {},
   "outputs": [
    {
     "name": "stdout",
     "output_type": "stream",
     "text": [
      "condition AMFR : (3149,)\n"
     ]
    }
   ],
   "source": [
    "# remove 0\n",
    "condition = condition[condition > 0]\n",
    "print(f\"condition AMFR : {condition.shape}\")"
   ]
  },
  {
   "cell_type": "markdown",
   "id": "sapphire-piece",
   "metadata": {},
   "source": [
    "### Histogramme de la fréquence des first digit de la loi de Benford et de l'abondance des protéines de la condition AMFR"
   ]
  },
  {
   "cell_type": "code",
   "execution_count": 60,
   "id": "auburn-kansas",
   "metadata": {},
   "outputs": [
    {
     "data": {
      "image/png": "[encoded data removed]",
      "text/plain": [
       "<Figure size 432x288 with 1 Axes>"
      ]
     },
     "metadata": {
      "needs_background": "light"
     },
     "output_type": "display_data"
    }
   ],
   "source": [
    "plt.hist(condition, bins=range(0, 2_000_000, 150_000));"
   ]
  },
  {
   "cell_type": "markdown",
   "id": "unlimited-deficit",
   "metadata": {},
   "source": [
    "### Analyse des $1^{er}$ digit"
   ]
  },
  {
   "cell_type": "code",
   "execution_count": 61,
   "id": "powerful-portal",
   "metadata": {},
   "outputs": [],
   "source": [
    "f_benford = benford.get_theoretical_freq_benford()\n",
    "d_obs = benford.count_first_digit(condition)"
   ]
  },
  {
   "cell_type": "markdown",
   "id": "pacific-trader",
   "metadata": {},
   "source": [
    "### Histogramme de la fréquence des first digit de la loi de Benford et de l'abondance de la condition AMFR"
   ]
  },
  {
   "cell_type": "code",
   "execution_count": 62,
   "id": "interracial-headset",
   "metadata": {},
   "outputs": [
    {
     "data": {
      "image/png": "[encoded data removed]",
      "text/plain": [
       "<Figure size 432x288 with 1 Axes>"
      ]
     },
     "metadata": {
      "needs_background": "light"
     },
     "output_type": "display_data"
    }
   ],
   "source": [
    "benford.build_hist_freq_ben(benford.normalize_first_digit(d_obs), f_benford, nb_digit=1,\n",
    "                            title=(\"Theoretical Benford law and First digit distribution \\n \"\n",
    "                            f\"of the {sum(d_obs)} AMFR codition, of the protein abundances\"),\n",
    "                            legend=\"AMFR condition protein Abundances\")"
   ]
  },
  {
   "cell_type": "markdown",
   "id": "incredible-romantic",
   "metadata": {},
   "source": [
    "### Test statistique par la procédure \"bootstrap\""
   ]
  },
  {
   "cell_type": "code",
   "execution_count": 63,
   "id": "happy-african",
   "metadata": {},
   "outputs": [
    {
     "name": "stdout",
     "output_type": "stream",
     "text": [
      "statistics : 7.388296344102994 ; p-value : 0.49537531327061723 ; number of significant tests : 21\n",
      "CPU times: user 2.14 s, sys: 13.9 ms, total: 2.15 s\n",
      "Wall time: 2.14 s\n"
     ]
    }
   ],
   "source": [
    "%%time\n",
    "statistics, p_val, nb_signif = benford.calculate_bootstrap_chi2(condition, f_benford, nb_digit=1)"
   ]
  },
  {
   "cell_type": "code",
   "execution_count": 64,
   "id": "liked-substitute",
   "metadata": {},
   "outputs": [
    {
     "name": "stdout",
     "output_type": "stream",
     "text": [
      "Le résultat du test montre que le premier chiffre significatif de l'abondance de protéines, pour la \n",
      "condition AMFR, suit la loi de Benford pour un risque 𝛼=5%.\n"
     ]
    }
   ],
   "source": [
    "if p_val > 0.05:\n",
    "    print(\"Le résultat du test montre que le premier chiffre significatif de\",\n",
    "          \"l'abondance de protéines, pour la \\ncondition AMFR, suit la loi de Benford pour un risque 𝛼=5%.\")\n",
    "else:\n",
    "    print(\"Le résultat du test montre que le premier chiffre significatif de\",\n",
    "          \"l'abondance de protéines, pour la \\ncondition AMFR, ne suit pas la loi de Benford pour un \",\n",
    "          \"risque 𝛼=5%.\")"
   ]
  },
  {
   "cell_type": "markdown",
   "id": "extreme-thumb",
   "metadata": {},
   "source": [
    "## Analyse des deux $1^{er}$ digit"
   ]
  },
  {
   "cell_type": "code",
   "execution_count": 65,
   "id": "solar-thompson",
   "metadata": {},
   "outputs": [],
   "source": [
    "f_benford = benford.get_theoretical_freq_benford(2)\n",
    "d_obs = benford.count_first_digit(condition, 2)"
   ]
  },
  {
   "cell_type": "markdown",
   "id": "activated-shape",
   "metadata": {},
   "source": [
    "### Histogramme de la fréquence des first digit de la loi de Benford et de l'abondance de la condition AMFR"
   ]
  },
  {
   "cell_type": "code",
   "execution_count": 66,
   "id": "metric-albuquerque",
   "metadata": {},
   "outputs": [
    {
     "data": {
      "image/png": "[encoded data removed]",
      "text/plain": [
       "<Figure size 2880x1080 with 1 Axes>"
      ]
     },
     "metadata": {
      "needs_background": "light"
     },
     "output_type": "display_data"
    }
   ],
   "source": [
    "benford.build_hist_freq_ben(benford.normalize_first_digit(d_obs), f_benford, nb_digit=2,\n",
    "                            title=(\"Theoretical Benford law and First digit distribution \\n \"\n",
    "                            f\"of the {sum(d_obs)} AMFR codition, of the protein  abundances\"),\n",
    "                            legend=\"AMFR condition protein Abundances\", size=(40, 15))"
   ]
  },
  {
   "cell_type": "markdown",
   "id": "proof-security",
   "metadata": {},
   "source": [
    "On observe un écart entre la fréquence des 2 first digit de l'abondance de protéines pour la \\ncondition AMFR, et celle de la loi théorique de Benford.\n",
    "### Test statistique par la procédure \"bootstrap\""
   ]
  },
  {
   "cell_type": "code",
   "execution_count": 67,
   "id": "african-saturday",
   "metadata": {},
   "outputs": [
    {
     "name": "stdout",
     "output_type": "stream",
     "text": [
      "statistics : 90.13827574847598 ; p-value : 0.4463458856587948 ; number of significant tests : 41\n",
      "CPU times: user 2.38 s, sys: 15.5 ms, total: 2.39 s\n",
      "Wall time: 2.38 s\n"
     ]
    }
   ],
   "source": [
    "%%time\n",
    "statistics, P_val, nb_signif = benford.calculate_bootstrap_chi2(condition, f_benford, nb_digit=2)"
   ]
  },
  {
   "cell_type": "code",
   "execution_count": 69,
   "id": "humanitarian-purse",
   "metadata": {},
   "outputs": [
    {
     "name": "stdout",
     "output_type": "stream",
     "text": [
      "Le résultat du test montre que les 2 premiers chiffres significatifs de l'abondance \n",
      "de protéines, pour la condition AMFR, suit la loi de Benford pour un risque 𝛼=5%.\n"
     ]
    }
   ],
   "source": [
    "if p_val > 0.05:\n",
    "    print(\"Le résultat du test montre que les 2 premiers chiffres significatifs de\",\n",
    "          \"l'abondance \\nde protéines, pour la condition AMFR, suit la loi de Benford pour un risque 𝛼=5%.\")\n",
    "else:\n",
    "    print(\"Le résultat du test montre que les 2 premiers chiffres significatifs de\",\n",
    "          \"l'abondance \\nde protéines, \\npour la condition AMFR, ne suit pas la loi de Benford pour un \",\n",
    "          \"risque 𝛼=5%.\")"
   ]
  },
  {
   "cell_type": "markdown",
   "id": "functional-occurrence",
   "metadata": {},
   "source": [
    "Nous allons maintenant réaliser l'anaylse sur chacune des condition. Les resultats de la statistique et de la p-value sera stocké dans un tableau pour chacune des conditions.\n",
    "### <font color='green'> Analyse des données d'abondance de protéines pour chacunes des conditions </font>\n",
    "#### récupération des données et nettyage des données"
   ]
  },
  {
   "cell_type": "code",
   "execution_count": 85,
   "id": "growing-insight",
   "metadata": {},
   "outputs": [
    {
     "name": "stdout",
     "output_type": "stream",
     "text": [
      "23\n",
      "23\n"
     ]
    }
   ],
   "source": [
    "condition_id = [['AMFR_1', 'AMFR_2'], ['BFAR_1', 'BFAR_2'], ['CGRRF1_1', 'CGRRF1_2'],\n",
    "                ['HRD1_1', 'HRD1_2'], ['MARCH2_1', 'MARCH2_2'], ['MARCH3_1', 'MARCH3_2'],\n",
    "                ['MARCH4_1', 'MARCH4_2'], ['MARCH6_1', 'MARCH6_2'], ['MARCH8_1', 'MARCH8_2'],\n",
    "                ['RNF5_1', 'RNF5_2'], ['RNF13_1', 'RNF13_2'], ['RNF26_1', 'RNF26_2'],\n",
    "                ['RNF103_1', 'RNF103_2'], ['RNF128_1', 'RNF128_2'], ['RNF139_1', 'RNF139_2'],\n",
    "                ['RNF148_1', 'RNF148_2'], ['RNF170_1', 'RNF170_2'], ['RNF185_1', 'RNF185_2'],\n",
    "                ['RNFT1_1', 'RNFT1_2'], ['Tmem129_1', 'Tmem129_2'], ['Trim13_1', 'Trim13_2'],\n",
    "                ['Trim59_1', 'Trim59_2'], ['ZNRF4_1', 'ZNRF4_2']]\n",
    "\n",
    "condition_name = ['AMFR', 'BFAR', 'CGRRF1', 'HRD1', 'MARCH2_1', 'MARCH3', 'MARCH4', 'MARCH6',\n",
    "                  'MARCH8', 'RNF5', 'RNF13', 'RNF26', 'RNF103', 'RNF128', 'RNF139', 'RNF148',\n",
    "                  'RNF170', 'RNF185', 'RNFT1', 'Tmem129', 'Trim13', 'Trim59', 'ZNRF4']\n",
    "print(len(condition_id))\n",
    "print(len(condition_name))"
   ]
  },
  {
   "cell_type": "markdown",
   "id": "turned-general",
   "metadata": {},
   "source": [
    "#### Analyse de la conformité des données des conditions pour le $1^{er}$ chiffre significatif"
   ]
  },
  {
   "cell_type": "code",
   "execution_count": 91,
   "id": "threaded-integral",
   "metadata": {},
   "outputs": [
    {
     "name": "stdout",
     "output_type": "stream",
     "text": [
      "statistics : 7.103853066124463 ; p-value : 0.5254703509734071 ; number of significant tests : 21\n",
      "0\n",
      "statistics : 8.715070543827077 ; p-value : 0.36689948893687896 ; number of significant tests : 67\n",
      "1\n",
      "statistics : 8.963278805534133 ; p-value : 0.3454031898350336 ; number of significant tests : 70\n",
      "2\n",
      "statistics : 8.99053286164089 ; p-value : 0.3430952235714864 ; number of significant tests : 61\n",
      "3\n",
      "statistics : 9.027194505572934 ; p-value : 0.3400070575884248 ; number of significant tests : 72\n",
      "4\n",
      "statistics : 6.4169823863433235 ; p-value : 0.6006299572267424 ; number of significant tests : 8\n",
      "5\n",
      "statistics : 7.416409638654588 ; p-value : 0.4924420658325068 ; number of significant tests : 20\n",
      "6\n",
      "statistics : 9.423084760173138 ; p-value : 0.30787079011242713 ; number of significant tests : 96\n",
      "7\n",
      "statistics : 12.856550613741566 ; p-value : 0.11688148813507217 ; number of significant tests : 273\n",
      "8\n",
      "statistics : 7.611203686754988 ; p-value : 0.47233944917810144 ; number of significant tests : 34\n",
      "9\n",
      "statistics : 8.600129915627758 ; p-value : 0.3771422484789558 ; number of significant tests : 61\n",
      "10\n",
      "statistics : 6.712706193926667 ; p-value : 0.5679227638923627 ; number of significant tests : 18\n",
      "11\n",
      "statistics : 6.743929204749013 ; p-value : 0.5644959834924537 ; number of significant tests : 16\n",
      "12\n",
      "statistics : 10.701647008969424 ; p-value : 0.2191839836173072 ; number of significant tests : 160\n",
      "13\n",
      "statistics : 9.870440149407656 ; p-value : 0.27423738088374017 ; number of significant tests : 121\n",
      "14\n",
      "statistics : 10.935866551730072 ; p-value : 0.20535963850439326 ; number of significant tests : 151\n",
      "15\n",
      "statistics : 13.482494188924 ; p-value : 0.0962917461108034 ; number of significant tests : 322\n",
      "16\n",
      "statistics : 7.461364496005889 ; p-value : 0.48776801055105945 ; number of significant tests : 29\n",
      "17\n",
      "statistics : 8.45152013911874 ; p-value : 0.3906510956115688 ; number of significant tests : 51\n",
      "18\n",
      "statistics : 7.115020851911111 ; p-value : 0.524275244155136 ; number of significant tests : 26\n",
      "19\n",
      "statistics : 6.06181653556696 ; p-value : 0.6403075102172071 ; number of significant tests : 3\n",
      "20\n",
      "statistics : 9.581629255810782 ; p-value : 0.29562565187699336 ; number of significant tests : 99\n",
      "21\n",
      "statistics : 8.612207021649938 ; p-value : 0.37605753411498655 ; number of significant tests : 57\n",
      "22\n",
      "CPU times: user 51.3 s, sys: 521 ms, total: 51.8 s\n",
      "Wall time: 51.5 s\n"
     ]
    }
   ],
   "source": [
    "%%time\n",
    "pval_list = []\n",
    "stat_list = []\n",
    "f_benford = benford.get_theoretical_freq_benford()\n",
    "for i in range(len(condition_id)):\n",
    "    condition = data[condition_id[i]]\n",
    "    # données dans un array d'une dimmenssion\n",
    "    condition = condition.values.reshape(condition.shape[0] * condition.shape[1])\n",
    "    # remove 0\n",
    "    condition = condition[condition > 0]\n",
    "    # récupération des first digit\n",
    "    d_obs = benford.count_first_digit(condition)\n",
    "    statistics, p_val, nb_signif = benford.calculate_bootstrap_chi2(condition, f_benford, nb_digit=1)\n",
    "    pval_list.append(p_val); stat_list.append(statistics);"
   ]
  },
  {
   "cell_type": "code",
   "execution_count": 110,
   "id": "breathing-dependence",
   "metadata": {},
   "outputs": [
    {
     "data": {
      "text/html": [
       "<div>\n",
       "<style scoped>\n",
       "    .dataframe tbody tr th:only-of-type {\n",
       "        vertical-align: middle;\n",
       "    }\n",
       "\n",
       "    .dataframe tbody tr th {\n",
       "        vertical-align: top;\n",
       "    }\n",
       "\n",
       "    .dataframe thead th {\n",
       "        text-align: right;\n",
       "    }\n",
       "</style>\n",
       "<table border=\"1\" class=\"dataframe\">\n",
       "  <thead>\n",
       "    <tr style=\"text-align: right;\">\n",
       "      <th></th>\n",
       "      <th>0</th>\n",
       "      <th>1</th>\n",
       "      <th>2</th>\n",
       "      <th>3</th>\n",
       "      <th>4</th>\n",
       "      <th>5</th>\n",
       "      <th>6</th>\n",
       "      <th>7</th>\n",
       "      <th>8</th>\n",
       "      <th>9</th>\n",
       "      <th>10</th>\n",
       "      <th>11</th>\n",
       "    </tr>\n",
       "  </thead>\n",
       "  <tbody>\n",
       "    <tr>\n",
       "      <th>Condition</th>\n",
       "      <td>AMFR</td>\n",
       "      <td>BFAR</td>\n",
       "      <td>CGRRF1</td>\n",
       "      <td>HRD1</td>\n",
       "      <td>MARCH2_1</td>\n",
       "      <td>MARCH3</td>\n",
       "      <td>MARCH4</td>\n",
       "      <td>MARCH6</td>\n",
       "      <td>MARCH8</td>\n",
       "      <td>RNF5</td>\n",
       "      <td>RNF13</td>\n",
       "      <td>RNF26</td>\n",
       "    </tr>\n",
       "    <tr>\n",
       "      <th>p-value</th>\n",
       "      <td>0.52547</td>\n",
       "      <td>0.366899</td>\n",
       "      <td>0.345403</td>\n",
       "      <td>0.343095</td>\n",
       "      <td>0.340007</td>\n",
       "      <td>0.60063</td>\n",
       "      <td>0.492442</td>\n",
       "      <td>0.307871</td>\n",
       "      <td>0.116881</td>\n",
       "      <td>0.472339</td>\n",
       "      <td>0.377142</td>\n",
       "      <td>0.567923</td>\n",
       "    </tr>\n",
       "    <tr>\n",
       "      <th>Statistics</th>\n",
       "      <td>7.103853</td>\n",
       "      <td>8.715071</td>\n",
       "      <td>8.963279</td>\n",
       "      <td>8.990533</td>\n",
       "      <td>9.027195</td>\n",
       "      <td>6.416982</td>\n",
       "      <td>7.41641</td>\n",
       "      <td>9.423085</td>\n",
       "      <td>12.856551</td>\n",
       "      <td>7.611204</td>\n",
       "      <td>8.60013</td>\n",
       "      <td>6.712706</td>\n",
       "    </tr>\n",
       "    <tr>\n",
       "      <th>Condition</th>\n",
       "      <td>RNF103</td>\n",
       "      <td>RNF128</td>\n",
       "      <td>RNF139</td>\n",
       "      <td>RNF148</td>\n",
       "      <td>RNF170</td>\n",
       "      <td>RNF185</td>\n",
       "      <td>RNFT1</td>\n",
       "      <td>Tmem129</td>\n",
       "      <td>Trim13</td>\n",
       "      <td>Trim59</td>\n",
       "      <td>ZNRF4</td>\n",
       "      <td>None</td>\n",
       "    </tr>\n",
       "    <tr>\n",
       "      <th>p-value</th>\n",
       "      <td>0.564496</td>\n",
       "      <td>0.219184</td>\n",
       "      <td>0.274237</td>\n",
       "      <td>0.20536</td>\n",
       "      <td>0.096292</td>\n",
       "      <td>0.487768</td>\n",
       "      <td>0.390651</td>\n",
       "      <td>0.524275</td>\n",
       "      <td>0.640308</td>\n",
       "      <td>0.295626</td>\n",
       "      <td>0.376058</td>\n",
       "      <td>None</td>\n",
       "    </tr>\n",
       "    <tr>\n",
       "      <th>Statistics</th>\n",
       "      <td>6.743929</td>\n",
       "      <td>10.701647</td>\n",
       "      <td>9.87044</td>\n",
       "      <td>10.935867</td>\n",
       "      <td>13.482494</td>\n",
       "      <td>7.461364</td>\n",
       "      <td>8.45152</td>\n",
       "      <td>7.115021</td>\n",
       "      <td>6.061817</td>\n",
       "      <td>9.581629</td>\n",
       "      <td>8.612207</td>\n",
       "      <td>None</td>\n",
       "    </tr>\n",
       "  </tbody>\n",
       "</table>\n",
       "</div>"
      ],
      "text/plain": [
       "                  0          1         2          3          4         5   \\\n",
       "Condition       AMFR       BFAR    CGRRF1       HRD1   MARCH2_1    MARCH3   \n",
       "p-value      0.52547   0.366899  0.345403   0.343095   0.340007   0.60063   \n",
       "Statistics  7.103853   8.715071  8.963279   8.990533   9.027195  6.416982   \n",
       "Condition     RNF103     RNF128    RNF139     RNF148     RNF170    RNF185   \n",
       "p-value     0.564496   0.219184  0.274237    0.20536   0.096292  0.487768   \n",
       "Statistics  6.743929  10.701647   9.87044  10.935867  13.482494  7.461364   \n",
       "\n",
       "                  6         7          8         9         10        11  \n",
       "Condition     MARCH4    MARCH6     MARCH8      RNF5     RNF13     RNF26  \n",
       "p-value     0.492442  0.307871   0.116881  0.472339  0.377142  0.567923  \n",
       "Statistics   7.41641  9.423085  12.856551  7.611204   8.60013  6.712706  \n",
       "Condition      RNFT1   Tmem129     Trim13    Trim59     ZNRF4      None  \n",
       "p-value     0.390651  0.524275   0.640308  0.295626  0.376058      None  \n",
       "Statistics   8.45152  7.115021   6.061817  9.581629  8.612207      None  "
      ]
     },
     "execution_count": 110,
     "metadata": {},
     "output_type": "execute_result"
    }
   ],
   "source": [
    "col_name = ['Condition', 'p-value', 'Statistics']\n",
    "pd.DataFrame((condition_name[0:12], pval_list[0:12], stat_list[0:12], condition_name[12:],\n",
    "              pval_list[12:], stat_list[12:]), index = col_name * 2)"
   ]
  },
  {
   "cell_type": "markdown",
   "id": "durable-analysis",
   "metadata": {},
   "source": [
    "Les resultats des tests statistiques de conformité à la loi théorique de Benford nous indique que chacunes des conditions suient la loi de Benford, pour un risque $\\alpha$ de 5%.  \n",
    "\n",
    "On remarque que certaines p-values et statisques obtenus pour certaines condition sont faible, comme pour MARCH8 et RNF170 qui ont une p-value inférieur à 0.2.  \n",
    "\n",
    "Nous allons réaliser l'histogramme de la fréquence du premier chhiffre significatif par rapport à la loi thhéorique de Benford pour ces deux conditions.  \n",
    "\n",
    "#### Histogramme de la fréquence du $1^{er}$ chiffre significatif pour les conditions MARCHH8 et RNF170"
   ]
  },
  {
   "cell_type": "code",
   "execution_count": 113,
   "id": "classical-kelly",
   "metadata": {},
   "outputs": [],
   "source": [
    "''' Donnés pour la condition MARCH8 '''\n",
    "condition_id = ['MARCH8_1', 'MARCH8_2']\n",
    "condition = data[condition_id]\n",
    "condition = data[condition_id]\n",
    "# données dans un array d'une dimmenssion\n",
    "condition = condition.values.reshape(condition.shape[0] * condition.shape[1])\n",
    "# remove 0\n",
    "condition = condition[condition > 0]\n",
    "# récupération des first digit\n",
    "d_obs = benford.count_first_digit(condition)"
   ]
  },
  {
   "cell_type": "code",
   "execution_count": 114,
   "id": "different-thinking",
   "metadata": {},
   "outputs": [
    {
     "data": {
      "image/png": "[encoded data removed]",
      "text/plain": [
       "<Figure size 432x288 with 1 Axes>"
      ]
     },
     "metadata": {
      "needs_background": "light"
     },
     "output_type": "display_data"
    }
   ],
   "source": [
    "benford.build_hist_freq_ben(benford.normalize_first_digit(d_obs), f_benford, nb_digit=1,\n",
    "                            title=(\"Theoretical Benford law and First digit distribution \\n \"\n",
    "                            f\"of the {sum(d_obs)} protein abundances, of the MARCH8 codition\"),\n",
    "                            legend=\"MARCH8 condition protein Abundances\")"
   ]
  },
  {
   "cell_type": "markdown",
   "id": "incorrect-inspection",
   "metadata": {},
   "source": [
    "On remarque que la fréquence du digit 4 est très inférieur à la loi thhéorique de Benford, on remarque ègalement une fréquence plus faible pour les digit 1 et 3, ainsi qu'une fréquence plus élevé pour les digit 3, 5, et 7. Cela explique la faible p-value obtenu lors du tets statistique réalisé."
   ]
  },
  {
   "cell_type": "code",
   "execution_count": 116,
   "id": "independent-burning",
   "metadata": {},
   "outputs": [],
   "source": [
    "''' Donnés pour la condition MARCH8 '''\n",
    "condition_id = ['RNF170_1', 'RNF170_2']\n",
    "condition = data[condition_id]\n",
    "condition = data[condition_id]\n",
    "# données dans un array d'une dimmenssion\n",
    "condition = condition.values.reshape(condition.shape[0] * condition.shape[1])\n",
    "# remove 0\n",
    "condition = condition[condition > 0]\n",
    "# récupération des first digit\n",
    "d_obs = benford.count_first_digit(condition)"
   ]
  },
  {
   "cell_type": "code",
   "execution_count": 117,
   "id": "legal-violence",
   "metadata": {},
   "outputs": [
    {
     "data": {
      "image/png": "[encoded data removed]",
      "text/plain": [
       "<Figure size 432x288 with 1 Axes>"
      ]
     },
     "metadata": {
      "needs_background": "light"
     },
     "output_type": "display_data"
    }
   ],
   "source": [
    "benford.build_hist_freq_ben(benford.normalize_first_digit(d_obs), f_benford, nb_digit=1,\n",
    "                            title=(\"Theoretical Benford law and First digit distribution \\n \"\n",
    "                            f\"of the {sum(d_obs)} protein abundances, of the RNF170 codition\"),\n",
    "                            legend=\"RNF170 condition protein Abundances\")"
   ]
  },
  {
   "cell_type": "markdown",
   "id": "breathing-humanity",
   "metadata": {},
   "source": [
    "Ici, la faible p-value obtenu, pour la condition RNF170, est expliqué par la fréquence des first digit 1 et 3. On remarque que la fréquence du digit 1 est plus faible et que celle du digit 3 est plus élevé par rapport à la loi thhhéorique de Benford.  \n",
    "\n",
    "# Conclusion\n",
    "\n",
    "L'abondance des protéines de l'ensemble des données suit la loi de Benford et la condtion contrôle (WT) ainsi que les aures conditions suivent la loi de Benford. On remarque néanmoins que les conditions MARCH8 et RNF170 on obtenu une p-value faible, mais tout même non significatifs. Le résultat des p-value obtenues à été expliqués en représentant l'hhistogramme de la fréquence des premiers chiffres significatifs en superposant la loi théorique de Benford.  \n",
    "\n",
    "Les resultats obtenus lors de l'analyse de ce jeu de donnés semblent confirmer que l'abondance de protéines issues d'expériences suit la loi de Benford. Cela conforte l'idée d'utilisation de la loi de Benford comme un controle qualité des résultats obtenus par le spectromètre de masse."
   ]
  }
 ],
 "metadata": {
  "kernelspec": {
   "display_name": "Python 3",
   "language": "python",
   "name": "python3"
  },
  "language_info": {
   "codemirror_mode": {
    "name": "ipython",
    "version": 3
   },
   "file_extension": ".py",
   "mimetype": "text/x-python",
   "name": "python",
   "nbconvert_exporter": "python",
   "pygments_lexer": "ipython3",
   "version": "3.7.9"
  }
 },
 "nbformat": 4,
 "nbformat_minor": 5
}
