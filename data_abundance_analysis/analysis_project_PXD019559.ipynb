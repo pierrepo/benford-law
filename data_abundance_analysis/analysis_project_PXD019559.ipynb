{
 "cells": [
  {
   "cell_type": "markdown",
   "id": "noted-reason",
   "metadata": {},
   "source": [
    "# Loi de Benford et données d'abondance de protéines\n",
    "Ce script a pour but de vérifier si l'abondance de protéines, de 2 fichiers d'abondances de protéines extrait depuis [PRIDE](https://www.ebi.ac.uk/pride/) du projet PXD019559, suit la loi de Benford."
   ]
  },
  {
   "cell_type": "code",
   "execution_count": 90,
   "id": "successful-industry",
   "metadata": {},
   "outputs": [
    {
     "name": "stdout",
     "output_type": "stream",
     "text": [
      "The autoreload extension is already loaded. To reload it, use:\n",
      "  %reload_ext autoreload\n"
     ]
    }
   ],
   "source": [
    "import pandas as pd\n",
    "import numpy as np\n",
    "import matplotlib.pyplot as plt\n",
    "import os, sys\n",
    "\n",
    "sys.path.insert(0, '..')\n",
    "\n",
    "import benford\n",
    "\n",
    "%load_ext autoreload\n",
    "%autoreload 2"
   ]
  },
  {
   "cell_type": "markdown",
   "id": "spoken-monaco",
   "metadata": {},
   "source": [
    "## Téléchargement du jeu de données"
   ]
  },
  {
   "cell_type": "code",
   "execution_count": 14,
   "id": "defined-bearing",
   "metadata": {},
   "outputs": [
    {
     "name": "stdout",
     "output_type": "stream",
     "text": [
      "--2021-05-21 09:35:24--  https://www.ebi.ac.uk/pride/data/archive/2020/07/PXD019559/raw_abundance_table_1.txt\n",
      "Resolving www.ebi.ac.uk (www.ebi.ac.uk)... 193.62.193.80\n",
      "Connecting to www.ebi.ac.uk (www.ebi.ac.uk)|193.62.193.80|:443... connected.\n",
      "HTTP request sent, awaiting response... 301 Moved Permanently\n",
      "Location: http://ftp.pride.ebi.ac.uk/pride/data/archive/2020/07/PXD019559/raw_abundance_table_1.txt [following]\n",
      "--2021-05-21 09:35:24--  http://ftp.pride.ebi.ac.uk/pride/data/archive/2020/07/PXD019559/raw_abundance_table_1.txt\n",
      "Resolving ftp.pride.ebi.ac.uk (ftp.pride.ebi.ac.uk)... 193.62.197.74\n",
      "Connecting to ftp.pride.ebi.ac.uk (ftp.pride.ebi.ac.uk)|193.62.197.74|:80... connected.\n",
      "HTTP request sent, awaiting response... 200 OK\n",
      "Length: 1141932 (1.1M) [text/plain]\n",
      "Saving to: 'raw_abundance_table_1.txt'\n",
      "\n",
      "raw_abundance_table 100%[===================>]   1.09M  1.82MB/s    in 0.6s    \n",
      "\n",
      "2021-05-21 09:35:25 (1.82 MB/s) - 'raw_abundance_table_1.txt' saved [1141932/1141932]\n",
      "\n"
     ]
    }
   ],
   "source": [
    "if not os.path.exists(\"raw_abundance_table_1.txt\"):\n",
    "    ! wget https://www.ebi.ac.uk/pride/data/archive/2020/07/PXD019559/raw_abundance_table_1.txt\n",
    "if not os.path.exists(\"raw_abundance_table_2.txt\"):\n",
    "    ! wget https://www.ebi.ac.uk/pride/data/archive/2020/07/PXD019559/raw_abundance_table_2.txt"
   ]
  },
  {
   "cell_type": "markdown",
   "id": "sound-louis",
   "metadata": {},
   "source": [
    "## Chargement et exploration du jeu de données raw_abundance_table_1.txt et raw_abundance_table_2.txt\n",
    "### <font color='green'>raw_abundance_table_1.txt</font> "
   ]
  },
  {
   "cell_type": "code",
   "execution_count": 26,
   "id": "animal-level",
   "metadata": {},
   "outputs": [],
   "source": [
    "data = pd.read_csv(\"raw_abundance_table_1.txt\", delimiter=\"\\t\", skiprows=0)"
   ]
  },
  {
   "cell_type": "code",
   "execution_count": 27,
   "id": "upset-robertson",
   "metadata": {},
   "outputs": [
    {
     "data": {
      "text/plain": [
       "(1917, 55)"
      ]
     },
     "execution_count": 27,
     "metadata": {},
     "output_type": "execute_result"
    }
   ],
   "source": [
    "data.shape"
   ]
  },
  {
   "cell_type": "code",
   "execution_count": 28,
   "id": "regular-consistency",
   "metadata": {},
   "outputs": [
    {
     "data": {
      "text/html": [
       "<div>\n",
       "<style scoped>\n",
       "    .dataframe tbody tr th:only-of-type {\n",
       "        vertical-align: middle;\n",
       "    }\n",
       "\n",
       "    .dataframe tbody tr th {\n",
       "        vertical-align: top;\n",
       "    }\n",
       "\n",
       "    .dataframe thead th {\n",
       "        text-align: right;\n",
       "    }\n",
       "</style>\n",
       "<table border=\"1\" class=\"dataframe\">\n",
       "  <thead>\n",
       "    <tr style=\"text-align: right;\">\n",
       "      <th></th>\n",
       "      <th>Accession</th>\n",
       "      <th>Peptide count</th>\n",
       "      <th>Unique peptides</th>\n",
       "      <th>Confidence score</th>\n",
       "      <th>Anova (p)</th>\n",
       "      <th>Max fold change</th>\n",
       "      <th>Description</th>\n",
       "      <th>WT_control_1</th>\n",
       "      <th>WT_control_2</th>\n",
       "      <th>AMFR_1</th>\n",
       "      <th>...</th>\n",
       "      <th>RNFT1_1</th>\n",
       "      <th>RNFT1_2</th>\n",
       "      <th>Tmem129_1</th>\n",
       "      <th>Tmem129_2</th>\n",
       "      <th>Trim13_1</th>\n",
       "      <th>Trim13_2</th>\n",
       "      <th>Trim59_1</th>\n",
       "      <th>Trim59_2</th>\n",
       "      <th>ZNRF4_1</th>\n",
       "      <th>ZNRF4_2</th>\n",
       "    </tr>\n",
       "  </thead>\n",
       "  <tbody>\n",
       "    <tr>\n",
       "      <th>0</th>\n",
       "      <td>P62306</td>\n",
       "      <td>1</td>\n",
       "      <td>1</td>\n",
       "      <td>92.54</td>\n",
       "      <td>0.0</td>\n",
       "      <td>146.250416</td>\n",
       "      <td>Small nuclear ribonucleoprotein F OS=Homo sapi...</td>\n",
       "      <td>1.597321e+06</td>\n",
       "      <td>1.510281e+06</td>\n",
       "      <td>653449.78450</td>\n",
       "      <td>...</td>\n",
       "      <td>1.031725e+06</td>\n",
       "      <td>8.946137e+05</td>\n",
       "      <td>685599.113800</td>\n",
       "      <td>622240.798000</td>\n",
       "      <td>3.612258e+05</td>\n",
       "      <td>4.090111e+05</td>\n",
       "      <td>542880.771500</td>\n",
       "      <td>577099.865000</td>\n",
       "      <td>723632.233300</td>\n",
       "      <td>369505.163300</td>\n",
       "    </tr>\n",
       "    <tr>\n",
       "      <th>1</th>\n",
       "      <td>P00738</td>\n",
       "      <td>2</td>\n",
       "      <td>1</td>\n",
       "      <td>120.92</td>\n",
       "      <td>0.0</td>\n",
       "      <td>11.860484</td>\n",
       "      <td>Haptoglobin OS=Homo sapiens GN=HP PE=1 SV=1</td>\n",
       "      <td>2.571727e+06</td>\n",
       "      <td>2.227859e+06</td>\n",
       "      <td>939360.24170</td>\n",
       "      <td>...</td>\n",
       "      <td>4.768931e+05</td>\n",
       "      <td>4.418349e+05</td>\n",
       "      <td>543889.881000</td>\n",
       "      <td>605881.526900</td>\n",
       "      <td>1.130502e+06</td>\n",
       "      <td>1.066964e+06</td>\n",
       "      <td>364056.310300</td>\n",
       "      <td>336637.678800</td>\n",
       "      <td>346912.799800</td>\n",
       "      <td>290904.602200</td>\n",
       "    </tr>\n",
       "    <tr>\n",
       "      <th>2</th>\n",
       "      <td>Q14574</td>\n",
       "      <td>2</td>\n",
       "      <td>1</td>\n",
       "      <td>68.78</td>\n",
       "      <td>0.0</td>\n",
       "      <td>inf</td>\n",
       "      <td>Desmocollin-3 OS=Homo sapiens GN=DSC3 PE=1 SV=3</td>\n",
       "      <td>1.267556e+04</td>\n",
       "      <td>1.148202e+04</td>\n",
       "      <td>2578.10604</td>\n",
       "      <td>...</td>\n",
       "      <td>1.665226e+04</td>\n",
       "      <td>1.272385e+04</td>\n",
       "      <td>927.292206</td>\n",
       "      <td>721.778363</td>\n",
       "      <td>1.455537e+03</td>\n",
       "      <td>5.289084e+03</td>\n",
       "      <td>549.407043</td>\n",
       "      <td>873.451386</td>\n",
       "      <td>3540.070679</td>\n",
       "      <td>1922.103598</td>\n",
       "    </tr>\n",
       "    <tr>\n",
       "      <th>3</th>\n",
       "      <td>P62942</td>\n",
       "      <td>2</td>\n",
       "      <td>2</td>\n",
       "      <td>192.71</td>\n",
       "      <td>0.0</td>\n",
       "      <td>14.602234</td>\n",
       "      <td>Peptidyl-prolyl cis-trans isomerase FKBP1A OS=...</td>\n",
       "      <td>1.082784e+06</td>\n",
       "      <td>7.226234e+05</td>\n",
       "      <td>170103.36070</td>\n",
       "      <td>...</td>\n",
       "      <td>5.264412e+05</td>\n",
       "      <td>4.712341e+05</td>\n",
       "      <td>129784.308800</td>\n",
       "      <td>172422.538100</td>\n",
       "      <td>5.451802e+04</td>\n",
       "      <td>6.912112e+04</td>\n",
       "      <td>99581.120720</td>\n",
       "      <td>93295.618290</td>\n",
       "      <td>99816.192810</td>\n",
       "      <td>94214.225140</td>\n",
       "    </tr>\n",
       "    <tr>\n",
       "      <th>4</th>\n",
       "      <td>P14174</td>\n",
       "      <td>2</td>\n",
       "      <td>2</td>\n",
       "      <td>139.51</td>\n",
       "      <td>0.0</td>\n",
       "      <td>18.804068</td>\n",
       "      <td>Macrophage migration inhibitory factor OS=Homo...</td>\n",
       "      <td>3.847340e+06</td>\n",
       "      <td>3.328870e+06</td>\n",
       "      <td>696620.77780</td>\n",
       "      <td>...</td>\n",
       "      <td>1.083375e+06</td>\n",
       "      <td>1.301425e+06</td>\n",
       "      <td>581763.270800</td>\n",
       "      <td>691786.657400</td>\n",
       "      <td>2.647066e+05</td>\n",
       "      <td>3.463574e+05</td>\n",
       "      <td>376276.827000</td>\n",
       "      <td>430823.038700</td>\n",
       "      <td>414007.508500</td>\n",
       "      <td>320752.227500</td>\n",
       "    </tr>\n",
       "  </tbody>\n",
       "</table>\n",
       "<p>5 rows × 55 columns</p>\n",
       "</div>"
      ],
      "text/plain": [
       "  Accession  Peptide count  Unique peptides  Confidence score  Anova (p)  \\\n",
       "0    P62306              1                1             92.54        0.0   \n",
       "1    P00738              2                1            120.92        0.0   \n",
       "2    Q14574              2                1             68.78        0.0   \n",
       "3    P62942              2                2            192.71        0.0   \n",
       "4    P14174              2                2            139.51        0.0   \n",
       "\n",
       "   Max fold change                                        Description  \\\n",
       "0       146.250416  Small nuclear ribonucleoprotein F OS=Homo sapi...   \n",
       "1        11.860484        Haptoglobin OS=Homo sapiens GN=HP PE=1 SV=1   \n",
       "2              inf    Desmocollin-3 OS=Homo sapiens GN=DSC3 PE=1 SV=3   \n",
       "3        14.602234  Peptidyl-prolyl cis-trans isomerase FKBP1A OS=...   \n",
       "4        18.804068  Macrophage migration inhibitory factor OS=Homo...   \n",
       "\n",
       "   WT_control_1  WT_control_2        AMFR_1  ...       RNFT1_1       RNFT1_2  \\\n",
       "0  1.597321e+06  1.510281e+06  653449.78450  ...  1.031725e+06  8.946137e+05   \n",
       "1  2.571727e+06  2.227859e+06  939360.24170  ...  4.768931e+05  4.418349e+05   \n",
       "2  1.267556e+04  1.148202e+04    2578.10604  ...  1.665226e+04  1.272385e+04   \n",
       "3  1.082784e+06  7.226234e+05  170103.36070  ...  5.264412e+05  4.712341e+05   \n",
       "4  3.847340e+06  3.328870e+06  696620.77780  ...  1.083375e+06  1.301425e+06   \n",
       "\n",
       "       Tmem129_1      Tmem129_2      Trim13_1      Trim13_2       Trim59_1  \\\n",
       "0  685599.113800  622240.798000  3.612258e+05  4.090111e+05  542880.771500   \n",
       "1  543889.881000  605881.526900  1.130502e+06  1.066964e+06  364056.310300   \n",
       "2     927.292206     721.778363  1.455537e+03  5.289084e+03     549.407043   \n",
       "3  129784.308800  172422.538100  5.451802e+04  6.912112e+04   99581.120720   \n",
       "4  581763.270800  691786.657400  2.647066e+05  3.463574e+05  376276.827000   \n",
       "\n",
       "        Trim59_2        ZNRF4_1        ZNRF4_2  \n",
       "0  577099.865000  723632.233300  369505.163300  \n",
       "1  336637.678800  346912.799800  290904.602200  \n",
       "2     873.451386    3540.070679    1922.103598  \n",
       "3   93295.618290   99816.192810   94214.225140  \n",
       "4  430823.038700  414007.508500  320752.227500  \n",
       "\n",
       "[5 rows x 55 columns]"
      ]
     },
     "execution_count": 28,
     "metadata": {},
     "output_type": "execute_result"
    }
   ],
   "source": [
    "data.head()"
   ]
  },
  {
   "cell_type": "code",
   "execution_count": 158,
   "id": "grateful-photography",
   "metadata": {},
   "outputs": [
    {
     "data": {
      "text/plain": [
       "Index(['Accession', 'Peptide count', 'Unique peptides', 'Confidence score',\n",
       "       'Anova (p)', 'Max fold change', 'Description', 'WT_control_1',\n",
       "       'WT_control_2', 'AMFR_1', 'AMFR_2', 'BFAR_1', 'BFAR_2', 'CGRRF1_1',\n",
       "       'CGRRF1_2', 'HRD1_1', 'HRD1_2', 'MARCH2_1', 'MARCH2_2', 'MARCH3_1',\n",
       "       'MARCH3_2', 'MARCH4_1', 'MARCH4_2', 'MARCH6_1', 'MARCH6_2', 'MARCH8_1',\n",
       "       'MARCH8_2', 'RNF5_1', 'RNF5_2', 'RNF13_1', 'RNF13_2', 'RNF26_1',\n",
       "       'RNF26_2', 'RNF103_1', 'RNF103_2', 'RNF128_1', 'RNF128_2', 'RNF139_1',\n",
       "       'RNF139_2', 'RNF148_1', 'RNF148_2', 'RNF170_1', 'RNF170_2', 'RNF185_1',\n",
       "       'RNF185_2', 'RNFT1_1', 'RNFT1_2', 'Tmem129_1', 'Tmem129_2', 'Trim13_1',\n",
       "       'Trim13_2', 'Trim59_1', 'Trim59_2', 'ZNRF4_1', 'ZNRF4_2'],\n",
       "      dtype='object')"
      ]
     },
     "execution_count": 158,
     "metadata": {},
     "output_type": "execute_result"
    }
   ],
   "source": [
    "data.columns"
   ]
  },
  {
   "cell_type": "code",
   "execution_count": 38,
   "id": "documented-silly",
   "metadata": {},
   "outputs": [
    {
     "data": {
      "text/html": [
       "<div>\n",
       "<style scoped>\n",
       "    .dataframe tbody tr th:only-of-type {\n",
       "        vertical-align: middle;\n",
       "    }\n",
       "\n",
       "    .dataframe tbody tr th {\n",
       "        vertical-align: top;\n",
       "    }\n",
       "\n",
       "    .dataframe thead th {\n",
       "        text-align: right;\n",
       "    }\n",
       "</style>\n",
       "<table border=\"1\" class=\"dataframe\">\n",
       "  <thead>\n",
       "    <tr style=\"text-align: right;\">\n",
       "      <th></th>\n",
       "      <th>Peptide count</th>\n",
       "      <th>Unique peptides</th>\n",
       "      <th>Confidence score</th>\n",
       "      <th>Anova (p)</th>\n",
       "      <th>Max fold change</th>\n",
       "      <th>WT_control_1</th>\n",
       "      <th>WT_control_2</th>\n",
       "      <th>AMFR_1</th>\n",
       "      <th>AMFR_2</th>\n",
       "      <th>BFAR_1</th>\n",
       "      <th>...</th>\n",
       "      <th>RNFT1_1</th>\n",
       "      <th>RNFT1_2</th>\n",
       "      <th>Tmem129_1</th>\n",
       "      <th>Tmem129_2</th>\n",
       "      <th>Trim13_1</th>\n",
       "      <th>Trim13_2</th>\n",
       "      <th>Trim59_1</th>\n",
       "      <th>Trim59_2</th>\n",
       "      <th>ZNRF4_1</th>\n",
       "      <th>ZNRF4_2</th>\n",
       "    </tr>\n",
       "  </thead>\n",
       "  <tbody>\n",
       "    <tr>\n",
       "      <th>count</th>\n",
       "      <td>1917.000000</td>\n",
       "      <td>1917.000000</td>\n",
       "      <td>1917.000000</td>\n",
       "      <td>1.686000e+03</td>\n",
       "      <td>1686.000000</td>\n",
       "      <td>1.917000e+03</td>\n",
       "      <td>1.917000e+03</td>\n",
       "      <td>1.917000e+03</td>\n",
       "      <td>1.917000e+03</td>\n",
       "      <td>1.917000e+03</td>\n",
       "      <td>...</td>\n",
       "      <td>1.917000e+03</td>\n",
       "      <td>1.917000e+03</td>\n",
       "      <td>1.917000e+03</td>\n",
       "      <td>1.917000e+03</td>\n",
       "      <td>1.917000e+03</td>\n",
       "      <td>1.917000e+03</td>\n",
       "      <td>1.917000e+03</td>\n",
       "      <td>1.917000e+03</td>\n",
       "      <td>1.917000e+03</td>\n",
       "      <td>1.917000e+03</td>\n",
       "    </tr>\n",
       "    <tr>\n",
       "      <th>mean</th>\n",
       "      <td>7.703182</td>\n",
       "      <td>5.748565</td>\n",
       "      <td>524.507366</td>\n",
       "      <td>2.044765e-02</td>\n",
       "      <td>inf</td>\n",
       "      <td>1.450945e+07</td>\n",
       "      <td>1.167597e+07</td>\n",
       "      <td>6.771586e+06</td>\n",
       "      <td>6.530283e+06</td>\n",
       "      <td>7.970426e+06</td>\n",
       "      <td>...</td>\n",
       "      <td>5.262449e+06</td>\n",
       "      <td>5.061042e+06</td>\n",
       "      <td>6.457390e+06</td>\n",
       "      <td>6.324781e+06</td>\n",
       "      <td>4.416519e+06</td>\n",
       "      <td>5.437701e+06</td>\n",
       "      <td>4.972108e+06</td>\n",
       "      <td>5.970891e+06</td>\n",
       "      <td>5.795576e+06</td>\n",
       "      <td>5.929622e+06</td>\n",
       "    </tr>\n",
       "    <tr>\n",
       "      <th>std</th>\n",
       "      <td>12.325655</td>\n",
       "      <td>9.653518</td>\n",
       "      <td>1069.470551</td>\n",
       "      <td>8.353295e-02</td>\n",
       "      <td>NaN</td>\n",
       "      <td>2.431987e+08</td>\n",
       "      <td>1.954770e+08</td>\n",
       "      <td>1.106233e+08</td>\n",
       "      <td>1.062132e+08</td>\n",
       "      <td>1.338884e+08</td>\n",
       "      <td>...</td>\n",
       "      <td>8.109688e+07</td>\n",
       "      <td>7.745157e+07</td>\n",
       "      <td>1.049003e+08</td>\n",
       "      <td>1.012173e+08</td>\n",
       "      <td>7.343538e+07</td>\n",
       "      <td>9.360917e+07</td>\n",
       "      <td>8.429700e+07</td>\n",
       "      <td>1.008382e+08</td>\n",
       "      <td>9.375301e+07</td>\n",
       "      <td>9.590334e+07</td>\n",
       "    </tr>\n",
       "    <tr>\n",
       "      <th>min</th>\n",
       "      <td>1.000000</td>\n",
       "      <td>0.000000</td>\n",
       "      <td>20.090000</td>\n",
       "      <td>0.000000e+00</td>\n",
       "      <td>2.102359</td>\n",
       "      <td>0.000000e+00</td>\n",
       "      <td>0.000000e+00</td>\n",
       "      <td>0.000000e+00</td>\n",
       "      <td>0.000000e+00</td>\n",
       "      <td>0.000000e+00</td>\n",
       "      <td>...</td>\n",
       "      <td>0.000000e+00</td>\n",
       "      <td>0.000000e+00</td>\n",
       "      <td>0.000000e+00</td>\n",
       "      <td>0.000000e+00</td>\n",
       "      <td>0.000000e+00</td>\n",
       "      <td>0.000000e+00</td>\n",
       "      <td>0.000000e+00</td>\n",
       "      <td>0.000000e+00</td>\n",
       "      <td>0.000000e+00</td>\n",
       "      <td>0.000000e+00</td>\n",
       "    </tr>\n",
       "    <tr>\n",
       "      <th>25%</th>\n",
       "      <td>2.000000</td>\n",
       "      <td>1.000000</td>\n",
       "      <td>80.520000</td>\n",
       "      <td>2.295000e-11</td>\n",
       "      <td>8.323138</td>\n",
       "      <td>1.001500e+04</td>\n",
       "      <td>6.973303e+03</td>\n",
       "      <td>3.431016e+03</td>\n",
       "      <td>3.559545e+03</td>\n",
       "      <td>4.942978e+03</td>\n",
       "      <td>...</td>\n",
       "      <td>9.305063e+03</td>\n",
       "      <td>9.521564e+03</td>\n",
       "      <td>2.835270e+03</td>\n",
       "      <td>2.633716e+03</td>\n",
       "      <td>1.219816e+03</td>\n",
       "      <td>1.097948e+03</td>\n",
       "      <td>1.032123e+03</td>\n",
       "      <td>8.398080e+02</td>\n",
       "      <td>4.477968e+03</td>\n",
       "      <td>1.561814e+03</td>\n",
       "    </tr>\n",
       "    <tr>\n",
       "      <th>50%</th>\n",
       "      <td>4.000000</td>\n",
       "      <td>3.000000</td>\n",
       "      <td>204.820000</td>\n",
       "      <td>2.200000e-08</td>\n",
       "      <td>20.804422</td>\n",
       "      <td>1.306292e+05</td>\n",
       "      <td>9.904392e+04</td>\n",
       "      <td>4.598567e+04</td>\n",
       "      <td>5.040053e+04</td>\n",
       "      <td>6.157182e+04</td>\n",
       "      <td>...</td>\n",
       "      <td>7.879131e+04</td>\n",
       "      <td>7.926856e+04</td>\n",
       "      <td>3.593127e+04</td>\n",
       "      <td>3.666904e+04</td>\n",
       "      <td>2.330468e+04</td>\n",
       "      <td>2.593749e+04</td>\n",
       "      <td>2.233400e+04</td>\n",
       "      <td>2.554444e+04</td>\n",
       "      <td>5.060903e+04</td>\n",
       "      <td>2.922629e+04</td>\n",
       "    </tr>\n",
       "    <tr>\n",
       "      <th>75%</th>\n",
       "      <td>9.000000</td>\n",
       "      <td>7.000000</td>\n",
       "      <td>547.090000</td>\n",
       "      <td>1.671580e-04</td>\n",
       "      <td>198.777600</td>\n",
       "      <td>7.422822e+05</td>\n",
       "      <td>5.692127e+05</td>\n",
       "      <td>2.854443e+05</td>\n",
       "      <td>2.981701e+05</td>\n",
       "      <td>3.768043e+05</td>\n",
       "      <td>...</td>\n",
       "      <td>4.129133e+05</td>\n",
       "      <td>4.201421e+05</td>\n",
       "      <td>2.380012e+05</td>\n",
       "      <td>2.330490e+05</td>\n",
       "      <td>1.469063e+05</td>\n",
       "      <td>1.609766e+05</td>\n",
       "      <td>1.590611e+05</td>\n",
       "      <td>1.723112e+05</td>\n",
       "      <td>3.075652e+05</td>\n",
       "      <td>1.693491e+05</td>\n",
       "    </tr>\n",
       "    <tr>\n",
       "      <th>max</th>\n",
       "      <td>228.000000</td>\n",
       "      <td>155.000000</td>\n",
       "      <td>22066.130000</td>\n",
       "      <td>8.741167e-01</td>\n",
       "      <td>inf</td>\n",
       "      <td>7.102946e+09</td>\n",
       "      <td>5.344566e+09</td>\n",
       "      <td>3.016153e+09</td>\n",
       "      <td>2.876725e+09</td>\n",
       "      <td>3.687347e+09</td>\n",
       "      <td>...</td>\n",
       "      <td>2.049018e+09</td>\n",
       "      <td>2.018134e+09</td>\n",
       "      <td>2.697112e+09</td>\n",
       "      <td>2.429316e+09</td>\n",
       "      <td>1.879069e+09</td>\n",
       "      <td>2.467022e+09</td>\n",
       "      <td>2.275035e+09</td>\n",
       "      <td>2.547731e+09</td>\n",
       "      <td>2.470082e+09</td>\n",
       "      <td>2.522217e+09</td>\n",
       "    </tr>\n",
       "  </tbody>\n",
       "</table>\n",
       "<p>8 rows × 53 columns</p>\n",
       "</div>"
      ],
      "text/plain": [
       "       Peptide count  Unique peptides  Confidence score     Anova (p)  \\\n",
       "count    1917.000000      1917.000000       1917.000000  1.686000e+03   \n",
       "mean        7.703182         5.748565        524.507366  2.044765e-02   \n",
       "std        12.325655         9.653518       1069.470551  8.353295e-02   \n",
       "min         1.000000         0.000000         20.090000  0.000000e+00   \n",
       "25%         2.000000         1.000000         80.520000  2.295000e-11   \n",
       "50%         4.000000         3.000000        204.820000  2.200000e-08   \n",
       "75%         9.000000         7.000000        547.090000  1.671580e-04   \n",
       "max       228.000000       155.000000      22066.130000  8.741167e-01   \n",
       "\n",
       "       Max fold change  WT_control_1  WT_control_2        AMFR_1  \\\n",
       "count      1686.000000  1.917000e+03  1.917000e+03  1.917000e+03   \n",
       "mean               inf  1.450945e+07  1.167597e+07  6.771586e+06   \n",
       "std                NaN  2.431987e+08  1.954770e+08  1.106233e+08   \n",
       "min           2.102359  0.000000e+00  0.000000e+00  0.000000e+00   \n",
       "25%           8.323138  1.001500e+04  6.973303e+03  3.431016e+03   \n",
       "50%          20.804422  1.306292e+05  9.904392e+04  4.598567e+04   \n",
       "75%         198.777600  7.422822e+05  5.692127e+05  2.854443e+05   \n",
       "max                inf  7.102946e+09  5.344566e+09  3.016153e+09   \n",
       "\n",
       "             AMFR_2        BFAR_1  ...       RNFT1_1       RNFT1_2  \\\n",
       "count  1.917000e+03  1.917000e+03  ...  1.917000e+03  1.917000e+03   \n",
       "mean   6.530283e+06  7.970426e+06  ...  5.262449e+06  5.061042e+06   \n",
       "std    1.062132e+08  1.338884e+08  ...  8.109688e+07  7.745157e+07   \n",
       "min    0.000000e+00  0.000000e+00  ...  0.000000e+00  0.000000e+00   \n",
       "25%    3.559545e+03  4.942978e+03  ...  9.305063e+03  9.521564e+03   \n",
       "50%    5.040053e+04  6.157182e+04  ...  7.879131e+04  7.926856e+04   \n",
       "75%    2.981701e+05  3.768043e+05  ...  4.129133e+05  4.201421e+05   \n",
       "max    2.876725e+09  3.687347e+09  ...  2.049018e+09  2.018134e+09   \n",
       "\n",
       "          Tmem129_1     Tmem129_2      Trim13_1      Trim13_2      Trim59_1  \\\n",
       "count  1.917000e+03  1.917000e+03  1.917000e+03  1.917000e+03  1.917000e+03   \n",
       "mean   6.457390e+06  6.324781e+06  4.416519e+06  5.437701e+06  4.972108e+06   \n",
       "std    1.049003e+08  1.012173e+08  7.343538e+07  9.360917e+07  8.429700e+07   \n",
       "min    0.000000e+00  0.000000e+00  0.000000e+00  0.000000e+00  0.000000e+00   \n",
       "25%    2.835270e+03  2.633716e+03  1.219816e+03  1.097948e+03  1.032123e+03   \n",
       "50%    3.593127e+04  3.666904e+04  2.330468e+04  2.593749e+04  2.233400e+04   \n",
       "75%    2.380012e+05  2.330490e+05  1.469063e+05  1.609766e+05  1.590611e+05   \n",
       "max    2.697112e+09  2.429316e+09  1.879069e+09  2.467022e+09  2.275035e+09   \n",
       "\n",
       "           Trim59_2       ZNRF4_1       ZNRF4_2  \n",
       "count  1.917000e+03  1.917000e+03  1.917000e+03  \n",
       "mean   5.970891e+06  5.795576e+06  5.929622e+06  \n",
       "std    1.008382e+08  9.375301e+07  9.590334e+07  \n",
       "min    0.000000e+00  0.000000e+00  0.000000e+00  \n",
       "25%    8.398080e+02  4.477968e+03  1.561814e+03  \n",
       "50%    2.554444e+04  5.060903e+04  2.922629e+04  \n",
       "75%    1.723112e+05  3.075652e+05  1.693491e+05  \n",
       "max    2.547731e+09  2.470082e+09  2.522217e+09  \n",
       "\n",
       "[8 rows x 53 columns]"
      ]
     },
     "execution_count": 38,
     "metadata": {},
     "output_type": "execute_result"
    }
   ],
   "source": [
    "data.describe()"
   ]
  },
  {
   "cell_type": "code",
   "execution_count": 29,
   "id": "narrow-traveler",
   "metadata": {},
   "outputs": [
    {
     "data": {
      "text/plain": [
       "Index(['Accession', 'Peptide count', 'Unique peptides', 'Confidence score',\n",
       "       'Anova (p)', 'Max fold change', 'Description', 'WT_control_1',\n",
       "       'WT_control_2', 'AMFR_1', 'AMFR_2', 'BFAR_1', 'BFAR_2', 'CGRRF1_1',\n",
       "       'CGRRF1_2', 'HRD1_1', 'HRD1_2', 'MARCH2_1', 'MARCH2_2', 'MARCH3_1',\n",
       "       'MARCH3_2', 'MARCH4_1', 'MARCH4_2', 'MARCH6_1', 'MARCH6_2', 'MARCH8_1',\n",
       "       'MARCH8_2', 'RNF5_1', 'RNF5_2', 'RNF13_1', 'RNF13_2', 'RNF26_1',\n",
       "       'RNF26_2', 'RNF103_1', 'RNF103_2', 'RNF128_1', 'RNF128_2', 'RNF139_1',\n",
       "       'RNF139_2', 'RNF148_1', 'RNF148_2', 'RNF170_1', 'RNF170_2', 'RNF185_1',\n",
       "       'RNF185_2', 'RNFT1_1', 'RNFT1_2', 'Tmem129_1', 'Tmem129_2', 'Trim13_1',\n",
       "       'Trim13_2', 'Trim59_1', 'Trim59_2', 'ZNRF4_1', 'ZNRF4_2'],\n",
       "      dtype='object')"
      ]
     },
     "execution_count": 29,
     "metadata": {},
     "output_type": "execute_result"
    }
   ],
   "source": [
    "data.columns"
   ]
  },
  {
   "cell_type": "markdown",
   "id": "headed-bracelet",
   "metadata": {},
   "source": [
    "On remarque qu'il y a 2 conditions WT et 6 autres condition.\n",
    "\n",
    "### <font color='green'>raw_abundance_table_2.txt</font> "
   ]
  },
  {
   "cell_type": "code",
   "execution_count": 30,
   "id": "overhead-america",
   "metadata": {},
   "outputs": [],
   "source": [
    "data2 = pd.read_csv(\"raw_abundance_table_2.txt\", delimiter=\"\\t\", skiprows=0)"
   ]
  },
  {
   "cell_type": "code",
   "execution_count": 31,
   "id": "oriental-genealogy",
   "metadata": {},
   "outputs": [
    {
     "data": {
      "text/plain": [
       "(1917, 55)"
      ]
     },
     "execution_count": 31,
     "metadata": {},
     "output_type": "execute_result"
    }
   ],
   "source": [
    "data2.shape"
   ]
  },
  {
   "cell_type": "code",
   "execution_count": 24,
   "id": "taken-ranking",
   "metadata": {},
   "outputs": [
    {
     "data": {
      "text/html": [
       "<div>\n",
       "<style scoped>\n",
       "    .dataframe tbody tr th:only-of-type {\n",
       "        vertical-align: middle;\n",
       "    }\n",
       "\n",
       "    .dataframe tbody tr th {\n",
       "        vertical-align: top;\n",
       "    }\n",
       "\n",
       "    .dataframe thead th {\n",
       "        text-align: right;\n",
       "    }\n",
       "</style>\n",
       "<table border=\"1\" class=\"dataframe\">\n",
       "  <thead>\n",
       "    <tr style=\"text-align: right;\">\n",
       "      <th></th>\n",
       "      <th>Accession</th>\n",
       "      <th>Peptide count</th>\n",
       "      <th>Unique peptides</th>\n",
       "      <th>Confidence score</th>\n",
       "      <th>Anova (p)</th>\n",
       "      <th>Max fold change</th>\n",
       "      <th>Description</th>\n",
       "      <th>R26_N_1</th>\n",
       "      <th>R26_N_2</th>\n",
       "      <th>R26_NM_1</th>\n",
       "      <th>...</th>\n",
       "      <th>R150_1</th>\n",
       "      <th>R150_2</th>\n",
       "      <th>Pool_1</th>\n",
       "      <th>Pool_2</th>\n",
       "      <th>HRD1_rerun_1</th>\n",
       "      <th>HRD1_rerun_2</th>\n",
       "      <th>R13_repeat_1</th>\n",
       "      <th>R13_repeat_2</th>\n",
       "      <th>ZNRF4_repeat_1</th>\n",
       "      <th>ZNRF4_repeat_2</th>\n",
       "    </tr>\n",
       "  </thead>\n",
       "  <tbody>\n",
       "    <tr>\n",
       "      <th>0</th>\n",
       "      <td>Q9UK59</td>\n",
       "      <td>2</td>\n",
       "      <td>1</td>\n",
       "      <td>63.90</td>\n",
       "      <td>0.0</td>\n",
       "      <td>inf</td>\n",
       "      <td>Lariat debranching enzyme OS=Homo sapiens GN=D...</td>\n",
       "      <td>0.0</td>\n",
       "      <td>0.0</td>\n",
       "      <td>0.0</td>\n",
       "      <td>...</td>\n",
       "      <td>37555.23096</td>\n",
       "      <td>3.913464e+04</td>\n",
       "      <td>0.0</td>\n",
       "      <td>0.0</td>\n",
       "      <td>0.000</td>\n",
       "      <td>0.0000</td>\n",
       "      <td>0.0</td>\n",
       "      <td>0.0</td>\n",
       "      <td>0.0000</td>\n",
       "      <td>0.0000</td>\n",
       "    </tr>\n",
       "    <tr>\n",
       "      <th>1</th>\n",
       "      <td>P68402</td>\n",
       "      <td>2</td>\n",
       "      <td>1</td>\n",
       "      <td>69.73</td>\n",
       "      <td>0.0</td>\n",
       "      <td>inf</td>\n",
       "      <td>Platelet-activating factor acetylhydrolase IB ...</td>\n",
       "      <td>0.0</td>\n",
       "      <td>0.0</td>\n",
       "      <td>0.0</td>\n",
       "      <td>...</td>\n",
       "      <td>775911.54020</td>\n",
       "      <td>1.136750e+06</td>\n",
       "      <td>0.0</td>\n",
       "      <td>0.0</td>\n",
       "      <td>0.000</td>\n",
       "      <td>0.0000</td>\n",
       "      <td>0.0</td>\n",
       "      <td>0.0</td>\n",
       "      <td>0.0000</td>\n",
       "      <td>0.0000</td>\n",
       "    </tr>\n",
       "    <tr>\n",
       "      <th>2</th>\n",
       "      <td>Q9Y3E0</td>\n",
       "      <td>1</td>\n",
       "      <td>1</td>\n",
       "      <td>42.24</td>\n",
       "      <td>0.0</td>\n",
       "      <td>inf</td>\n",
       "      <td>Vesicle transport protein GOT1B OS=Homo sapien...</td>\n",
       "      <td>0.0</td>\n",
       "      <td>0.0</td>\n",
       "      <td>0.0</td>\n",
       "      <td>...</td>\n",
       "      <td>0.00000</td>\n",
       "      <td>0.000000e+00</td>\n",
       "      <td>0.0</td>\n",
       "      <td>0.0</td>\n",
       "      <td>178409.584</td>\n",
       "      <td>126520.4523</td>\n",
       "      <td>0.0</td>\n",
       "      <td>0.0</td>\n",
       "      <td>0.0000</td>\n",
       "      <td>0.0000</td>\n",
       "    </tr>\n",
       "    <tr>\n",
       "      <th>3</th>\n",
       "      <td>P61006</td>\n",
       "      <td>3</td>\n",
       "      <td>1</td>\n",
       "      <td>201.24</td>\n",
       "      <td>0.0</td>\n",
       "      <td>inf</td>\n",
       "      <td>Ras-related protein Rab-8A OS=Homo sapiens GN=...</td>\n",
       "      <td>0.0</td>\n",
       "      <td>0.0</td>\n",
       "      <td>0.0</td>\n",
       "      <td>...</td>\n",
       "      <td>122061.77150</td>\n",
       "      <td>1.597211e+05</td>\n",
       "      <td>0.0</td>\n",
       "      <td>0.0</td>\n",
       "      <td>0.000</td>\n",
       "      <td>0.0000</td>\n",
       "      <td>0.0</td>\n",
       "      <td>0.0</td>\n",
       "      <td>0.0000</td>\n",
       "      <td>0.0000</td>\n",
       "    </tr>\n",
       "    <tr>\n",
       "      <th>4</th>\n",
       "      <td>Q9BPW8</td>\n",
       "      <td>1</td>\n",
       "      <td>1</td>\n",
       "      <td>29.73</td>\n",
       "      <td>0.0</td>\n",
       "      <td>inf</td>\n",
       "      <td>Protein NipSnap homolog 1 OS=Homo sapiens GN=N...</td>\n",
       "      <td>0.0</td>\n",
       "      <td>0.0</td>\n",
       "      <td>0.0</td>\n",
       "      <td>...</td>\n",
       "      <td>0.00000</td>\n",
       "      <td>0.000000e+00</td>\n",
       "      <td>0.0</td>\n",
       "      <td>0.0</td>\n",
       "      <td>0.000</td>\n",
       "      <td>0.0000</td>\n",
       "      <td>0.0</td>\n",
       "      <td>0.0</td>\n",
       "      <td>376794.8466</td>\n",
       "      <td>418675.2332</td>\n",
       "    </tr>\n",
       "  </tbody>\n",
       "</table>\n",
       "<p>5 rows × 27 columns</p>\n",
       "</div>"
      ],
      "text/plain": [
       "  Accession  Peptide count  Unique peptides  Confidence score  Anova (p)  \\\n",
       "0    Q9UK59              2                1             63.90        0.0   \n",
       "1    P68402              2                1             69.73        0.0   \n",
       "2    Q9Y3E0              1                1             42.24        0.0   \n",
       "3    P61006              3                1            201.24        0.0   \n",
       "4    Q9BPW8              1                1             29.73        0.0   \n",
       "\n",
       "   Max fold change                                        Description  \\\n",
       "0              inf  Lariat debranching enzyme OS=Homo sapiens GN=D...   \n",
       "1              inf  Platelet-activating factor acetylhydrolase IB ...   \n",
       "2              inf  Vesicle transport protein GOT1B OS=Homo sapien...   \n",
       "3              inf  Ras-related protein Rab-8A OS=Homo sapiens GN=...   \n",
       "4              inf  Protein NipSnap homolog 1 OS=Homo sapiens GN=N...   \n",
       "\n",
       "   R26_N_1  R26_N_2  R26_NM_1  ...        R150_1        R150_2  Pool_1  \\\n",
       "0      0.0      0.0       0.0  ...   37555.23096  3.913464e+04     0.0   \n",
       "1      0.0      0.0       0.0  ...  775911.54020  1.136750e+06     0.0   \n",
       "2      0.0      0.0       0.0  ...       0.00000  0.000000e+00     0.0   \n",
       "3      0.0      0.0       0.0  ...  122061.77150  1.597211e+05     0.0   \n",
       "4      0.0      0.0       0.0  ...       0.00000  0.000000e+00     0.0   \n",
       "\n",
       "   Pool_2  HRD1_rerun_1  HRD1_rerun_2  R13_repeat_1  R13_repeat_2  \\\n",
       "0     0.0         0.000        0.0000           0.0           0.0   \n",
       "1     0.0         0.000        0.0000           0.0           0.0   \n",
       "2     0.0    178409.584   126520.4523           0.0           0.0   \n",
       "3     0.0         0.000        0.0000           0.0           0.0   \n",
       "4     0.0         0.000        0.0000           0.0           0.0   \n",
       "\n",
       "   ZNRF4_repeat_1  ZNRF4_repeat_2  \n",
       "0          0.0000          0.0000  \n",
       "1          0.0000          0.0000  \n",
       "2          0.0000          0.0000  \n",
       "3          0.0000          0.0000  \n",
       "4     376794.8466     418675.2332  \n",
       "\n",
       "[5 rows x 27 columns]"
      ]
     },
     "execution_count": 24,
     "metadata": {},
     "output_type": "execute_result"
    }
   ],
   "source": [
    "data2.head()"
   ]
  },
  {
   "cell_type": "code",
   "execution_count": 37,
   "id": "complete-brooklyn",
   "metadata": {},
   "outputs": [
    {
     "data": {
      "text/html": [
       "<div>\n",
       "<style scoped>\n",
       "    .dataframe tbody tr th:only-of-type {\n",
       "        vertical-align: middle;\n",
       "    }\n",
       "\n",
       "    .dataframe tbody tr th {\n",
       "        vertical-align: top;\n",
       "    }\n",
       "\n",
       "    .dataframe thead th {\n",
       "        text-align: right;\n",
       "    }\n",
       "</style>\n",
       "<table border=\"1\" class=\"dataframe\">\n",
       "  <thead>\n",
       "    <tr style=\"text-align: right;\">\n",
       "      <th></th>\n",
       "      <th>Peptide count</th>\n",
       "      <th>Unique peptides</th>\n",
       "      <th>Confidence score</th>\n",
       "      <th>Anova (p)</th>\n",
       "      <th>Max fold change</th>\n",
       "      <th>R26_N_1</th>\n",
       "      <th>R26_N_2</th>\n",
       "      <th>R26_NM_1</th>\n",
       "      <th>R26_NM_2</th>\n",
       "      <th>R13_1</th>\n",
       "      <th>...</th>\n",
       "      <th>R150_1</th>\n",
       "      <th>R150_2</th>\n",
       "      <th>Pool_1</th>\n",
       "      <th>Pool_2</th>\n",
       "      <th>HRD1_rerun_1</th>\n",
       "      <th>HRD1_rerun_2</th>\n",
       "      <th>R13_repeat_1</th>\n",
       "      <th>R13_repeat_2</th>\n",
       "      <th>ZNRF4_repeat_1</th>\n",
       "      <th>ZNRF4_repeat_2</th>\n",
       "    </tr>\n",
       "  </thead>\n",
       "  <tbody>\n",
       "    <tr>\n",
       "      <th>count</th>\n",
       "      <td>1871.000000</td>\n",
       "      <td>1871.000000</td>\n",
       "      <td>1871.000000</td>\n",
       "      <td>1.676000e+03</td>\n",
       "      <td>1676.000000</td>\n",
       "      <td>1.871000e+03</td>\n",
       "      <td>1.871000e+03</td>\n",
       "      <td>1.871000e+03</td>\n",
       "      <td>1.871000e+03</td>\n",
       "      <td>1.871000e+03</td>\n",
       "      <td>...</td>\n",
       "      <td>1.871000e+03</td>\n",
       "      <td>1.871000e+03</td>\n",
       "      <td>1.871000e+03</td>\n",
       "      <td>1.871000e+03</td>\n",
       "      <td>1.871000e+03</td>\n",
       "      <td>1.871000e+03</td>\n",
       "      <td>1.871000e+03</td>\n",
       "      <td>1.871000e+03</td>\n",
       "      <td>1.871000e+03</td>\n",
       "      <td>1.871000e+03</td>\n",
       "    </tr>\n",
       "    <tr>\n",
       "      <th>mean</th>\n",
       "      <td>8.287547</td>\n",
       "      <td>6.128808</td>\n",
       "      <td>504.043068</td>\n",
       "      <td>1.479526e-02</td>\n",
       "      <td>inf</td>\n",
       "      <td>1.095139e+07</td>\n",
       "      <td>1.077093e+07</td>\n",
       "      <td>1.044265e+07</td>\n",
       "      <td>1.019498e+07</td>\n",
       "      <td>1.215600e+07</td>\n",
       "      <td>...</td>\n",
       "      <td>1.167015e+07</td>\n",
       "      <td>1.190642e+07</td>\n",
       "      <td>1.193684e+07</td>\n",
       "      <td>1.191616e+07</td>\n",
       "      <td>1.158439e+07</td>\n",
       "      <td>1.165333e+07</td>\n",
       "      <td>1.208248e+07</td>\n",
       "      <td>1.160224e+07</td>\n",
       "      <td>1.263682e+07</td>\n",
       "      <td>1.360353e+07</td>\n",
       "    </tr>\n",
       "    <tr>\n",
       "      <th>std</th>\n",
       "      <td>14.073020</td>\n",
       "      <td>10.728640</td>\n",
       "      <td>1222.186081</td>\n",
       "      <td>6.262363e-02</td>\n",
       "      <td>NaN</td>\n",
       "      <td>1.928076e+08</td>\n",
       "      <td>1.900138e+08</td>\n",
       "      <td>2.117533e+08</td>\n",
       "      <td>2.086545e+08</td>\n",
       "      <td>2.062331e+08</td>\n",
       "      <td>...</td>\n",
       "      <td>1.470457e+08</td>\n",
       "      <td>1.458234e+08</td>\n",
       "      <td>2.421096e+08</td>\n",
       "      <td>2.412375e+08</td>\n",
       "      <td>2.391984e+08</td>\n",
       "      <td>2.416312e+08</td>\n",
       "      <td>2.740485e+08</td>\n",
       "      <td>2.582879e+08</td>\n",
       "      <td>2.811280e+08</td>\n",
       "      <td>3.035070e+08</td>\n",
       "    </tr>\n",
       "    <tr>\n",
       "      <th>min</th>\n",
       "      <td>1.000000</td>\n",
       "      <td>0.000000</td>\n",
       "      <td>20.110000</td>\n",
       "      <td>0.000000e+00</td>\n",
       "      <td>1.470347</td>\n",
       "      <td>0.000000e+00</td>\n",
       "      <td>0.000000e+00</td>\n",
       "      <td>0.000000e+00</td>\n",
       "      <td>0.000000e+00</td>\n",
       "      <td>0.000000e+00</td>\n",
       "      <td>...</td>\n",
       "      <td>0.000000e+00</td>\n",
       "      <td>0.000000e+00</td>\n",
       "      <td>0.000000e+00</td>\n",
       "      <td>0.000000e+00</td>\n",
       "      <td>0.000000e+00</td>\n",
       "      <td>0.000000e+00</td>\n",
       "      <td>0.000000e+00</td>\n",
       "      <td>0.000000e+00</td>\n",
       "      <td>0.000000e+00</td>\n",
       "      <td>0.000000e+00</td>\n",
       "    </tr>\n",
       "    <tr>\n",
       "      <th>25%</th>\n",
       "      <td>2.000000</td>\n",
       "      <td>1.000000</td>\n",
       "      <td>83.785000</td>\n",
       "      <td>5.527500e-09</td>\n",
       "      <td>6.740021</td>\n",
       "      <td>1.273142e+04</td>\n",
       "      <td>1.291538e+04</td>\n",
       "      <td>2.449837e+04</td>\n",
       "      <td>2.316279e+04</td>\n",
       "      <td>3.447232e+04</td>\n",
       "      <td>...</td>\n",
       "      <td>2.309399e+05</td>\n",
       "      <td>2.423147e+05</td>\n",
       "      <td>3.251074e+04</td>\n",
       "      <td>3.251678e+04</td>\n",
       "      <td>1.872257e+04</td>\n",
       "      <td>1.915312e+04</td>\n",
       "      <td>2.188906e+04</td>\n",
       "      <td>1.928522e+04</td>\n",
       "      <td>1.692563e+04</td>\n",
       "      <td>1.778402e+04</td>\n",
       "    </tr>\n",
       "    <tr>\n",
       "      <th>50%</th>\n",
       "      <td>4.000000</td>\n",
       "      <td>3.000000</td>\n",
       "      <td>187.890000</td>\n",
       "      <td>3.380000e-07</td>\n",
       "      <td>14.210936</td>\n",
       "      <td>1.319084e+05</td>\n",
       "      <td>1.322794e+05</td>\n",
       "      <td>1.887871e+05</td>\n",
       "      <td>1.732571e+05</td>\n",
       "      <td>2.520422e+05</td>\n",
       "      <td>...</td>\n",
       "      <td>9.282913e+05</td>\n",
       "      <td>9.714438e+05</td>\n",
       "      <td>2.270747e+05</td>\n",
       "      <td>2.308371e+05</td>\n",
       "      <td>1.743351e+05</td>\n",
       "      <td>1.835531e+05</td>\n",
       "      <td>2.003607e+05</td>\n",
       "      <td>1.906914e+05</td>\n",
       "      <td>1.546259e+05</td>\n",
       "      <td>1.568485e+05</td>\n",
       "    </tr>\n",
       "    <tr>\n",
       "      <th>75%</th>\n",
       "      <td>9.000000</td>\n",
       "      <td>7.000000</td>\n",
       "      <td>510.980000</td>\n",
       "      <td>7.737500e-05</td>\n",
       "      <td>56.996738</td>\n",
       "      <td>8.216791e+05</td>\n",
       "      <td>8.216418e+05</td>\n",
       "      <td>1.024513e+06</td>\n",
       "      <td>9.191975e+05</td>\n",
       "      <td>1.217181e+06</td>\n",
       "      <td>...</td>\n",
       "      <td>3.100158e+06</td>\n",
       "      <td>3.289176e+06</td>\n",
       "      <td>1.080769e+06</td>\n",
       "      <td>1.104595e+06</td>\n",
       "      <td>9.015394e+05</td>\n",
       "      <td>9.141666e+05</td>\n",
       "      <td>9.114388e+05</td>\n",
       "      <td>8.815841e+05</td>\n",
       "      <td>8.053501e+05</td>\n",
       "      <td>8.142002e+05</td>\n",
       "    </tr>\n",
       "    <tr>\n",
       "      <th>max</th>\n",
       "      <td>300.000000</td>\n",
       "      <td>207.000000</td>\n",
       "      <td>30966.850000</td>\n",
       "      <td>7.977923e-01</td>\n",
       "      <td>inf</td>\n",
       "      <td>7.031320e+09</td>\n",
       "      <td>6.935911e+09</td>\n",
       "      <td>7.928262e+09</td>\n",
       "      <td>7.705997e+09</td>\n",
       "      <td>6.726223e+09</td>\n",
       "      <td>...</td>\n",
       "      <td>4.944074e+09</td>\n",
       "      <td>4.807881e+09</td>\n",
       "      <td>8.219117e+09</td>\n",
       "      <td>8.255201e+09</td>\n",
       "      <td>7.160988e+09</td>\n",
       "      <td>7.275510e+09</td>\n",
       "      <td>8.777721e+09</td>\n",
       "      <td>8.248206e+09</td>\n",
       "      <td>1.005826e+10</td>\n",
       "      <td>1.073757e+10</td>\n",
       "    </tr>\n",
       "  </tbody>\n",
       "</table>\n",
       "<p>8 rows × 25 columns</p>\n",
       "</div>"
      ],
      "text/plain": [
       "       Peptide count  Unique peptides  Confidence score     Anova (p)  \\\n",
       "count    1871.000000      1871.000000       1871.000000  1.676000e+03   \n",
       "mean        8.287547         6.128808        504.043068  1.479526e-02   \n",
       "std        14.073020        10.728640       1222.186081  6.262363e-02   \n",
       "min         1.000000         0.000000         20.110000  0.000000e+00   \n",
       "25%         2.000000         1.000000         83.785000  5.527500e-09   \n",
       "50%         4.000000         3.000000        187.890000  3.380000e-07   \n",
       "75%         9.000000         7.000000        510.980000  7.737500e-05   \n",
       "max       300.000000       207.000000      30966.850000  7.977923e-01   \n",
       "\n",
       "       Max fold change       R26_N_1       R26_N_2      R26_NM_1  \\\n",
       "count      1676.000000  1.871000e+03  1.871000e+03  1.871000e+03   \n",
       "mean               inf  1.095139e+07  1.077093e+07  1.044265e+07   \n",
       "std                NaN  1.928076e+08  1.900138e+08  2.117533e+08   \n",
       "min           1.470347  0.000000e+00  0.000000e+00  0.000000e+00   \n",
       "25%           6.740021  1.273142e+04  1.291538e+04  2.449837e+04   \n",
       "50%          14.210936  1.319084e+05  1.322794e+05  1.887871e+05   \n",
       "75%          56.996738  8.216791e+05  8.216418e+05  1.024513e+06   \n",
       "max                inf  7.031320e+09  6.935911e+09  7.928262e+09   \n",
       "\n",
       "           R26_NM_2         R13_1  ...        R150_1        R150_2  \\\n",
       "count  1.871000e+03  1.871000e+03  ...  1.871000e+03  1.871000e+03   \n",
       "mean   1.019498e+07  1.215600e+07  ...  1.167015e+07  1.190642e+07   \n",
       "std    2.086545e+08  2.062331e+08  ...  1.470457e+08  1.458234e+08   \n",
       "min    0.000000e+00  0.000000e+00  ...  0.000000e+00  0.000000e+00   \n",
       "25%    2.316279e+04  3.447232e+04  ...  2.309399e+05  2.423147e+05   \n",
       "50%    1.732571e+05  2.520422e+05  ...  9.282913e+05  9.714438e+05   \n",
       "75%    9.191975e+05  1.217181e+06  ...  3.100158e+06  3.289176e+06   \n",
       "max    7.705997e+09  6.726223e+09  ...  4.944074e+09  4.807881e+09   \n",
       "\n",
       "             Pool_1        Pool_2  HRD1_rerun_1  HRD1_rerun_2  R13_repeat_1  \\\n",
       "count  1.871000e+03  1.871000e+03  1.871000e+03  1.871000e+03  1.871000e+03   \n",
       "mean   1.193684e+07  1.191616e+07  1.158439e+07  1.165333e+07  1.208248e+07   \n",
       "std    2.421096e+08  2.412375e+08  2.391984e+08  2.416312e+08  2.740485e+08   \n",
       "min    0.000000e+00  0.000000e+00  0.000000e+00  0.000000e+00  0.000000e+00   \n",
       "25%    3.251074e+04  3.251678e+04  1.872257e+04  1.915312e+04  2.188906e+04   \n",
       "50%    2.270747e+05  2.308371e+05  1.743351e+05  1.835531e+05  2.003607e+05   \n",
       "75%    1.080769e+06  1.104595e+06  9.015394e+05  9.141666e+05  9.114388e+05   \n",
       "max    8.219117e+09  8.255201e+09  7.160988e+09  7.275510e+09  8.777721e+09   \n",
       "\n",
       "       R13_repeat_2  ZNRF4_repeat_1  ZNRF4_repeat_2  \n",
       "count  1.871000e+03    1.871000e+03    1.871000e+03  \n",
       "mean   1.160224e+07    1.263682e+07    1.360353e+07  \n",
       "std    2.582879e+08    2.811280e+08    3.035070e+08  \n",
       "min    0.000000e+00    0.000000e+00    0.000000e+00  \n",
       "25%    1.928522e+04    1.692563e+04    1.778402e+04  \n",
       "50%    1.906914e+05    1.546259e+05    1.568485e+05  \n",
       "75%    8.815841e+05    8.053501e+05    8.142002e+05  \n",
       "max    8.248206e+09    1.005826e+10    1.073757e+10  \n",
       "\n",
       "[8 rows x 25 columns]"
      ]
     },
     "execution_count": 37,
     "metadata": {},
     "output_type": "execute_result"
    }
   ],
   "source": [
    "data2.describe()"
   ]
  },
  {
   "cell_type": "code",
   "execution_count": 35,
   "id": "single-asian",
   "metadata": {},
   "outputs": [
    {
     "data": {
      "text/plain": [
       "Index(['Accession', 'Peptide count', 'Unique peptides', 'Confidence score',\n",
       "       'Anova (p)', 'Max fold change', 'Description', 'R26_N_1', 'R26_N_2',\n",
       "       'R26_NM_1', 'R26_NM_2', 'R13_1', 'R13_2', 'T59_1', 'T59_2', 'R145_1',\n",
       "       'R145_2', 'R150_1', 'R150_2', 'Pool_1', 'Pool_2', 'HRD1_rerun_1',\n",
       "       'HRD1_rerun_2', 'R13_repeat_1', 'R13_repeat_2', 'ZNRF4_repeat_1',\n",
       "       'ZNRF4_repeat_2'],\n",
       "      dtype='object')"
      ]
     },
     "execution_count": 35,
     "metadata": {},
     "output_type": "execute_result"
    }
   ],
   "source": [
    "data2.columns"
   ]
  },
  {
   "cell_type": "markdown",
   "id": "agreed-sleep",
   "metadata": {},
   "source": [
    "On remarque qu'il s'agit d'une répétition des expériences de certaines des abondances de protéines du fichier raw_abundance_table_1.txt\n",
    "\n",
    "# Analyse toutes conditions de l'ensemble des deux jeux de données"
   ]
  },
  {
   "cell_type": "code",
   "execution_count": 66,
   "id": "latest-uganda",
   "metadata": {},
   "outputs": [],
   "source": [
    "abundance1_id = ['WT_control_1', 'WT_control_2', 'AMFR_1', 'AMFR_2', 'BFAR_1', 'BFAR_2', 'CGRRF1_1', \n",
    "              'CGRRF1_2', 'HRD1_1', 'HRD1_2', 'MARCH2_1', 'MARCH2_2', 'MARCH3_1', 'MARCH3_2',\n",
    "              'MARCH4_1', 'MARCH4_2', 'MARCH6_1', 'MARCH6_2', 'MARCH8_1', 'MARCH8_2', 'RNF5_1',\n",
    "              'RNF5_2', 'RNF13_1', 'RNF13_2', 'RNF26_1', 'RNF26_2', 'RNF103_1', 'RNF103_2',\n",
    "              'RNF128_1', 'RNF128_2', 'RNF139_1', 'RNF139_2', 'RNF148_1', 'RNF148_2', 'RNF170_1',\n",
    "              'RNF170_2', 'RNF185_1', 'RNF185_2', 'RNFT1_1', 'RNFT1_2', 'Tmem129_1', 'Tmem129_2',\n",
    "              'Trim13_1', 'Trim13_2', 'Trim59_1', 'Trim59_2', 'ZNRF4_1', 'ZNRF4_2']\n",
    "\n",
    "abundance2_id = ['R26_N_1', 'R26_N_2', 'R26_NM_1', 'R26_NM_2', 'R13_1', 'R13_2', 'T59_1', 'T59_2',\n",
    "              'R145_1', 'R145_2', 'R150_1', 'R150_2', 'Pool_1', 'Pool_2', 'HRD1_rerun_1',\n",
    "              'HRD1_rerun_2', 'R13_repeat_1', 'R13_repeat_2', 'ZNRF4_repeat_1', 'ZNRF4_repeat_2']"
   ]
  },
  {
   "cell_type": "code",
   "execution_count": 67,
   "id": "acquired-hierarchy",
   "metadata": {},
   "outputs": [
    {
     "name": "stdout",
     "output_type": "stream",
     "text": [
      "abundance 1 :\n",
      "(1917, 48)\n",
      "   WT_control_1  WT_control_2        AMFR_1        AMFR_2        BFAR_1  \\\n",
      "0  1.597321e+06  1.510281e+06  653449.78450  6.365099e+05  8.297559e+05   \n",
      "1  2.571727e+06  2.227859e+06  939360.24170  1.086076e+06  2.541636e+06   \n",
      "2  1.267556e+04  1.148202e+04    2578.10604  3.096190e+03  8.704869e+03   \n",
      "3  1.082784e+06  7.226234e+05  170103.36070  1.373951e+05  5.848435e+05   \n",
      "4  3.847340e+06  3.328870e+06  696620.77780  7.875347e+05  1.752087e+06   \n",
      "\n",
      "         BFAR_2      CGRRF1_1      CGRRF1_2        HRD1_1        HRD1_2  ...  \\\n",
      "0  7.523494e+05  8.883458e+05  8.619253e+05  4.912131e+05  5.133508e+05  ...   \n",
      "1  2.384330e+06  9.445967e+05  9.851906e+05  2.513519e+06  2.134729e+06  ...   \n",
      "2  4.587620e+03  4.843652e+03  4.662689e+03  1.339073e+04  1.041953e+04  ...   \n",
      "3  5.229952e+05  2.840173e+05  3.033291e+05  4.074580e+05  3.529428e+05  ...   \n",
      "4  2.024885e+06  1.527643e+06  1.503624e+06  3.768847e+06  3.383489e+06  ...   \n",
      "\n",
      "        RNFT1_1       RNFT1_2      Tmem129_1      Tmem129_2      Trim13_1  \\\n",
      "0  1.031725e+06  8.946137e+05  685599.113800  622240.798000  3.612258e+05   \n",
      "1  4.768931e+05  4.418349e+05  543889.881000  605881.526900  1.130502e+06   \n",
      "2  1.665226e+04  1.272385e+04     927.292206     721.778363  1.455537e+03   \n",
      "3  5.264412e+05  4.712341e+05  129784.308800  172422.538100  5.451802e+04   \n",
      "4  1.083375e+06  1.301425e+06  581763.270800  691786.657400  2.647066e+05   \n",
      "\n",
      "       Trim13_2       Trim59_1       Trim59_2        ZNRF4_1        ZNRF4_2  \n",
      "0  4.090111e+05  542880.771500  577099.865000  723632.233300  369505.163300  \n",
      "1  1.066964e+06  364056.310300  336637.678800  346912.799800  290904.602200  \n",
      "2  5.289084e+03     549.407043     873.451386    3540.070679    1922.103598  \n",
      "3  6.912112e+04   99581.120720   93295.618290   99816.192810   94214.225140  \n",
      "4  3.463574e+05  376276.827000  430823.038700  414007.508500  320752.227500  \n",
      "\n",
      "[5 rows x 48 columns]\n",
      "\n",
      "abundance 2 :\n",
      "(1871, 20)\n",
      "   R26_N_1  R26_N_2  R26_NM_1  R26_NM_2  R13_1  R13_2  T59_1  T59_2  R145_1  \\\n",
      "0      0.0      0.0       0.0       0.0    0.0    0.0    0.0    0.0     0.0   \n",
      "1      0.0      0.0       0.0       0.0    0.0    0.0    0.0    0.0     0.0   \n",
      "2      0.0      0.0       0.0       0.0    0.0    0.0    0.0    0.0     0.0   \n",
      "3      0.0      0.0       0.0       0.0    0.0    0.0    0.0    0.0     0.0   \n",
      "4      0.0      0.0       0.0       0.0    0.0    0.0    0.0    0.0     0.0   \n",
      "\n",
      "   R145_2        R150_1        R150_2  Pool_1  Pool_2  HRD1_rerun_1  \\\n",
      "0     0.0   37555.23096  3.913464e+04     0.0     0.0         0.000   \n",
      "1     0.0  775911.54020  1.136750e+06     0.0     0.0         0.000   \n",
      "2     0.0       0.00000  0.000000e+00     0.0     0.0    178409.584   \n",
      "3     0.0  122061.77150  1.597211e+05     0.0     0.0         0.000   \n",
      "4     0.0       0.00000  0.000000e+00     0.0     0.0         0.000   \n",
      "\n",
      "   HRD1_rerun_2  R13_repeat_1  R13_repeat_2  ZNRF4_repeat_1  ZNRF4_repeat_2  \n",
      "0        0.0000           0.0           0.0          0.0000          0.0000  \n",
      "1        0.0000           0.0           0.0          0.0000          0.0000  \n",
      "2   126520.4523           0.0           0.0          0.0000          0.0000  \n",
      "3        0.0000           0.0           0.0          0.0000          0.0000  \n",
      "4        0.0000           0.0           0.0     376794.8466     418675.2332  \n"
     ]
    }
   ],
   "source": [
    "abundance1 = data[abundance1_id]\n",
    "abundance2 = data2[abundance2_id]\n",
    "print(\"abundance 1 :\")\n",
    "print(abundance1.shape)\n",
    "print(abundance1.head())\n",
    "print(\"\\nabundance 2 :\")\n",
    "print(abundance2.shape)\n",
    "print(abundance2.head())"
   ]
  },
  {
   "cell_type": "code",
   "execution_count": 69,
   "id": "piano-irrigation",
   "metadata": {},
   "outputs": [
    {
     "name": "stdout",
     "output_type": "stream",
     "text": [
      "abundance 1 :\n",
      "(92016,)\n",
      "[1597320.69   1510280.674   653449.7845 ...       0.           0.\n",
      "       0.    ]\n",
      "\n",
      "abundance 2 :\n",
      "(37420,)\n",
      "[0. 0. 0. ... 0. 0. 0.]\n"
     ]
    }
   ],
   "source": [
    "# données dans un array d'une dimmenssion\n",
    "abundance1 = abundance1.values.reshape(abundance1.shape[0] * abundance1.shape[1])\n",
    "abundance2 = abundance2.values.reshape(abundance2.shape[0] * abundance2.shape[1])\n",
    "print(\"abundance 1 :\")\n",
    "print(abundance1.shape)\n",
    "print(abundance1)\n",
    "print(\"\\nabundance 2 :\")\n",
    "print(abundance2.shape)\n",
    "print(abundance2)"
   ]
  },
  {
   "cell_type": "code",
   "execution_count": 72,
   "id": "saved-medium",
   "metadata": {},
   "outputs": [
    {
     "name": "stdout",
     "output_type": "stream",
     "text": [
      "abundance 1 : (75834,)\n",
      "abundance 2 : (31989,)\n"
     ]
    }
   ],
   "source": [
    "# remove 0\n",
    "abundance1 = abundance1[abundance1 > 0]\n",
    "abundance2 = abundance2[abundance2 > 0]\n",
    "print(f\"abundance 1 : {abundance1.shape}\")\n",
    "print(f\"abundance 2 : {abundance2.shape}\")"
   ]
  },
  {
   "cell_type": "code",
   "execution_count": 82,
   "id": "suited-deficit",
   "metadata": {},
   "outputs": [
    {
     "name": "stdout",
     "output_type": "stream",
     "text": [
      "abundance total : (107823,)\n"
     ]
    }
   ],
   "source": [
    "# concatenate abundance1 and abundance2\n",
    "abundance_tot = np.concatenate((abundance1, abundance2))\n",
    "print(f\"abundance total : {abundance_tot.shape}\")"
   ]
  },
  {
   "cell_type": "markdown",
   "id": "returning-samoa",
   "metadata": {},
   "source": [
    "nous obtenons donc un seul array de 107823 abondance de protéines\n",
    "## <font color='red'> Analyse sur les données d'abondance total</font>\n",
    "### histograme de la distribution des données d'abondance total"
   ]
  },
  {
   "cell_type": "code",
   "execution_count": 88,
   "id": "julian-honor",
   "metadata": {},
   "outputs": [
    {
     "data": {
      "image/png": "[encoded data removed]",
      "text/plain": [
       "<Figure size 432x288 with 1 Axes>"
      ]
     },
     "metadata": {
      "needs_background": "light"
     },
     "output_type": "display_data"
    }
   ],
   "source": [
    "plt.hist(abundance_tot, bins=range(0, 2_000_000, 150_000));"
   ]
  },
  {
   "cell_type": "markdown",
   "id": "protecting-dodge",
   "metadata": {},
   "source": [
    "### Analyse des $1^{er}$ digit"
   ]
  },
  {
   "cell_type": "code",
   "execution_count": 91,
   "id": "freelance-begin",
   "metadata": {},
   "outputs": [],
   "source": [
    "f_benford = benford.get_theoretical_freq_benford()\n",
    "d_obs = benford.count_first_digit(abundance_tot)"
   ]
  },
  {
   "cell_type": "markdown",
   "id": "excess-field",
   "metadata": {},
   "source": [
    "### Histogramme de la fréquence des first digit de la loi de Benford et de l'abondance total des protéines"
   ]
  },
  {
   "cell_type": "code",
   "execution_count": 93,
   "id": "dressed-leisure",
   "metadata": {},
   "outputs": [
    {
     "data": {
      "image/png": "[encoded data removed]",
      "text/plain": [
       "<Figure size 432x288 with 1 Axes>"
      ]
     },
     "metadata": {
      "needs_background": "light"
     },
     "output_type": "display_data"
    }
   ],
   "source": [
    "benford.build_hist_freq_ben(benford.normalize_first_digit(d_obs), f_benford, nb_digit=1,\n",
    "                            title=(\"Theoretical Benford law and First digit distribution \\n \"\n",
    "                            f\"of the {sum(d_obs)} total protein abundances\"),\n",
    "                            legend=\"Total protein Abundances\")"
   ]
  },
  {
   "cell_type": "markdown",
   "id": "built-thread",
   "metadata": {},
   "source": [
    "### Test statistique par la procédure \"bootstrap\""
   ]
  },
  {
   "cell_type": "code",
   "execution_count": 94,
   "id": "built-theology",
   "metadata": {},
   "outputs": [
    {
     "name": "stdout",
     "output_type": "stream",
     "text": [
      "statistics : 8.150764081456819 ; p-value : 0.4188834279599723 ; number of significant tests : 57\n",
      "CPU times: user 4.13 s, sys: 16.7 ms, total: 4.14 s\n",
      "Wall time: 4.16 s\n"
     ]
    }
   ],
   "source": [
    "%%time\n",
    "statistics, p_val, nb_signif = benford.calculate_bootstrap_chi2(abundance_tot, f_benford, nb_digit=1)"
   ]
  },
  {
   "cell_type": "code",
   "execution_count": 96,
   "id": "confirmed-greece",
   "metadata": {},
   "outputs": [
    {
     "name": "stdout",
     "output_type": "stream",
     "text": [
      "Le résultat du test montre que le premier chiffre significatif de l'abondance total des protéines suit la loi de Benford pour un risque 𝛼=5%.\n"
     ]
    }
   ],
   "source": [
    "if p_val > 0.05:\n",
    "    print(\"Le résultat du test montre que le premier chiffre significatif de\",\n",
    "          \"l'abondance total des protéines suit la loi de Benford pour un risque 𝛼=5%.\")\n",
    "else:\n",
    "    print(\"Le résultat du test montre que le premier chiffre significatif de\",\n",
    "          \"l'abondance total des protéines ne suit pas la loi de Benford pour un \",\n",
    "          \"risque 𝛼=5%.\")"
   ]
  },
  {
   "cell_type": "markdown",
   "id": "registered-lunch",
   "metadata": {},
   "source": [
    "## Analyse des deux $1^{er}$ digit"
   ]
  },
  {
   "cell_type": "code",
   "execution_count": 97,
   "id": "light-charity",
   "metadata": {},
   "outputs": [],
   "source": [
    "f_benford = benford.get_theoretical_freq_benford(2)\n",
    "d_obs = benford.count_first_digit(abundance_tot, 2)"
   ]
  },
  {
   "cell_type": "markdown",
   "id": "characteristic-marshall",
   "metadata": {},
   "source": [
    "### Histogramme de la fréquence des first digit de la loi de Benford et de l'abondance des protéines de l'ensemble des données"
   ]
  },
  {
   "cell_type": "code",
   "execution_count": 98,
   "id": "automated-trauma",
   "metadata": {},
   "outputs": [
    {
     "data": {
      "image/png": "[encoded data removed]",
      "text/plain": [
       "<Figure size 2880x1080 with 1 Axes>"
      ]
     },
     "metadata": {
      "needs_background": "light"
     },
     "output_type": "display_data"
    }
   ],
   "source": [
    "benford.build_hist_freq_ben(benford.normalize_first_digit(d_obs), f_benford, nb_digit=2,\n",
    "                            title=(\"Theoretical Benford law and First digit distribution \\n \"\n",
    "                            f\"of the {sum(d_obs)} protein  abundances\"),\n",
    "                            legend=\"protein Abundances\", size=(40, 15))"
   ]
  },
  {
   "cell_type": "markdown",
   "id": "elegant-january",
   "metadata": {},
   "source": [
    "### Test statistique par la procédure \"bootstrap\""
   ]
  },
  {
   "cell_type": "code",
   "execution_count": 99,
   "id": "accessory-glance",
   "metadata": {},
   "outputs": [
    {
     "name": "stdout",
     "output_type": "stream",
     "text": [
      "statistics : 88.53292089015176 ; p-value : 0.4940372849499195 ; number of significant tests : 46\n",
      "CPU times: user 4.47 s, sys: 22.1 ms, total: 4.49 s\n",
      "Wall time: 4.51 s\n"
     ]
    }
   ],
   "source": [
    "%%time\n",
    "statistics, P_val, nb_signif = benford.calculate_bootstrap_chi2(abundance_tot, f_benford, nb_digit=2)"
   ]
  },
  {
   "cell_type": "code",
   "execution_count": 101,
   "id": "least-guarantee",
   "metadata": {},
   "outputs": [
    {
     "name": "stdout",
     "output_type": "stream",
     "text": [
      "Le résultat du test montre que les 2 premiers chiffres significatifs de l'abondance total des protéines suit la loi de Benford pour un risque 𝛼=5%.\n"
     ]
    }
   ],
   "source": [
    "if p_val > 0.05:\n",
    "    print(\"Le résultat du test montre que les 2 premiers chiffres significatifs de\",\n",
    "          \"l'abondance total des protéines suit la loi de Benford pour un risque 𝛼=5%.\")\n",
    "else:\n",
    "    print(\"Le résultat du test montre que les 2 premiers chiffres significatifs de\",\n",
    "          \"l'abondance total des protéines ne suit pas la loi de Benford pour un \",\n",
    "          \"risque 𝛼=5%.\")"
   ]
  },
  {
   "cell_type": "markdown",
   "id": "known-regression",
   "metadata": {},
   "source": [
    "nous allons maintenant nous intéresser aux abondances de protéines obtenus pour les échantillon WT\n",
    "## <font color='red'> Analyse sur les données d'abondance pour les échantillon WT</font>\n",
    "### récupération des échantillon WT"
   ]
  },
  {
   "cell_type": "code",
   "execution_count": 102,
   "id": "retained-symphony",
   "metadata": {},
   "outputs": [
    {
     "name": "stdout",
     "output_type": "stream",
     "text": [
      "abundance  WT:\n",
      "(1917, 2)\n",
      "      WT_control_1  WT_control_2\n",
      "0     1.597321e+06  1.510281e+06\n",
      "1     2.571727e+06  2.227859e+06\n",
      "2     1.267556e+04  1.148202e+04\n",
      "3     1.082784e+06  7.226234e+05\n",
      "4     3.847340e+06  3.328870e+06\n",
      "...            ...           ...\n",
      "1912  0.000000e+00  0.000000e+00\n",
      "1913  0.000000e+00  0.000000e+00\n",
      "1914  0.000000e+00  0.000000e+00\n",
      "1915  0.000000e+00  0.000000e+00\n",
      "1916  0.000000e+00  0.000000e+00\n",
      "\n",
      "[1917 rows x 2 columns]\n"
     ]
    }
   ],
   "source": [
    "wt_id = ['WT_control_1', 'WT_control_2']\n",
    "white_type = data[wt_id]\n",
    "print(\"abundance  WT:\")\n",
    "print(white_type.shape)\n",
    "print(white_type)"
   ]
  },
  {
   "cell_type": "code",
   "execution_count": 103,
   "id": "cognitive-jacob",
   "metadata": {},
   "outputs": [
    {
     "name": "stdout",
     "output_type": "stream",
     "text": [
      "abundance WT :\n",
      "(3834,)\n",
      "[1597320.69  1510280.674 2571727.402 ...       0.          0.\n",
      "       0.   ]\n"
     ]
    }
   ],
   "source": [
    "# données dans un array d'une dimmenssion\n",
    "white_type = white_type.values.reshape(white_type.shape[0] * white_type.shape[1])\n",
    "print(\"abundance WT :\")\n",
    "print(white_type.shape)\n",
    "print(white_type)"
   ]
  },
  {
   "cell_type": "code",
   "execution_count": 104,
   "id": "lasting-factor",
   "metadata": {},
   "outputs": [
    {
     "name": "stdout",
     "output_type": "stream",
     "text": [
      "abundance WT : (3147,)\n"
     ]
    }
   ],
   "source": [
    "# remove 0\n",
    "white_type = white_type[white_type > 0]\n",
    "print(f\"abundance WT : {white_type.shape}\")"
   ]
  },
  {
   "cell_type": "markdown",
   "id": "subtle-convertible",
   "metadata": {},
   "source": [
    "on obtient après nettoyage des données 3147 données d'abondance des échantillons WT\n",
    "### histograme de la distribution des données d'abondance des échantillons WT"
   ]
  },
  {
   "cell_type": "code",
   "execution_count": 105,
   "id": "mexican-norfolk",
   "metadata": {},
   "outputs": [
    {
     "data": {
      "image/png": "[encoded data removed]",
      "text/plain": [
       "<Figure size 432x288 with 1 Axes>"
      ]
     },
     "metadata": {
      "needs_background": "light"
     },
     "output_type": "display_data"
    }
   ],
   "source": [
    "plt.hist(white_type, bins=range(0, 2_000_000, 150_000));"
   ]
  },
  {
   "cell_type": "markdown",
   "id": "minor-caribbean",
   "metadata": {},
   "source": [
    "### Analyse des $1^{er}$ digit"
   ]
  },
  {
   "cell_type": "code",
   "execution_count": 106,
   "id": "regional-basics",
   "metadata": {},
   "outputs": [],
   "source": [
    "f_benford = benford.get_theoretical_freq_benford()\n",
    "d_obs = benford.count_first_digit(white_type)"
   ]
  },
  {
   "cell_type": "markdown",
   "id": "constitutional-gothic",
   "metadata": {},
   "source": [
    "### Histogramme de la fréquence des first digit de la loi de Benford et de l'abondance total des protéines des échantillons WT"
   ]
  },
  {
   "cell_type": "code",
   "execution_count": 107,
   "id": "inner-tomorrow",
   "metadata": {},
   "outputs": [
    {
     "data": {
      "image/png": "[encoded data removed]",
      "text/plain": [
       "<Figure size 432x288 with 1 Axes>"
      ]
     },
     "metadata": {
      "needs_background": "light"
     },
     "output_type": "display_data"
    }
   ],
   "source": [
    "benford.build_hist_freq_ben(benford.normalize_first_digit(d_obs), f_benford, nb_digit=1,\n",
    "                            title=(\"Theoretical Benford law and First digit distribution \\n \"\n",
    "                            f\"of the {sum(d_obs)} white type protein abundances\"),\n",
    "                            legend=\"WT protein Abundances\")"
   ]
  },
  {
   "cell_type": "markdown",
   "id": "still-given",
   "metadata": {},
   "source": [
    "On observe que le digit 1 à une fréqunece plus faible que celle de la loi théorique de Benford et le digit 2 à, lui, une fréquence plus élevé que loi théorique de Benford.\n",
    "### Test statistique par la procédure \"bootstrap\""
   ]
  },
  {
   "cell_type": "code",
   "execution_count": 108,
   "id": "preceding-ridge",
   "metadata": {},
   "outputs": [
    {
     "name": "stdout",
     "output_type": "stream",
     "text": [
      "statistics : 7.9026727581847105 ; p-value : 0.44303473007658034 ; number of significant tests : 37\n",
      "CPU times: user 2.39 s, sys: 10.4 ms, total: 2.4 s\n",
      "Wall time: 2.4 s\n"
     ]
    }
   ],
   "source": [
    "%%time\n",
    "statistics, p_val, nb_signif = benford.calculate_bootstrap_chi2(white_type, f_benford, nb_digit=1)"
   ]
  },
  {
   "cell_type": "code",
   "execution_count": 112,
   "id": "administrative-listing",
   "metadata": {},
   "outputs": [
    {
     "name": "stdout",
     "output_type": "stream",
     "text": [
      "Le résultat du test montre que le premier chiffre significatif de l'abondance de protéines, pour les \n",
      "échantillon WT, suit la loi de Benford pour un risque 𝛼=5%.\n"
     ]
    }
   ],
   "source": [
    "if p_val > 0.05:\n",
    "    print(\"Le résultat du test montre que le premier chiffre significatif de\",\n",
    "          \"l'abondance de protéines, pour les \\néchantillons WT, suit la loi de Benford pour un risque 𝛼=5%.\")\n",
    "else:\n",
    "    print(\"Le résultat du test montre que le premier chiffre significatif de\",\n",
    "          \"l'abondance de protéines, pour les \\néchantillons WT, ne suit pas la loi de Benford pour un \",\n",
    "          \"risque 𝛼=5%.\")"
   ]
  },
  {
   "cell_type": "markdown",
   "id": "excessive-saudi",
   "metadata": {},
   "source": [
    "## Analyse des deux $1^{er}$ digit"
   ]
  },
  {
   "cell_type": "code",
   "execution_count": 113,
   "id": "certified-modem",
   "metadata": {},
   "outputs": [],
   "source": [
    "f_benford = benford.get_theoretical_freq_benford(2)\n",
    "d_obs = benford.count_first_digit(white_type, 2)"
   ]
  },
  {
   "cell_type": "markdown",
   "id": "initial-belarus",
   "metadata": {},
   "source": [
    "### Histogramme de la fréquence des first digit de la loi de Benford et de l'abondance des protéines des échantillons WT"
   ]
  },
  {
   "cell_type": "code",
   "execution_count": 114,
   "id": "frozen-aberdeen",
   "metadata": {},
   "outputs": [
    {
     "data": {
      "image/png": "[encoded data removed]",
      "text/plain": [
       "<Figure size 2880x1080 with 1 Axes>"
      ]
     },
     "metadata": {
      "needs_background": "light"
     },
     "output_type": "display_data"
    }
   ],
   "source": [
    "benford.build_hist_freq_ben(benford.normalize_first_digit(d_obs), f_benford, nb_digit=2,\n",
    "                            title=(\"Theoretical Benford law and First digit distribution \\n \"\n",
    "                            f\"of the {sum(d_obs)} protein  abundances\"),\n",
    "                            legend=\"protein Abundances\", size=(40, 15))"
   ]
  },
  {
   "cell_type": "markdown",
   "id": "eleven-cornwall",
   "metadata": {},
   "source": [
    "On observe un écart plus important entre la fréquence des 2 first digit de l'abondance de protéines, pour les échantillon WT, et celle de la loi théorique de Benford.\n",
    "### Test statistique par la procédure \"bootstrap\""
   ]
  },
  {
   "cell_type": "code",
   "execution_count": 115,
   "id": "incredible-apollo",
   "metadata": {},
   "outputs": [
    {
     "name": "stdout",
     "output_type": "stream",
     "text": [
      "statistics : 88.53949807987617 ; p-value : 0.4938400731410873 ; number of significant tests : 52\n",
      "CPU times: user 4.32 s, sys: 15.7 ms, total: 4.33 s\n",
      "Wall time: 4.35 s\n"
     ]
    }
   ],
   "source": [
    "%%time\n",
    "statistics, P_val, nb_signif = benford.calculate_bootstrap_chi2(abundance_tot, f_benford, nb_digit=2)"
   ]
  },
  {
   "cell_type": "code",
   "execution_count": 117,
   "id": "going-makeup",
   "metadata": {},
   "outputs": [
    {
     "name": "stdout",
     "output_type": "stream",
     "text": [
      "Le résultat du test montre que les 2 premiers chiffres significatifs de l'abondance de protéines, \n",
      "pour les échantillon WT, suit la loi de Benford pour un risque 𝛼=5%.\n"
     ]
    }
   ],
   "source": [
    "if p_val > 0.05:\n",
    "    print(\"Le résultat du test montre que les 2 premiers chiffres significatifs de\",\n",
    "          \"l'abondance de protéines, \\npour les échantillons WT, suit la loi de Benford pour un risque 𝛼=5%.\")\n",
    "else:\n",
    "    print(\"Le résultat du test montre que les 2 premiers chiffres significatifs de\",\n",
    "          \"l'abondance total de protéines, \\npour les \\néchantillons WT, ne suit pas la loi de Benford pour un \",\n",
    "          \"risque 𝛼=5%.\")"
   ]
  },
  {
   "cell_type": "markdown",
   "id": "intense-affiliate",
   "metadata": {},
   "source": [
    "Le résultat du test statistique, qui à une p-value supérieur à 5%, nous indique que l'abondance de protéines des échantillons WT suivent la loi de Benford pour les deux premiers chifres significatifs, pour un rique $\\alpha$ de 5%.  \n",
    "Le résultat du test est en contradiction avec ce qu'on pourrait penser en analysant l'Histogramme de la fréquence des deux premiers chiffres significatifs des échantillons WT."
   ]
  },
  {
   "cell_type": "markdown",
   "id": "rotary-cambridge",
   "metadata": {},
   "source": [
    "nous allons maintenant nous intéresser aux abondances de protéines obtenus pour l'ensemble des échantillons non WT.\n",
    "## <font color='red'> Analyse sur les données d'abondance pour des échantillons non WT</font>\n",
    "### récupération des échantillons non WT"
   ]
  },
  {
   "cell_type": "code",
   "execution_count": 126,
   "id": "checked-enemy",
   "metadata": {},
   "outputs": [
    {
     "name": "stdout",
     "output_type": "stream",
     "text": [
      "non WT 1 :\n",
      "(1917, 46)\n",
      "         AMFR_1        AMFR_2        BFAR_1        BFAR_2      CGRRF1_1  \\\n",
      "0  653449.78450  6.365099e+05  8.297559e+05  7.523494e+05  8.883458e+05   \n",
      "1  939360.24170  1.086076e+06  2.541636e+06  2.384330e+06  9.445967e+05   \n",
      "2    2578.10604  3.096190e+03  8.704869e+03  4.587620e+03  4.843652e+03   \n",
      "3  170103.36070  1.373951e+05  5.848435e+05  5.229952e+05  2.840173e+05   \n",
      "4  696620.77780  7.875347e+05  1.752087e+06  2.024885e+06  1.527643e+06   \n",
      "\n",
      "       CGRRF1_2        HRD1_1        HRD1_2      MARCH2_1      MARCH2_2  ...  \\\n",
      "0  8.619253e+05  4.912131e+05  5.133508e+05  9.476632e+05  1.063860e+06  ...   \n",
      "1  9.851906e+05  2.513519e+06  2.134729e+06  8.823349e+05  1.089042e+06  ...   \n",
      "2  4.662689e+03  1.339073e+04  1.041953e+04  5.112826e+04  4.803791e+04  ...   \n",
      "3  3.033291e+05  4.074580e+05  3.529428e+05  4.556203e+05  5.441068e+05  ...   \n",
      "4  1.503624e+06  3.768847e+06  3.383489e+06  1.509969e+06  1.592874e+06  ...   \n",
      "\n",
      "        RNFT1_1       RNFT1_2      Tmem129_1      Tmem129_2      Trim13_1  \\\n",
      "0  1.031725e+06  8.946137e+05  685599.113800  622240.798000  3.612258e+05   \n",
      "1  4.768931e+05  4.418349e+05  543889.881000  605881.526900  1.130502e+06   \n",
      "2  1.665226e+04  1.272385e+04     927.292206     721.778363  1.455537e+03   \n",
      "3  5.264412e+05  4.712341e+05  129784.308800  172422.538100  5.451802e+04   \n",
      "4  1.083375e+06  1.301425e+06  581763.270800  691786.657400  2.647066e+05   \n",
      "\n",
      "       Trim13_2       Trim59_1       Trim59_2        ZNRF4_1        ZNRF4_2  \n",
      "0  4.090111e+05  542880.771500  577099.865000  723632.233300  369505.163300  \n",
      "1  1.066964e+06  364056.310300  336637.678800  346912.799800  290904.602200  \n",
      "2  5.289084e+03     549.407043     873.451386    3540.070679    1922.103598  \n",
      "3  6.912112e+04   99581.120720   93295.618290   99816.192810   94214.225140  \n",
      "4  3.463574e+05  376276.827000  430823.038700  414007.508500  320752.227500  \n",
      "\n",
      "[5 rows x 46 columns]\n",
      "\n",
      "non WT 2 :\n",
      "(1871, 20)\n",
      "   R26_N_1  R26_N_2  R26_NM_1  R26_NM_2  R13_1  R13_2  T59_1  T59_2  R145_1  \\\n",
      "0      0.0      0.0       0.0       0.0    0.0    0.0    0.0    0.0     0.0   \n",
      "1      0.0      0.0       0.0       0.0    0.0    0.0    0.0    0.0     0.0   \n",
      "2      0.0      0.0       0.0       0.0    0.0    0.0    0.0    0.0     0.0   \n",
      "3      0.0      0.0       0.0       0.0    0.0    0.0    0.0    0.0     0.0   \n",
      "4      0.0      0.0       0.0       0.0    0.0    0.0    0.0    0.0     0.0   \n",
      "\n",
      "   R145_2        R150_1        R150_2  Pool_1  Pool_2  HRD1_rerun_1  \\\n",
      "0     0.0   37555.23096  3.913464e+04     0.0     0.0         0.000   \n",
      "1     0.0  775911.54020  1.136750e+06     0.0     0.0         0.000   \n",
      "2     0.0       0.00000  0.000000e+00     0.0     0.0    178409.584   \n",
      "3     0.0  122061.77150  1.597211e+05     0.0     0.0         0.000   \n",
      "4     0.0       0.00000  0.000000e+00     0.0     0.0         0.000   \n",
      "\n",
      "   HRD1_rerun_2  R13_repeat_1  R13_repeat_2  ZNRF4_repeat_1  ZNRF4_repeat_2  \n",
      "0        0.0000           0.0           0.0          0.0000          0.0000  \n",
      "1        0.0000           0.0           0.0          0.0000          0.0000  \n",
      "2   126520.4523           0.0           0.0          0.0000          0.0000  \n",
      "3        0.0000           0.0           0.0          0.0000          0.0000  \n",
      "4        0.0000           0.0           0.0     376794.8466     418675.2332  \n"
     ]
    }
   ],
   "source": [
    "non_wt_id1 = ['AMFR_1', 'AMFR_2', 'BFAR_1', 'BFAR_2', 'CGRRF1_1',\n",
    "       'CGRRF1_2', 'HRD1_1', 'HRD1_2', 'MARCH2_1', 'MARCH2_2', 'MARCH3_1',\n",
    "       'MARCH3_2', 'MARCH4_1', 'MARCH4_2', 'MARCH6_1', 'MARCH6_2', 'MARCH8_1',\n",
    "       'MARCH8_2', 'RNF5_1', 'RNF5_2', 'RNF13_1', 'RNF13_2', 'RNF26_1',\n",
    "       'RNF26_2', 'RNF103_1', 'RNF103_2', 'RNF128_1', 'RNF128_2', 'RNF139_1',\n",
    "       'RNF139_2', 'RNF148_1', 'RNF148_2', 'RNF170_1', 'RNF170_2', 'RNF185_1',\n",
    "       'RNF185_2', 'RNFT1_1', 'RNFT1_2', 'Tmem129_1', 'Tmem129_2', 'Trim13_1',\n",
    "       'Trim13_2', 'Trim59_1', 'Trim59_2', 'ZNRF4_1', 'ZNRF4_2']\n",
    "\n",
    "non_wt_id2 = ['R26_N_1', 'R26_N_2',\n",
    "       'R26_NM_1', 'R26_NM_2', 'R13_1', 'R13_2', 'T59_1', 'T59_2', 'R145_1',\n",
    "       'R145_2', 'R150_1', 'R150_2', 'Pool_1', 'Pool_2', 'HRD1_rerun_1',\n",
    "       'HRD1_rerun_2', 'R13_repeat_1', 'R13_repeat_2', 'ZNRF4_repeat_1',\n",
    "       'ZNRF4_repeat_2']\n",
    "\n",
    "non_wt1 = data[non_wt_id1]\n",
    "non_wt2 = data2[non_wt_id2]\n",
    "print(\"non WT 1 :\")\n",
    "print(non_wt1.shape)\n",
    "print(non_wt1.head())\n",
    "print(\"\\nnon WT 2 :\")\n",
    "print(non_wt2.shape)\n",
    "print(non_wt2.head())"
   ]
  },
  {
   "cell_type": "code",
   "execution_count": 127,
   "id": "norman-round",
   "metadata": {},
   "outputs": [
    {
     "name": "stdout",
     "output_type": "stream",
     "text": [
      "non WT 1 :\n",
      "(88182,)\n",
      "[653449.7845 636509.9156 829755.8643 ...      0.          0.\n",
      "      0.    ]\n",
      "\n",
      "non WT 2 :\n",
      "(37420,)\n",
      "[0. 0. 0. ... 0. 0. 0.]\n"
     ]
    }
   ],
   "source": [
    "# données dans un array d'une dimmenssion\n",
    "non_wt1 = non_wt1.values.reshape(non_wt1.shape[0] * non_wt1.shape[1])\n",
    "non_wt2 = non_wt2.values.reshape(non_wt2.shape[0] * non_wt2.shape[1])\n",
    "print(\"non WT 1 :\")\n",
    "print(non_wt1.shape)\n",
    "print(non_wt1)\n",
    "print(\"\\nnon WT 2 :\")\n",
    "print(non_wt2.shape)\n",
    "print(non_wt2)"
   ]
  },
  {
   "cell_type": "code",
   "execution_count": 128,
   "id": "regular-evanescence",
   "metadata": {},
   "outputs": [
    {
     "name": "stdout",
     "output_type": "stream",
     "text": [
      "non WT 1 : (72687,)\n",
      "non WT 2 : (31989,)\n"
     ]
    }
   ],
   "source": [
    "# remove 0\n",
    "non_wt1 = non_wt1[non_wt1 > 0]\n",
    "non_wt2 = non_wt2[non_wt2 > 0]\n",
    "print(f\"non WT 1 : {non_wt1.shape}\")\n",
    "print(f\"non WT 2 : {non_wt2.shape}\")"
   ]
  },
  {
   "cell_type": "code",
   "execution_count": 130,
   "id": "refined-corps",
   "metadata": {},
   "outputs": [
    {
     "name": "stdout",
     "output_type": "stream",
     "text": [
      "non WT total : (104676,)\n"
     ]
    }
   ],
   "source": [
    "# concatenate abundance1 and abundance2\n",
    "non_wt_tot = np.concatenate((non_wt1, non_wt2))\n",
    "print(f\"non WT total : {non_wt_tot.shape}\")"
   ]
  },
  {
   "cell_type": "markdown",
   "id": "regular-september",
   "metadata": {},
   "source": [
    "### Histogramme de la fréquence des first digit de la loi de Benford et de l'abondance total des protéines des échantillons non WT"
   ]
  },
  {
   "cell_type": "code",
   "execution_count": 131,
   "id": "obvious-cartridge",
   "metadata": {},
   "outputs": [
    {
     "data": {
      "image/png": "[encoded data removed]",
      "text/plain": [
       "<Figure size 432x288 with 1 Axes>"
      ]
     },
     "metadata": {
      "needs_background": "light"
     },
     "output_type": "display_data"
    }
   ],
   "source": [
    "plt.hist(non_wt_tot, bins=range(0, 2_000_000, 150_000));"
   ]
  },
  {
   "cell_type": "markdown",
   "id": "straight-prescription",
   "metadata": {},
   "source": [
    "### Analyse des $1^{er}$ digit"
   ]
  },
  {
   "cell_type": "code",
   "execution_count": 132,
   "id": "female-essence",
   "metadata": {},
   "outputs": [],
   "source": [
    "f_benford = benford.get_theoretical_freq_benford()\n",
    "d_obs = benford.count_first_digit(non_wt_tot)"
   ]
  },
  {
   "cell_type": "markdown",
   "id": "imperial-bachelor",
   "metadata": {},
   "source": [
    "### Histogramme de la fréquence des first digit de la loi de Benford et de l'abondance total des échantillons non WT"
   ]
  },
  {
   "cell_type": "code",
   "execution_count": 133,
   "id": "coated-rocket",
   "metadata": {},
   "outputs": [
    {
     "data": {
      "image/png": "[encoded data removed]",
      "text/plain": [
       "<Figure size 432x288 with 1 Axes>"
      ]
     },
     "metadata": {
      "needs_background": "light"
     },
     "output_type": "display_data"
    }
   ],
   "source": [
    "benford.build_hist_freq_ben(benford.normalize_first_digit(d_obs), f_benford, nb_digit=1,\n",
    "                            title=(\"Theoretical Benford law and First digit distribution \\n \"\n",
    "                            f\"of the {sum(d_obs)} no white type protein abundances\"),\n",
    "                            legend=\"No WT protein Abundances\")"
   ]
  },
  {
   "cell_type": "markdown",
   "id": "urban-pendant",
   "metadata": {},
   "source": [
    "### Test statistique par la procédure \"bootstrap\""
   ]
  },
  {
   "cell_type": "code",
   "execution_count": 134,
   "id": "dressed-patient",
   "metadata": {},
   "outputs": [
    {
     "name": "stdout",
     "output_type": "stream",
     "text": [
      "statistics : 7.757757383584632 ; p-value : 0.4574838468215231 ; number of significant tests : 35\n",
      "CPU times: user 3.75 s, sys: 5.25 ms, total: 3.75 s\n",
      "Wall time: 3.75 s\n"
     ]
    }
   ],
   "source": [
    "%%time\n",
    "statistics, p_val, nb_signif = benford.calculate_bootstrap_chi2(non_wt_tot, f_benford, nb_digit=1)"
   ]
  },
  {
   "cell_type": "code",
   "execution_count": 135,
   "id": "owned-sunglasses",
   "metadata": {},
   "outputs": [
    {
     "name": "stdout",
     "output_type": "stream",
     "text": [
      "Le résultat du test montre que le premier chiffre significatif de l'abondance de protéines, pour les \n",
      "échantillons non WT, suit la loi de Benford pour un risque 𝛼=5%.\n"
     ]
    }
   ],
   "source": [
    "if p_val > 0.05:\n",
    "    print(\"Le résultat du test montre que le premier chiffre significatif de\",\n",
    "          \"l'abondance de protéines, pour les \\néchantillons non WT, suit la loi de Benford pour un risque 𝛼=5%.\")\n",
    "else:\n",
    "    print(\"Le résultat du test montre que le premier chiffre significatif de\",\n",
    "          \"l'abondance de protéines, pour les \\néchantillons non WT, ne suit pas la loi de Benford pour un \",\n",
    "          \"risque 𝛼=5%.\")"
   ]
  },
  {
   "cell_type": "markdown",
   "id": "acoustic-there",
   "metadata": {},
   "source": [
    "## Analyse des deux $1^{er}$ digit"
   ]
  },
  {
   "cell_type": "code",
   "execution_count": 136,
   "id": "distant-slovenia",
   "metadata": {},
   "outputs": [],
   "source": [
    "f_benford = benford.get_theoretical_freq_benford(2)\n",
    "d_obs = benford.count_first_digit(non_wt_tot, 2)"
   ]
  },
  {
   "cell_type": "markdown",
   "id": "arranged-holiday",
   "metadata": {},
   "source": [
    "### Histogramme de la fréquence des first digit de la loi de Benford et de l'abondance des protéines des échantillons non WT"
   ]
  },
  {
   "cell_type": "code",
   "execution_count": 137,
   "id": "danish-initial",
   "metadata": {},
   "outputs": [
    {
     "data": {
      "image/png": "[encoded data removed]",
      "text/plain": [
       "<Figure size 2880x1080 with 1 Axes>"
      ]
     },
     "metadata": {
      "needs_background": "light"
     },
     "output_type": "display_data"
    }
   ],
   "source": [
    "benford.build_hist_freq_ben(benford.normalize_first_digit(d_obs), f_benford, nb_digit=2,\n",
    "                            title=(\"Theoretical Benford law and First digit distribution \\n \"\n",
    "                            f\"of the {sum(d_obs)} protein  abundances\"),\n",
    "                            legend=\"protein Abundances\", size=(40, 15))"
   ]
  },
  {
   "cell_type": "markdown",
   "id": "blank-burke",
   "metadata": {},
   "source": [
    "### Test statistique par la procédure \"bootstrap\""
   ]
  },
  {
   "cell_type": "code",
   "execution_count": 138,
   "id": "varying-living",
   "metadata": {},
   "outputs": [
    {
     "name": "stdout",
     "output_type": "stream",
     "text": [
      "statistics : 89.65161882831376 ; p-value : 0.46069324202800804 ; number of significant tests : 64\n",
      "CPU times: user 4.19 s, sys: 12.2 ms, total: 4.2 s\n",
      "Wall time: 4.21 s\n"
     ]
    }
   ],
   "source": [
    "%%time\n",
    "statistics, P_val, nb_signif = benford.calculate_bootstrap_chi2(non_wt_tot, f_benford, nb_digit=2)"
   ]
  },
  {
   "cell_type": "code",
   "execution_count": 139,
   "id": "challenging-transsexual",
   "metadata": {},
   "outputs": [
    {
     "name": "stdout",
     "output_type": "stream",
     "text": [
      "Le résultat du test montre que les 2 premiers chiffres significatifs de l'abondance de protéines, \n",
      "pour les échantillons non WT, suit la loi de Benford pour un risque 𝛼=5%.\n"
     ]
    }
   ],
   "source": [
    "if p_val > 0.05:\n",
    "    print(\"Le résultat du test montre que les 2 premiers chiffres significatifs de\",\n",
    "          \"l'abondance de protéines, \\npour les échantillons non WT, suit la loi de Benford pour un risque 𝛼=5%.\")\n",
    "else:\n",
    "    print(\"Le résultat du test montre que les 2 premiers chiffres significatifs de\",\n",
    "          \"l'abondance total de protéines, \\npour les \\néchantillons non WT, ne suit pas la loi de Benford pour un \",\n",
    "          \"risque 𝛼=5%.\")"
   ]
  },
  {
   "cell_type": "markdown",
   "id": "analyzed-range",
   "metadata": {},
   "source": [
    "nous allons maintenant nous intéresser aux abondances de protéines obtenus pour chacunes des conditions non WT.\n",
    "## <font color='red'> Analyse sur les données d'abondance pour pour chacunes des conditions non WT </font>\n",
    "### <font color='green'> Analyse des données d'abondance de protéines pour la condition AMFR </font>\n",
    "#### récupération des données de la condition AMFR et nettyage des données"
   ]
  },
  {
   "cell_type": "code",
   "execution_count": 140,
   "id": "historical-matter",
   "metadata": {},
   "outputs": [
    {
     "name": "stdout",
     "output_type": "stream",
     "text": [
      "\n",
      "condition AMFR :\n",
      "(1917, 2)\n",
      "         AMFR_1        AMFR_2\n",
      "0  653449.78450  6.365099e+05\n",
      "1  939360.24170  1.086076e+06\n",
      "2    2578.10604  3.096190e+03\n",
      "3  170103.36070  1.373951e+05\n",
      "4  696620.77780  7.875347e+05\n"
     ]
    }
   ],
   "source": [
    "condition_id = ['AMFR_1', 'AMFR_2']\n",
    "condition = data[condition_id]\n",
    "print(\"\\ncondition AMFR :\")\n",
    "print(condition.shape)\n",
    "print(condition.head())"
   ]
  },
  {
   "cell_type": "code",
   "execution_count": 141,
   "id": "frozen-cocktail",
   "metadata": {},
   "outputs": [
    {
     "name": "stdout",
     "output_type": "stream",
     "text": [
      "\n",
      "condition AMFR :\n",
      "(3834,)\n",
      "[653449.7845 636509.9156 939360.2417 ...      0.          0.\n",
      "      0.    ]\n"
     ]
    }
   ],
   "source": [
    "# données dans un array d'une dimmenssion\n",
    "condition = condition.values.reshape(condition.shape[0] * condition.shape[1])\n",
    "print(\"\\ncondition AMFR :\")\n",
    "print(condition.shape)\n",
    "print(condition)"
   ]
  },
  {
   "cell_type": "code",
   "execution_count": 142,
   "id": "damaged-prototype",
   "metadata": {},
   "outputs": [
    {
     "name": "stdout",
     "output_type": "stream",
     "text": [
      "condition AMFR : (3149,)\n"
     ]
    }
   ],
   "source": [
    "# remove 0\n",
    "condition = condition[condition > 0]\n",
    "print(f\"condition AMFR : {condition.shape}\")"
   ]
  },
  {
   "cell_type": "markdown",
   "id": "convenient-singapore",
   "metadata": {},
   "source": [
    "### Histogramme de la fréquence des first digit de la loi de Benford et de l'abondance des protéines de la condition AMFR"
   ]
  },
  {
   "cell_type": "code",
   "execution_count": 146,
   "id": "native-success",
   "metadata": {},
   "outputs": [
    {
     "data": {
      "image/png": "[encoded data removed]",
      "text/plain": [
       "<Figure size 432x288 with 1 Axes>"
      ]
     },
     "metadata": {
      "needs_background": "light"
     },
     "output_type": "display_data"
    }
   ],
   "source": [
    "plt.hist(condition, bins=range(0, 2_000_000, 150_000));"
   ]
  },
  {
   "cell_type": "markdown",
   "id": "novel-spelling",
   "metadata": {},
   "source": [
    "### Analyse des $1^{er}$ digit"
   ]
  },
  {
   "cell_type": "code",
   "execution_count": 147,
   "id": "elder-forge",
   "metadata": {},
   "outputs": [],
   "source": [
    "f_benford = benford.get_theoretical_freq_benford()\n",
    "d_obs = benford.count_first_digit(condition)"
   ]
  },
  {
   "cell_type": "markdown",
   "id": "corresponding-variety",
   "metadata": {},
   "source": [
    "### Histogramme de la fréquence des first digit de la loi de Benford et de l'abondance de la condition AMFR"
   ]
  },
  {
   "cell_type": "code",
   "execution_count": 148,
   "id": "innovative-peripheral",
   "metadata": {},
   "outputs": [
    {
     "data": {
      "image/png": "[encoded data removed]",
      "text/plain": [
       "<Figure size 432x288 with 1 Axes>"
      ]
     },
     "metadata": {
      "needs_background": "light"
     },
     "output_type": "display_data"
    }
   ],
   "source": [
    "benford.build_hist_freq_ben(benford.normalize_first_digit(d_obs), f_benford, nb_digit=1,\n",
    "                            title=(\"Theoretical Benford law and First digit distribution \\n \"\n",
    "                            f\"of the {sum(d_obs)} AMFR codition, of the protein abundances\"),\n",
    "                            legend=\"AMFR condition protein Abundances\")"
   ]
  },
  {
   "cell_type": "markdown",
   "id": "active-occasion",
   "metadata": {},
   "source": [
    "### Test statistique par la procédure \"bootstrap\""
   ]
  },
  {
   "cell_type": "code",
   "execution_count": 149,
   "id": "balanced-rabbit",
   "metadata": {},
   "outputs": [
    {
     "name": "stdout",
     "output_type": "stream",
     "text": [
      "statistics : 6.976052929787453 ; p-value : 0.5392185786145502 ; number of significant tests : 18\n",
      "CPU times: user 2.26 s, sys: 10.3 ms, total: 2.27 s\n",
      "Wall time: 2.26 s\n"
     ]
    }
   ],
   "source": [
    "%%time\n",
    "statistics, p_val, nb_signif = benford.calculate_bootstrap_chi2(condition, f_benford, nb_digit=1)"
   ]
  },
  {
   "cell_type": "code",
   "execution_count": 151,
   "id": "rental-orientation",
   "metadata": {},
   "outputs": [
    {
     "name": "stdout",
     "output_type": "stream",
     "text": [
      "Le résultat du test montre que le premier chiffre significatif de l'abondance de protéines, pour la \n",
      "condition AMFR, suit la loi de Benford pour un risque 𝛼=5%.\n"
     ]
    }
   ],
   "source": [
    "if p_val > 0.05:\n",
    "    print(\"Le résultat du test montre que le premier chiffre significatif de\",\n",
    "          \"l'abondance de protéines, pour la \\ncondition AMFR, suit la loi de Benford pour un risque 𝛼=5%.\")\n",
    "else:\n",
    "    print(\"Le résultat du test montre que le premier chiffre significatif de\",\n",
    "          \"l'abondance de protéines, pour la \\ncondition AMFR, ne suit pas la loi de Benford pour un \",\n",
    "          \"risque 𝛼=5%.\")"
   ]
  },
  {
   "cell_type": "markdown",
   "id": "facial-marine",
   "metadata": {},
   "source": [
    "## Analyse des deux $1^{er}$ digit"
   ]
  },
  {
   "cell_type": "code",
   "execution_count": 152,
   "id": "breeding-florence",
   "metadata": {},
   "outputs": [],
   "source": [
    "f_benford = benford.get_theoretical_freq_benford(2)\n",
    "d_obs = benford.count_first_digit(condition, 2)"
   ]
  },
  {
   "cell_type": "markdown",
   "id": "czech-found",
   "metadata": {},
   "source": [
    "### Histogramme de la fréquence des first digit de la loi de Benford et de l'abondance de la condition AMFR"
   ]
  },
  {
   "cell_type": "code",
   "execution_count": 153,
   "id": "intellectual-february",
   "metadata": {},
   "outputs": [
    {
     "data": {
      "image/png": "[encoded data removed]",
      "text/plain": [
       "<Figure size 2880x1080 with 1 Axes>"
      ]
     },
     "metadata": {
      "needs_background": "light"
     },
     "output_type": "display_data"
    }
   ],
   "source": [
    "benford.build_hist_freq_ben(benford.normalize_first_digit(d_obs), f_benford, nb_digit=2,\n",
    "                            title=(\"Theoretical Benford law and First digit distribution \\n \"\n",
    "                            f\"of the {sum(d_obs)} AMFR codition, of the protein  abundances\"),\n",
    "                            legend=\"AMFR condition protein Abundances\", size=(40, 15))"
   ]
  },
  {
   "cell_type": "markdown",
   "id": "opening-bahamas",
   "metadata": {},
   "source": [
    "On observe un écart entre la fréquence des 2 first digit de l'abondance de protéines pour la \\ncondition AMFR, et celle de la loi théorique de Benford.\n",
    "### Test statistique par la procédure \"bootstrap\""
   ]
  },
  {
   "cell_type": "code",
   "execution_count": 154,
   "id": "australian-lesson",
   "metadata": {},
   "outputs": [
    {
     "name": "stdout",
     "output_type": "stream",
     "text": [
      "statistics : 90.75629888013472 ; p-value : 0.4283022603508314 ; number of significant tests : 67\n",
      "CPU times: user 2.55 s, sys: 13.7 ms, total: 2.56 s\n",
      "Wall time: 2.55 s\n"
     ]
    }
   ],
   "source": [
    "%%time\n",
    "statistics, P_val, nb_signif = benford.calculate_bootstrap_chi2(condition, f_benford, nb_digit=2)"
   ]
  },
  {
   "cell_type": "code",
   "execution_count": 157,
   "id": "informal-solomon",
   "metadata": {},
   "outputs": [
    {
     "name": "stdout",
     "output_type": "stream",
     "text": [
      "Le résultat du test montre que les 2 premiers chiffres significatifs de l'abondance de protéines, \n",
      "pour la condition AMFR, suit la loi de Benford pour un risque 𝛼=5%.\n"
     ]
    }
   ],
   "source": [
    "if p_val > 0.05:\n",
    "    print(\"Le résultat du test montre que les 2 premiers chiffres significatifs de\",\n",
    "          \"l'abondance de protéines, \\npour la condition AMFR, suit la loi de Benford pour un risque 𝛼=5%.\")\n",
    "else:\n",
    "    print(\"Le résultat du test montre que les 2 premiers chiffres significatifs de\",\n",
    "          \"l'abondance total de protéines, \\npour la condition AMFR, ne suit pas la loi de Benford pour un \",\n",
    "          \"risque 𝛼=5%.\")"
   ]
  },
  {
   "cell_type": "code",
   "execution_count": null,
   "id": "empirical-mustang",
   "metadata": {},
   "outputs": [],
   "source": []
  }
 ],
 "metadata": {
  "kernelspec": {
   "display_name": "Python 3",
   "language": "python",
   "name": "python3"
  },
  "language_info": {
   "codemirror_mode": {
    "name": "ipython",
    "version": 3
   },
   "file_extension": ".py",
   "mimetype": "text/x-python",
   "name": "python",
   "nbconvert_exporter": "python",
   "pygments_lexer": "ipython3",
   "version": "3.7.9"
  }
 },
 "nbformat": 4,
 "nbformat_minor": 5
}
