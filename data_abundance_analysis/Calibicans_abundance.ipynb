{
 "cells": [
  {
   "cell_type": "markdown",
   "id": "blind-universal",
   "metadata": {},
   "source": [
    "# Loi de Benford et données d'abondance de protéines\n",
    "Ce script a pour but de vérifier si l'abondance de protéines, d'un fichier d'abondance de protéines extrait depuis [PRIDE](https://www.ebi.ac.uk/pride/), suit la loi de Benford."
   ]
  },
  {
   "cell_type": "code",
   "execution_count": 1,
   "id": "abandoned-raleigh",
   "metadata": {},
   "outputs": [],
   "source": [
    "import pandas as pd\n",
    "import numpy as np\n",
    "import matplotlib.pyplot as plt\n",
    "import os, sys\n",
    "\n",
    "sys.path.insert(0, '..')\n",
    "\n",
    "import benford\n",
    "\n",
    "%load_ext autoreload\n",
    "%autoreload 2"
   ]
  },
  {
   "cell_type": "markdown",
   "id": "editorial-drilling",
   "metadata": {},
   "source": [
    "## Téléchargement du jeu de données"
   ]
  },
  {
   "cell_type": "code",
   "execution_count": 2,
   "id": "received-folder",
   "metadata": {},
   "outputs": [],
   "source": [
    "if not os.path.exists(\"1512006-Calbicans-QUANTI.csv\"):\n",
    "    !wget http://ftp.pride.ebi.ac.uk/pride/data/archive/2019/07/PXD014125/1512006-Calbicans-QUANTI.csv"
   ]
  },
  {
   "cell_type": "markdown",
   "id": "furnished-pharmacology",
   "metadata": {},
   "source": [
    "## Chargement et exploration du jeu de données "
   ]
  },
  {
   "cell_type": "code",
   "execution_count": 3,
   "id": "restricted-aviation",
   "metadata": {},
   "outputs": [],
   "source": [
    "data = pd.read_csv(\"1512006-Calbicans-QUANTI.csv\", skiprows=2)"
   ]
  },
  {
   "cell_type": "code",
   "execution_count": 4,
   "id": "central-attribute",
   "metadata": {},
   "outputs": [
    {
     "data": {
      "text/plain": [
       "(2566, 45)"
      ]
     },
     "execution_count": 4,
     "metadata": {},
     "output_type": "execute_result"
    }
   ],
   "source": [
    "data.shape"
   ]
  },
  {
   "cell_type": "code",
   "execution_count": 5,
   "id": "headed-refrigerator",
   "metadata": {},
   "outputs": [
    {
     "data": {
      "text/html": [
       "<div>\n",
       "<style scoped>\n",
       "    .dataframe tbody tr th:only-of-type {\n",
       "        vertical-align: middle;\n",
       "    }\n",
       "\n",
       "    .dataframe tbody tr th {\n",
       "        vertical-align: top;\n",
       "    }\n",
       "\n",
       "    .dataframe thead th {\n",
       "        text-align: right;\n",
       "    }\n",
       "</style>\n",
       "<table border=\"1\" class=\"dataframe\">\n",
       "  <thead>\n",
       "    <tr style=\"text-align: right;\">\n",
       "      <th></th>\n",
       "      <th>Accession</th>\n",
       "      <th>Peptide count</th>\n",
       "      <th>Unique peptides</th>\n",
       "      <th>Confidence score</th>\n",
       "      <th>Anova (p)</th>\n",
       "      <th>Max fold change</th>\n",
       "      <th>Highest mean condition</th>\n",
       "      <th>Lowest mean condition</th>\n",
       "      <th>Description</th>\n",
       "      <th>1512006-1</th>\n",
       "      <th>...</th>\n",
       "      <th>1512006-2.2</th>\n",
       "      <th>1512006-8.2</th>\n",
       "      <th>1512006-3.2</th>\n",
       "      <th>1512006-9.2</th>\n",
       "      <th>1512006-4.2</th>\n",
       "      <th>1512006-10.2</th>\n",
       "      <th>1512006-5_150410082104.2</th>\n",
       "      <th>1512006-11.2</th>\n",
       "      <th>1512006-6_150410115425.2</th>\n",
       "      <th>1512006-12.2</th>\n",
       "    </tr>\n",
       "  </thead>\n",
       "  <tbody>\n",
       "    <tr>\n",
       "      <th>0</th>\n",
       "      <td>orf19.3365</td>\n",
       "      <td>1</td>\n",
       "      <td>1</td>\n",
       "      <td>29.90</td>\n",
       "      <td>0.000002</td>\n",
       "      <td>inf</td>\n",
       "      <td>Tris 2 60</td>\n",
       "      <td>Tris 1 60</td>\n",
       "      <td>DAO2 CGDID:CAL0004175 COORDS:Ca21chr4_C_albica...</td>\n",
       "      <td>6.290566e+04</td>\n",
       "      <td>...</td>\n",
       "      <td>0</td>\n",
       "      <td>0</td>\n",
       "      <td>0</td>\n",
       "      <td>0</td>\n",
       "      <td>0</td>\n",
       "      <td>0</td>\n",
       "      <td>0</td>\n",
       "      <td>0</td>\n",
       "      <td>0</td>\n",
       "      <td>1</td>\n",
       "    </tr>\n",
       "    <tr>\n",
       "      <th>1</th>\n",
       "      <td>orf19.5112</td>\n",
       "      <td>24</td>\n",
       "      <td>24</td>\n",
       "      <td>1946.82</td>\n",
       "      <td>0.000003</td>\n",
       "      <td>3.250834</td>\n",
       "      <td>Ctrl 60</td>\n",
       "      <td>Tris 2 10</td>\n",
       "      <td>TKL1 CGDID:CAL0002508 COORDS:Ca21chr1_C_albica...</td>\n",
       "      <td>3.401376e+07</td>\n",
       "      <td>...</td>\n",
       "      <td>30</td>\n",
       "      <td>21</td>\n",
       "      <td>19</td>\n",
       "      <td>18</td>\n",
       "      <td>17</td>\n",
       "      <td>13</td>\n",
       "      <td>19</td>\n",
       "      <td>24</td>\n",
       "      <td>22</td>\n",
       "      <td>29</td>\n",
       "    </tr>\n",
       "    <tr>\n",
       "      <th>2</th>\n",
       "      <td>orf19.3160</td>\n",
       "      <td>4</td>\n",
       "      <td>1</td>\n",
       "      <td>271.39</td>\n",
       "      <td>0.000008</td>\n",
       "      <td>inf</td>\n",
       "      <td>Tris 2 60</td>\n",
       "      <td>Ctrl 10</td>\n",
       "      <td>HSP12 CGDID:CAL0002358 COORDS:Ca21chr5_C_albic...</td>\n",
       "      <td>0.000000e+00</td>\n",
       "      <td>...</td>\n",
       "      <td>0</td>\n",
       "      <td>0</td>\n",
       "      <td>0</td>\n",
       "      <td>0</td>\n",
       "      <td>0</td>\n",
       "      <td>0</td>\n",
       "      <td>0</td>\n",
       "      <td>1</td>\n",
       "      <td>1</td>\n",
       "      <td>1</td>\n",
       "    </tr>\n",
       "    <tr>\n",
       "      <th>3</th>\n",
       "      <td>orf19.3646</td>\n",
       "      <td>13</td>\n",
       "      <td>13</td>\n",
       "      <td>604.54</td>\n",
       "      <td>0.000014</td>\n",
       "      <td>27.365113</td>\n",
       "      <td>Ctrl 60</td>\n",
       "      <td>Tris 2 60</td>\n",
       "      <td>CTR1 CGDID:CAL0000406 COORDS:Ca21chr6_C_albica...</td>\n",
       "      <td>1.052686e+07</td>\n",
       "      <td>...</td>\n",
       "      <td>4</td>\n",
       "      <td>3</td>\n",
       "      <td>4</td>\n",
       "      <td>3</td>\n",
       "      <td>15</td>\n",
       "      <td>8</td>\n",
       "      <td>1</td>\n",
       "      <td>2</td>\n",
       "      <td>5</td>\n",
       "      <td>5</td>\n",
       "    </tr>\n",
       "    <tr>\n",
       "      <th>4</th>\n",
       "      <td>orf19.1564</td>\n",
       "      <td>2</td>\n",
       "      <td>1</td>\n",
       "      <td>101.16</td>\n",
       "      <td>0.000020</td>\n",
       "      <td>inf</td>\n",
       "      <td>Tris 2 60</td>\n",
       "      <td>Ctrl 10</td>\n",
       "      <td>orf19.1564 CGDID:CAL0005564 COORDS:Ca21chr2_C_...</td>\n",
       "      <td>0.000000e+00</td>\n",
       "      <td>...</td>\n",
       "      <td>0</td>\n",
       "      <td>0</td>\n",
       "      <td>0</td>\n",
       "      <td>0</td>\n",
       "      <td>0</td>\n",
       "      <td>0</td>\n",
       "      <td>0</td>\n",
       "      <td>0</td>\n",
       "      <td>0</td>\n",
       "      <td>1</td>\n",
       "    </tr>\n",
       "  </tbody>\n",
       "</table>\n",
       "<p>5 rows × 45 columns</p>\n",
       "</div>"
      ],
      "text/plain": [
       "    Accession  Peptide count  Unique peptides  Confidence score  Anova (p)  \\\n",
       "0  orf19.3365              1                1             29.90   0.000002   \n",
       "1  orf19.5112             24               24           1946.82   0.000003   \n",
       "2  orf19.3160              4                1            271.39   0.000008   \n",
       "3  orf19.3646             13               13            604.54   0.000014   \n",
       "4  orf19.1564              2                1            101.16   0.000020   \n",
       "\n",
       "   Max fold change Highest mean condition Lowest mean condition  \\\n",
       "0              inf              Tris 2 60             Tris 1 60   \n",
       "1         3.250834                Ctrl 60             Tris 2 10   \n",
       "2              inf              Tris 2 60               Ctrl 10   \n",
       "3        27.365113                Ctrl 60             Tris 2 60   \n",
       "4              inf              Tris 2 60               Ctrl 10   \n",
       "\n",
       "                                         Description     1512006-1  ...  \\\n",
       "0  DAO2 CGDID:CAL0004175 COORDS:Ca21chr4_C_albica...  6.290566e+04  ...   \n",
       "1  TKL1 CGDID:CAL0002508 COORDS:Ca21chr1_C_albica...  3.401376e+07  ...   \n",
       "2  HSP12 CGDID:CAL0002358 COORDS:Ca21chr5_C_albic...  0.000000e+00  ...   \n",
       "3  CTR1 CGDID:CAL0000406 COORDS:Ca21chr6_C_albica...  1.052686e+07  ...   \n",
       "4  orf19.1564 CGDID:CAL0005564 COORDS:Ca21chr2_C_...  0.000000e+00  ...   \n",
       "\n",
       "   1512006-2.2  1512006-8.2  1512006-3.2  1512006-9.2  1512006-4.2  \\\n",
       "0            0            0            0            0            0   \n",
       "1           30           21           19           18           17   \n",
       "2            0            0            0            0            0   \n",
       "3            4            3            4            3           15   \n",
       "4            0            0            0            0            0   \n",
       "\n",
       "   1512006-10.2  1512006-5_150410082104.2  1512006-11.2  \\\n",
       "0             0                         0             0   \n",
       "1            13                        19            24   \n",
       "2             0                         0             1   \n",
       "3             8                         1             2   \n",
       "4             0                         0             0   \n",
       "\n",
       "   1512006-6_150410115425.2  1512006-12.2  \n",
       "0                         0             1  \n",
       "1                        22            29  \n",
       "2                         1             1  \n",
       "3                         5             5  \n",
       "4                         0             1  \n",
       "\n",
       "[5 rows x 45 columns]"
      ]
     },
     "execution_count": 5,
     "metadata": {},
     "output_type": "execute_result"
    }
   ],
   "source": [
    "data.head()"
   ]
  },
  {
   "cell_type": "code",
   "execution_count": 6,
   "id": "acoustic-relevance",
   "metadata": {},
   "outputs": [
    {
     "data": {
      "text/plain": [
       "Index(['Accession', 'Peptide count', 'Unique peptides', 'Confidence score',\n",
       "       'Anova (p)', 'Max fold change', 'Highest mean condition',\n",
       "       'Lowest mean condition', 'Description', '1512006-1', '1512006-7',\n",
       "       '1512006-2', '1512006-8', '1512006-3', '1512006-9', '1512006-4',\n",
       "       '1512006-10', '1512006-5_150410082104', '1512006-11',\n",
       "       '1512006-6_150410115425', '1512006-12', '1512006-1.1', '1512006-7.1',\n",
       "       '1512006-2.1', '1512006-8.1', '1512006-3.1', '1512006-9.1',\n",
       "       '1512006-4.1', '1512006-10.1', '1512006-5_150410082104.1',\n",
       "       '1512006-11.1', '1512006-6_150410115425.1', '1512006-12.1',\n",
       "       '1512006-1.2', '1512006-7.2', '1512006-2.2', '1512006-8.2',\n",
       "       '1512006-3.2', '1512006-9.2', '1512006-4.2', '1512006-10.2',\n",
       "       '1512006-5_150410082104.2', '1512006-11.2', '1512006-6_150410115425.2',\n",
       "       '1512006-12.2'],\n",
       "      dtype='object')"
      ]
     },
     "execution_count": 6,
     "metadata": {},
     "output_type": "execute_result"
    }
   ],
   "source": [
    "data.columns"
   ]
  },
  {
   "cell_type": "code",
   "execution_count": 7,
   "id": "isolated-detection",
   "metadata": {},
   "outputs": [],
   "source": [
    "normalized_columns = ['1512006-1', '1512006-7', '1512006-2', '1512006-8',\n",
    "                      '1512006-3', '1512006-9', '1512006-4', '1512006-10',\n",
    "                      '1512006-5_150410082104', '1512006-11',\n",
    "                      '1512006-6_150410115425', '1512006-12']\n",
    "raw_columns = ['1512006-1.1', '1512006-7.1', '1512006-2.1', '1512006-8.1',\n",
    "               '1512006-3.1', '1512006-9.1', '1512006-4.1', '1512006-10.1',\n",
    "               '1512006-5_150410082104.1', '1512006-11.1',\n",
    "               '1512006-6_150410115425.1', '1512006-12.1']"
   ]
  },
  {
   "cell_type": "code",
   "execution_count": 8,
   "id": "detailed-fellowship",
   "metadata": {},
   "outputs": [
    {
     "data": {
      "text/html": [
       "<div>\n",
       "<style scoped>\n",
       "    .dataframe tbody tr th:only-of-type {\n",
       "        vertical-align: middle;\n",
       "    }\n",
       "\n",
       "    .dataframe tbody tr th {\n",
       "        vertical-align: top;\n",
       "    }\n",
       "\n",
       "    .dataframe thead th {\n",
       "        text-align: right;\n",
       "    }\n",
       "</style>\n",
       "<table border=\"1\" class=\"dataframe\">\n",
       "  <thead>\n",
       "    <tr style=\"text-align: right;\">\n",
       "      <th></th>\n",
       "      <th>Peptide count</th>\n",
       "      <th>Unique peptides</th>\n",
       "      <th>Confidence score</th>\n",
       "      <th>Anova (p)</th>\n",
       "      <th>Max fold change</th>\n",
       "      <th>1512006-1</th>\n",
       "      <th>1512006-7</th>\n",
       "      <th>1512006-2</th>\n",
       "      <th>1512006-8</th>\n",
       "      <th>1512006-3</th>\n",
       "      <th>...</th>\n",
       "      <th>1512006-2.2</th>\n",
       "      <th>1512006-8.2</th>\n",
       "      <th>1512006-3.2</th>\n",
       "      <th>1512006-9.2</th>\n",
       "      <th>1512006-4.2</th>\n",
       "      <th>1512006-10.2</th>\n",
       "      <th>1512006-5_150410082104.2</th>\n",
       "      <th>1512006-11.2</th>\n",
       "      <th>1512006-6_150410115425.2</th>\n",
       "      <th>1512006-12.2</th>\n",
       "    </tr>\n",
       "  </thead>\n",
       "  <tbody>\n",
       "    <tr>\n",
       "      <th>count</th>\n",
       "      <td>2566.000000</td>\n",
       "      <td>2566.000000</td>\n",
       "      <td>2566.000000</td>\n",
       "      <td>2356.000000</td>\n",
       "      <td>2356.000000</td>\n",
       "      <td>2.356000e+03</td>\n",
       "      <td>2.356000e+03</td>\n",
       "      <td>2.356000e+03</td>\n",
       "      <td>2.356000e+03</td>\n",
       "      <td>2.356000e+03</td>\n",
       "      <td>...</td>\n",
       "      <td>2566.000000</td>\n",
       "      <td>2566.000000</td>\n",
       "      <td>2566.000000</td>\n",
       "      <td>2566.000000</td>\n",
       "      <td>2566.000000</td>\n",
       "      <td>2566.000000</td>\n",
       "      <td>2566.000000</td>\n",
       "      <td>2566.000000</td>\n",
       "      <td>2566.000000</td>\n",
       "      <td>2566.000000</td>\n",
       "    </tr>\n",
       "    <tr>\n",
       "      <th>mean</th>\n",
       "      <td>5.966875</td>\n",
       "      <td>4.924006</td>\n",
       "      <td>329.951567</td>\n",
       "      <td>0.316327</td>\n",
       "      <td>inf</td>\n",
       "      <td>6.463053e+06</td>\n",
       "      <td>8.785142e+06</td>\n",
       "      <td>6.601764e+06</td>\n",
       "      <td>5.323631e+06</td>\n",
       "      <td>4.636626e+06</td>\n",
       "      <td>...</td>\n",
       "      <td>3.934918</td>\n",
       "      <td>2.997272</td>\n",
       "      <td>2.920109</td>\n",
       "      <td>2.801637</td>\n",
       "      <td>2.675370</td>\n",
       "      <td>1.516758</td>\n",
       "      <td>2.888153</td>\n",
       "      <td>3.286828</td>\n",
       "      <td>3.576383</td>\n",
       "      <td>4.000000</td>\n",
       "    </tr>\n",
       "    <tr>\n",
       "      <th>std</th>\n",
       "      <td>6.425649</td>\n",
       "      <td>5.917107</td>\n",
       "      <td>463.406302</td>\n",
       "      <td>0.289389</td>\n",
       "      <td>NaN</td>\n",
       "      <td>2.782584e+07</td>\n",
       "      <td>3.592861e+07</td>\n",
       "      <td>2.682403e+07</td>\n",
       "      <td>2.167646e+07</td>\n",
       "      <td>1.870482e+07</td>\n",
       "      <td>...</td>\n",
       "      <td>7.652240</td>\n",
       "      <td>5.576230</td>\n",
       "      <td>5.713587</td>\n",
       "      <td>5.313268</td>\n",
       "      <td>5.588438</td>\n",
       "      <td>3.486022</td>\n",
       "      <td>5.220402</td>\n",
       "      <td>5.935091</td>\n",
       "      <td>6.629855</td>\n",
       "      <td>7.488835</td>\n",
       "    </tr>\n",
       "    <tr>\n",
       "      <th>min</th>\n",
       "      <td>1.000000</td>\n",
       "      <td>0.000000</td>\n",
       "      <td>0.000000</td>\n",
       "      <td>0.000002</td>\n",
       "      <td>1.272817</td>\n",
       "      <td>0.000000e+00</td>\n",
       "      <td>0.000000e+00</td>\n",
       "      <td>0.000000e+00</td>\n",
       "      <td>0.000000e+00</td>\n",
       "      <td>0.000000e+00</td>\n",
       "      <td>...</td>\n",
       "      <td>0.000000</td>\n",
       "      <td>0.000000</td>\n",
       "      <td>0.000000</td>\n",
       "      <td>0.000000</td>\n",
       "      <td>0.000000</td>\n",
       "      <td>0.000000</td>\n",
       "      <td>0.000000</td>\n",
       "      <td>0.000000</td>\n",
       "      <td>0.000000</td>\n",
       "      <td>0.000000</td>\n",
       "    </tr>\n",
       "    <tr>\n",
       "      <th>25%</th>\n",
       "      <td>2.000000</td>\n",
       "      <td>1.000000</td>\n",
       "      <td>62.225000</td>\n",
       "      <td>0.058240</td>\n",
       "      <td>2.417902</td>\n",
       "      <td>5.596203e+04</td>\n",
       "      <td>7.602239e+04</td>\n",
       "      <td>6.311675e+04</td>\n",
       "      <td>5.691979e+04</td>\n",
       "      <td>4.422048e+04</td>\n",
       "      <td>...</td>\n",
       "      <td>0.000000</td>\n",
       "      <td>0.000000</td>\n",
       "      <td>0.000000</td>\n",
       "      <td>0.000000</td>\n",
       "      <td>0.000000</td>\n",
       "      <td>0.000000</td>\n",
       "      <td>0.000000</td>\n",
       "      <td>0.000000</td>\n",
       "      <td>0.000000</td>\n",
       "      <td>0.000000</td>\n",
       "    </tr>\n",
       "    <tr>\n",
       "      <th>50%</th>\n",
       "      <td>4.000000</td>\n",
       "      <td>3.000000</td>\n",
       "      <td>157.265000</td>\n",
       "      <td>0.229864</td>\n",
       "      <td>3.866055</td>\n",
       "      <td>3.728819e+05</td>\n",
       "      <td>5.052376e+05</td>\n",
       "      <td>3.936991e+05</td>\n",
       "      <td>3.310843e+05</td>\n",
       "      <td>2.914040e+05</td>\n",
       "      <td>...</td>\n",
       "      <td>1.000000</td>\n",
       "      <td>1.000000</td>\n",
       "      <td>1.000000</td>\n",
       "      <td>1.000000</td>\n",
       "      <td>1.000000</td>\n",
       "      <td>0.000000</td>\n",
       "      <td>1.000000</td>\n",
       "      <td>1.000000</td>\n",
       "      <td>1.000000</td>\n",
       "      <td>1.000000</td>\n",
       "    </tr>\n",
       "    <tr>\n",
       "      <th>75%</th>\n",
       "      <td>8.000000</td>\n",
       "      <td>6.000000</td>\n",
       "      <td>389.705000</td>\n",
       "      <td>0.529185</td>\n",
       "      <td>10.111793</td>\n",
       "      <td>1.719191e+06</td>\n",
       "      <td>2.693200e+06</td>\n",
       "      <td>1.997724e+06</td>\n",
       "      <td>1.697935e+06</td>\n",
       "      <td>1.471927e+06</td>\n",
       "      <td>...</td>\n",
       "      <td>4.000000</td>\n",
       "      <td>3.000000</td>\n",
       "      <td>3.000000</td>\n",
       "      <td>3.000000</td>\n",
       "      <td>3.000000</td>\n",
       "      <td>1.000000</td>\n",
       "      <td>3.000000</td>\n",
       "      <td>4.000000</td>\n",
       "      <td>4.000000</td>\n",
       "      <td>4.000000</td>\n",
       "    </tr>\n",
       "    <tr>\n",
       "      <th>max</th>\n",
       "      <td>52.000000</td>\n",
       "      <td>47.000000</td>\n",
       "      <td>3915.770000</td>\n",
       "      <td>0.996207</td>\n",
       "      <td>inf</td>\n",
       "      <td>5.453465e+08</td>\n",
       "      <td>8.120249e+08</td>\n",
       "      <td>5.426768e+08</td>\n",
       "      <td>4.442926e+08</td>\n",
       "      <td>3.503934e+08</td>\n",
       "      <td>...</td>\n",
       "      <td>96.000000</td>\n",
       "      <td>73.000000</td>\n",
       "      <td>73.000000</td>\n",
       "      <td>65.000000</td>\n",
       "      <td>70.000000</td>\n",
       "      <td>47.000000</td>\n",
       "      <td>56.000000</td>\n",
       "      <td>64.000000</td>\n",
       "      <td>82.000000</td>\n",
       "      <td>95.000000</td>\n",
       "    </tr>\n",
       "  </tbody>\n",
       "</table>\n",
       "<p>8 rows × 41 columns</p>\n",
       "</div>"
      ],
      "text/plain": [
       "       Peptide count  Unique peptides  Confidence score    Anova (p)  \\\n",
       "count    2566.000000      2566.000000       2566.000000  2356.000000   \n",
       "mean        5.966875         4.924006        329.951567     0.316327   \n",
       "std         6.425649         5.917107        463.406302     0.289389   \n",
       "min         1.000000         0.000000          0.000000     0.000002   \n",
       "25%         2.000000         1.000000         62.225000     0.058240   \n",
       "50%         4.000000         3.000000        157.265000     0.229864   \n",
       "75%         8.000000         6.000000        389.705000     0.529185   \n",
       "max        52.000000        47.000000       3915.770000     0.996207   \n",
       "\n",
       "       Max fold change     1512006-1     1512006-7     1512006-2  \\\n",
       "count      2356.000000  2.356000e+03  2.356000e+03  2.356000e+03   \n",
       "mean               inf  6.463053e+06  8.785142e+06  6.601764e+06   \n",
       "std                NaN  2.782584e+07  3.592861e+07  2.682403e+07   \n",
       "min           1.272817  0.000000e+00  0.000000e+00  0.000000e+00   \n",
       "25%           2.417902  5.596203e+04  7.602239e+04  6.311675e+04   \n",
       "50%           3.866055  3.728819e+05  5.052376e+05  3.936991e+05   \n",
       "75%          10.111793  1.719191e+06  2.693200e+06  1.997724e+06   \n",
       "max                inf  5.453465e+08  8.120249e+08  5.426768e+08   \n",
       "\n",
       "          1512006-8     1512006-3  ...  1512006-2.2  1512006-8.2  1512006-3.2  \\\n",
       "count  2.356000e+03  2.356000e+03  ...  2566.000000  2566.000000  2566.000000   \n",
       "mean   5.323631e+06  4.636626e+06  ...     3.934918     2.997272     2.920109   \n",
       "std    2.167646e+07  1.870482e+07  ...     7.652240     5.576230     5.713587   \n",
       "min    0.000000e+00  0.000000e+00  ...     0.000000     0.000000     0.000000   \n",
       "25%    5.691979e+04  4.422048e+04  ...     0.000000     0.000000     0.000000   \n",
       "50%    3.310843e+05  2.914040e+05  ...     1.000000     1.000000     1.000000   \n",
       "75%    1.697935e+06  1.471927e+06  ...     4.000000     3.000000     3.000000   \n",
       "max    4.442926e+08  3.503934e+08  ...    96.000000    73.000000    73.000000   \n",
       "\n",
       "       1512006-9.2  1512006-4.2  1512006-10.2  1512006-5_150410082104.2  \\\n",
       "count  2566.000000  2566.000000   2566.000000               2566.000000   \n",
       "mean      2.801637     2.675370      1.516758                  2.888153   \n",
       "std       5.313268     5.588438      3.486022                  5.220402   \n",
       "min       0.000000     0.000000      0.000000                  0.000000   \n",
       "25%       0.000000     0.000000      0.000000                  0.000000   \n",
       "50%       1.000000     1.000000      0.000000                  1.000000   \n",
       "75%       3.000000     3.000000      1.000000                  3.000000   \n",
       "max      65.000000    70.000000     47.000000                 56.000000   \n",
       "\n",
       "       1512006-11.2  1512006-6_150410115425.2  1512006-12.2  \n",
       "count   2566.000000               2566.000000   2566.000000  \n",
       "mean       3.286828                  3.576383      4.000000  \n",
       "std        5.935091                  6.629855      7.488835  \n",
       "min        0.000000                  0.000000      0.000000  \n",
       "25%        0.000000                  0.000000      0.000000  \n",
       "50%        1.000000                  1.000000      1.000000  \n",
       "75%        4.000000                  4.000000      4.000000  \n",
       "max       64.000000                 82.000000     95.000000  \n",
       "\n",
       "[8 rows x 41 columns]"
      ]
     },
     "execution_count": 8,
     "metadata": {},
     "output_type": "execute_result"
    }
   ],
   "source": [
    "data.describe()"
   ]
  },
  {
   "cell_type": "markdown",
   "id": "employed-medicaid",
   "metadata": {},
   "source": [
    "## Récupération des abondances nomalisées"
   ]
  },
  {
   "cell_type": "code",
   "execution_count": 9,
   "id": "formal-jason",
   "metadata": {},
   "outputs": [
    {
     "name": "stdout",
     "output_type": "stream",
     "text": [
      "(2566, 12)\n"
     ]
    },
    {
     "data": {
      "text/html": [
       "<div>\n",
       "<style scoped>\n",
       "    .dataframe tbody tr th:only-of-type {\n",
       "        vertical-align: middle;\n",
       "    }\n",
       "\n",
       "    .dataframe tbody tr th {\n",
       "        vertical-align: top;\n",
       "    }\n",
       "\n",
       "    .dataframe thead th {\n",
       "        text-align: right;\n",
       "    }\n",
       "</style>\n",
       "<table border=\"1\" class=\"dataframe\">\n",
       "  <thead>\n",
       "    <tr style=\"text-align: right;\">\n",
       "      <th></th>\n",
       "      <th>1512006-1</th>\n",
       "      <th>1512006-7</th>\n",
       "      <th>1512006-2</th>\n",
       "      <th>1512006-8</th>\n",
       "      <th>1512006-3</th>\n",
       "      <th>1512006-9</th>\n",
       "      <th>1512006-4</th>\n",
       "      <th>1512006-10</th>\n",
       "      <th>1512006-5_150410082104</th>\n",
       "      <th>1512006-11</th>\n",
       "      <th>1512006-6_150410115425</th>\n",
       "      <th>1512006-12</th>\n",
       "    </tr>\n",
       "  </thead>\n",
       "  <tbody>\n",
       "    <tr>\n",
       "      <th>0</th>\n",
       "      <td>6.290566e+04</td>\n",
       "      <td>5.994856e+04</td>\n",
       "      <td>4.275339e+04</td>\n",
       "      <td>8.444083e+04</td>\n",
       "      <td>2.490453e+04</td>\n",
       "      <td>5.681818e+04</td>\n",
       "      <td>1.892062e+05</td>\n",
       "      <td>4.468102e+04</td>\n",
       "      <td>0.000000e+00</td>\n",
       "      <td>0.000000e+00</td>\n",
       "      <td>1.159222e+05</td>\n",
       "      <td>1.439172e+05</td>\n",
       "    </tr>\n",
       "    <tr>\n",
       "      <th>1</th>\n",
       "      <td>3.401376e+07</td>\n",
       "      <td>3.451834e+07</td>\n",
       "      <td>2.690502e+07</td>\n",
       "      <td>2.442199e+07</td>\n",
       "      <td>1.765252e+07</td>\n",
       "      <td>1.676820e+07</td>\n",
       "      <td>5.337521e+07</td>\n",
       "      <td>5.852085e+07</td>\n",
       "      <td>2.459692e+07</td>\n",
       "      <td>2.617207e+07</td>\n",
       "      <td>3.230299e+07</td>\n",
       "      <td>3.249965e+07</td>\n",
       "    </tr>\n",
       "    <tr>\n",
       "      <th>2</th>\n",
       "      <td>0.000000e+00</td>\n",
       "      <td>0.000000e+00</td>\n",
       "      <td>3.688051e+03</td>\n",
       "      <td>3.230039e+03</td>\n",
       "      <td>0.000000e+00</td>\n",
       "      <td>0.000000e+00</td>\n",
       "      <td>0.000000e+00</td>\n",
       "      <td>0.000000e+00</td>\n",
       "      <td>3.663895e+03</td>\n",
       "      <td>4.891291e+04</td>\n",
       "      <td>3.373730e+04</td>\n",
       "      <td>3.418780e+04</td>\n",
       "    </tr>\n",
       "    <tr>\n",
       "      <th>3</th>\n",
       "      <td>1.052686e+07</td>\n",
       "      <td>1.574501e+07</td>\n",
       "      <td>2.892473e+06</td>\n",
       "      <td>3.440414e+06</td>\n",
       "      <td>1.801286e+06</td>\n",
       "      <td>2.509689e+06</td>\n",
       "      <td>4.534891e+07</td>\n",
       "      <td>5.960580e+07</td>\n",
       "      <td>1.791691e+06</td>\n",
       "      <td>2.429717e+06</td>\n",
       "      <td>1.984907e+06</td>\n",
       "      <td>1.850440e+06</td>\n",
       "    </tr>\n",
       "    <tr>\n",
       "      <th>4</th>\n",
       "      <td>0.000000e+00</td>\n",
       "      <td>0.000000e+00</td>\n",
       "      <td>0.000000e+00</td>\n",
       "      <td>0.000000e+00</td>\n",
       "      <td>0.000000e+00</td>\n",
       "      <td>0.000000e+00</td>\n",
       "      <td>0.000000e+00</td>\n",
       "      <td>0.000000e+00</td>\n",
       "      <td>0.000000e+00</td>\n",
       "      <td>0.000000e+00</td>\n",
       "      <td>3.095749e+03</td>\n",
       "      <td>2.766132e+04</td>\n",
       "    </tr>\n",
       "  </tbody>\n",
       "</table>\n",
       "</div>"
      ],
      "text/plain": [
       "      1512006-1     1512006-7     1512006-2     1512006-8     1512006-3  \\\n",
       "0  6.290566e+04  5.994856e+04  4.275339e+04  8.444083e+04  2.490453e+04   \n",
       "1  3.401376e+07  3.451834e+07  2.690502e+07  2.442199e+07  1.765252e+07   \n",
       "2  0.000000e+00  0.000000e+00  3.688051e+03  3.230039e+03  0.000000e+00   \n",
       "3  1.052686e+07  1.574501e+07  2.892473e+06  3.440414e+06  1.801286e+06   \n",
       "4  0.000000e+00  0.000000e+00  0.000000e+00  0.000000e+00  0.000000e+00   \n",
       "\n",
       "      1512006-9     1512006-4    1512006-10  1512006-5_150410082104  \\\n",
       "0  5.681818e+04  1.892062e+05  4.468102e+04            0.000000e+00   \n",
       "1  1.676820e+07  5.337521e+07  5.852085e+07            2.459692e+07   \n",
       "2  0.000000e+00  0.000000e+00  0.000000e+00            3.663895e+03   \n",
       "3  2.509689e+06  4.534891e+07  5.960580e+07            1.791691e+06   \n",
       "4  0.000000e+00  0.000000e+00  0.000000e+00            0.000000e+00   \n",
       "\n",
       "     1512006-11  1512006-6_150410115425    1512006-12  \n",
       "0  0.000000e+00            1.159222e+05  1.439172e+05  \n",
       "1  2.617207e+07            3.230299e+07  3.249965e+07  \n",
       "2  4.891291e+04            3.373730e+04  3.418780e+04  \n",
       "3  2.429717e+06            1.984907e+06  1.850440e+06  \n",
       "4  0.000000e+00            3.095749e+03  2.766132e+04  "
      ]
     },
     "execution_count": 9,
     "metadata": {},
     "output_type": "execute_result"
    }
   ],
   "source": [
    "norm_abundance = data[normalized_columns]\n",
    "print(norm_abundance.shape)\n",
    "norm_abundance.head()"
   ]
  },
  {
   "cell_type": "code",
   "execution_count": 10,
   "id": "ready-judges",
   "metadata": {},
   "outputs": [
    {
     "name": "stdout",
     "output_type": "stream",
     "text": [
      "(30792,)\n"
     ]
    },
    {
     "data": {
      "text/plain": [
       "array([62905.65962525, 59948.55994256, 42753.39175865, ...,\n",
       "                  nan,            nan,            nan])"
      ]
     },
     "execution_count": 10,
     "metadata": {},
     "output_type": "execute_result"
    }
   ],
   "source": [
    "# données dans un array d'une dimmenssion\n",
    "norm_abundance = norm_abundance.values.reshape(norm_abundance.shape[0] * norm_abundance.shape[1])\n",
    "print(norm_abundance.shape)\n",
    "norm_abundance"
   ]
  },
  {
   "cell_type": "code",
   "execution_count": 11,
   "id": "wired-commerce",
   "metadata": {},
   "outputs": [
    {
     "name": "stdout",
     "output_type": "stream",
     "text": [
      "(26936,)\n"
     ]
    }
   ],
   "source": [
    "# remove 0\n",
    "norm_abundance = norm_abundance[norm_abundance > 0]\n",
    "print(norm_abundance.shape)"
   ]
  },
  {
   "cell_type": "markdown",
   "id": "blond-visit",
   "metadata": {},
   "source": [
    "## Récupération des abondances non normalisées"
   ]
  },
  {
   "cell_type": "code",
   "execution_count": 12,
   "id": "portuguese-march",
   "metadata": {},
   "outputs": [
    {
     "name": "stdout",
     "output_type": "stream",
     "text": [
      "(2566, 12)\n"
     ]
    },
    {
     "data": {
      "text/html": [
       "<div>\n",
       "<style scoped>\n",
       "    .dataframe tbody tr th:only-of-type {\n",
       "        vertical-align: middle;\n",
       "    }\n",
       "\n",
       "    .dataframe tbody tr th {\n",
       "        vertical-align: top;\n",
       "    }\n",
       "\n",
       "    .dataframe thead th {\n",
       "        text-align: right;\n",
       "    }\n",
       "</style>\n",
       "<table border=\"1\" class=\"dataframe\">\n",
       "  <thead>\n",
       "    <tr style=\"text-align: right;\">\n",
       "      <th></th>\n",
       "      <th>1512006-1.1</th>\n",
       "      <th>1512006-7.1</th>\n",
       "      <th>1512006-2.1</th>\n",
       "      <th>1512006-8.1</th>\n",
       "      <th>1512006-3.1</th>\n",
       "      <th>1512006-9.1</th>\n",
       "      <th>1512006-4.1</th>\n",
       "      <th>1512006-10.1</th>\n",
       "      <th>1512006-5_150410082104.1</th>\n",
       "      <th>1512006-11.1</th>\n",
       "      <th>1512006-6_150410115425.1</th>\n",
       "      <th>1512006-12.1</th>\n",
       "    </tr>\n",
       "  </thead>\n",
       "  <tbody>\n",
       "    <tr>\n",
       "      <th>0</th>\n",
       "      <td>9.325899e+04</td>\n",
       "      <td>2.765206e+04</td>\n",
       "      <td>6.973654e+04</td>\n",
       "      <td>6.309967e+04</td>\n",
       "      <td>2.252522e+04</td>\n",
       "      <td>5.307728e+04</td>\n",
       "      <td>9.088306e+04</td>\n",
       "      <td>2.035561e+04</td>\n",
       "      <td>0.000000e+00</td>\n",
       "      <td>0.000000e+00</td>\n",
       "      <td>1.021926e+05</td>\n",
       "      <td>1.794098e+05</td>\n",
       "    </tr>\n",
       "    <tr>\n",
       "      <th>1</th>\n",
       "      <td>5.042612e+07</td>\n",
       "      <td>1.592204e+07</td>\n",
       "      <td>4.388571e+07</td>\n",
       "      <td>1.824970e+07</td>\n",
       "      <td>1.596605e+07</td>\n",
       "      <td>1.566419e+07</td>\n",
       "      <td>2.563818e+07</td>\n",
       "      <td>2.666071e+07</td>\n",
       "      <td>1.431299e+07</td>\n",
       "      <td>2.617207e+07</td>\n",
       "      <td>2.847710e+07</td>\n",
       "      <td>4.051467e+07</td>\n",
       "    </tr>\n",
       "    <tr>\n",
       "      <th>2</th>\n",
       "      <td>0.000000e+00</td>\n",
       "      <td>0.000000e+00</td>\n",
       "      <td>6.015709e+03</td>\n",
       "      <td>2.413695e+03</td>\n",
       "      <td>0.000000e+00</td>\n",
       "      <td>0.000000e+00</td>\n",
       "      <td>0.000000e+00</td>\n",
       "      <td>0.000000e+00</td>\n",
       "      <td>2.132027e+03</td>\n",
       "      <td>4.891291e+04</td>\n",
       "      <td>2.974154e+04</td>\n",
       "      <td>4.261914e+04</td>\n",
       "    </tr>\n",
       "    <tr>\n",
       "      <th>3</th>\n",
       "      <td>1.560630e+07</td>\n",
       "      <td>7.262593e+06</td>\n",
       "      <td>4.718013e+06</td>\n",
       "      <td>2.570901e+06</td>\n",
       "      <td>1.629196e+06</td>\n",
       "      <td>2.344451e+06</td>\n",
       "      <td>2.178284e+07</td>\n",
       "      <td>2.715498e+07</td>\n",
       "      <td>1.042588e+06</td>\n",
       "      <td>2.429717e+06</td>\n",
       "      <td>1.749820e+06</td>\n",
       "      <td>2.306792e+06</td>\n",
       "    </tr>\n",
       "    <tr>\n",
       "      <th>4</th>\n",
       "      <td>0.000000e+00</td>\n",
       "      <td>0.000000e+00</td>\n",
       "      <td>0.000000e+00</td>\n",
       "      <td>0.000000e+00</td>\n",
       "      <td>0.000000e+00</td>\n",
       "      <td>0.000000e+00</td>\n",
       "      <td>0.000000e+00</td>\n",
       "      <td>0.000000e+00</td>\n",
       "      <td>0.000000e+00</td>\n",
       "      <td>0.000000e+00</td>\n",
       "      <td>2.729096e+03</td>\n",
       "      <td>3.448312e+04</td>\n",
       "    </tr>\n",
       "  </tbody>\n",
       "</table>\n",
       "</div>"
      ],
      "text/plain": [
       "    1512006-1.1   1512006-7.1   1512006-2.1   1512006-8.1   1512006-3.1  \\\n",
       "0  9.325899e+04  2.765206e+04  6.973654e+04  6.309967e+04  2.252522e+04   \n",
       "1  5.042612e+07  1.592204e+07  4.388571e+07  1.824970e+07  1.596605e+07   \n",
       "2  0.000000e+00  0.000000e+00  6.015709e+03  2.413695e+03  0.000000e+00   \n",
       "3  1.560630e+07  7.262593e+06  4.718013e+06  2.570901e+06  1.629196e+06   \n",
       "4  0.000000e+00  0.000000e+00  0.000000e+00  0.000000e+00  0.000000e+00   \n",
       "\n",
       "    1512006-9.1   1512006-4.1  1512006-10.1  1512006-5_150410082104.1  \\\n",
       "0  5.307728e+04  9.088306e+04  2.035561e+04              0.000000e+00   \n",
       "1  1.566419e+07  2.563818e+07  2.666071e+07              1.431299e+07   \n",
       "2  0.000000e+00  0.000000e+00  0.000000e+00              2.132027e+03   \n",
       "3  2.344451e+06  2.178284e+07  2.715498e+07              1.042588e+06   \n",
       "4  0.000000e+00  0.000000e+00  0.000000e+00              0.000000e+00   \n",
       "\n",
       "   1512006-11.1  1512006-6_150410115425.1  1512006-12.1  \n",
       "0  0.000000e+00              1.021926e+05  1.794098e+05  \n",
       "1  2.617207e+07              2.847710e+07  4.051467e+07  \n",
       "2  4.891291e+04              2.974154e+04  4.261914e+04  \n",
       "3  2.429717e+06              1.749820e+06  2.306792e+06  \n",
       "4  0.000000e+00              2.729096e+03  3.448312e+04  "
      ]
     },
     "execution_count": 12,
     "metadata": {},
     "output_type": "execute_result"
    }
   ],
   "source": [
    "raw_abundance = data[raw_columns]\n",
    "print(raw_abundance.shape)\n",
    "raw_abundance.head()"
   ]
  },
  {
   "cell_type": "code",
   "execution_count": 13,
   "id": "single-machinery",
   "metadata": {},
   "outputs": [
    {
     "name": "stdout",
     "output_type": "stream",
     "text": [
      "(30792,)\n"
     ]
    },
    {
     "data": {
      "text/plain": [
       "array([93258.9877916 , 27652.05578616, 69736.54296873, ...,\n",
       "           0.        ,     0.        ,     0.        ])"
      ]
     },
     "execution_count": 13,
     "metadata": {},
     "output_type": "execute_result"
    }
   ],
   "source": [
    "# données dans un array d'une dimmenssion\n",
    "raw_abundance = raw_abundance.values.reshape(raw_abundance.shape[0] * raw_abundance.shape[1])\n",
    "print(raw_abundance.shape)\n",
    "raw_abundance"
   ]
  },
  {
   "cell_type": "code",
   "execution_count": 14,
   "id": "respective-posting",
   "metadata": {},
   "outputs": [
    {
     "name": "stdout",
     "output_type": "stream",
     "text": [
      "(26936,)\n"
     ]
    }
   ],
   "source": [
    "raw_abundance = raw_abundance[raw_abundance > 0]\n",
    "print(raw_abundance.shape)"
   ]
  },
  {
   "cell_type": "markdown",
   "id": "cardiovascular-dancing",
   "metadata": {},
   "source": [
    "## Analyse sur les données d'abondance normalisées\n",
    "### histograme de la distribution des données normalisées"
   ]
  },
  {
   "cell_type": "code",
   "execution_count": 15,
   "id": "coordinate-henry",
   "metadata": {},
   "outputs": [
    {
     "data": {
      "image/png": "[encoded data removed]",
      "text/plain": [
       "<Figure size 432x288 with 1 Axes>"
      ]
     },
     "metadata": {
      "needs_background": "light"
     },
     "output_type": "display_data"
    }
   ],
   "source": [
    "plt.hist(norm_abundance, bins=range(0, 20_000_000, 150_000));"
   ]
  },
  {
   "cell_type": "markdown",
   "id": "electric-american",
   "metadata": {},
   "source": [
    "### Analyse des $1^{er}$ digit"
   ]
  },
  {
   "cell_type": "code",
   "execution_count": 16,
   "id": "diagnostic-click",
   "metadata": {},
   "outputs": [],
   "source": [
    "f_benford = benford.get_theoretical_freq_benford()\n",
    "d_obs = benford.count_first_digit(norm_abundance)"
   ]
  },
  {
   "cell_type": "markdown",
   "id": "harmful-stick",
   "metadata": {},
   "source": [
    "### Histogramme de la fréquence des first digit de la loi de Benford et de l'abondance des protéines"
   ]
  },
  {
   "cell_type": "code",
   "execution_count": 17,
   "id": "nearby-cleaning",
   "metadata": {},
   "outputs": [
    {
     "data": {
      "image/png": "[encoded data removed]",
      "text/plain": [
       "<Figure size 432x288 with 1 Axes>"
      ]
     },
     "metadata": {
      "needs_background": "light"
     },
     "output_type": "display_data"
    }
   ],
   "source": [
    "benford.build_hist_freq_ben(benford.normalize_first_digit(d_obs), f_benford, nb_digit=1,\n",
    "                            title=(\"Theoretical Benford law and First digit distribution \\n \"\n",
    "                            f\"of the {sum(d_obs)} protein  abundances\"),\n",
    "                            legend=\"protein Abundances\")"
   ]
  },
  {
   "cell_type": "markdown",
   "id": "collected-brooks",
   "metadata": {},
   "source": [
    "### Test statistique par la procédure \"bootstrap\""
   ]
  },
  {
   "cell_type": "code",
   "execution_count": 18,
   "id": "confident-desktop",
   "metadata": {},
   "outputs": [
    {
     "name": "stdout",
     "output_type": "stream",
     "text": [
      "statistics : 8.48331498191702 ; p-value : 0.38773594067613637 ; number of significant tests : 78\n",
      "CPU times: user 4.64 s, sys: 3.43 ms, total: 4.65 s\n",
      "Wall time: 4.64 s\n"
     ]
    }
   ],
   "source": [
    "%%time\n",
    "statistics, p_val, nb_signif = benford.calculate_bootstrap_chi2(norm_abundance, f_benford, nb_digit=1)"
   ]
  },
  {
   "cell_type": "code",
   "execution_count": 19,
   "id": "assigned-mumbai",
   "metadata": {},
   "outputs": [
    {
     "name": "stdout",
     "output_type": "stream",
     "text": [
      "Le résultat du test montre que le premier chiffre significatif de l'abondance de protéine suit la loi de Benford pour un risque 𝛼=5%.\n"
     ]
    }
   ],
   "source": [
    "if p_val > 0.05:\n",
    "    print(\"Le résultat du test montre que le premier chiffre significatif de\",\n",
    "          \"l'abondance de protéine suit la loi de Benford pour un risque 𝛼=5%.\")\n",
    "else:\n",
    "    print(\"Le résultat du test montre que le premier chiffre significatif de\",\n",
    "          \"l'abondance de protéine ne suit pas la loi de Benford pour un \",\n",
    "          \"risque 𝛼=5%.\")"
   ]
  },
  {
   "cell_type": "markdown",
   "id": "exciting-cattle",
   "metadata": {},
   "source": [
    "## Analyse des deux $1^{er}$ digit"
   ]
  },
  {
   "cell_type": "code",
   "execution_count": 20,
   "id": "analyzed-shock",
   "metadata": {},
   "outputs": [],
   "source": [
    "f_benford = benford.get_theoretical_freq_benford(2)\n",
    "d_obs = benford.count_first_digit(norm_abundance, 2)"
   ]
  },
  {
   "cell_type": "markdown",
   "id": "affected-sucking",
   "metadata": {},
   "source": [
    "### Histogramme de la fréquence des first digit de la loi de Benford et de l'abondance des protéines"
   ]
  },
  {
   "cell_type": "code",
   "execution_count": 21,
   "id": "nutritional-rental",
   "metadata": {},
   "outputs": [
    {
     "data": {
      "image/png": "[encoded data removed]",
      "text/plain": [
       "<Figure size 2880x1080 with 1 Axes>"
      ]
     },
     "metadata": {
      "needs_background": "light"
     },
     "output_type": "display_data"
    }
   ],
   "source": [
    "benford.build_hist_freq_ben(benford.normalize_first_digit(d_obs), f_benford, nb_digit=2,\n",
    "                            title=(\"Theoretical Benford law and First digit distribution \\n \"\n",
    "                            f\"of the {sum(d_obs)} protein  abundances\"),\n",
    "                            legend=\"protein Abundances\", size=(40, 15))"
   ]
  },
  {
   "cell_type": "markdown",
   "id": "intimate-founder",
   "metadata": {},
   "source": [
    "### Test statistique par la procédure \"bootstrap\""
   ]
  },
  {
   "cell_type": "code",
   "execution_count": 22,
   "id": "painful-homeless",
   "metadata": {},
   "outputs": [
    {
     "name": "stdout",
     "output_type": "stream",
     "text": [
      "statistics : 91.1061336411851 ; p-value : 0.4181880712524657 ; number of significant tests : 63\n",
      "CPU times: user 5.14 s, sys: 0 ns, total: 5.14 s\n",
      "Wall time: 5.14 s\n"
     ]
    }
   ],
   "source": [
    "%%time\n",
    "statistics, P_val, nb_signif = benford.calculate_bootstrap_chi2(norm_abundance, f_benford, nb_digit=2)"
   ]
  },
  {
   "cell_type": "code",
   "execution_count": 23,
   "id": "hollow-alias",
   "metadata": {},
   "outputs": [
    {
     "name": "stdout",
     "output_type": "stream",
     "text": [
      "Le résultat du test montre que les 2 premiers chiffres significatifs de l'abondance de protéine suit la loi de Benford pour un risque 𝛼=5%.\n"
     ]
    }
   ],
   "source": [
    "if p_val > 0.05:\n",
    "    print(\"Le résultat du test montre que les 2 premiers chiffres significatifs de\",\n",
    "          \"l'abondance de protéine suit la loi de Benford pour un risque 𝛼=5%.\")\n",
    "else:\n",
    "    print(\"Le résultat du test montre que les 2 premiers chiffres significatifs de\",\n",
    "          \"l'abondance de protéine ne suit pas la loi de Benford pour un \",\n",
    "          \"risque 𝛼=5%.\")"
   ]
  },
  {
   "cell_type": "markdown",
   "id": "dominant-restriction",
   "metadata": {},
   "source": [
    "## Analyse sur les données d'abondance non normalisées\n",
    "### histograme de la distribution des données non normalisées"
   ]
  },
  {
   "cell_type": "code",
   "execution_count": 24,
   "id": "royal-rhythm",
   "metadata": {},
   "outputs": [
    {
     "data": {
      "image/png": "[encoded data removed]",
      "text/plain": [
       "<Figure size 432x288 with 1 Axes>"
      ]
     },
     "metadata": {
      "needs_background": "light"
     },
     "output_type": "display_data"
    }
   ],
   "source": [
    "plt.hist(raw_abundance, bins=range(0, 40));"
   ]
  },
  {
   "cell_type": "markdown",
   "id": "neither-baseball",
   "metadata": {},
   "source": [
    "### Analyse des $1^{er}$ digit"
   ]
  },
  {
   "cell_type": "code",
   "execution_count": 25,
   "id": "occupied-conjunction",
   "metadata": {},
   "outputs": [],
   "source": [
    "f_benford = benford.get_theoretical_freq_benford()\n",
    "d_obs = benford.count_first_digit(raw_abundance)"
   ]
  },
  {
   "cell_type": "markdown",
   "id": "choice-rouge",
   "metadata": {},
   "source": [
    "### Histogramme de la fréquence des first digit de la loi de Benford et de l'abondance des protéines"
   ]
  },
  {
   "cell_type": "code",
   "execution_count": 26,
   "id": "empty-vision",
   "metadata": {},
   "outputs": [
    {
     "data": {
      "image/png": "[encoded data removed]",
      "text/plain": [
       "<Figure size 432x288 with 1 Axes>"
      ]
     },
     "metadata": {
      "needs_background": "light"
     },
     "output_type": "display_data"
    }
   ],
   "source": [
    "benford.build_hist_freq_ben(benford.normalize_first_digit(d_obs), f_benford, nb_digit=1,\n",
    "                            title=(\"Theoretical Benford law and First digit distribution \\n \"\n",
    "                            f\"of the {sum(d_obs)} protein  abundances\"),\n",
    "                            legend=\"protein Abundances\")"
   ]
  },
  {
   "cell_type": "markdown",
   "id": "extreme-snake",
   "metadata": {},
   "source": [
    "### Test statistique par la procédure \"bootstrap\""
   ]
  },
  {
   "cell_type": "code",
   "execution_count": 27,
   "id": "greenhouse-toyota",
   "metadata": {},
   "outputs": [
    {
     "name": "stdout",
     "output_type": "stream",
     "text": [
      "statistics : 8.387657165147711 ; p-value : 0.3965471092961479 ; number of significant tests : 57\n",
      "CPU times: user 4.83 s, sys: 0 ns, total: 4.83 s\n",
      "Wall time: 4.83 s\n"
     ]
    }
   ],
   "source": [
    "%%time\n",
    "statistics, p_val, nb_signif = benford.calculate_bootstrap_chi2(raw_abundance, f_benford, nb_digit=1)"
   ]
  },
  {
   "cell_type": "code",
   "execution_count": 28,
   "id": "streaming-corrections",
   "metadata": {},
   "outputs": [
    {
     "name": "stdout",
     "output_type": "stream",
     "text": [
      "Le résultat du test montre que le premier chiffre significatif de l'abondance de protéine suit la loi de Benford pour un risque 𝛼=5%.\n"
     ]
    }
   ],
   "source": [
    "if p_val > 0.05:\n",
    "    print(\"Le résultat du test montre que le premier chiffre significatif de\",\n",
    "          \"l'abondance de protéine suit la loi de Benford pour un risque 𝛼=5%.\")\n",
    "else:\n",
    "    print(\"Le résultat du test montre que le premier chiffre significatif de\",\n",
    "          \"l'abondance de protéine ne suit pas la loi de Benford pour un \",\n",
    "          \"risque 𝛼=5%.\")"
   ]
  },
  {
   "cell_type": "markdown",
   "id": "solved-german",
   "metadata": {},
   "source": [
    "## Analyse des deux $1^{er}$ digit"
   ]
  },
  {
   "cell_type": "code",
   "execution_count": 29,
   "id": "dental-permission",
   "metadata": {},
   "outputs": [],
   "source": [
    "f_benford = benford.get_theoretical_freq_benford(2)\n",
    "d_obs = benford.count_first_digit(raw_abundance, 2)"
   ]
  },
  {
   "cell_type": "markdown",
   "id": "simple-replica",
   "metadata": {},
   "source": [
    "### Histogramme de la fréquence des first digit de la loi de Benford et de l'abondance des protéines"
   ]
  },
  {
   "cell_type": "code",
   "execution_count": 30,
   "id": "welcome-welding",
   "metadata": {},
   "outputs": [
    {
     "data": {
      "image/png": "[encoded data removed]",
      "text/plain": [
       "<Figure size 2880x1080 with 1 Axes>"
      ]
     },
     "metadata": {
      "needs_background": "light"
     },
     "output_type": "display_data"
    }
   ],
   "source": [
    "benford.build_hist_freq_ben(benford.normalize_first_digit(d_obs), f_benford, nb_digit=2,\n",
    "                            title=(\"Theoretical Benford law and First digit distribution \\n \"\n",
    "                            f\"of the {sum(d_obs)} protein  abundances\"),\n",
    "                            legend=\"protein Abundances\", size=(40, 15))"
   ]
  },
  {
   "cell_type": "markdown",
   "id": "naked-jamaica",
   "metadata": {},
   "source": [
    "### Test statistique par la procédure \"bootstrap\""
   ]
  },
  {
   "cell_type": "code",
   "execution_count": 31,
   "id": "northern-outreach",
   "metadata": {},
   "outputs": [
    {
     "name": "stdout",
     "output_type": "stream",
     "text": [
      "statistics : 91.254671042847 ; p-value : 0.4139173371915989 ; number of significant tests : 83\n",
      "CPU times: user 5.06 s, sys: 3.86 ms, total: 5.07 s\n",
      "Wall time: 5.06 s\n"
     ]
    }
   ],
   "source": [
    "%%time\n",
    "statistics, P_val, nb_signif = benford.calculate_bootstrap_chi2(raw_abundance, f_benford, nb_digit=2)"
   ]
  },
  {
   "cell_type": "code",
   "execution_count": 32,
   "id": "twelve-shirt",
   "metadata": {},
   "outputs": [
    {
     "name": "stdout",
     "output_type": "stream",
     "text": [
      "Le résultat du test montre que les 2 premiers chiffres significatifs de l'abondance de protéine suit la loi de Benford pour un risque 𝛼=5%.\n"
     ]
    }
   ],
   "source": [
    "if p_val > 0.05:\n",
    "    print(\"Le résultat du test montre que les 2 premiers chiffres significatifs de\",\n",
    "          \"l'abondance de protéine suit la loi de Benford pour un risque 𝛼=5%.\")\n",
    "else:\n",
    "    print(\"Le résultat du test montre que les 2 premiers chiffres significatifs de\",\n",
    "          \"l'abondance de protéine ne suit pas la loi de Benford pour un \",\n",
    "          \"risque 𝛼=5%.\")"
   ]
  },
  {
   "cell_type": "code",
   "execution_count": null,
   "id": "numerical-costa",
   "metadata": {},
   "outputs": [],
   "source": []
  }
 ],
 "metadata": {
  "kernelspec": {
   "display_name": "Python 3",
   "language": "python",
   "name": "python3"
  },
  "language_info": {
   "codemirror_mode": {
    "name": "ipython",
    "version": 3
   },
   "file_extension": ".py",
   "mimetype": "text/x-python",
   "name": "python",
   "nbconvert_exporter": "python",
   "pygments_lexer": "ipython3",
   "version": "3.7.9"
  }
 },
 "nbformat": 4,
 "nbformat_minor": 5
}
